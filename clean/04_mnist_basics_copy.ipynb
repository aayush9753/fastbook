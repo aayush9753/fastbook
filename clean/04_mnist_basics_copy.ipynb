{
  "nbformat": 4,
  "nbformat_minor": 0,
  "metadata": {
    "jupytext": {
      "split_at_heading": true
    },
    "kernelspec": {
      "display_name": "Python 3",
      "language": "python",
      "name": "python3"
    },
    "colab": {
      "name": "04_mnist_basics.ipynb",
      "provenance": []
    },
    "accelerator": "GPU"
  },
  "cells": [
    {
      "cell_type": "code",
      "metadata": {
        "id": "199PXtDt3jsg"
      },
      "source": [
        "#hide\n",
        "!pip install -Uqq fastbook\n",
        "import fastbook\n",
        "#fastbook.setup_book()"
      ],
      "execution_count": 188,
      "outputs": []
    },
    {
      "cell_type": "code",
      "metadata": {
        "id": "QW2mD-Tp3jsh"
      },
      "source": [
        "#hide\n",
        "from fastai.vision.all import *\n",
        "from fastbook import *\n",
        "\n",
        "matplotlib.rc('image', cmap='Greys')"
      ],
      "execution_count": 189,
      "outputs": []
    },
    {
      "cell_type": "markdown",
      "metadata": {
        "id": "v8x2ZAwo3jsh"
      },
      "source": [
        "# Under the Hood: Training a Digit Classifier"
      ]
    },
    {
      "cell_type": "markdown",
      "metadata": {
        "id": "WqEETMgi3jsh"
      },
      "source": [
        "## Pixels: The Foundations of Computer Vision"
      ]
    },
    {
      "cell_type": "markdown",
      "metadata": {
        "id": "oVGkYna_3jsh"
      },
      "source": [
        "## Sidebar: Tenacity and Deep Learning"
      ]
    },
    {
      "cell_type": "markdown",
      "metadata": {
        "id": "CgKfADlB3jsh"
      },
      "source": [
        "## End sidebar"
      ]
    },
    {
      "cell_type": "code",
      "metadata": {
        "id": "4nzXzr2m3jsh"
      },
      "source": [
        "path = untar_data(URLs.MNIST_SAMPLE)"
      ],
      "execution_count": 190,
      "outputs": []
    },
    {
      "cell_type": "code",
      "metadata": {
        "id": "wypC4FJG3jsh"
      },
      "source": [
        "#hide\n",
        "Path.BASE_PATH = path"
      ],
      "execution_count": 191,
      "outputs": []
    },
    {
      "cell_type": "code",
      "metadata": {
        "id": "9DGFJoCm4mjN",
        "colab": {
          "base_uri": "https://localhost:8080/"
        },
        "outputId": "dc144465-0b47-480a-9c97-31c4ca327abd"
      },
      "source": [
        "path"
      ],
      "execution_count": 192,
      "outputs": [
        {
          "output_type": "execute_result",
          "data": {
            "text/plain": [
              "Path('.')"
            ]
          },
          "metadata": {
            "tags": []
          },
          "execution_count": 192
        }
      ]
    },
    {
      "cell_type": "code",
      "metadata": {
        "id": "QXXlqtLO4ipk",
        "colab": {
          "base_uri": "https://localhost:8080/"
        },
        "outputId": "8b0a7cb3-f044-429a-facf-18dfcdfd1842"
      },
      "source": [
        "type(path)"
      ],
      "execution_count": 193,
      "outputs": [
        {
          "output_type": "execute_result",
          "data": {
            "text/plain": [
              "pathlib.PosixPath"
            ]
          },
          "metadata": {
            "tags": []
          },
          "execution_count": 193
        }
      ]
    },
    {
      "cell_type": "code",
      "metadata": {
        "id": "Gkxymtwu4qKv"
      },
      "source": [
        "path.ls?"
      ],
      "execution_count": 194,
      "outputs": []
    },
    {
      "cell_type": "code",
      "metadata": {
        "id": "UcLzcTCR40VF"
      },
      "source": [
        "path.ls??"
      ],
      "execution_count": 195,
      "outputs": []
    },
    {
      "cell_type": "code",
      "metadata": {
        "id": "yqKRadO344UQ",
        "colab": {
          "base_uri": "https://localhost:8080/",
          "height": 143
        },
        "outputId": "18d85fe5-968e-4dba-9a5a-4563aff57564"
      },
      "source": [
        "doc(path.ls)"
      ],
      "execution_count": 196,
      "outputs": [
        {
          "output_type": "display_data",
          "data": {
            "text/html": [
              "<h4 id=\"Path.ls\" class=\"doc_header\"><code>Path.ls</code><a href=\"https://github.com/fastai/fastcore/tree/master/fastcore/xtras.py#L104\" class=\"source_link\" style=\"float:right\">[source]</a></h4><blockquote><p><code>Path.ls</code>(<strong><code>n_max</code></strong>=<em><code>None</code></em>, <strong><code>file_type</code></strong>=<em><code>None</code></em>, <strong><code>file_exts</code></strong>=<em><code>None</code></em>)</p>\n",
              "</blockquote>\n",
              "<p>Contents of path as a list</p>\n",
              "<p><a href=\"https://fastcore.fast.ai/xtras#Path.ls\" target=\"_blank\" rel=\"noreferrer noopener\">Show in docs</a></p>\n"
            ],
            "text/plain": [
              "<IPython.core.display.HTML object>"
            ]
          },
          "metadata": {
            "tags": []
          }
        }
      ]
    },
    {
      "cell_type": "code",
      "metadata": {
        "id": "5KRxavJD3jsh",
        "colab": {
          "base_uri": "https://localhost:8080/"
        },
        "outputId": "4e7d0f2e-b6a4-4003-f1f5-4b1dedd2084c"
      },
      "source": [
        "path.ls()"
      ],
      "execution_count": 197,
      "outputs": [
        {
          "output_type": "execute_result",
          "data": {
            "text/plain": [
              "(#3) [Path('train'),Path('valid'),Path('labels.csv')]"
            ]
          },
          "metadata": {
            "tags": []
          },
          "execution_count": 197
        }
      ]
    },
    {
      "cell_type": "code",
      "metadata": {
        "id": "vu3kP24S3jsh",
        "colab": {
          "base_uri": "https://localhost:8080/"
        },
        "outputId": "1bcc83eb-66f1-45be-a81d-1c6d4735d396"
      },
      "source": [
        "(path/'train').ls()"
      ],
      "execution_count": 198,
      "outputs": [
        {
          "output_type": "execute_result",
          "data": {
            "text/plain": [
              "(#2) [Path('train/3'),Path('train/7')]"
            ]
          },
          "metadata": {
            "tags": []
          },
          "execution_count": 198
        }
      ]
    },
    {
      "cell_type": "code",
      "metadata": {
        "id": "JckFCaeb3jsi",
        "colab": {
          "base_uri": "https://localhost:8080/"
        },
        "outputId": "dc3d81e7-d0fd-4d3f-affe-1832b8e8b4c1"
      },
      "source": [
        "threes = (path/'train'/'3').ls().sorted()\n",
        "sevens = (path/'train'/'7').ls().sorted()\n",
        "threes"
      ],
      "execution_count": 199,
      "outputs": [
        {
          "output_type": "execute_result",
          "data": {
            "text/plain": [
              "(#6131) [Path('train/3/10.png'),Path('train/3/10000.png'),Path('train/3/10011.png'),Path('train/3/10031.png'),Path('train/3/10034.png'),Path('train/3/10042.png'),Path('train/3/10052.png'),Path('train/3/1007.png'),Path('train/3/10074.png'),Path('train/3/10091.png')...]"
            ]
          },
          "metadata": {
            "tags": []
          },
          "execution_count": 199
        }
      ]
    },
    {
      "cell_type": "code",
      "metadata": {
        "id": "UrkMedC93jsi",
        "colab": {
          "base_uri": "https://localhost:8080/",
          "height": 45
        },
        "outputId": "a003edd4-fe1d-4836-9553-3a6237757be6"
      },
      "source": [
        "im3_path = threes[1]\n",
        "im3 = Image.open(im3_path)\n",
        "im3"
      ],
      "execution_count": 200,
      "outputs": [
        {
          "output_type": "execute_result",
          "data": {
            "image/png": "[encoded data removed]",
            "text/plain": [
              "<PIL.PngImagePlugin.PngImageFile image mode=L size=28x28 at 0x7F84A2E50DA0>"
            ]
          },
          "metadata": {
            "tags": []
          },
          "execution_count": 200
        }
      ]
    },
    {
      "cell_type": "code",
      "metadata": {
        "id": "ijjRw2LM5RVQ",
        "colab": {
          "base_uri": "https://localhost:8080/"
        },
        "outputId": "24ca2855-288c-44a3-bcf2-7fc91074db14"
      },
      "source": [
        "type(im3)"
      ],
      "execution_count": 201,
      "outputs": [
        {
          "output_type": "execute_result",
          "data": {
            "text/plain": [
              "PIL.PngImagePlugin.PngImageFile"
            ]
          },
          "metadata": {
            "tags": []
          },
          "execution_count": 201
        }
      ]
    },
    {
      "cell_type": "code",
      "metadata": {
        "id": "hasVHC_T3jsi",
        "colab": {
          "base_uri": "https://localhost:8080/"
        },
        "outputId": "d6db9d78-6bbd-4243-9542-295ed5f3a35b"
      },
      "source": [
        "array(im3)[4:10,4:10]"
      ],
      "execution_count": 202,
      "outputs": [
        {
          "output_type": "execute_result",
          "data": {
            "text/plain": [
              "array([[  0,   0,   0,   0,   0,   0],\n",
              "       [  0,   0,   0,   0,   0,  29],\n",
              "       [  0,   0,   0,  48, 166, 224],\n",
              "       [  0,  93, 244, 249, 253, 187],\n",
              "       [  0, 107, 253, 253, 230,  48],\n",
              "       [  0,   3,  20,  20,  15,   0]], dtype=uint8)"
            ]
          },
          "metadata": {
            "tags": []
          },
          "execution_count": 202
        }
      ]
    },
    {
      "cell_type": "code",
      "metadata": {
        "id": "11hy4Tr73jsi",
        "colab": {
          "base_uri": "https://localhost:8080/"
        },
        "outputId": "318836f2-56c9-49e8-97d0-8d86d6ba7f42"
      },
      "source": [
        "tensor(im3)[4:10,4:10]"
      ],
      "execution_count": 203,
      "outputs": [
        {
          "output_type": "execute_result",
          "data": {
            "text/plain": [
              "tensor([[  0,   0,   0,   0,   0,   0],\n",
              "        [  0,   0,   0,   0,   0,  29],\n",
              "        [  0,   0,   0,  48, 166, 224],\n",
              "        [  0,  93, 244, 249, 253, 187],\n",
              "        [  0, 107, 253, 253, 230,  48],\n",
              "        [  0,   3,  20,  20,  15,   0]], dtype=torch.uint8)"
            ]
          },
          "metadata": {
            "tags": []
          },
          "execution_count": 203
        }
      ]
    },
    {
      "cell_type": "code",
      "metadata": {
        "id": "GMzJhmtm3jsi",
        "colab": {
          "base_uri": "https://localhost:8080/",
          "height": 498
        },
        "outputId": "8c1ed481-06b9-4130-dead-57f9309b333c"
      },
      "source": [
        "im3_t = tensor(im3)\n",
        "df = pd.DataFrame(im3_t[4:27,4:27])\n",
        "df.style.set_properties(**{'font-size':'6pt'}).background_gradient('Greys')"
      ],
      "execution_count": 204,
      "outputs": [
        {
          "output_type": "execute_result",
          "data": {
            "text/html": [
              "<style  type=\"text/css\" >\n",
              "#T_4e3d8ae4_3a01_11eb_a21f_0242ac1c0002row0_col0,#T_4e3d8ae4_3a01_11eb_a21f_0242ac1c0002row0_col1,#T_4e3d8ae4_3a01_11eb_a21f_0242ac1c0002row0_col2,#T_4e3d8ae4_3a01_11eb_a21f_0242ac1c0002row0_col3,#T_4e3d8ae4_3a01_11eb_a21f_0242ac1c0002row0_col4,#T_4e3d8ae4_3a01_11eb_a21f_0242ac1c0002row0_col5,#T_4e3d8ae4_3a01_11eb_a21f_0242ac1c0002row0_col6,#T_4e3d8ae4_3a01_11eb_a21f_0242ac1c0002row0_col7,#T_4e3d8ae4_3a01_11eb_a21f_0242ac1c0002row0_col8,#T_4e3d8ae4_3a01_11eb_a21f_0242ac1c0002row0_col9,#T_4e3d8ae4_3a01_11eb_a21f_0242ac1c0002row0_col10,#T_4e3d8ae4_3a01_11eb_a21f_0242ac1c0002row0_col11,#T_4e3d8ae4_3a01_11eb_a21f_0242ac1c0002row0_col12,#T_4e3d8ae4_3a01_11eb_a21f_0242ac1c0002row0_col13,#T_4e3d8ae4_3a01_11eb_a21f_0242ac1c0002row0_col14,#T_4e3d8ae4_3a01_11eb_a21f_0242ac1c0002row0_col15,#T_4e3d8ae4_3a01_11eb_a21f_0242ac1c0002row0_col16,#T_4e3d8ae4_3a01_11eb_a21f_0242ac1c0002row0_col17,#T_4e3d8ae4_3a01_11eb_a21f_0242ac1c0002row0_col18,#T_4e3d8ae4_3a01_11eb_a21f_0242ac1c0002row0_col19,#T_4e3d8ae4_3a01_11eb_a21f_0242ac1c0002row0_col20,#T_4e3d8ae4_3a01_11eb_a21f_0242ac1c0002row0_col21,#T_4e3d8ae4_3a01_11eb_a21f_0242ac1c0002row0_col22,#T_4e3d8ae4_3a01_11eb_a21f_0242ac1c0002row1_col0,#T_4e3d8ae4_3a01_11eb_a21f_0242ac1c0002row1_col1,#T_4e3d8ae4_3a01_11eb_a21f_0242ac1c0002row1_col2,#T_4e3d8ae4_3a01_11eb_a21f_0242ac1c0002row1_col3,#T_4e3d8ae4_3a01_11eb_a21f_0242ac1c0002row1_col4,#T_4e3d8ae4_3a01_11eb_a21f_0242ac1c0002row1_col15,#T_4e3d8ae4_3a01_11eb_a21f_0242ac1c0002row1_col16,#T_4e3d8ae4_3a01_11eb_a21f_0242ac1c0002row1_col17,#T_4e3d8ae4_3a01_11eb_a21f_0242ac1c0002row1_col18,#T_4e3d8ae4_3a01_11eb_a21f_0242ac1c0002row1_col19,#T_4e3d8ae4_3a01_11eb_a21f_0242ac1c0002row1_col20,#T_4e3d8ae4_3a01_11eb_a21f_0242ac1c0002row1_col21,#T_4e3d8ae4_3a01_11eb_a21f_0242ac1c0002row1_col22,#T_4e3d8ae4_3a01_11eb_a21f_0242ac1c0002row2_col0,#T_4e3d8ae4_3a01_11eb_a21f_0242ac1c0002row2_col1,#T_4e3d8ae4_3a01_11eb_a21f_0242ac1c0002row2_col2,#T_4e3d8ae4_3a01_11eb_a21f_0242ac1c0002row2_col15,#T_4e3d8ae4_3a01_11eb_a21f_0242ac1c0002row2_col16,#T_4e3d8ae4_3a01_11eb_a21f_0242ac1c0002row2_col17,#T_4e3d8ae4_3a01_11eb_a21f_0242ac1c0002row2_col18,#T_4e3d8ae4_3a01_11eb_a21f_0242ac1c0002row2_col19,#T_4e3d8ae4_3a01_11eb_a21f_0242ac1c0002row2_col20,#T_4e3d8ae4_3a01_11eb_a21f_0242ac1c0002row2_col21,#T_4e3d8ae4_3a01_11eb_a21f_0242ac1c0002row2_col22,#T_4e3d8ae4_3a01_11eb_a21f_0242ac1c0002row3_col0,#T_4e3d8ae4_3a01_11eb_a21f_0242ac1c0002row3_col15,#T_4e3d8ae4_3a01_11eb_a21f_0242ac1c0002row3_col16,#T_4e3d8ae4_3a01_11eb_a21f_0242ac1c0002row3_col17,#T_4e3d8ae4_3a01_11eb_a21f_0242ac1c0002row3_col18,#T_4e3d8ae4_3a01_11eb_a21f_0242ac1c0002row3_col19,#T_4e3d8ae4_3a01_11eb_a21f_0242ac1c0002row3_col20,#T_4e3d8ae4_3a01_11eb_a21f_0242ac1c0002row3_col21,#T_4e3d8ae4_3a01_11eb_a21f_0242ac1c0002row3_col22,#T_4e3d8ae4_3a01_11eb_a21f_0242ac1c0002row4_col0,#T_4e3d8ae4_3a01_11eb_a21f_0242ac1c0002row4_col6,#T_4e3d8ae4_3a01_11eb_a21f_0242ac1c0002row4_col7,#T_4e3d8ae4_3a01_11eb_a21f_0242ac1c0002row4_col8,#T_4e3d8ae4_3a01_11eb_a21f_0242ac1c0002row4_col9,#T_4e3d8ae4_3a01_11eb_a21f_0242ac1c0002row4_col10,#T_4e3d8ae4_3a01_11eb_a21f_0242ac1c0002row4_col15,#T_4e3d8ae4_3a01_11eb_a21f_0242ac1c0002row4_col16,#T_4e3d8ae4_3a01_11eb_a21f_0242ac1c0002row4_col17,#T_4e3d8ae4_3a01_11eb_a21f_0242ac1c0002row4_col18,#T_4e3d8ae4_3a01_11eb_a21f_0242ac1c0002row4_col19,#T_4e3d8ae4_3a01_11eb_a21f_0242ac1c0002row4_col20,#T_4e3d8ae4_3a01_11eb_a21f_0242ac1c0002row4_col21,#T_4e3d8ae4_3a01_11eb_a21f_0242ac1c0002row4_col22,#T_4e3d8ae4_3a01_11eb_a21f_0242ac1c0002row5_col0,#T_4e3d8ae4_3a01_11eb_a21f_0242ac1c0002row5_col5,#T_4e3d8ae4_3a01_11eb_a21f_0242ac1c0002row5_col6,#T_4e3d8ae4_3a01_11eb_a21f_0242ac1c0002row5_col7,#T_4e3d8ae4_3a01_11eb_a21f_0242ac1c0002row5_col8,#T_4e3d8ae4_3a01_11eb_a21f_0242ac1c0002row5_col9,#T_4e3d8ae4_3a01_11eb_a21f_0242ac1c0002row5_col15,#T_4e3d8ae4_3a01_11eb_a21f_0242ac1c0002row5_col16,#T_4e3d8ae4_3a01_11eb_a21f_0242ac1c0002row5_col17,#T_4e3d8ae4_3a01_11eb_a21f_0242ac1c0002row5_col18,#T_4e3d8ae4_3a01_11eb_a21f_0242ac1c0002row5_col19,#T_4e3d8ae4_3a01_11eb_a21f_0242ac1c0002row5_col20,#T_4e3d8ae4_3a01_11eb_a21f_0242ac1c0002row5_col21,#T_4e3d8ae4_3a01_11eb_a21f_0242ac1c0002row5_col22,#T_4e3d8ae4_3a01_11eb_a21f_0242ac1c0002row6_col0,#T_4e3d8ae4_3a01_11eb_a21f_0242ac1c0002row6_col1,#T_4e3d8ae4_3a01_11eb_a21f_0242ac1c0002row6_col2,#T_4e3d8ae4_3a01_11eb_a21f_0242ac1c0002row6_col3,#T_4e3d8ae4_3a01_11eb_a21f_0242ac1c0002row6_col4,#T_4e3d8ae4_3a01_11eb_a21f_0242ac1c0002row6_col5,#T_4e3d8ae4_3a01_11eb_a21f_0242ac1c0002row6_col6,#T_4e3d8ae4_3a01_11eb_a21f_0242ac1c0002row6_col7,#T_4e3d8ae4_3a01_11eb_a21f_0242ac1c0002row6_col8,#T_4e3d8ae4_3a01_11eb_a21f_0242ac1c0002row6_col9,#T_4e3d8ae4_3a01_11eb_a21f_0242ac1c0002row6_col14,#T_4e3d8ae4_3a01_11eb_a21f_0242ac1c0002row6_col15,#T_4e3d8ae4_3a01_11eb_a21f_0242ac1c0002row6_col16,#T_4e3d8ae4_3a01_11eb_a21f_0242ac1c0002row6_col17,#T_4e3d8ae4_3a01_11eb_a21f_0242ac1c0002row6_col18,#T_4e3d8ae4_3a01_11eb_a21f_0242ac1c0002row6_col19,#T_4e3d8ae4_3a01_11eb_a21f_0242ac1c0002row6_col20,#T_4e3d8ae4_3a01_11eb_a21f_0242ac1c0002row6_col21,#T_4e3d8ae4_3a01_11eb_a21f_0242ac1c0002row6_col22,#T_4e3d8ae4_3a01_11eb_a21f_0242ac1c0002row7_col0,#T_4e3d8ae4_3a01_11eb_a21f_0242ac1c0002row7_col1,#T_4e3d8ae4_3a01_11eb_a21f_0242ac1c0002row7_col2,#T_4e3d8ae4_3a01_11eb_a21f_0242ac1c0002row7_col3,#T_4e3d8ae4_3a01_11eb_a21f_0242ac1c0002row7_col4,#T_4e3d8ae4_3a01_11eb_a21f_0242ac1c0002row7_col5,#T_4e3d8ae4_3a01_11eb_a21f_0242ac1c0002row7_col6,#T_4e3d8ae4_3a01_11eb_a21f_0242ac1c0002row7_col13,#T_4e3d8ae4_3a01_11eb_a21f_0242ac1c0002row7_col14,#T_4e3d8ae4_3a01_11eb_a21f_0242ac1c0002row7_col15,#T_4e3d8ae4_3a01_11eb_a21f_0242ac1c0002row7_col16,#T_4e3d8ae4_3a01_11eb_a21f_0242ac1c0002row7_col17,#T_4e3d8ae4_3a01_11eb_a21f_0242ac1c0002row7_col18,#T_4e3d8ae4_3a01_11eb_a21f_0242ac1c0002row7_col19,#T_4e3d8ae4_3a01_11eb_a21f_0242ac1c0002row7_col20,#T_4e3d8ae4_3a01_11eb_a21f_0242ac1c0002row7_col21,#T_4e3d8ae4_3a01_11eb_a21f_0242ac1c0002row7_col22,#T_4e3d8ae4_3a01_11eb_a21f_0242ac1c0002row8_col0,#T_4e3d8ae4_3a01_11eb_a21f_0242ac1c0002row8_col1,#T_4e3d8ae4_3a01_11eb_a21f_0242ac1c0002row8_col2,#T_4e3d8ae4_3a01_11eb_a21f_0242ac1c0002row8_col3,#T_4e3d8ae4_3a01_11eb_a21f_0242ac1c0002row8_col4,#T_4e3d8ae4_3a01_11eb_a21f_0242ac1c0002row8_col13,#T_4e3d8ae4_3a01_11eb_a21f_0242ac1c0002row8_col14,#T_4e3d8ae4_3a01_11eb_a21f_0242ac1c0002row8_col15,#T_4e3d8ae4_3a01_11eb_a21f_0242ac1c0002row8_col16,#T_4e3d8ae4_3a01_11eb_a21f_0242ac1c0002row8_col17,#T_4e3d8ae4_3a01_11eb_a21f_0242ac1c0002row8_col18,#T_4e3d8ae4_3a01_11eb_a21f_0242ac1c0002row8_col19,#T_4e3d8ae4_3a01_11eb_a21f_0242ac1c0002row8_col20,#T_4e3d8ae4_3a01_11eb_a21f_0242ac1c0002row8_col21,#T_4e3d8ae4_3a01_11eb_a21f_0242ac1c0002row8_col22,#T_4e3d8ae4_3a01_11eb_a21f_0242ac1c0002row9_col0,#T_4e3d8ae4_3a01_11eb_a21f_0242ac1c0002row9_col1,#T_4e3d8ae4_3a01_11eb_a21f_0242ac1c0002row9_col2,#T_4e3d8ae4_3a01_11eb_a21f_0242ac1c0002row9_col3,#T_4e3d8ae4_3a01_11eb_a21f_0242ac1c0002row9_col4,#T_4e3d8ae4_3a01_11eb_a21f_0242ac1c0002row9_col16,#T_4e3d8ae4_3a01_11eb_a21f_0242ac1c0002row9_col17,#T_4e3d8ae4_3a01_11eb_a21f_0242ac1c0002row9_col18,#T_4e3d8ae4_3a01_11eb_a21f_0242ac1c0002row9_col19,#T_4e3d8ae4_3a01_11eb_a21f_0242ac1c0002row9_col20,#T_4e3d8ae4_3a01_11eb_a21f_0242ac1c0002row9_col21,#T_4e3d8ae4_3a01_11eb_a21f_0242ac1c0002row9_col22,#T_4e3d8ae4_3a01_11eb_a21f_0242ac1c0002row10_col0,#T_4e3d8ae4_3a01_11eb_a21f_0242ac1c0002row10_col1,#T_4e3d8ae4_3a01_11eb_a21f_0242ac1c0002row10_col2,#T_4e3d8ae4_3a01_11eb_a21f_0242ac1c0002row10_col3,#T_4e3d8ae4_3a01_11eb_a21f_0242ac1c0002row10_col4,#T_4e3d8ae4_3a01_11eb_a21f_0242ac1c0002row10_col5,#T_4e3d8ae4_3a01_11eb_a21f_0242ac1c0002row10_col6,#T_4e3d8ae4_3a01_11eb_a21f_0242ac1c0002row10_col17,#T_4e3d8ae4_3a01_11eb_a21f_0242ac1c0002row10_col18,#T_4e3d8ae4_3a01_11eb_a21f_0242ac1c0002row10_col19,#T_4e3d8ae4_3a01_11eb_a21f_0242ac1c0002row10_col20,#T_4e3d8ae4_3a01_11eb_a21f_0242ac1c0002row10_col21,#T_4e3d8ae4_3a01_11eb_a21f_0242ac1c0002row10_col22,#T_4e3d8ae4_3a01_11eb_a21f_0242ac1c0002row11_col0,#T_4e3d8ae4_3a01_11eb_a21f_0242ac1c0002row11_col1,#T_4e3d8ae4_3a01_11eb_a21f_0242ac1c0002row11_col2,#T_4e3d8ae4_3a01_11eb_a21f_0242ac1c0002row11_col3,#T_4e3d8ae4_3a01_11eb_a21f_0242ac1c0002row11_col4,#T_4e3d8ae4_3a01_11eb_a21f_0242ac1c0002row11_col5,#T_4e3d8ae4_3a01_11eb_a21f_0242ac1c0002row11_col6,#T_4e3d8ae4_3a01_11eb_a21f_0242ac1c0002row11_col7,#T_4e3d8ae4_3a01_11eb_a21f_0242ac1c0002row11_col8,#T_4e3d8ae4_3a01_11eb_a21f_0242ac1c0002row11_col9,#T_4e3d8ae4_3a01_11eb_a21f_0242ac1c0002row11_col17,#T_4e3d8ae4_3a01_11eb_a21f_0242ac1c0002row11_col18,#T_4e3d8ae4_3a01_11eb_a21f_0242ac1c0002row11_col19,#T_4e3d8ae4_3a01_11eb_a21f_0242ac1c0002row11_col20,#T_4e3d8ae4_3a01_11eb_a21f_0242ac1c0002row11_col21,#T_4e3d8ae4_3a01_11eb_a21f_0242ac1c0002row11_col22,#T_4e3d8ae4_3a01_11eb_a21f_0242ac1c0002row12_col0,#T_4e3d8ae4_3a01_11eb_a21f_0242ac1c0002row12_col1,#T_4e3d8ae4_3a01_11eb_a21f_0242ac1c0002row12_col2,#T_4e3d8ae4_3a01_11eb_a21f_0242ac1c0002row12_col3,#T_4e3d8ae4_3a01_11eb_a21f_0242ac1c0002row12_col4,#T_4e3d8ae4_3a01_11eb_a21f_0242ac1c0002row12_col5,#T_4e3d8ae4_3a01_11eb_a21f_0242ac1c0002row12_col6,#T_4e3d8ae4_3a01_11eb_a21f_0242ac1c0002row12_col7,#T_4e3d8ae4_3a01_11eb_a21f_0242ac1c0002row12_col8,#T_4e3d8ae4_3a01_11eb_a21f_0242ac1c0002row12_col9,#T_4e3d8ae4_3a01_11eb_a21f_0242ac1c0002row12_col10,#T_4e3d8ae4_3a01_11eb_a21f_0242ac1c0002row12_col11,#T_4e3d8ae4_3a01_11eb_a21f_0242ac1c0002row12_col12,#T_4e3d8ae4_3a01_11eb_a21f_0242ac1c0002row12_col17,#T_4e3d8ae4_3a01_11eb_a21f_0242ac1c0002row12_col18,#T_4e3d8ae4_3a01_11eb_a21f_0242ac1c0002row12_col19,#T_4e3d8ae4_3a01_11eb_a21f_0242ac1c0002row12_col20,#T_4e3d8ae4_3a01_11eb_a21f_0242ac1c0002row12_col21,#T_4e3d8ae4_3a01_11eb_a21f_0242ac1c0002row12_col22,#T_4e3d8ae4_3a01_11eb_a21f_0242ac1c0002row13_col0,#T_4e3d8ae4_3a01_11eb_a21f_0242ac1c0002row13_col1,#T_4e3d8ae4_3a01_11eb_a21f_0242ac1c0002row13_col2,#T_4e3d8ae4_3a01_11eb_a21f_0242ac1c0002row13_col3,#T_4e3d8ae4_3a01_11eb_a21f_0242ac1c0002row13_col4,#T_4e3d8ae4_3a01_11eb_a21f_0242ac1c0002row13_col5,#T_4e3d8ae4_3a01_11eb_a21f_0242ac1c0002row13_col6,#T_4e3d8ae4_3a01_11eb_a21f_0242ac1c0002row13_col7,#T_4e3d8ae4_3a01_11eb_a21f_0242ac1c0002row13_col8,#T_4e3d8ae4_3a01_11eb_a21f_0242ac1c0002row13_col9,#T_4e3d8ae4_3a01_11eb_a21f_0242ac1c0002row13_col10,#T_4e3d8ae4_3a01_11eb_a21f_0242ac1c0002row13_col11,#T_4e3d8ae4_3a01_11eb_a21f_0242ac1c0002row13_col12,#T_4e3d8ae4_3a01_11eb_a21f_0242ac1c0002row13_col17,#T_4e3d8ae4_3a01_11eb_a21f_0242ac1c0002row13_col18,#T_4e3d8ae4_3a01_11eb_a21f_0242ac1c0002row13_col19,#T_4e3d8ae4_3a01_11eb_a21f_0242ac1c0002row13_col20,#T_4e3d8ae4_3a01_11eb_a21f_0242ac1c0002row13_col21,#T_4e3d8ae4_3a01_11eb_a21f_0242ac1c0002row13_col22,#T_4e3d8ae4_3a01_11eb_a21f_0242ac1c0002row14_col0,#T_4e3d8ae4_3a01_11eb_a21f_0242ac1c0002row14_col1,#T_4e3d8ae4_3a01_11eb_a21f_0242ac1c0002row14_col2,#T_4e3d8ae4_3a01_11eb_a21f_0242ac1c0002row14_col3,#T_4e3d8ae4_3a01_11eb_a21f_0242ac1c0002row14_col4,#T_4e3d8ae4_3a01_11eb_a21f_0242ac1c0002row14_col5,#T_4e3d8ae4_3a01_11eb_a21f_0242ac1c0002row14_col6,#T_4e3d8ae4_3a01_11eb_a21f_0242ac1c0002row14_col7,#T_4e3d8ae4_3a01_11eb_a21f_0242ac1c0002row14_col8,#T_4e3d8ae4_3a01_11eb_a21f_0242ac1c0002row14_col9,#T_4e3d8ae4_3a01_11eb_a21f_0242ac1c0002row14_col10,#T_4e3d8ae4_3a01_11eb_a21f_0242ac1c0002row14_col11,#T_4e3d8ae4_3a01_11eb_a21f_0242ac1c0002row14_col17,#T_4e3d8ae4_3a01_11eb_a21f_0242ac1c0002row14_col18,#T_4e3d8ae4_3a01_11eb_a21f_0242ac1c0002row14_col19,#T_4e3d8ae4_3a01_11eb_a21f_0242ac1c0002row14_col20,#T_4e3d8ae4_3a01_11eb_a21f_0242ac1c0002row14_col21,#T_4e3d8ae4_3a01_11eb_a21f_0242ac1c0002row14_col22,#T_4e3d8ae4_3a01_11eb_a21f_0242ac1c0002row15_col0,#T_4e3d8ae4_3a01_11eb_a21f_0242ac1c0002row15_col1,#T_4e3d8ae4_3a01_11eb_a21f_0242ac1c0002row15_col2,#T_4e3d8ae4_3a01_11eb_a21f_0242ac1c0002row15_col3,#T_4e3d8ae4_3a01_11eb_a21f_0242ac1c0002row15_col4,#T_4e3d8ae4_3a01_11eb_a21f_0242ac1c0002row15_col5,#T_4e3d8ae4_3a01_11eb_a21f_0242ac1c0002row15_col6,#T_4e3d8ae4_3a01_11eb_a21f_0242ac1c0002row15_col7,#T_4e3d8ae4_3a01_11eb_a21f_0242ac1c0002row15_col8,#T_4e3d8ae4_3a01_11eb_a21f_0242ac1c0002row15_col9,#T_4e3d8ae4_3a01_11eb_a21f_0242ac1c0002row15_col10,#T_4e3d8ae4_3a01_11eb_a21f_0242ac1c0002row15_col17,#T_4e3d8ae4_3a01_11eb_a21f_0242ac1c0002row15_col18,#T_4e3d8ae4_3a01_11eb_a21f_0242ac1c0002row15_col19,#T_4e3d8ae4_3a01_11eb_a21f_0242ac1c0002row15_col20,#T_4e3d8ae4_3a01_11eb_a21f_0242ac1c0002row15_col21,#T_4e3d8ae4_3a01_11eb_a21f_0242ac1c0002row15_col22,#T_4e3d8ae4_3a01_11eb_a21f_0242ac1c0002row16_col0,#T_4e3d8ae4_3a01_11eb_a21f_0242ac1c0002row16_col1,#T_4e3d8ae4_3a01_11eb_a21f_0242ac1c0002row16_col2,#T_4e3d8ae4_3a01_11eb_a21f_0242ac1c0002row16_col3,#T_4e3d8ae4_3a01_11eb_a21f_0242ac1c0002row16_col4,#T_4e3d8ae4_3a01_11eb_a21f_0242ac1c0002row16_col5,#T_4e3d8ae4_3a01_11eb_a21f_0242ac1c0002row16_col6,#T_4e3d8ae4_3a01_11eb_a21f_0242ac1c0002row16_col7,#T_4e3d8ae4_3a01_11eb_a21f_0242ac1c0002row16_col8,#T_4e3d8ae4_3a01_11eb_a21f_0242ac1c0002row16_col9,#T_4e3d8ae4_3a01_11eb_a21f_0242ac1c0002row16_col16,#T_4e3d8ae4_3a01_11eb_a21f_0242ac1c0002row16_col17,#T_4e3d8ae4_3a01_11eb_a21f_0242ac1c0002row16_col18,#T_4e3d8ae4_3a01_11eb_a21f_0242ac1c0002row16_col19,#T_4e3d8ae4_3a01_11eb_a21f_0242ac1c0002row16_col20,#T_4e3d8ae4_3a01_11eb_a21f_0242ac1c0002row16_col21,#T_4e3d8ae4_3a01_11eb_a21f_0242ac1c0002row16_col22,#T_4e3d8ae4_3a01_11eb_a21f_0242ac1c0002row17_col0,#T_4e3d8ae4_3a01_11eb_a21f_0242ac1c0002row17_col1,#T_4e3d8ae4_3a01_11eb_a21f_0242ac1c0002row17_col2,#T_4e3d8ae4_3a01_11eb_a21f_0242ac1c0002row17_col3,#T_4e3d8ae4_3a01_11eb_a21f_0242ac1c0002row17_col4,#T_4e3d8ae4_3a01_11eb_a21f_0242ac1c0002row17_col5,#T_4e3d8ae4_3a01_11eb_a21f_0242ac1c0002row17_col6,#T_4e3d8ae4_3a01_11eb_a21f_0242ac1c0002row17_col7,#T_4e3d8ae4_3a01_11eb_a21f_0242ac1c0002row17_col15,#T_4e3d8ae4_3a01_11eb_a21f_0242ac1c0002row17_col16,#T_4e3d8ae4_3a01_11eb_a21f_0242ac1c0002row17_col17,#T_4e3d8ae4_3a01_11eb_a21f_0242ac1c0002row17_col18,#T_4e3d8ae4_3a01_11eb_a21f_0242ac1c0002row17_col19,#T_4e3d8ae4_3a01_11eb_a21f_0242ac1c0002row17_col20,#T_4e3d8ae4_3a01_11eb_a21f_0242ac1c0002row17_col21,#T_4e3d8ae4_3a01_11eb_a21f_0242ac1c0002row17_col22,#T_4e3d8ae4_3a01_11eb_a21f_0242ac1c0002row18_col0,#T_4e3d8ae4_3a01_11eb_a21f_0242ac1c0002row18_col1,#T_4e3d8ae4_3a01_11eb_a21f_0242ac1c0002row18_col14,#T_4e3d8ae4_3a01_11eb_a21f_0242ac1c0002row18_col15,#T_4e3d8ae4_3a01_11eb_a21f_0242ac1c0002row18_col16,#T_4e3d8ae4_3a01_11eb_a21f_0242ac1c0002row18_col17,#T_4e3d8ae4_3a01_11eb_a21f_0242ac1c0002row18_col18,#T_4e3d8ae4_3a01_11eb_a21f_0242ac1c0002row18_col19,#T_4e3d8ae4_3a01_11eb_a21f_0242ac1c0002row18_col20,#T_4e3d8ae4_3a01_11eb_a21f_0242ac1c0002row18_col21,#T_4e3d8ae4_3a01_11eb_a21f_0242ac1c0002row18_col22,#T_4e3d8ae4_3a01_11eb_a21f_0242ac1c0002row19_col0,#T_4e3d8ae4_3a01_11eb_a21f_0242ac1c0002row19_col1,#T_4e3d8ae4_3a01_11eb_a21f_0242ac1c0002row19_col12,#T_4e3d8ae4_3a01_11eb_a21f_0242ac1c0002row19_col13,#T_4e3d8ae4_3a01_11eb_a21f_0242ac1c0002row19_col14,#T_4e3d8ae4_3a01_11eb_a21f_0242ac1c0002row19_col15,#T_4e3d8ae4_3a01_11eb_a21f_0242ac1c0002row19_col16,#T_4e3d8ae4_3a01_11eb_a21f_0242ac1c0002row19_col17,#T_4e3d8ae4_3a01_11eb_a21f_0242ac1c0002row19_col18,#T_4e3d8ae4_3a01_11eb_a21f_0242ac1c0002row19_col19,#T_4e3d8ae4_3a01_11eb_a21f_0242ac1c0002row19_col20,#T_4e3d8ae4_3a01_11eb_a21f_0242ac1c0002row19_col21,#T_4e3d8ae4_3a01_11eb_a21f_0242ac1c0002row19_col22,#T_4e3d8ae4_3a01_11eb_a21f_0242ac1c0002row20_col0,#T_4e3d8ae4_3a01_11eb_a21f_0242ac1c0002row20_col1,#T_4e3d8ae4_3a01_11eb_a21f_0242ac1c0002row20_col10,#T_4e3d8ae4_3a01_11eb_a21f_0242ac1c0002row20_col11,#T_4e3d8ae4_3a01_11eb_a21f_0242ac1c0002row20_col12,#T_4e3d8ae4_3a01_11eb_a21f_0242ac1c0002row20_col13,#T_4e3d8ae4_3a01_11eb_a21f_0242ac1c0002row20_col14,#T_4e3d8ae4_3a01_11eb_a21f_0242ac1c0002row20_col15,#T_4e3d8ae4_3a01_11eb_a21f_0242ac1c0002row20_col16,#T_4e3d8ae4_3a01_11eb_a21f_0242ac1c0002row20_col17,#T_4e3d8ae4_3a01_11eb_a21f_0242ac1c0002row20_col18,#T_4e3d8ae4_3a01_11eb_a21f_0242ac1c0002row20_col19,#T_4e3d8ae4_3a01_11eb_a21f_0242ac1c0002row20_col20,#T_4e3d8ae4_3a01_11eb_a21f_0242ac1c0002row20_col21,#T_4e3d8ae4_3a01_11eb_a21f_0242ac1c0002row20_col22,#T_4e3d8ae4_3a01_11eb_a21f_0242ac1c0002row21_col0,#T_4e3d8ae4_3a01_11eb_a21f_0242ac1c0002row21_col1,#T_4e3d8ae4_3a01_11eb_a21f_0242ac1c0002row21_col2,#T_4e3d8ae4_3a01_11eb_a21f_0242ac1c0002row21_col3,#T_4e3d8ae4_3a01_11eb_a21f_0242ac1c0002row21_col4,#T_4e3d8ae4_3a01_11eb_a21f_0242ac1c0002row21_col5,#T_4e3d8ae4_3a01_11eb_a21f_0242ac1c0002row21_col6,#T_4e3d8ae4_3a01_11eb_a21f_0242ac1c0002row21_col7,#T_4e3d8ae4_3a01_11eb_a21f_0242ac1c0002row21_col8,#T_4e3d8ae4_3a01_11eb_a21f_0242ac1c0002row21_col9,#T_4e3d8ae4_3a01_11eb_a21f_0242ac1c0002row21_col10,#T_4e3d8ae4_3a01_11eb_a21f_0242ac1c0002row21_col11,#T_4e3d8ae4_3a01_11eb_a21f_0242ac1c0002row21_col12,#T_4e3d8ae4_3a01_11eb_a21f_0242ac1c0002row21_col13,#T_4e3d8ae4_3a01_11eb_a21f_0242ac1c0002row21_col14,#T_4e3d8ae4_3a01_11eb_a21f_0242ac1c0002row21_col15,#T_4e3d8ae4_3a01_11eb_a21f_0242ac1c0002row21_col16,#T_4e3d8ae4_3a01_11eb_a21f_0242ac1c0002row21_col17,#T_4e3d8ae4_3a01_11eb_a21f_0242ac1c0002row21_col18,#T_4e3d8ae4_3a01_11eb_a21f_0242ac1c0002row21_col19,#T_4e3d8ae4_3a01_11eb_a21f_0242ac1c0002row21_col20,#T_4e3d8ae4_3a01_11eb_a21f_0242ac1c0002row21_col21,#T_4e3d8ae4_3a01_11eb_a21f_0242ac1c0002row21_col22,#T_4e3d8ae4_3a01_11eb_a21f_0242ac1c0002row22_col0,#T_4e3d8ae4_3a01_11eb_a21f_0242ac1c0002row22_col1,#T_4e3d8ae4_3a01_11eb_a21f_0242ac1c0002row22_col2,#T_4e3d8ae4_3a01_11eb_a21f_0242ac1c0002row22_col3,#T_4e3d8ae4_3a01_11eb_a21f_0242ac1c0002row22_col4,#T_4e3d8ae4_3a01_11eb_a21f_0242ac1c0002row22_col5,#T_4e3d8ae4_3a01_11eb_a21f_0242ac1c0002row22_col6,#T_4e3d8ae4_3a01_11eb_a21f_0242ac1c0002row22_col7,#T_4e3d8ae4_3a01_11eb_a21f_0242ac1c0002row22_col8,#T_4e3d8ae4_3a01_11eb_a21f_0242ac1c0002row22_col9,#T_4e3d8ae4_3a01_11eb_a21f_0242ac1c0002row22_col10,#T_4e3d8ae4_3a01_11eb_a21f_0242ac1c0002row22_col11,#T_4e3d8ae4_3a01_11eb_a21f_0242ac1c0002row22_col12,#T_4e3d8ae4_3a01_11eb_a21f_0242ac1c0002row22_col13,#T_4e3d8ae4_3a01_11eb_a21f_0242ac1c0002row22_col14,#T_4e3d8ae4_3a01_11eb_a21f_0242ac1c0002row22_col15,#T_4e3d8ae4_3a01_11eb_a21f_0242ac1c0002row22_col16,#T_4e3d8ae4_3a01_11eb_a21f_0242ac1c0002row22_col17,#T_4e3d8ae4_3a01_11eb_a21f_0242ac1c0002row22_col18,#T_4e3d8ae4_3a01_11eb_a21f_0242ac1c0002row22_col19,#T_4e3d8ae4_3a01_11eb_a21f_0242ac1c0002row22_col20,#T_4e3d8ae4_3a01_11eb_a21f_0242ac1c0002row22_col21,#T_4e3d8ae4_3a01_11eb_a21f_0242ac1c0002row22_col22{\n",
              "            font-size:  6pt;\n",
              "            background-color:  #ffffff;\n",
              "            color:  #000000;\n",
              "        }#T_4e3d8ae4_3a01_11eb_a21f_0242ac1c0002row1_col5,#T_4e3d8ae4_3a01_11eb_a21f_0242ac1c0002row8_col12{\n",
              "            font-size:  6pt;\n",
              "            background-color:  #f1f1f1;\n",
              "            color:  #000000;\n",
              "        }#T_4e3d8ae4_3a01_11eb_a21f_0242ac1c0002row1_col6,#T_4e3d8ae4_3a01_11eb_a21f_0242ac1c0002row1_col13{\n",
              "            font-size:  6pt;\n",
              "            background-color:  #7c7c7c;\n",
              "            color:  #000000;\n",
              "        }#T_4e3d8ae4_3a01_11eb_a21f_0242ac1c0002row1_col7{\n",
              "            font-size:  6pt;\n",
              "            background-color:  #4a4a4a;\n",
              "            color:  #f1f1f1;\n",
              "        }#T_4e3d8ae4_3a01_11eb_a21f_0242ac1c0002row1_col8,#T_4e3d8ae4_3a01_11eb_a21f_0242ac1c0002row1_col9,#T_4e3d8ae4_3a01_11eb_a21f_0242ac1c0002row1_col10,#T_4e3d8ae4_3a01_11eb_a21f_0242ac1c0002row2_col6,#T_4e3d8ae4_3a01_11eb_a21f_0242ac1c0002row2_col7,#T_4e3d8ae4_3a01_11eb_a21f_0242ac1c0002row2_col11,#T_4e3d8ae4_3a01_11eb_a21f_0242ac1c0002row2_col12,#T_4e3d8ae4_3a01_11eb_a21f_0242ac1c0002row2_col13,#T_4e3d8ae4_3a01_11eb_a21f_0242ac1c0002row3_col4,#T_4e3d8ae4_3a01_11eb_a21f_0242ac1c0002row3_col12,#T_4e3d8ae4_3a01_11eb_a21f_0242ac1c0002row3_col13,#T_4e3d8ae4_3a01_11eb_a21f_0242ac1c0002row4_col1,#T_4e3d8ae4_3a01_11eb_a21f_0242ac1c0002row4_col2,#T_4e3d8ae4_3a01_11eb_a21f_0242ac1c0002row4_col3,#T_4e3d8ae4_3a01_11eb_a21f_0242ac1c0002row4_col12,#T_4e3d8ae4_3a01_11eb_a21f_0242ac1c0002row4_col13,#T_4e3d8ae4_3a01_11eb_a21f_0242ac1c0002row5_col12,#T_4e3d8ae4_3a01_11eb_a21f_0242ac1c0002row6_col11,#T_4e3d8ae4_3a01_11eb_a21f_0242ac1c0002row9_col11,#T_4e3d8ae4_3a01_11eb_a21f_0242ac1c0002row10_col11,#T_4e3d8ae4_3a01_11eb_a21f_0242ac1c0002row10_col12,#T_4e3d8ae4_3a01_11eb_a21f_0242ac1c0002row10_col13,#T_4e3d8ae4_3a01_11eb_a21f_0242ac1c0002row10_col14,#T_4e3d8ae4_3a01_11eb_a21f_0242ac1c0002row11_col13,#T_4e3d8ae4_3a01_11eb_a21f_0242ac1c0002row11_col14,#T_4e3d8ae4_3a01_11eb_a21f_0242ac1c0002row11_col15,#T_4e3d8ae4_3a01_11eb_a21f_0242ac1c0002row12_col14,#T_4e3d8ae4_3a01_11eb_a21f_0242ac1c0002row12_col15,#T_4e3d8ae4_3a01_11eb_a21f_0242ac1c0002row12_col16,#T_4e3d8ae4_3a01_11eb_a21f_0242ac1c0002row13_col14,#T_4e3d8ae4_3a01_11eb_a21f_0242ac1c0002row13_col15,#T_4e3d8ae4_3a01_11eb_a21f_0242ac1c0002row14_col14,#T_4e3d8ae4_3a01_11eb_a21f_0242ac1c0002row14_col15,#T_4e3d8ae4_3a01_11eb_a21f_0242ac1c0002row15_col13,#T_4e3d8ae4_3a01_11eb_a21f_0242ac1c0002row15_col14,#T_4e3d8ae4_3a01_11eb_a21f_0242ac1c0002row16_col12,#T_4e3d8ae4_3a01_11eb_a21f_0242ac1c0002row16_col13,#T_4e3d8ae4_3a01_11eb_a21f_0242ac1c0002row17_col11,#T_4e3d8ae4_3a01_11eb_a21f_0242ac1c0002row17_col12,#T_4e3d8ae4_3a01_11eb_a21f_0242ac1c0002row19_col3,#T_4e3d8ae4_3a01_11eb_a21f_0242ac1c0002row19_col4,#T_4e3d8ae4_3a01_11eb_a21f_0242ac1c0002row19_col5,#T_4e3d8ae4_3a01_11eb_a21f_0242ac1c0002row19_col6,#T_4e3d8ae4_3a01_11eb_a21f_0242ac1c0002row19_col7,#T_4e3d8ae4_3a01_11eb_a21f_0242ac1c0002row20_col3,#T_4e3d8ae4_3a01_11eb_a21f_0242ac1c0002row20_col4,#T_4e3d8ae4_3a01_11eb_a21f_0242ac1c0002row20_col5,#T_4e3d8ae4_3a01_11eb_a21f_0242ac1c0002row20_col6,#T_4e3d8ae4_3a01_11eb_a21f_0242ac1c0002row20_col7{\n",
              "            font-size:  6pt;\n",
              "            background-color:  #000000;\n",
              "            color:  #f1f1f1;\n",
              "        }#T_4e3d8ae4_3a01_11eb_a21f_0242ac1c0002row1_col11{\n",
              "            font-size:  6pt;\n",
              "            background-color:  #606060;\n",
              "            color:  #f1f1f1;\n",
              "        }#T_4e3d8ae4_3a01_11eb_a21f_0242ac1c0002row1_col12{\n",
              "            font-size:  6pt;\n",
              "            background-color:  #4d4d4d;\n",
              "            color:  #f1f1f1;\n",
              "        }#T_4e3d8ae4_3a01_11eb_a21f_0242ac1c0002row1_col14{\n",
              "            font-size:  6pt;\n",
              "            background-color:  #bbbbbb;\n",
              "            color:  #000000;\n",
              "        }#T_4e3d8ae4_3a01_11eb_a21f_0242ac1c0002row2_col3,#T_4e3d8ae4_3a01_11eb_a21f_0242ac1c0002row4_col5{\n",
              "            font-size:  6pt;\n",
              "            background-color:  #e4e4e4;\n",
              "            color:  #000000;\n",
              "        }#T_4e3d8ae4_3a01_11eb_a21f_0242ac1c0002row2_col4,#T_4e3d8ae4_3a01_11eb_a21f_0242ac1c0002row8_col6{\n",
              "            font-size:  6pt;\n",
              "            background-color:  #6b6b6b;\n",
              "            color:  #000000;\n",
              "        }#T_4e3d8ae4_3a01_11eb_a21f_0242ac1c0002row2_col5,#T_4e3d8ae4_3a01_11eb_a21f_0242ac1c0002row5_col11{\n",
              "            font-size:  6pt;\n",
              "            background-color:  #222222;\n",
              "            color:  #f1f1f1;\n",
              "        }#T_4e3d8ae4_3a01_11eb_a21f_0242ac1c0002row2_col8,#T_4e3d8ae4_3a01_11eb_a21f_0242ac1c0002row2_col14,#T_4e3d8ae4_3a01_11eb_a21f_0242ac1c0002row3_col14,#T_4e3d8ae4_3a01_11eb_a21f_0242ac1c0002row17_col13{\n",
              "            font-size:  6pt;\n",
              "            background-color:  #171717;\n",
              "            color:  #f1f1f1;\n",
              "        }#T_4e3d8ae4_3a01_11eb_a21f_0242ac1c0002row2_col9,#T_4e3d8ae4_3a01_11eb_a21f_0242ac1c0002row3_col11{\n",
              "            font-size:  6pt;\n",
              "            background-color:  #4b4b4b;\n",
              "            color:  #f1f1f1;\n",
              "        }#T_4e3d8ae4_3a01_11eb_a21f_0242ac1c0002row2_col10,#T_4e3d8ae4_3a01_11eb_a21f_0242ac1c0002row7_col10,#T_4e3d8ae4_3a01_11eb_a21f_0242ac1c0002row8_col8,#T_4e3d8ae4_3a01_11eb_a21f_0242ac1c0002row8_col10,#T_4e3d8ae4_3a01_11eb_a21f_0242ac1c0002row9_col8,#T_4e3d8ae4_3a01_11eb_a21f_0242ac1c0002row9_col10,#T_4e3d8ae4_3a01_11eb_a21f_0242ac1c0002row18_col10,#T_4e3d8ae4_3a01_11eb_a21f_0242ac1c0002row19_col8{\n",
              "            font-size:  6pt;\n",
              "            background-color:  #010101;\n",
              "            color:  #f1f1f1;\n",
              "        }#T_4e3d8ae4_3a01_11eb_a21f_0242ac1c0002row3_col1{\n",
              "            font-size:  6pt;\n",
              "            background-color:  #272727;\n",
              "            color:  #f1f1f1;\n",
              "        }#T_4e3d8ae4_3a01_11eb_a21f_0242ac1c0002row3_col2{\n",
              "            font-size:  6pt;\n",
              "            background-color:  #0a0a0a;\n",
              "            color:  #f1f1f1;\n",
              "        }#T_4e3d8ae4_3a01_11eb_a21f_0242ac1c0002row3_col3,#T_4e3d8ae4_3a01_11eb_a21f_0242ac1c0002row14_col13{\n",
              "            font-size:  6pt;\n",
              "            background-color:  #050505;\n",
              "            color:  #f1f1f1;\n",
              "        }#T_4e3d8ae4_3a01_11eb_a21f_0242ac1c0002row3_col5,#T_4e3d8ae4_3a01_11eb_a21f_0242ac1c0002row8_col11,#T_4e3d8ae4_3a01_11eb_a21f_0242ac1c0002row10_col15,#T_4e3d8ae4_3a01_11eb_a21f_0242ac1c0002row19_col2{\n",
              "            font-size:  6pt;\n",
              "            background-color:  #545454;\n",
              "            color:  #f1f1f1;\n",
              "        }#T_4e3d8ae4_3a01_11eb_a21f_0242ac1c0002row3_col6{\n",
              "            font-size:  6pt;\n",
              "            background-color:  #e6e6e6;\n",
              "            color:  #000000;\n",
              "        }#T_4e3d8ae4_3a01_11eb_a21f_0242ac1c0002row3_col7,#T_4e3d8ae4_3a01_11eb_a21f_0242ac1c0002row3_col10,#T_4e3d8ae4_3a01_11eb_a21f_0242ac1c0002row8_col5{\n",
              "            font-size:  6pt;\n",
              "            background-color:  #fafafa;\n",
              "            color:  #000000;\n",
              "        }#T_4e3d8ae4_3a01_11eb_a21f_0242ac1c0002row3_col8,#T_4e3d8ae4_3a01_11eb_a21f_0242ac1c0002row11_col10,#T_4e3d8ae4_3a01_11eb_a21f_0242ac1c0002row16_col15{\n",
              "            font-size:  6pt;\n",
              "            background-color:  #fbfbfb;\n",
              "            color:  #000000;\n",
              "        }#T_4e3d8ae4_3a01_11eb_a21f_0242ac1c0002row3_col9{\n",
              "            font-size:  6pt;\n",
              "            background-color:  #fdfdfd;\n",
              "            color:  #000000;\n",
              "        }#T_4e3d8ae4_3a01_11eb_a21f_0242ac1c0002row4_col4{\n",
              "            font-size:  6pt;\n",
              "            background-color:  #1b1b1b;\n",
              "            color:  #f1f1f1;\n",
              "        }#T_4e3d8ae4_3a01_11eb_a21f_0242ac1c0002row4_col11{\n",
              "            font-size:  6pt;\n",
              "            background-color:  #4e4e4e;\n",
              "            color:  #f1f1f1;\n",
              "        }#T_4e3d8ae4_3a01_11eb_a21f_0242ac1c0002row4_col14{\n",
              "            font-size:  6pt;\n",
              "            background-color:  #767676;\n",
              "            color:  #000000;\n",
              "        }#T_4e3d8ae4_3a01_11eb_a21f_0242ac1c0002row5_col1{\n",
              "            font-size:  6pt;\n",
              "            background-color:  #fcfcfc;\n",
              "            color:  #000000;\n",
              "        }#T_4e3d8ae4_3a01_11eb_a21f_0242ac1c0002row5_col2,#T_4e3d8ae4_3a01_11eb_a21f_0242ac1c0002row5_col3,#T_4e3d8ae4_3a01_11eb_a21f_0242ac1c0002row15_col16{\n",
              "            font-size:  6pt;\n",
              "            background-color:  #f6f6f6;\n",
              "            color:  #000000;\n",
              "        }#T_4e3d8ae4_3a01_11eb_a21f_0242ac1c0002row5_col4,#T_4e3d8ae4_3a01_11eb_a21f_0242ac1c0002row7_col7{\n",
              "            font-size:  6pt;\n",
              "            background-color:  #f8f8f8;\n",
              "            color:  #000000;\n",
              "        }#T_4e3d8ae4_3a01_11eb_a21f_0242ac1c0002row5_col10,#T_4e3d8ae4_3a01_11eb_a21f_0242ac1c0002row10_col7{\n",
              "            font-size:  6pt;\n",
              "            background-color:  #e8e8e8;\n",
              "            color:  #000000;\n",
              "        }#T_4e3d8ae4_3a01_11eb_a21f_0242ac1c0002row5_col13,#T_4e3d8ae4_3a01_11eb_a21f_0242ac1c0002row6_col12{\n",
              "            font-size:  6pt;\n",
              "            background-color:  #090909;\n",
              "            color:  #f1f1f1;\n",
              "        }#T_4e3d8ae4_3a01_11eb_a21f_0242ac1c0002row5_col14{\n",
              "            font-size:  6pt;\n",
              "            background-color:  #d0d0d0;\n",
              "            color:  #000000;\n",
              "        }#T_4e3d8ae4_3a01_11eb_a21f_0242ac1c0002row6_col10,#T_4e3d8ae4_3a01_11eb_a21f_0242ac1c0002row7_col11,#T_4e3d8ae4_3a01_11eb_a21f_0242ac1c0002row9_col6{\n",
              "            font-size:  6pt;\n",
              "            background-color:  #060606;\n",
              "            color:  #f1f1f1;\n",
              "        }#T_4e3d8ae4_3a01_11eb_a21f_0242ac1c0002row6_col13{\n",
              "            font-size:  6pt;\n",
              "            background-color:  #979797;\n",
              "            color:  #000000;\n",
              "        }#T_4e3d8ae4_3a01_11eb_a21f_0242ac1c0002row7_col8{\n",
              "            font-size:  6pt;\n",
              "            background-color:  #b6b6b6;\n",
              "            color:  #000000;\n",
              "        }#T_4e3d8ae4_3a01_11eb_a21f_0242ac1c0002row7_col9{\n",
              "            font-size:  6pt;\n",
              "            background-color:  #252525;\n",
              "            color:  #f1f1f1;\n",
              "        }#T_4e3d8ae4_3a01_11eb_a21f_0242ac1c0002row7_col12{\n",
              "            font-size:  6pt;\n",
              "            background-color:  #999999;\n",
              "            color:  #000000;\n",
              "        }#T_4e3d8ae4_3a01_11eb_a21f_0242ac1c0002row8_col7,#T_4e3d8ae4_3a01_11eb_a21f_0242ac1c0002row18_col8{\n",
              "            font-size:  6pt;\n",
              "            background-color:  #101010;\n",
              "            color:  #f1f1f1;\n",
              "        }#T_4e3d8ae4_3a01_11eb_a21f_0242ac1c0002row8_col9,#T_4e3d8ae4_3a01_11eb_a21f_0242ac1c0002row9_col9,#T_4e3d8ae4_3a01_11eb_a21f_0242ac1c0002row17_col10,#T_4e3d8ae4_3a01_11eb_a21f_0242ac1c0002row18_col9,#T_4e3d8ae4_3a01_11eb_a21f_0242ac1c0002row19_col9{\n",
              "            font-size:  6pt;\n",
              "            background-color:  #020202;\n",
              "            color:  #f1f1f1;\n",
              "        }#T_4e3d8ae4_3a01_11eb_a21f_0242ac1c0002row9_col5{\n",
              "            font-size:  6pt;\n",
              "            background-color:  #f7f7f7;\n",
              "            color:  #000000;\n",
              "        }#T_4e3d8ae4_3a01_11eb_a21f_0242ac1c0002row9_col7,#T_4e3d8ae4_3a01_11eb_a21f_0242ac1c0002row18_col11{\n",
              "            font-size:  6pt;\n",
              "            background-color:  #030303;\n",
              "            color:  #f1f1f1;\n",
              "        }#T_4e3d8ae4_3a01_11eb_a21f_0242ac1c0002row9_col12{\n",
              "            font-size:  6pt;\n",
              "            background-color:  #181818;\n",
              "            color:  #f1f1f1;\n",
              "        }#T_4e3d8ae4_3a01_11eb_a21f_0242ac1c0002row9_col13{\n",
              "            font-size:  6pt;\n",
              "            background-color:  #303030;\n",
              "            color:  #f1f1f1;\n",
              "        }#T_4e3d8ae4_3a01_11eb_a21f_0242ac1c0002row9_col14{\n",
              "            font-size:  6pt;\n",
              "            background-color:  #a9a9a9;\n",
              "            color:  #000000;\n",
              "        }#T_4e3d8ae4_3a01_11eb_a21f_0242ac1c0002row9_col15{\n",
              "            font-size:  6pt;\n",
              "            background-color:  #fefefe;\n",
              "            color:  #000000;\n",
              "        }#T_4e3d8ae4_3a01_11eb_a21f_0242ac1c0002row10_col8,#T_4e3d8ae4_3a01_11eb_a21f_0242ac1c0002row10_col9,#T_4e3d8ae4_3a01_11eb_a21f_0242ac1c0002row16_col10{\n",
              "            font-size:  6pt;\n",
              "            background-color:  #bababa;\n",
              "            color:  #000000;\n",
              "        }#T_4e3d8ae4_3a01_11eb_a21f_0242ac1c0002row10_col10{\n",
              "            font-size:  6pt;\n",
              "            background-color:  #393939;\n",
              "            color:  #f1f1f1;\n",
              "        }#T_4e3d8ae4_3a01_11eb_a21f_0242ac1c0002row10_col16{\n",
              "            font-size:  6pt;\n",
              "            background-color:  #eaeaea;\n",
              "            color:  #000000;\n",
              "        }#T_4e3d8ae4_3a01_11eb_a21f_0242ac1c0002row11_col11{\n",
              "            font-size:  6pt;\n",
              "            background-color:  #e2e2e2;\n",
              "            color:  #000000;\n",
              "        }#T_4e3d8ae4_3a01_11eb_a21f_0242ac1c0002row11_col12{\n",
              "            font-size:  6pt;\n",
              "            background-color:  #9f9f9f;\n",
              "            color:  #000000;\n",
              "        }#T_4e3d8ae4_3a01_11eb_a21f_0242ac1c0002row11_col16{\n",
              "            font-size:  6pt;\n",
              "            background-color:  #898989;\n",
              "            color:  #000000;\n",
              "        }#T_4e3d8ae4_3a01_11eb_a21f_0242ac1c0002row12_col13{\n",
              "            font-size:  6pt;\n",
              "            background-color:  #585858;\n",
              "            color:  #f1f1f1;\n",
              "        }#T_4e3d8ae4_3a01_11eb_a21f_0242ac1c0002row13_col13{\n",
              "            font-size:  6pt;\n",
              "            background-color:  #5a5a5a;\n",
              "            color:  #f1f1f1;\n",
              "        }#T_4e3d8ae4_3a01_11eb_a21f_0242ac1c0002row13_col16{\n",
              "            font-size:  6pt;\n",
              "            background-color:  #525252;\n",
              "            color:  #f1f1f1;\n",
              "        }#T_4e3d8ae4_3a01_11eb_a21f_0242ac1c0002row14_col12,#T_4e3d8ae4_3a01_11eb_a21f_0242ac1c0002row19_col11{\n",
              "            font-size:  6pt;\n",
              "            background-color:  #c5c5c5;\n",
              "            color:  #000000;\n",
              "        }#T_4e3d8ae4_3a01_11eb_a21f_0242ac1c0002row14_col16{\n",
              "            font-size:  6pt;\n",
              "            background-color:  #d7d7d7;\n",
              "            color:  #000000;\n",
              "        }#T_4e3d8ae4_3a01_11eb_a21f_0242ac1c0002row15_col11,#T_4e3d8ae4_3a01_11eb_a21f_0242ac1c0002row18_col5{\n",
              "            font-size:  6pt;\n",
              "            background-color:  #dcdcdc;\n",
              "            color:  #000000;\n",
              "        }#T_4e3d8ae4_3a01_11eb_a21f_0242ac1c0002row15_col12{\n",
              "            font-size:  6pt;\n",
              "            background-color:  #2f2f2f;\n",
              "            color:  #f1f1f1;\n",
              "        }#T_4e3d8ae4_3a01_11eb_a21f_0242ac1c0002row15_col15{\n",
              "            font-size:  6pt;\n",
              "            background-color:  #636363;\n",
              "            color:  #f1f1f1;\n",
              "        }#T_4e3d8ae4_3a01_11eb_a21f_0242ac1c0002row16_col11{\n",
              "            font-size:  6pt;\n",
              "            background-color:  #070707;\n",
              "            color:  #f1f1f1;\n",
              "        }#T_4e3d8ae4_3a01_11eb_a21f_0242ac1c0002row16_col14{\n",
              "            font-size:  6pt;\n",
              "            background-color:  #1f1f1f;\n",
              "            color:  #f1f1f1;\n",
              "        }#T_4e3d8ae4_3a01_11eb_a21f_0242ac1c0002row17_col8,#T_4e3d8ae4_3a01_11eb_a21f_0242ac1c0002row18_col2,#T_4e3d8ae4_3a01_11eb_a21f_0242ac1c0002row18_col4{\n",
              "            font-size:  6pt;\n",
              "            background-color:  #e9e9e9;\n",
              "            color:  #000000;\n",
              "        }#T_4e3d8ae4_3a01_11eb_a21f_0242ac1c0002row17_col9{\n",
              "            font-size:  6pt;\n",
              "            background-color:  #7d7d7d;\n",
              "            color:  #000000;\n",
              "        }#T_4e3d8ae4_3a01_11eb_a21f_0242ac1c0002row17_col14{\n",
              "            font-size:  6pt;\n",
              "            background-color:  #e1e1e1;\n",
              "            color:  #000000;\n",
              "        }#T_4e3d8ae4_3a01_11eb_a21f_0242ac1c0002row18_col3,#T_4e3d8ae4_3a01_11eb_a21f_0242ac1c0002row18_col6{\n",
              "            font-size:  6pt;\n",
              "            background-color:  #a4a4a4;\n",
              "            color:  #000000;\n",
              "        }#T_4e3d8ae4_3a01_11eb_a21f_0242ac1c0002row18_col7{\n",
              "            font-size:  6pt;\n",
              "            background-color:  #727272;\n",
              "            color:  #000000;\n",
              "        }#T_4e3d8ae4_3a01_11eb_a21f_0242ac1c0002row18_col12{\n",
              "            font-size:  6pt;\n",
              "            background-color:  #616161;\n",
              "            color:  #f1f1f1;\n",
              "        }#T_4e3d8ae4_3a01_11eb_a21f_0242ac1c0002row18_col13{\n",
              "            font-size:  6pt;\n",
              "            background-color:  #f3f3f3;\n",
              "            color:  #000000;\n",
              "        }#T_4e3d8ae4_3a01_11eb_a21f_0242ac1c0002row19_col10{\n",
              "            font-size:  6pt;\n",
              "            background-color:  #484848;\n",
              "            color:  #f1f1f1;\n",
              "        }#T_4e3d8ae4_3a01_11eb_a21f_0242ac1c0002row20_col2{\n",
              "            font-size:  6pt;\n",
              "            background-color:  #b3b3b3;\n",
              "            color:  #000000;\n",
              "        }#T_4e3d8ae4_3a01_11eb_a21f_0242ac1c0002row20_col8{\n",
              "            font-size:  6pt;\n",
              "            background-color:  #1a1a1a;\n",
              "            color:  #f1f1f1;\n",
              "        }#T_4e3d8ae4_3a01_11eb_a21f_0242ac1c0002row20_col9{\n",
              "            font-size:  6pt;\n",
              "            background-color:  #d6d6d6;\n",
              "            color:  #000000;\n",
              "        }</style><table id=\"T_4e3d8ae4_3a01_11eb_a21f_0242ac1c0002\" ><thead>    <tr>        <th class=\"blank level0\" ></th>        <th class=\"col_heading level0 col0\" >0</th>        <th class=\"col_heading level0 col1\" >1</th>        <th class=\"col_heading level0 col2\" >2</th>        <th class=\"col_heading level0 col3\" >3</th>        <th class=\"col_heading level0 col4\" >4</th>        <th class=\"col_heading level0 col5\" >5</th>        <th class=\"col_heading level0 col6\" >6</th>        <th class=\"col_heading level0 col7\" >7</th>        <th class=\"col_heading level0 col8\" >8</th>        <th class=\"col_heading level0 col9\" >9</th>        <th class=\"col_heading level0 col10\" >10</th>        <th class=\"col_heading level0 col11\" >11</th>        <th class=\"col_heading level0 col12\" >12</th>        <th class=\"col_heading level0 col13\" >13</th>        <th class=\"col_heading level0 col14\" >14</th>        <th class=\"col_heading level0 col15\" >15</th>        <th class=\"col_heading level0 col16\" >16</th>        <th class=\"col_heading level0 col17\" >17</th>        <th class=\"col_heading level0 col18\" >18</th>        <th class=\"col_heading level0 col19\" >19</th>        <th class=\"col_heading level0 col20\" >20</th>        <th class=\"col_heading level0 col21\" >21</th>        <th class=\"col_heading level0 col22\" >22</th>    </tr></thead><tbody>\n",
              "                <tr>\n",
              "                        <th id=\"T_4e3d8ae4_3a01_11eb_a21f_0242ac1c0002level0_row0\" class=\"row_heading level0 row0\" >0</th>\n",
              "                        <td id=\"T_4e3d8ae4_3a01_11eb_a21f_0242ac1c0002row0_col0\" class=\"data row0 col0\" >0</td>\n",
              "                        <td id=\"T_4e3d8ae4_3a01_11eb_a21f_0242ac1c0002row0_col1\" class=\"data row0 col1\" >0</td>\n",
              "                        <td id=\"T_4e3d8ae4_3a01_11eb_a21f_0242ac1c0002row0_col2\" class=\"data row0 col2\" >0</td>\n",
              "                        <td id=\"T_4e3d8ae4_3a01_11eb_a21f_0242ac1c0002row0_col3\" class=\"data row0 col3\" >0</td>\n",
              "                        <td id=\"T_4e3d8ae4_3a01_11eb_a21f_0242ac1c0002row0_col4\" class=\"data row0 col4\" >0</td>\n",
              "                        <td id=\"T_4e3d8ae4_3a01_11eb_a21f_0242ac1c0002row0_col5\" class=\"data row0 col5\" >0</td>\n",
              "                        <td id=\"T_4e3d8ae4_3a01_11eb_a21f_0242ac1c0002row0_col6\" class=\"data row0 col6\" >0</td>\n",
              "                        <td id=\"T_4e3d8ae4_3a01_11eb_a21f_0242ac1c0002row0_col7\" class=\"data row0 col7\" >0</td>\n",
              "                        <td id=\"T_4e3d8ae4_3a01_11eb_a21f_0242ac1c0002row0_col8\" class=\"data row0 col8\" >0</td>\n",
              "                        <td id=\"T_4e3d8ae4_3a01_11eb_a21f_0242ac1c0002row0_col9\" class=\"data row0 col9\" >0</td>\n",
              "                        <td id=\"T_4e3d8ae4_3a01_11eb_a21f_0242ac1c0002row0_col10\" class=\"data row0 col10\" >0</td>\n",
              "                        <td id=\"T_4e3d8ae4_3a01_11eb_a21f_0242ac1c0002row0_col11\" class=\"data row0 col11\" >0</td>\n",
              "                        <td id=\"T_4e3d8ae4_3a01_11eb_a21f_0242ac1c0002row0_col12\" class=\"data row0 col12\" >0</td>\n",
              "                        <td id=\"T_4e3d8ae4_3a01_11eb_a21f_0242ac1c0002row0_col13\" class=\"data row0 col13\" >0</td>\n",
              "                        <td id=\"T_4e3d8ae4_3a01_11eb_a21f_0242ac1c0002row0_col14\" class=\"data row0 col14\" >0</td>\n",
              "                        <td id=\"T_4e3d8ae4_3a01_11eb_a21f_0242ac1c0002row0_col15\" class=\"data row0 col15\" >0</td>\n",
              "                        <td id=\"T_4e3d8ae4_3a01_11eb_a21f_0242ac1c0002row0_col16\" class=\"data row0 col16\" >0</td>\n",
              "                        <td id=\"T_4e3d8ae4_3a01_11eb_a21f_0242ac1c0002row0_col17\" class=\"data row0 col17\" >0</td>\n",
              "                        <td id=\"T_4e3d8ae4_3a01_11eb_a21f_0242ac1c0002row0_col18\" class=\"data row0 col18\" >0</td>\n",
              "                        <td id=\"T_4e3d8ae4_3a01_11eb_a21f_0242ac1c0002row0_col19\" class=\"data row0 col19\" >0</td>\n",
              "                        <td id=\"T_4e3d8ae4_3a01_11eb_a21f_0242ac1c0002row0_col20\" class=\"data row0 col20\" >0</td>\n",
              "                        <td id=\"T_4e3d8ae4_3a01_11eb_a21f_0242ac1c0002row0_col21\" class=\"data row0 col21\" >0</td>\n",
              "                        <td id=\"T_4e3d8ae4_3a01_11eb_a21f_0242ac1c0002row0_col22\" class=\"data row0 col22\" >0</td>\n",
              "            </tr>\n",
              "            <tr>\n",
              "                        <th id=\"T_4e3d8ae4_3a01_11eb_a21f_0242ac1c0002level0_row1\" class=\"row_heading level0 row1\" >1</th>\n",
              "                        <td id=\"T_4e3d8ae4_3a01_11eb_a21f_0242ac1c0002row1_col0\" class=\"data row1 col0\" >0</td>\n",
              "                        <td id=\"T_4e3d8ae4_3a01_11eb_a21f_0242ac1c0002row1_col1\" class=\"data row1 col1\" >0</td>\n",
              "                        <td id=\"T_4e3d8ae4_3a01_11eb_a21f_0242ac1c0002row1_col2\" class=\"data row1 col2\" >0</td>\n",
              "                        <td id=\"T_4e3d8ae4_3a01_11eb_a21f_0242ac1c0002row1_col3\" class=\"data row1 col3\" >0</td>\n",
              "                        <td id=\"T_4e3d8ae4_3a01_11eb_a21f_0242ac1c0002row1_col4\" class=\"data row1 col4\" >0</td>\n",
              "                        <td id=\"T_4e3d8ae4_3a01_11eb_a21f_0242ac1c0002row1_col5\" class=\"data row1 col5\" >29</td>\n",
              "                        <td id=\"T_4e3d8ae4_3a01_11eb_a21f_0242ac1c0002row1_col6\" class=\"data row1 col6\" >150</td>\n",
              "                        <td id=\"T_4e3d8ae4_3a01_11eb_a21f_0242ac1c0002row1_col7\" class=\"data row1 col7\" >195</td>\n",
              "                        <td id=\"T_4e3d8ae4_3a01_11eb_a21f_0242ac1c0002row1_col8\" class=\"data row1 col8\" >254</td>\n",
              "                        <td id=\"T_4e3d8ae4_3a01_11eb_a21f_0242ac1c0002row1_col9\" class=\"data row1 col9\" >255</td>\n",
              "                        <td id=\"T_4e3d8ae4_3a01_11eb_a21f_0242ac1c0002row1_col10\" class=\"data row1 col10\" >254</td>\n",
              "                        <td id=\"T_4e3d8ae4_3a01_11eb_a21f_0242ac1c0002row1_col11\" class=\"data row1 col11\" >176</td>\n",
              "                        <td id=\"T_4e3d8ae4_3a01_11eb_a21f_0242ac1c0002row1_col12\" class=\"data row1 col12\" >193</td>\n",
              "                        <td id=\"T_4e3d8ae4_3a01_11eb_a21f_0242ac1c0002row1_col13\" class=\"data row1 col13\" >150</td>\n",
              "                        <td id=\"T_4e3d8ae4_3a01_11eb_a21f_0242ac1c0002row1_col14\" class=\"data row1 col14\" >96</td>\n",
              "                        <td id=\"T_4e3d8ae4_3a01_11eb_a21f_0242ac1c0002row1_col15\" class=\"data row1 col15\" >0</td>\n",
              "                        <td id=\"T_4e3d8ae4_3a01_11eb_a21f_0242ac1c0002row1_col16\" class=\"data row1 col16\" >0</td>\n",
              "                        <td id=\"T_4e3d8ae4_3a01_11eb_a21f_0242ac1c0002row1_col17\" class=\"data row1 col17\" >0</td>\n",
              "                        <td id=\"T_4e3d8ae4_3a01_11eb_a21f_0242ac1c0002row1_col18\" class=\"data row1 col18\" >0</td>\n",
              "                        <td id=\"T_4e3d8ae4_3a01_11eb_a21f_0242ac1c0002row1_col19\" class=\"data row1 col19\" >0</td>\n",
              "                        <td id=\"T_4e3d8ae4_3a01_11eb_a21f_0242ac1c0002row1_col20\" class=\"data row1 col20\" >0</td>\n",
              "                        <td id=\"T_4e3d8ae4_3a01_11eb_a21f_0242ac1c0002row1_col21\" class=\"data row1 col21\" >0</td>\n",
              "                        <td id=\"T_4e3d8ae4_3a01_11eb_a21f_0242ac1c0002row1_col22\" class=\"data row1 col22\" >0</td>\n",
              "            </tr>\n",
              "            <tr>\n",
              "                        <th id=\"T_4e3d8ae4_3a01_11eb_a21f_0242ac1c0002level0_row2\" class=\"row_heading level0 row2\" >2</th>\n",
              "                        <td id=\"T_4e3d8ae4_3a01_11eb_a21f_0242ac1c0002row2_col0\" class=\"data row2 col0\" >0</td>\n",
              "                        <td id=\"T_4e3d8ae4_3a01_11eb_a21f_0242ac1c0002row2_col1\" class=\"data row2 col1\" >0</td>\n",
              "                        <td id=\"T_4e3d8ae4_3a01_11eb_a21f_0242ac1c0002row2_col2\" class=\"data row2 col2\" >0</td>\n",
              "                        <td id=\"T_4e3d8ae4_3a01_11eb_a21f_0242ac1c0002row2_col3\" class=\"data row2 col3\" >48</td>\n",
              "                        <td id=\"T_4e3d8ae4_3a01_11eb_a21f_0242ac1c0002row2_col4\" class=\"data row2 col4\" >166</td>\n",
              "                        <td id=\"T_4e3d8ae4_3a01_11eb_a21f_0242ac1c0002row2_col5\" class=\"data row2 col5\" >224</td>\n",
              "                        <td id=\"T_4e3d8ae4_3a01_11eb_a21f_0242ac1c0002row2_col6\" class=\"data row2 col6\" >253</td>\n",
              "                        <td id=\"T_4e3d8ae4_3a01_11eb_a21f_0242ac1c0002row2_col7\" class=\"data row2 col7\" >253</td>\n",
              "                        <td id=\"T_4e3d8ae4_3a01_11eb_a21f_0242ac1c0002row2_col8\" class=\"data row2 col8\" >234</td>\n",
              "                        <td id=\"T_4e3d8ae4_3a01_11eb_a21f_0242ac1c0002row2_col9\" class=\"data row2 col9\" >196</td>\n",
              "                        <td id=\"T_4e3d8ae4_3a01_11eb_a21f_0242ac1c0002row2_col10\" class=\"data row2 col10\" >253</td>\n",
              "                        <td id=\"T_4e3d8ae4_3a01_11eb_a21f_0242ac1c0002row2_col11\" class=\"data row2 col11\" >253</td>\n",
              "                        <td id=\"T_4e3d8ae4_3a01_11eb_a21f_0242ac1c0002row2_col12\" class=\"data row2 col12\" >253</td>\n",
              "                        <td id=\"T_4e3d8ae4_3a01_11eb_a21f_0242ac1c0002row2_col13\" class=\"data row2 col13\" >253</td>\n",
              "                        <td id=\"T_4e3d8ae4_3a01_11eb_a21f_0242ac1c0002row2_col14\" class=\"data row2 col14\" >233</td>\n",
              "                        <td id=\"T_4e3d8ae4_3a01_11eb_a21f_0242ac1c0002row2_col15\" class=\"data row2 col15\" >0</td>\n",
              "                        <td id=\"T_4e3d8ae4_3a01_11eb_a21f_0242ac1c0002row2_col16\" class=\"data row2 col16\" >0</td>\n",
              "                        <td id=\"T_4e3d8ae4_3a01_11eb_a21f_0242ac1c0002row2_col17\" class=\"data row2 col17\" >0</td>\n",
              "                        <td id=\"T_4e3d8ae4_3a01_11eb_a21f_0242ac1c0002row2_col18\" class=\"data row2 col18\" >0</td>\n",
              "                        <td id=\"T_4e3d8ae4_3a01_11eb_a21f_0242ac1c0002row2_col19\" class=\"data row2 col19\" >0</td>\n",
              "                        <td id=\"T_4e3d8ae4_3a01_11eb_a21f_0242ac1c0002row2_col20\" class=\"data row2 col20\" >0</td>\n",
              "                        <td id=\"T_4e3d8ae4_3a01_11eb_a21f_0242ac1c0002row2_col21\" class=\"data row2 col21\" >0</td>\n",
              "                        <td id=\"T_4e3d8ae4_3a01_11eb_a21f_0242ac1c0002row2_col22\" class=\"data row2 col22\" >0</td>\n",
              "            </tr>\n",
              "            <tr>\n",
              "                        <th id=\"T_4e3d8ae4_3a01_11eb_a21f_0242ac1c0002level0_row3\" class=\"row_heading level0 row3\" >3</th>\n",
              "                        <td id=\"T_4e3d8ae4_3a01_11eb_a21f_0242ac1c0002row3_col0\" class=\"data row3 col0\" >0</td>\n",
              "                        <td id=\"T_4e3d8ae4_3a01_11eb_a21f_0242ac1c0002row3_col1\" class=\"data row3 col1\" >93</td>\n",
              "                        <td id=\"T_4e3d8ae4_3a01_11eb_a21f_0242ac1c0002row3_col2\" class=\"data row3 col2\" >244</td>\n",
              "                        <td id=\"T_4e3d8ae4_3a01_11eb_a21f_0242ac1c0002row3_col3\" class=\"data row3 col3\" >249</td>\n",
              "                        <td id=\"T_4e3d8ae4_3a01_11eb_a21f_0242ac1c0002row3_col4\" class=\"data row3 col4\" >253</td>\n",
              "                        <td id=\"T_4e3d8ae4_3a01_11eb_a21f_0242ac1c0002row3_col5\" class=\"data row3 col5\" >187</td>\n",
              "                        <td id=\"T_4e3d8ae4_3a01_11eb_a21f_0242ac1c0002row3_col6\" class=\"data row3 col6\" >46</td>\n",
              "                        <td id=\"T_4e3d8ae4_3a01_11eb_a21f_0242ac1c0002row3_col7\" class=\"data row3 col7\" >10</td>\n",
              "                        <td id=\"T_4e3d8ae4_3a01_11eb_a21f_0242ac1c0002row3_col8\" class=\"data row3 col8\" >8</td>\n",
              "                        <td id=\"T_4e3d8ae4_3a01_11eb_a21f_0242ac1c0002row3_col9\" class=\"data row3 col9\" >4</td>\n",
              "                        <td id=\"T_4e3d8ae4_3a01_11eb_a21f_0242ac1c0002row3_col10\" class=\"data row3 col10\" >10</td>\n",
              "                        <td id=\"T_4e3d8ae4_3a01_11eb_a21f_0242ac1c0002row3_col11\" class=\"data row3 col11\" >194</td>\n",
              "                        <td id=\"T_4e3d8ae4_3a01_11eb_a21f_0242ac1c0002row3_col12\" class=\"data row3 col12\" >253</td>\n",
              "                        <td id=\"T_4e3d8ae4_3a01_11eb_a21f_0242ac1c0002row3_col13\" class=\"data row3 col13\" >253</td>\n",
              "                        <td id=\"T_4e3d8ae4_3a01_11eb_a21f_0242ac1c0002row3_col14\" class=\"data row3 col14\" >233</td>\n",
              "                        <td id=\"T_4e3d8ae4_3a01_11eb_a21f_0242ac1c0002row3_col15\" class=\"data row3 col15\" >0</td>\n",
              "                        <td id=\"T_4e3d8ae4_3a01_11eb_a21f_0242ac1c0002row3_col16\" class=\"data row3 col16\" >0</td>\n",
              "                        <td id=\"T_4e3d8ae4_3a01_11eb_a21f_0242ac1c0002row3_col17\" class=\"data row3 col17\" >0</td>\n",
              "                        <td id=\"T_4e3d8ae4_3a01_11eb_a21f_0242ac1c0002row3_col18\" class=\"data row3 col18\" >0</td>\n",
              "                        <td id=\"T_4e3d8ae4_3a01_11eb_a21f_0242ac1c0002row3_col19\" class=\"data row3 col19\" >0</td>\n",
              "                        <td id=\"T_4e3d8ae4_3a01_11eb_a21f_0242ac1c0002row3_col20\" class=\"data row3 col20\" >0</td>\n",
              "                        <td id=\"T_4e3d8ae4_3a01_11eb_a21f_0242ac1c0002row3_col21\" class=\"data row3 col21\" >0</td>\n",
              "                        <td id=\"T_4e3d8ae4_3a01_11eb_a21f_0242ac1c0002row3_col22\" class=\"data row3 col22\" >0</td>\n",
              "            </tr>\n",
              "            <tr>\n",
              "                        <th id=\"T_4e3d8ae4_3a01_11eb_a21f_0242ac1c0002level0_row4\" class=\"row_heading level0 row4\" >4</th>\n",
              "                        <td id=\"T_4e3d8ae4_3a01_11eb_a21f_0242ac1c0002row4_col0\" class=\"data row4 col0\" >0</td>\n",
              "                        <td id=\"T_4e3d8ae4_3a01_11eb_a21f_0242ac1c0002row4_col1\" class=\"data row4 col1\" >107</td>\n",
              "                        <td id=\"T_4e3d8ae4_3a01_11eb_a21f_0242ac1c0002row4_col2\" class=\"data row4 col2\" >253</td>\n",
              "                        <td id=\"T_4e3d8ae4_3a01_11eb_a21f_0242ac1c0002row4_col3\" class=\"data row4 col3\" >253</td>\n",
              "                        <td id=\"T_4e3d8ae4_3a01_11eb_a21f_0242ac1c0002row4_col4\" class=\"data row4 col4\" >230</td>\n",
              "                        <td id=\"T_4e3d8ae4_3a01_11eb_a21f_0242ac1c0002row4_col5\" class=\"data row4 col5\" >48</td>\n",
              "                        <td id=\"T_4e3d8ae4_3a01_11eb_a21f_0242ac1c0002row4_col6\" class=\"data row4 col6\" >0</td>\n",
              "                        <td id=\"T_4e3d8ae4_3a01_11eb_a21f_0242ac1c0002row4_col7\" class=\"data row4 col7\" >0</td>\n",
              "                        <td id=\"T_4e3d8ae4_3a01_11eb_a21f_0242ac1c0002row4_col8\" class=\"data row4 col8\" >0</td>\n",
              "                        <td id=\"T_4e3d8ae4_3a01_11eb_a21f_0242ac1c0002row4_col9\" class=\"data row4 col9\" >0</td>\n",
              "                        <td id=\"T_4e3d8ae4_3a01_11eb_a21f_0242ac1c0002row4_col10\" class=\"data row4 col10\" >0</td>\n",
              "                        <td id=\"T_4e3d8ae4_3a01_11eb_a21f_0242ac1c0002row4_col11\" class=\"data row4 col11\" >192</td>\n",
              "                        <td id=\"T_4e3d8ae4_3a01_11eb_a21f_0242ac1c0002row4_col12\" class=\"data row4 col12\" >253</td>\n",
              "                        <td id=\"T_4e3d8ae4_3a01_11eb_a21f_0242ac1c0002row4_col13\" class=\"data row4 col13\" >253</td>\n",
              "                        <td id=\"T_4e3d8ae4_3a01_11eb_a21f_0242ac1c0002row4_col14\" class=\"data row4 col14\" >156</td>\n",
              "                        <td id=\"T_4e3d8ae4_3a01_11eb_a21f_0242ac1c0002row4_col15\" class=\"data row4 col15\" >0</td>\n",
              "                        <td id=\"T_4e3d8ae4_3a01_11eb_a21f_0242ac1c0002row4_col16\" class=\"data row4 col16\" >0</td>\n",
              "                        <td id=\"T_4e3d8ae4_3a01_11eb_a21f_0242ac1c0002row4_col17\" class=\"data row4 col17\" >0</td>\n",
              "                        <td id=\"T_4e3d8ae4_3a01_11eb_a21f_0242ac1c0002row4_col18\" class=\"data row4 col18\" >0</td>\n",
              "                        <td id=\"T_4e3d8ae4_3a01_11eb_a21f_0242ac1c0002row4_col19\" class=\"data row4 col19\" >0</td>\n",
              "                        <td id=\"T_4e3d8ae4_3a01_11eb_a21f_0242ac1c0002row4_col20\" class=\"data row4 col20\" >0</td>\n",
              "                        <td id=\"T_4e3d8ae4_3a01_11eb_a21f_0242ac1c0002row4_col21\" class=\"data row4 col21\" >0</td>\n",
              "                        <td id=\"T_4e3d8ae4_3a01_11eb_a21f_0242ac1c0002row4_col22\" class=\"data row4 col22\" >0</td>\n",
              "            </tr>\n",
              "            <tr>\n",
              "                        <th id=\"T_4e3d8ae4_3a01_11eb_a21f_0242ac1c0002level0_row5\" class=\"row_heading level0 row5\" >5</th>\n",
              "                        <td id=\"T_4e3d8ae4_3a01_11eb_a21f_0242ac1c0002row5_col0\" class=\"data row5 col0\" >0</td>\n",
              "                        <td id=\"T_4e3d8ae4_3a01_11eb_a21f_0242ac1c0002row5_col1\" class=\"data row5 col1\" >3</td>\n",
              "                        <td id=\"T_4e3d8ae4_3a01_11eb_a21f_0242ac1c0002row5_col2\" class=\"data row5 col2\" >20</td>\n",
              "                        <td id=\"T_4e3d8ae4_3a01_11eb_a21f_0242ac1c0002row5_col3\" class=\"data row5 col3\" >20</td>\n",
              "                        <td id=\"T_4e3d8ae4_3a01_11eb_a21f_0242ac1c0002row5_col4\" class=\"data row5 col4\" >15</td>\n",
              "                        <td id=\"T_4e3d8ae4_3a01_11eb_a21f_0242ac1c0002row5_col5\" class=\"data row5 col5\" >0</td>\n",
              "                        <td id=\"T_4e3d8ae4_3a01_11eb_a21f_0242ac1c0002row5_col6\" class=\"data row5 col6\" >0</td>\n",
              "                        <td id=\"T_4e3d8ae4_3a01_11eb_a21f_0242ac1c0002row5_col7\" class=\"data row5 col7\" >0</td>\n",
              "                        <td id=\"T_4e3d8ae4_3a01_11eb_a21f_0242ac1c0002row5_col8\" class=\"data row5 col8\" >0</td>\n",
              "                        <td id=\"T_4e3d8ae4_3a01_11eb_a21f_0242ac1c0002row5_col9\" class=\"data row5 col9\" >0</td>\n",
              "                        <td id=\"T_4e3d8ae4_3a01_11eb_a21f_0242ac1c0002row5_col10\" class=\"data row5 col10\" >43</td>\n",
              "                        <td id=\"T_4e3d8ae4_3a01_11eb_a21f_0242ac1c0002row5_col11\" class=\"data row5 col11\" >224</td>\n",
              "                        <td id=\"T_4e3d8ae4_3a01_11eb_a21f_0242ac1c0002row5_col12\" class=\"data row5 col12\" >253</td>\n",
              "                        <td id=\"T_4e3d8ae4_3a01_11eb_a21f_0242ac1c0002row5_col13\" class=\"data row5 col13\" >245</td>\n",
              "                        <td id=\"T_4e3d8ae4_3a01_11eb_a21f_0242ac1c0002row5_col14\" class=\"data row5 col14\" >74</td>\n",
              "                        <td id=\"T_4e3d8ae4_3a01_11eb_a21f_0242ac1c0002row5_col15\" class=\"data row5 col15\" >0</td>\n",
              "                        <td id=\"T_4e3d8ae4_3a01_11eb_a21f_0242ac1c0002row5_col16\" class=\"data row5 col16\" >0</td>\n",
              "                        <td id=\"T_4e3d8ae4_3a01_11eb_a21f_0242ac1c0002row5_col17\" class=\"data row5 col17\" >0</td>\n",
              "                        <td id=\"T_4e3d8ae4_3a01_11eb_a21f_0242ac1c0002row5_col18\" class=\"data row5 col18\" >0</td>\n",
              "                        <td id=\"T_4e3d8ae4_3a01_11eb_a21f_0242ac1c0002row5_col19\" class=\"data row5 col19\" >0</td>\n",
              "                        <td id=\"T_4e3d8ae4_3a01_11eb_a21f_0242ac1c0002row5_col20\" class=\"data row5 col20\" >0</td>\n",
              "                        <td id=\"T_4e3d8ae4_3a01_11eb_a21f_0242ac1c0002row5_col21\" class=\"data row5 col21\" >0</td>\n",
              "                        <td id=\"T_4e3d8ae4_3a01_11eb_a21f_0242ac1c0002row5_col22\" class=\"data row5 col22\" >0</td>\n",
              "            </tr>\n",
              "            <tr>\n",
              "                        <th id=\"T_4e3d8ae4_3a01_11eb_a21f_0242ac1c0002level0_row6\" class=\"row_heading level0 row6\" >6</th>\n",
              "                        <td id=\"T_4e3d8ae4_3a01_11eb_a21f_0242ac1c0002row6_col0\" class=\"data row6 col0\" >0</td>\n",
              "                        <td id=\"T_4e3d8ae4_3a01_11eb_a21f_0242ac1c0002row6_col1\" class=\"data row6 col1\" >0</td>\n",
              "                        <td id=\"T_4e3d8ae4_3a01_11eb_a21f_0242ac1c0002row6_col2\" class=\"data row6 col2\" >0</td>\n",
              "                        <td id=\"T_4e3d8ae4_3a01_11eb_a21f_0242ac1c0002row6_col3\" class=\"data row6 col3\" >0</td>\n",
              "                        <td id=\"T_4e3d8ae4_3a01_11eb_a21f_0242ac1c0002row6_col4\" class=\"data row6 col4\" >0</td>\n",
              "                        <td id=\"T_4e3d8ae4_3a01_11eb_a21f_0242ac1c0002row6_col5\" class=\"data row6 col5\" >0</td>\n",
              "                        <td id=\"T_4e3d8ae4_3a01_11eb_a21f_0242ac1c0002row6_col6\" class=\"data row6 col6\" >0</td>\n",
              "                        <td id=\"T_4e3d8ae4_3a01_11eb_a21f_0242ac1c0002row6_col7\" class=\"data row6 col7\" >0</td>\n",
              "                        <td id=\"T_4e3d8ae4_3a01_11eb_a21f_0242ac1c0002row6_col8\" class=\"data row6 col8\" >0</td>\n",
              "                        <td id=\"T_4e3d8ae4_3a01_11eb_a21f_0242ac1c0002row6_col9\" class=\"data row6 col9\" >0</td>\n",
              "                        <td id=\"T_4e3d8ae4_3a01_11eb_a21f_0242ac1c0002row6_col10\" class=\"data row6 col10\" >249</td>\n",
              "                        <td id=\"T_4e3d8ae4_3a01_11eb_a21f_0242ac1c0002row6_col11\" class=\"data row6 col11\" >253</td>\n",
              "                        <td id=\"T_4e3d8ae4_3a01_11eb_a21f_0242ac1c0002row6_col12\" class=\"data row6 col12\" >245</td>\n",
              "                        <td id=\"T_4e3d8ae4_3a01_11eb_a21f_0242ac1c0002row6_col13\" class=\"data row6 col13\" >126</td>\n",
              "                        <td id=\"T_4e3d8ae4_3a01_11eb_a21f_0242ac1c0002row6_col14\" class=\"data row6 col14\" >0</td>\n",
              "                        <td id=\"T_4e3d8ae4_3a01_11eb_a21f_0242ac1c0002row6_col15\" class=\"data row6 col15\" >0</td>\n",
              "                        <td id=\"T_4e3d8ae4_3a01_11eb_a21f_0242ac1c0002row6_col16\" class=\"data row6 col16\" >0</td>\n",
              "                        <td id=\"T_4e3d8ae4_3a01_11eb_a21f_0242ac1c0002row6_col17\" class=\"data row6 col17\" >0</td>\n",
              "                        <td id=\"T_4e3d8ae4_3a01_11eb_a21f_0242ac1c0002row6_col18\" class=\"data row6 col18\" >0</td>\n",
              "                        <td id=\"T_4e3d8ae4_3a01_11eb_a21f_0242ac1c0002row6_col19\" class=\"data row6 col19\" >0</td>\n",
              "                        <td id=\"T_4e3d8ae4_3a01_11eb_a21f_0242ac1c0002row6_col20\" class=\"data row6 col20\" >0</td>\n",
              "                        <td id=\"T_4e3d8ae4_3a01_11eb_a21f_0242ac1c0002row6_col21\" class=\"data row6 col21\" >0</td>\n",
              "                        <td id=\"T_4e3d8ae4_3a01_11eb_a21f_0242ac1c0002row6_col22\" class=\"data row6 col22\" >0</td>\n",
              "            </tr>\n",
              "            <tr>\n",
              "                        <th id=\"T_4e3d8ae4_3a01_11eb_a21f_0242ac1c0002level0_row7\" class=\"row_heading level0 row7\" >7</th>\n",
              "                        <td id=\"T_4e3d8ae4_3a01_11eb_a21f_0242ac1c0002row7_col0\" class=\"data row7 col0\" >0</td>\n",
              "                        <td id=\"T_4e3d8ae4_3a01_11eb_a21f_0242ac1c0002row7_col1\" class=\"data row7 col1\" >0</td>\n",
              "                        <td id=\"T_4e3d8ae4_3a01_11eb_a21f_0242ac1c0002row7_col2\" class=\"data row7 col2\" >0</td>\n",
              "                        <td id=\"T_4e3d8ae4_3a01_11eb_a21f_0242ac1c0002row7_col3\" class=\"data row7 col3\" >0</td>\n",
              "                        <td id=\"T_4e3d8ae4_3a01_11eb_a21f_0242ac1c0002row7_col4\" class=\"data row7 col4\" >0</td>\n",
              "                        <td id=\"T_4e3d8ae4_3a01_11eb_a21f_0242ac1c0002row7_col5\" class=\"data row7 col5\" >0</td>\n",
              "                        <td id=\"T_4e3d8ae4_3a01_11eb_a21f_0242ac1c0002row7_col6\" class=\"data row7 col6\" >0</td>\n",
              "                        <td id=\"T_4e3d8ae4_3a01_11eb_a21f_0242ac1c0002row7_col7\" class=\"data row7 col7\" >14</td>\n",
              "                        <td id=\"T_4e3d8ae4_3a01_11eb_a21f_0242ac1c0002row7_col8\" class=\"data row7 col8\" >101</td>\n",
              "                        <td id=\"T_4e3d8ae4_3a01_11eb_a21f_0242ac1c0002row7_col9\" class=\"data row7 col9\" >223</td>\n",
              "                        <td id=\"T_4e3d8ae4_3a01_11eb_a21f_0242ac1c0002row7_col10\" class=\"data row7 col10\" >253</td>\n",
              "                        <td id=\"T_4e3d8ae4_3a01_11eb_a21f_0242ac1c0002row7_col11\" class=\"data row7 col11\" >248</td>\n",
              "                        <td id=\"T_4e3d8ae4_3a01_11eb_a21f_0242ac1c0002row7_col12\" class=\"data row7 col12\" >124</td>\n",
              "                        <td id=\"T_4e3d8ae4_3a01_11eb_a21f_0242ac1c0002row7_col13\" class=\"data row7 col13\" >0</td>\n",
              "                        <td id=\"T_4e3d8ae4_3a01_11eb_a21f_0242ac1c0002row7_col14\" class=\"data row7 col14\" >0</td>\n",
              "                        <td id=\"T_4e3d8ae4_3a01_11eb_a21f_0242ac1c0002row7_col15\" class=\"data row7 col15\" >0</td>\n",
              "                        <td id=\"T_4e3d8ae4_3a01_11eb_a21f_0242ac1c0002row7_col16\" class=\"data row7 col16\" >0</td>\n",
              "                        <td id=\"T_4e3d8ae4_3a01_11eb_a21f_0242ac1c0002row7_col17\" class=\"data row7 col17\" >0</td>\n",
              "                        <td id=\"T_4e3d8ae4_3a01_11eb_a21f_0242ac1c0002row7_col18\" class=\"data row7 col18\" >0</td>\n",
              "                        <td id=\"T_4e3d8ae4_3a01_11eb_a21f_0242ac1c0002row7_col19\" class=\"data row7 col19\" >0</td>\n",
              "                        <td id=\"T_4e3d8ae4_3a01_11eb_a21f_0242ac1c0002row7_col20\" class=\"data row7 col20\" >0</td>\n",
              "                        <td id=\"T_4e3d8ae4_3a01_11eb_a21f_0242ac1c0002row7_col21\" class=\"data row7 col21\" >0</td>\n",
              "                        <td id=\"T_4e3d8ae4_3a01_11eb_a21f_0242ac1c0002row7_col22\" class=\"data row7 col22\" >0</td>\n",
              "            </tr>\n",
              "            <tr>\n",
              "                        <th id=\"T_4e3d8ae4_3a01_11eb_a21f_0242ac1c0002level0_row8\" class=\"row_heading level0 row8\" >8</th>\n",
              "                        <td id=\"T_4e3d8ae4_3a01_11eb_a21f_0242ac1c0002row8_col0\" class=\"data row8 col0\" >0</td>\n",
              "                        <td id=\"T_4e3d8ae4_3a01_11eb_a21f_0242ac1c0002row8_col1\" class=\"data row8 col1\" >0</td>\n",
              "                        <td id=\"T_4e3d8ae4_3a01_11eb_a21f_0242ac1c0002row8_col2\" class=\"data row8 col2\" >0</td>\n",
              "                        <td id=\"T_4e3d8ae4_3a01_11eb_a21f_0242ac1c0002row8_col3\" class=\"data row8 col3\" >0</td>\n",
              "                        <td id=\"T_4e3d8ae4_3a01_11eb_a21f_0242ac1c0002row8_col4\" class=\"data row8 col4\" >0</td>\n",
              "                        <td id=\"T_4e3d8ae4_3a01_11eb_a21f_0242ac1c0002row8_col5\" class=\"data row8 col5\" >11</td>\n",
              "                        <td id=\"T_4e3d8ae4_3a01_11eb_a21f_0242ac1c0002row8_col6\" class=\"data row8 col6\" >166</td>\n",
              "                        <td id=\"T_4e3d8ae4_3a01_11eb_a21f_0242ac1c0002row8_col7\" class=\"data row8 col7\" >239</td>\n",
              "                        <td id=\"T_4e3d8ae4_3a01_11eb_a21f_0242ac1c0002row8_col8\" class=\"data row8 col8\" >253</td>\n",
              "                        <td id=\"T_4e3d8ae4_3a01_11eb_a21f_0242ac1c0002row8_col9\" class=\"data row8 col9\" >253</td>\n",
              "                        <td id=\"T_4e3d8ae4_3a01_11eb_a21f_0242ac1c0002row8_col10\" class=\"data row8 col10\" >253</td>\n",
              "                        <td id=\"T_4e3d8ae4_3a01_11eb_a21f_0242ac1c0002row8_col11\" class=\"data row8 col11\" >187</td>\n",
              "                        <td id=\"T_4e3d8ae4_3a01_11eb_a21f_0242ac1c0002row8_col12\" class=\"data row8 col12\" >30</td>\n",
              "                        <td id=\"T_4e3d8ae4_3a01_11eb_a21f_0242ac1c0002row8_col13\" class=\"data row8 col13\" >0</td>\n",
              "                        <td id=\"T_4e3d8ae4_3a01_11eb_a21f_0242ac1c0002row8_col14\" class=\"data row8 col14\" >0</td>\n",
              "                        <td id=\"T_4e3d8ae4_3a01_11eb_a21f_0242ac1c0002row8_col15\" class=\"data row8 col15\" >0</td>\n",
              "                        <td id=\"T_4e3d8ae4_3a01_11eb_a21f_0242ac1c0002row8_col16\" class=\"data row8 col16\" >0</td>\n",
              "                        <td id=\"T_4e3d8ae4_3a01_11eb_a21f_0242ac1c0002row8_col17\" class=\"data row8 col17\" >0</td>\n",
              "                        <td id=\"T_4e3d8ae4_3a01_11eb_a21f_0242ac1c0002row8_col18\" class=\"data row8 col18\" >0</td>\n",
              "                        <td id=\"T_4e3d8ae4_3a01_11eb_a21f_0242ac1c0002row8_col19\" class=\"data row8 col19\" >0</td>\n",
              "                        <td id=\"T_4e3d8ae4_3a01_11eb_a21f_0242ac1c0002row8_col20\" class=\"data row8 col20\" >0</td>\n",
              "                        <td id=\"T_4e3d8ae4_3a01_11eb_a21f_0242ac1c0002row8_col21\" class=\"data row8 col21\" >0</td>\n",
              "                        <td id=\"T_4e3d8ae4_3a01_11eb_a21f_0242ac1c0002row8_col22\" class=\"data row8 col22\" >0</td>\n",
              "            </tr>\n",
              "            <tr>\n",
              "                        <th id=\"T_4e3d8ae4_3a01_11eb_a21f_0242ac1c0002level0_row9\" class=\"row_heading level0 row9\" >9</th>\n",
              "                        <td id=\"T_4e3d8ae4_3a01_11eb_a21f_0242ac1c0002row9_col0\" class=\"data row9 col0\" >0</td>\n",
              "                        <td id=\"T_4e3d8ae4_3a01_11eb_a21f_0242ac1c0002row9_col1\" class=\"data row9 col1\" >0</td>\n",
              "                        <td id=\"T_4e3d8ae4_3a01_11eb_a21f_0242ac1c0002row9_col2\" class=\"data row9 col2\" >0</td>\n",
              "                        <td id=\"T_4e3d8ae4_3a01_11eb_a21f_0242ac1c0002row9_col3\" class=\"data row9 col3\" >0</td>\n",
              "                        <td id=\"T_4e3d8ae4_3a01_11eb_a21f_0242ac1c0002row9_col4\" class=\"data row9 col4\" >0</td>\n",
              "                        <td id=\"T_4e3d8ae4_3a01_11eb_a21f_0242ac1c0002row9_col5\" class=\"data row9 col5\" >16</td>\n",
              "                        <td id=\"T_4e3d8ae4_3a01_11eb_a21f_0242ac1c0002row9_col6\" class=\"data row9 col6\" >248</td>\n",
              "                        <td id=\"T_4e3d8ae4_3a01_11eb_a21f_0242ac1c0002row9_col7\" class=\"data row9 col7\" >250</td>\n",
              "                        <td id=\"T_4e3d8ae4_3a01_11eb_a21f_0242ac1c0002row9_col8\" class=\"data row9 col8\" >253</td>\n",
              "                        <td id=\"T_4e3d8ae4_3a01_11eb_a21f_0242ac1c0002row9_col9\" class=\"data row9 col9\" >253</td>\n",
              "                        <td id=\"T_4e3d8ae4_3a01_11eb_a21f_0242ac1c0002row9_col10\" class=\"data row9 col10\" >253</td>\n",
              "                        <td id=\"T_4e3d8ae4_3a01_11eb_a21f_0242ac1c0002row9_col11\" class=\"data row9 col11\" >253</td>\n",
              "                        <td id=\"T_4e3d8ae4_3a01_11eb_a21f_0242ac1c0002row9_col12\" class=\"data row9 col12\" >232</td>\n",
              "                        <td id=\"T_4e3d8ae4_3a01_11eb_a21f_0242ac1c0002row9_col13\" class=\"data row9 col13\" >213</td>\n",
              "                        <td id=\"T_4e3d8ae4_3a01_11eb_a21f_0242ac1c0002row9_col14\" class=\"data row9 col14\" >111</td>\n",
              "                        <td id=\"T_4e3d8ae4_3a01_11eb_a21f_0242ac1c0002row9_col15\" class=\"data row9 col15\" >2</td>\n",
              "                        <td id=\"T_4e3d8ae4_3a01_11eb_a21f_0242ac1c0002row9_col16\" class=\"data row9 col16\" >0</td>\n",
              "                        <td id=\"T_4e3d8ae4_3a01_11eb_a21f_0242ac1c0002row9_col17\" class=\"data row9 col17\" >0</td>\n",
              "                        <td id=\"T_4e3d8ae4_3a01_11eb_a21f_0242ac1c0002row9_col18\" class=\"data row9 col18\" >0</td>\n",
              "                        <td id=\"T_4e3d8ae4_3a01_11eb_a21f_0242ac1c0002row9_col19\" class=\"data row9 col19\" >0</td>\n",
              "                        <td id=\"T_4e3d8ae4_3a01_11eb_a21f_0242ac1c0002row9_col20\" class=\"data row9 col20\" >0</td>\n",
              "                        <td id=\"T_4e3d8ae4_3a01_11eb_a21f_0242ac1c0002row9_col21\" class=\"data row9 col21\" >0</td>\n",
              "                        <td id=\"T_4e3d8ae4_3a01_11eb_a21f_0242ac1c0002row9_col22\" class=\"data row9 col22\" >0</td>\n",
              "            </tr>\n",
              "            <tr>\n",
              "                        <th id=\"T_4e3d8ae4_3a01_11eb_a21f_0242ac1c0002level0_row10\" class=\"row_heading level0 row10\" >10</th>\n",
              "                        <td id=\"T_4e3d8ae4_3a01_11eb_a21f_0242ac1c0002row10_col0\" class=\"data row10 col0\" >0</td>\n",
              "                        <td id=\"T_4e3d8ae4_3a01_11eb_a21f_0242ac1c0002row10_col1\" class=\"data row10 col1\" >0</td>\n",
              "                        <td id=\"T_4e3d8ae4_3a01_11eb_a21f_0242ac1c0002row10_col2\" class=\"data row10 col2\" >0</td>\n",
              "                        <td id=\"T_4e3d8ae4_3a01_11eb_a21f_0242ac1c0002row10_col3\" class=\"data row10 col3\" >0</td>\n",
              "                        <td id=\"T_4e3d8ae4_3a01_11eb_a21f_0242ac1c0002row10_col4\" class=\"data row10 col4\" >0</td>\n",
              "                        <td id=\"T_4e3d8ae4_3a01_11eb_a21f_0242ac1c0002row10_col5\" class=\"data row10 col5\" >0</td>\n",
              "                        <td id=\"T_4e3d8ae4_3a01_11eb_a21f_0242ac1c0002row10_col6\" class=\"data row10 col6\" >0</td>\n",
              "                        <td id=\"T_4e3d8ae4_3a01_11eb_a21f_0242ac1c0002row10_col7\" class=\"data row10 col7\" >43</td>\n",
              "                        <td id=\"T_4e3d8ae4_3a01_11eb_a21f_0242ac1c0002row10_col8\" class=\"data row10 col8\" >98</td>\n",
              "                        <td id=\"T_4e3d8ae4_3a01_11eb_a21f_0242ac1c0002row10_col9\" class=\"data row10 col9\" >98</td>\n",
              "                        <td id=\"T_4e3d8ae4_3a01_11eb_a21f_0242ac1c0002row10_col10\" class=\"data row10 col10\" >208</td>\n",
              "                        <td id=\"T_4e3d8ae4_3a01_11eb_a21f_0242ac1c0002row10_col11\" class=\"data row10 col11\" >253</td>\n",
              "                        <td id=\"T_4e3d8ae4_3a01_11eb_a21f_0242ac1c0002row10_col12\" class=\"data row10 col12\" >253</td>\n",
              "                        <td id=\"T_4e3d8ae4_3a01_11eb_a21f_0242ac1c0002row10_col13\" class=\"data row10 col13\" >253</td>\n",
              "                        <td id=\"T_4e3d8ae4_3a01_11eb_a21f_0242ac1c0002row10_col14\" class=\"data row10 col14\" >253</td>\n",
              "                        <td id=\"T_4e3d8ae4_3a01_11eb_a21f_0242ac1c0002row10_col15\" class=\"data row10 col15\" >187</td>\n",
              "                        <td id=\"T_4e3d8ae4_3a01_11eb_a21f_0242ac1c0002row10_col16\" class=\"data row10 col16\" >22</td>\n",
              "                        <td id=\"T_4e3d8ae4_3a01_11eb_a21f_0242ac1c0002row10_col17\" class=\"data row10 col17\" >0</td>\n",
              "                        <td id=\"T_4e3d8ae4_3a01_11eb_a21f_0242ac1c0002row10_col18\" class=\"data row10 col18\" >0</td>\n",
              "                        <td id=\"T_4e3d8ae4_3a01_11eb_a21f_0242ac1c0002row10_col19\" class=\"data row10 col19\" >0</td>\n",
              "                        <td id=\"T_4e3d8ae4_3a01_11eb_a21f_0242ac1c0002row10_col20\" class=\"data row10 col20\" >0</td>\n",
              "                        <td id=\"T_4e3d8ae4_3a01_11eb_a21f_0242ac1c0002row10_col21\" class=\"data row10 col21\" >0</td>\n",
              "                        <td id=\"T_4e3d8ae4_3a01_11eb_a21f_0242ac1c0002row10_col22\" class=\"data row10 col22\" >0</td>\n",
              "            </tr>\n",
              "            <tr>\n",
              "                        <th id=\"T_4e3d8ae4_3a01_11eb_a21f_0242ac1c0002level0_row11\" class=\"row_heading level0 row11\" >11</th>\n",
              "                        <td id=\"T_4e3d8ae4_3a01_11eb_a21f_0242ac1c0002row11_col0\" class=\"data row11 col0\" >0</td>\n",
              "                        <td id=\"T_4e3d8ae4_3a01_11eb_a21f_0242ac1c0002row11_col1\" class=\"data row11 col1\" >0</td>\n",
              "                        <td id=\"T_4e3d8ae4_3a01_11eb_a21f_0242ac1c0002row11_col2\" class=\"data row11 col2\" >0</td>\n",
              "                        <td id=\"T_4e3d8ae4_3a01_11eb_a21f_0242ac1c0002row11_col3\" class=\"data row11 col3\" >0</td>\n",
              "                        <td id=\"T_4e3d8ae4_3a01_11eb_a21f_0242ac1c0002row11_col4\" class=\"data row11 col4\" >0</td>\n",
              "                        <td id=\"T_4e3d8ae4_3a01_11eb_a21f_0242ac1c0002row11_col5\" class=\"data row11 col5\" >0</td>\n",
              "                        <td id=\"T_4e3d8ae4_3a01_11eb_a21f_0242ac1c0002row11_col6\" class=\"data row11 col6\" >0</td>\n",
              "                        <td id=\"T_4e3d8ae4_3a01_11eb_a21f_0242ac1c0002row11_col7\" class=\"data row11 col7\" >0</td>\n",
              "                        <td id=\"T_4e3d8ae4_3a01_11eb_a21f_0242ac1c0002row11_col8\" class=\"data row11 col8\" >0</td>\n",
              "                        <td id=\"T_4e3d8ae4_3a01_11eb_a21f_0242ac1c0002row11_col9\" class=\"data row11 col9\" >0</td>\n",
              "                        <td id=\"T_4e3d8ae4_3a01_11eb_a21f_0242ac1c0002row11_col10\" class=\"data row11 col10\" >9</td>\n",
              "                        <td id=\"T_4e3d8ae4_3a01_11eb_a21f_0242ac1c0002row11_col11\" class=\"data row11 col11\" >51</td>\n",
              "                        <td id=\"T_4e3d8ae4_3a01_11eb_a21f_0242ac1c0002row11_col12\" class=\"data row11 col12\" >119</td>\n",
              "                        <td id=\"T_4e3d8ae4_3a01_11eb_a21f_0242ac1c0002row11_col13\" class=\"data row11 col13\" >253</td>\n",
              "                        <td id=\"T_4e3d8ae4_3a01_11eb_a21f_0242ac1c0002row11_col14\" class=\"data row11 col14\" >253</td>\n",
              "                        <td id=\"T_4e3d8ae4_3a01_11eb_a21f_0242ac1c0002row11_col15\" class=\"data row11 col15\" >253</td>\n",
              "                        <td id=\"T_4e3d8ae4_3a01_11eb_a21f_0242ac1c0002row11_col16\" class=\"data row11 col16\" >76</td>\n",
              "                        <td id=\"T_4e3d8ae4_3a01_11eb_a21f_0242ac1c0002row11_col17\" class=\"data row11 col17\" >0</td>\n",
              "                        <td id=\"T_4e3d8ae4_3a01_11eb_a21f_0242ac1c0002row11_col18\" class=\"data row11 col18\" >0</td>\n",
              "                        <td id=\"T_4e3d8ae4_3a01_11eb_a21f_0242ac1c0002row11_col19\" class=\"data row11 col19\" >0</td>\n",
              "                        <td id=\"T_4e3d8ae4_3a01_11eb_a21f_0242ac1c0002row11_col20\" class=\"data row11 col20\" >0</td>\n",
              "                        <td id=\"T_4e3d8ae4_3a01_11eb_a21f_0242ac1c0002row11_col21\" class=\"data row11 col21\" >0</td>\n",
              "                        <td id=\"T_4e3d8ae4_3a01_11eb_a21f_0242ac1c0002row11_col22\" class=\"data row11 col22\" >0</td>\n",
              "            </tr>\n",
              "            <tr>\n",
              "                        <th id=\"T_4e3d8ae4_3a01_11eb_a21f_0242ac1c0002level0_row12\" class=\"row_heading level0 row12\" >12</th>\n",
              "                        <td id=\"T_4e3d8ae4_3a01_11eb_a21f_0242ac1c0002row12_col0\" class=\"data row12 col0\" >0</td>\n",
              "                        <td id=\"T_4e3d8ae4_3a01_11eb_a21f_0242ac1c0002row12_col1\" class=\"data row12 col1\" >0</td>\n",
              "                        <td id=\"T_4e3d8ae4_3a01_11eb_a21f_0242ac1c0002row12_col2\" class=\"data row12 col2\" >0</td>\n",
              "                        <td id=\"T_4e3d8ae4_3a01_11eb_a21f_0242ac1c0002row12_col3\" class=\"data row12 col3\" >0</td>\n",
              "                        <td id=\"T_4e3d8ae4_3a01_11eb_a21f_0242ac1c0002row12_col4\" class=\"data row12 col4\" >0</td>\n",
              "                        <td id=\"T_4e3d8ae4_3a01_11eb_a21f_0242ac1c0002row12_col5\" class=\"data row12 col5\" >0</td>\n",
              "                        <td id=\"T_4e3d8ae4_3a01_11eb_a21f_0242ac1c0002row12_col6\" class=\"data row12 col6\" >0</td>\n",
              "                        <td id=\"T_4e3d8ae4_3a01_11eb_a21f_0242ac1c0002row12_col7\" class=\"data row12 col7\" >0</td>\n",
              "                        <td id=\"T_4e3d8ae4_3a01_11eb_a21f_0242ac1c0002row12_col8\" class=\"data row12 col8\" >0</td>\n",
              "                        <td id=\"T_4e3d8ae4_3a01_11eb_a21f_0242ac1c0002row12_col9\" class=\"data row12 col9\" >0</td>\n",
              "                        <td id=\"T_4e3d8ae4_3a01_11eb_a21f_0242ac1c0002row12_col10\" class=\"data row12 col10\" >0</td>\n",
              "                        <td id=\"T_4e3d8ae4_3a01_11eb_a21f_0242ac1c0002row12_col11\" class=\"data row12 col11\" >0</td>\n",
              "                        <td id=\"T_4e3d8ae4_3a01_11eb_a21f_0242ac1c0002row12_col12\" class=\"data row12 col12\" >1</td>\n",
              "                        <td id=\"T_4e3d8ae4_3a01_11eb_a21f_0242ac1c0002row12_col13\" class=\"data row12 col13\" >183</td>\n",
              "                        <td id=\"T_4e3d8ae4_3a01_11eb_a21f_0242ac1c0002row12_col14\" class=\"data row12 col14\" >253</td>\n",
              "                        <td id=\"T_4e3d8ae4_3a01_11eb_a21f_0242ac1c0002row12_col15\" class=\"data row12 col15\" >253</td>\n",
              "                        <td id=\"T_4e3d8ae4_3a01_11eb_a21f_0242ac1c0002row12_col16\" class=\"data row12 col16\" >139</td>\n",
              "                        <td id=\"T_4e3d8ae4_3a01_11eb_a21f_0242ac1c0002row12_col17\" class=\"data row12 col17\" >0</td>\n",
              "                        <td id=\"T_4e3d8ae4_3a01_11eb_a21f_0242ac1c0002row12_col18\" class=\"data row12 col18\" >0</td>\n",
              "                        <td id=\"T_4e3d8ae4_3a01_11eb_a21f_0242ac1c0002row12_col19\" class=\"data row12 col19\" >0</td>\n",
              "                        <td id=\"T_4e3d8ae4_3a01_11eb_a21f_0242ac1c0002row12_col20\" class=\"data row12 col20\" >0</td>\n",
              "                        <td id=\"T_4e3d8ae4_3a01_11eb_a21f_0242ac1c0002row12_col21\" class=\"data row12 col21\" >0</td>\n",
              "                        <td id=\"T_4e3d8ae4_3a01_11eb_a21f_0242ac1c0002row12_col22\" class=\"data row12 col22\" >0</td>\n",
              "            </tr>\n",
              "            <tr>\n",
              "                        <th id=\"T_4e3d8ae4_3a01_11eb_a21f_0242ac1c0002level0_row13\" class=\"row_heading level0 row13\" >13</th>\n",
              "                        <td id=\"T_4e3d8ae4_3a01_11eb_a21f_0242ac1c0002row13_col0\" class=\"data row13 col0\" >0</td>\n",
              "                        <td id=\"T_4e3d8ae4_3a01_11eb_a21f_0242ac1c0002row13_col1\" class=\"data row13 col1\" >0</td>\n",
              "                        <td id=\"T_4e3d8ae4_3a01_11eb_a21f_0242ac1c0002row13_col2\" class=\"data row13 col2\" >0</td>\n",
              "                        <td id=\"T_4e3d8ae4_3a01_11eb_a21f_0242ac1c0002row13_col3\" class=\"data row13 col3\" >0</td>\n",
              "                        <td id=\"T_4e3d8ae4_3a01_11eb_a21f_0242ac1c0002row13_col4\" class=\"data row13 col4\" >0</td>\n",
              "                        <td id=\"T_4e3d8ae4_3a01_11eb_a21f_0242ac1c0002row13_col5\" class=\"data row13 col5\" >0</td>\n",
              "                        <td id=\"T_4e3d8ae4_3a01_11eb_a21f_0242ac1c0002row13_col6\" class=\"data row13 col6\" >0</td>\n",
              "                        <td id=\"T_4e3d8ae4_3a01_11eb_a21f_0242ac1c0002row13_col7\" class=\"data row13 col7\" >0</td>\n",
              "                        <td id=\"T_4e3d8ae4_3a01_11eb_a21f_0242ac1c0002row13_col8\" class=\"data row13 col8\" >0</td>\n",
              "                        <td id=\"T_4e3d8ae4_3a01_11eb_a21f_0242ac1c0002row13_col9\" class=\"data row13 col9\" >0</td>\n",
              "                        <td id=\"T_4e3d8ae4_3a01_11eb_a21f_0242ac1c0002row13_col10\" class=\"data row13 col10\" >0</td>\n",
              "                        <td id=\"T_4e3d8ae4_3a01_11eb_a21f_0242ac1c0002row13_col11\" class=\"data row13 col11\" >0</td>\n",
              "                        <td id=\"T_4e3d8ae4_3a01_11eb_a21f_0242ac1c0002row13_col12\" class=\"data row13 col12\" >0</td>\n",
              "                        <td id=\"T_4e3d8ae4_3a01_11eb_a21f_0242ac1c0002row13_col13\" class=\"data row13 col13\" >182</td>\n",
              "                        <td id=\"T_4e3d8ae4_3a01_11eb_a21f_0242ac1c0002row13_col14\" class=\"data row13 col14\" >253</td>\n",
              "                        <td id=\"T_4e3d8ae4_3a01_11eb_a21f_0242ac1c0002row13_col15\" class=\"data row13 col15\" >253</td>\n",
              "                        <td id=\"T_4e3d8ae4_3a01_11eb_a21f_0242ac1c0002row13_col16\" class=\"data row13 col16\" >104</td>\n",
              "                        <td id=\"T_4e3d8ae4_3a01_11eb_a21f_0242ac1c0002row13_col17\" class=\"data row13 col17\" >0</td>\n",
              "                        <td id=\"T_4e3d8ae4_3a01_11eb_a21f_0242ac1c0002row13_col18\" class=\"data row13 col18\" >0</td>\n",
              "                        <td id=\"T_4e3d8ae4_3a01_11eb_a21f_0242ac1c0002row13_col19\" class=\"data row13 col19\" >0</td>\n",
              "                        <td id=\"T_4e3d8ae4_3a01_11eb_a21f_0242ac1c0002row13_col20\" class=\"data row13 col20\" >0</td>\n",
              "                        <td id=\"T_4e3d8ae4_3a01_11eb_a21f_0242ac1c0002row13_col21\" class=\"data row13 col21\" >0</td>\n",
              "                        <td id=\"T_4e3d8ae4_3a01_11eb_a21f_0242ac1c0002row13_col22\" class=\"data row13 col22\" >0</td>\n",
              "            </tr>\n",
              "            <tr>\n",
              "                        <th id=\"T_4e3d8ae4_3a01_11eb_a21f_0242ac1c0002level0_row14\" class=\"row_heading level0 row14\" >14</th>\n",
              "                        <td id=\"T_4e3d8ae4_3a01_11eb_a21f_0242ac1c0002row14_col0\" class=\"data row14 col0\" >0</td>\n",
              "                        <td id=\"T_4e3d8ae4_3a01_11eb_a21f_0242ac1c0002row14_col1\" class=\"data row14 col1\" >0</td>\n",
              "                        <td id=\"T_4e3d8ae4_3a01_11eb_a21f_0242ac1c0002row14_col2\" class=\"data row14 col2\" >0</td>\n",
              "                        <td id=\"T_4e3d8ae4_3a01_11eb_a21f_0242ac1c0002row14_col3\" class=\"data row14 col3\" >0</td>\n",
              "                        <td id=\"T_4e3d8ae4_3a01_11eb_a21f_0242ac1c0002row14_col4\" class=\"data row14 col4\" >0</td>\n",
              "                        <td id=\"T_4e3d8ae4_3a01_11eb_a21f_0242ac1c0002row14_col5\" class=\"data row14 col5\" >0</td>\n",
              "                        <td id=\"T_4e3d8ae4_3a01_11eb_a21f_0242ac1c0002row14_col6\" class=\"data row14 col6\" >0</td>\n",
              "                        <td id=\"T_4e3d8ae4_3a01_11eb_a21f_0242ac1c0002row14_col7\" class=\"data row14 col7\" >0</td>\n",
              "                        <td id=\"T_4e3d8ae4_3a01_11eb_a21f_0242ac1c0002row14_col8\" class=\"data row14 col8\" >0</td>\n",
              "                        <td id=\"T_4e3d8ae4_3a01_11eb_a21f_0242ac1c0002row14_col9\" class=\"data row14 col9\" >0</td>\n",
              "                        <td id=\"T_4e3d8ae4_3a01_11eb_a21f_0242ac1c0002row14_col10\" class=\"data row14 col10\" >0</td>\n",
              "                        <td id=\"T_4e3d8ae4_3a01_11eb_a21f_0242ac1c0002row14_col11\" class=\"data row14 col11\" >0</td>\n",
              "                        <td id=\"T_4e3d8ae4_3a01_11eb_a21f_0242ac1c0002row14_col12\" class=\"data row14 col12\" >85</td>\n",
              "                        <td id=\"T_4e3d8ae4_3a01_11eb_a21f_0242ac1c0002row14_col13\" class=\"data row14 col13\" >249</td>\n",
              "                        <td id=\"T_4e3d8ae4_3a01_11eb_a21f_0242ac1c0002row14_col14\" class=\"data row14 col14\" >253</td>\n",
              "                        <td id=\"T_4e3d8ae4_3a01_11eb_a21f_0242ac1c0002row14_col15\" class=\"data row14 col15\" >253</td>\n",
              "                        <td id=\"T_4e3d8ae4_3a01_11eb_a21f_0242ac1c0002row14_col16\" class=\"data row14 col16\" >36</td>\n",
              "                        <td id=\"T_4e3d8ae4_3a01_11eb_a21f_0242ac1c0002row14_col17\" class=\"data row14 col17\" >0</td>\n",
              "                        <td id=\"T_4e3d8ae4_3a01_11eb_a21f_0242ac1c0002row14_col18\" class=\"data row14 col18\" >0</td>\n",
              "                        <td id=\"T_4e3d8ae4_3a01_11eb_a21f_0242ac1c0002row14_col19\" class=\"data row14 col19\" >0</td>\n",
              "                        <td id=\"T_4e3d8ae4_3a01_11eb_a21f_0242ac1c0002row14_col20\" class=\"data row14 col20\" >0</td>\n",
              "                        <td id=\"T_4e3d8ae4_3a01_11eb_a21f_0242ac1c0002row14_col21\" class=\"data row14 col21\" >0</td>\n",
              "                        <td id=\"T_4e3d8ae4_3a01_11eb_a21f_0242ac1c0002row14_col22\" class=\"data row14 col22\" >0</td>\n",
              "            </tr>\n",
              "            <tr>\n",
              "                        <th id=\"T_4e3d8ae4_3a01_11eb_a21f_0242ac1c0002level0_row15\" class=\"row_heading level0 row15\" >15</th>\n",
              "                        <td id=\"T_4e3d8ae4_3a01_11eb_a21f_0242ac1c0002row15_col0\" class=\"data row15 col0\" >0</td>\n",
              "                        <td id=\"T_4e3d8ae4_3a01_11eb_a21f_0242ac1c0002row15_col1\" class=\"data row15 col1\" >0</td>\n",
              "                        <td id=\"T_4e3d8ae4_3a01_11eb_a21f_0242ac1c0002row15_col2\" class=\"data row15 col2\" >0</td>\n",
              "                        <td id=\"T_4e3d8ae4_3a01_11eb_a21f_0242ac1c0002row15_col3\" class=\"data row15 col3\" >0</td>\n",
              "                        <td id=\"T_4e3d8ae4_3a01_11eb_a21f_0242ac1c0002row15_col4\" class=\"data row15 col4\" >0</td>\n",
              "                        <td id=\"T_4e3d8ae4_3a01_11eb_a21f_0242ac1c0002row15_col5\" class=\"data row15 col5\" >0</td>\n",
              "                        <td id=\"T_4e3d8ae4_3a01_11eb_a21f_0242ac1c0002row15_col6\" class=\"data row15 col6\" >0</td>\n",
              "                        <td id=\"T_4e3d8ae4_3a01_11eb_a21f_0242ac1c0002row15_col7\" class=\"data row15 col7\" >0</td>\n",
              "                        <td id=\"T_4e3d8ae4_3a01_11eb_a21f_0242ac1c0002row15_col8\" class=\"data row15 col8\" >0</td>\n",
              "                        <td id=\"T_4e3d8ae4_3a01_11eb_a21f_0242ac1c0002row15_col9\" class=\"data row15 col9\" >0</td>\n",
              "                        <td id=\"T_4e3d8ae4_3a01_11eb_a21f_0242ac1c0002row15_col10\" class=\"data row15 col10\" >0</td>\n",
              "                        <td id=\"T_4e3d8ae4_3a01_11eb_a21f_0242ac1c0002row15_col11\" class=\"data row15 col11\" >60</td>\n",
              "                        <td id=\"T_4e3d8ae4_3a01_11eb_a21f_0242ac1c0002row15_col12\" class=\"data row15 col12\" >214</td>\n",
              "                        <td id=\"T_4e3d8ae4_3a01_11eb_a21f_0242ac1c0002row15_col13\" class=\"data row15 col13\" >253</td>\n",
              "                        <td id=\"T_4e3d8ae4_3a01_11eb_a21f_0242ac1c0002row15_col14\" class=\"data row15 col14\" >253</td>\n",
              "                        <td id=\"T_4e3d8ae4_3a01_11eb_a21f_0242ac1c0002row15_col15\" class=\"data row15 col15\" >173</td>\n",
              "                        <td id=\"T_4e3d8ae4_3a01_11eb_a21f_0242ac1c0002row15_col16\" class=\"data row15 col16\" >11</td>\n",
              "                        <td id=\"T_4e3d8ae4_3a01_11eb_a21f_0242ac1c0002row15_col17\" class=\"data row15 col17\" >0</td>\n",
              "                        <td id=\"T_4e3d8ae4_3a01_11eb_a21f_0242ac1c0002row15_col18\" class=\"data row15 col18\" >0</td>\n",
              "                        <td id=\"T_4e3d8ae4_3a01_11eb_a21f_0242ac1c0002row15_col19\" class=\"data row15 col19\" >0</td>\n",
              "                        <td id=\"T_4e3d8ae4_3a01_11eb_a21f_0242ac1c0002row15_col20\" class=\"data row15 col20\" >0</td>\n",
              "                        <td id=\"T_4e3d8ae4_3a01_11eb_a21f_0242ac1c0002row15_col21\" class=\"data row15 col21\" >0</td>\n",
              "                        <td id=\"T_4e3d8ae4_3a01_11eb_a21f_0242ac1c0002row15_col22\" class=\"data row15 col22\" >0</td>\n",
              "            </tr>\n",
              "            <tr>\n",
              "                        <th id=\"T_4e3d8ae4_3a01_11eb_a21f_0242ac1c0002level0_row16\" class=\"row_heading level0 row16\" >16</th>\n",
              "                        <td id=\"T_4e3d8ae4_3a01_11eb_a21f_0242ac1c0002row16_col0\" class=\"data row16 col0\" >0</td>\n",
              "                        <td id=\"T_4e3d8ae4_3a01_11eb_a21f_0242ac1c0002row16_col1\" class=\"data row16 col1\" >0</td>\n",
              "                        <td id=\"T_4e3d8ae4_3a01_11eb_a21f_0242ac1c0002row16_col2\" class=\"data row16 col2\" >0</td>\n",
              "                        <td id=\"T_4e3d8ae4_3a01_11eb_a21f_0242ac1c0002row16_col3\" class=\"data row16 col3\" >0</td>\n",
              "                        <td id=\"T_4e3d8ae4_3a01_11eb_a21f_0242ac1c0002row16_col4\" class=\"data row16 col4\" >0</td>\n",
              "                        <td id=\"T_4e3d8ae4_3a01_11eb_a21f_0242ac1c0002row16_col5\" class=\"data row16 col5\" >0</td>\n",
              "                        <td id=\"T_4e3d8ae4_3a01_11eb_a21f_0242ac1c0002row16_col6\" class=\"data row16 col6\" >0</td>\n",
              "                        <td id=\"T_4e3d8ae4_3a01_11eb_a21f_0242ac1c0002row16_col7\" class=\"data row16 col7\" >0</td>\n",
              "                        <td id=\"T_4e3d8ae4_3a01_11eb_a21f_0242ac1c0002row16_col8\" class=\"data row16 col8\" >0</td>\n",
              "                        <td id=\"T_4e3d8ae4_3a01_11eb_a21f_0242ac1c0002row16_col9\" class=\"data row16 col9\" >0</td>\n",
              "                        <td id=\"T_4e3d8ae4_3a01_11eb_a21f_0242ac1c0002row16_col10\" class=\"data row16 col10\" >98</td>\n",
              "                        <td id=\"T_4e3d8ae4_3a01_11eb_a21f_0242ac1c0002row16_col11\" class=\"data row16 col11\" >247</td>\n",
              "                        <td id=\"T_4e3d8ae4_3a01_11eb_a21f_0242ac1c0002row16_col12\" class=\"data row16 col12\" >253</td>\n",
              "                        <td id=\"T_4e3d8ae4_3a01_11eb_a21f_0242ac1c0002row16_col13\" class=\"data row16 col13\" >253</td>\n",
              "                        <td id=\"T_4e3d8ae4_3a01_11eb_a21f_0242ac1c0002row16_col14\" class=\"data row16 col14\" >226</td>\n",
              "                        <td id=\"T_4e3d8ae4_3a01_11eb_a21f_0242ac1c0002row16_col15\" class=\"data row16 col15\" >9</td>\n",
              "                        <td id=\"T_4e3d8ae4_3a01_11eb_a21f_0242ac1c0002row16_col16\" class=\"data row16 col16\" >0</td>\n",
              "                        <td id=\"T_4e3d8ae4_3a01_11eb_a21f_0242ac1c0002row16_col17\" class=\"data row16 col17\" >0</td>\n",
              "                        <td id=\"T_4e3d8ae4_3a01_11eb_a21f_0242ac1c0002row16_col18\" class=\"data row16 col18\" >0</td>\n",
              "                        <td id=\"T_4e3d8ae4_3a01_11eb_a21f_0242ac1c0002row16_col19\" class=\"data row16 col19\" >0</td>\n",
              "                        <td id=\"T_4e3d8ae4_3a01_11eb_a21f_0242ac1c0002row16_col20\" class=\"data row16 col20\" >0</td>\n",
              "                        <td id=\"T_4e3d8ae4_3a01_11eb_a21f_0242ac1c0002row16_col21\" class=\"data row16 col21\" >0</td>\n",
              "                        <td id=\"T_4e3d8ae4_3a01_11eb_a21f_0242ac1c0002row16_col22\" class=\"data row16 col22\" >0</td>\n",
              "            </tr>\n",
              "            <tr>\n",
              "                        <th id=\"T_4e3d8ae4_3a01_11eb_a21f_0242ac1c0002level0_row17\" class=\"row_heading level0 row17\" >17</th>\n",
              "                        <td id=\"T_4e3d8ae4_3a01_11eb_a21f_0242ac1c0002row17_col0\" class=\"data row17 col0\" >0</td>\n",
              "                        <td id=\"T_4e3d8ae4_3a01_11eb_a21f_0242ac1c0002row17_col1\" class=\"data row17 col1\" >0</td>\n",
              "                        <td id=\"T_4e3d8ae4_3a01_11eb_a21f_0242ac1c0002row17_col2\" class=\"data row17 col2\" >0</td>\n",
              "                        <td id=\"T_4e3d8ae4_3a01_11eb_a21f_0242ac1c0002row17_col3\" class=\"data row17 col3\" >0</td>\n",
              "                        <td id=\"T_4e3d8ae4_3a01_11eb_a21f_0242ac1c0002row17_col4\" class=\"data row17 col4\" >0</td>\n",
              "                        <td id=\"T_4e3d8ae4_3a01_11eb_a21f_0242ac1c0002row17_col5\" class=\"data row17 col5\" >0</td>\n",
              "                        <td id=\"T_4e3d8ae4_3a01_11eb_a21f_0242ac1c0002row17_col6\" class=\"data row17 col6\" >0</td>\n",
              "                        <td id=\"T_4e3d8ae4_3a01_11eb_a21f_0242ac1c0002row17_col7\" class=\"data row17 col7\" >0</td>\n",
              "                        <td id=\"T_4e3d8ae4_3a01_11eb_a21f_0242ac1c0002row17_col8\" class=\"data row17 col8\" >42</td>\n",
              "                        <td id=\"T_4e3d8ae4_3a01_11eb_a21f_0242ac1c0002row17_col9\" class=\"data row17 col9\" >150</td>\n",
              "                        <td id=\"T_4e3d8ae4_3a01_11eb_a21f_0242ac1c0002row17_col10\" class=\"data row17 col10\" >252</td>\n",
              "                        <td id=\"T_4e3d8ae4_3a01_11eb_a21f_0242ac1c0002row17_col11\" class=\"data row17 col11\" >253</td>\n",
              "                        <td id=\"T_4e3d8ae4_3a01_11eb_a21f_0242ac1c0002row17_col12\" class=\"data row17 col12\" >253</td>\n",
              "                        <td id=\"T_4e3d8ae4_3a01_11eb_a21f_0242ac1c0002row17_col13\" class=\"data row17 col13\" >233</td>\n",
              "                        <td id=\"T_4e3d8ae4_3a01_11eb_a21f_0242ac1c0002row17_col14\" class=\"data row17 col14\" >53</td>\n",
              "                        <td id=\"T_4e3d8ae4_3a01_11eb_a21f_0242ac1c0002row17_col15\" class=\"data row17 col15\" >0</td>\n",
              "                        <td id=\"T_4e3d8ae4_3a01_11eb_a21f_0242ac1c0002row17_col16\" class=\"data row17 col16\" >0</td>\n",
              "                        <td id=\"T_4e3d8ae4_3a01_11eb_a21f_0242ac1c0002row17_col17\" class=\"data row17 col17\" >0</td>\n",
              "                        <td id=\"T_4e3d8ae4_3a01_11eb_a21f_0242ac1c0002row17_col18\" class=\"data row17 col18\" >0</td>\n",
              "                        <td id=\"T_4e3d8ae4_3a01_11eb_a21f_0242ac1c0002row17_col19\" class=\"data row17 col19\" >0</td>\n",
              "                        <td id=\"T_4e3d8ae4_3a01_11eb_a21f_0242ac1c0002row17_col20\" class=\"data row17 col20\" >0</td>\n",
              "                        <td id=\"T_4e3d8ae4_3a01_11eb_a21f_0242ac1c0002row17_col21\" class=\"data row17 col21\" >0</td>\n",
              "                        <td id=\"T_4e3d8ae4_3a01_11eb_a21f_0242ac1c0002row17_col22\" class=\"data row17 col22\" >0</td>\n",
              "            </tr>\n",
              "            <tr>\n",
              "                        <th id=\"T_4e3d8ae4_3a01_11eb_a21f_0242ac1c0002level0_row18\" class=\"row_heading level0 row18\" >18</th>\n",
              "                        <td id=\"T_4e3d8ae4_3a01_11eb_a21f_0242ac1c0002row18_col0\" class=\"data row18 col0\" >0</td>\n",
              "                        <td id=\"T_4e3d8ae4_3a01_11eb_a21f_0242ac1c0002row18_col1\" class=\"data row18 col1\" >0</td>\n",
              "                        <td id=\"T_4e3d8ae4_3a01_11eb_a21f_0242ac1c0002row18_col2\" class=\"data row18 col2\" >42</td>\n",
              "                        <td id=\"T_4e3d8ae4_3a01_11eb_a21f_0242ac1c0002row18_col3\" class=\"data row18 col3\" >115</td>\n",
              "                        <td id=\"T_4e3d8ae4_3a01_11eb_a21f_0242ac1c0002row18_col4\" class=\"data row18 col4\" >42</td>\n",
              "                        <td id=\"T_4e3d8ae4_3a01_11eb_a21f_0242ac1c0002row18_col5\" class=\"data row18 col5\" >60</td>\n",
              "                        <td id=\"T_4e3d8ae4_3a01_11eb_a21f_0242ac1c0002row18_col6\" class=\"data row18 col6\" >115</td>\n",
              "                        <td id=\"T_4e3d8ae4_3a01_11eb_a21f_0242ac1c0002row18_col7\" class=\"data row18 col7\" >159</td>\n",
              "                        <td id=\"T_4e3d8ae4_3a01_11eb_a21f_0242ac1c0002row18_col8\" class=\"data row18 col8\" >240</td>\n",
              "                        <td id=\"T_4e3d8ae4_3a01_11eb_a21f_0242ac1c0002row18_col9\" class=\"data row18 col9\" >253</td>\n",
              "                        <td id=\"T_4e3d8ae4_3a01_11eb_a21f_0242ac1c0002row18_col10\" class=\"data row18 col10\" >253</td>\n",
              "                        <td id=\"T_4e3d8ae4_3a01_11eb_a21f_0242ac1c0002row18_col11\" class=\"data row18 col11\" >250</td>\n",
              "                        <td id=\"T_4e3d8ae4_3a01_11eb_a21f_0242ac1c0002row18_col12\" class=\"data row18 col12\" >175</td>\n",
              "                        <td id=\"T_4e3d8ae4_3a01_11eb_a21f_0242ac1c0002row18_col13\" class=\"data row18 col13\" >25</td>\n",
              "                        <td id=\"T_4e3d8ae4_3a01_11eb_a21f_0242ac1c0002row18_col14\" class=\"data row18 col14\" >0</td>\n",
              "                        <td id=\"T_4e3d8ae4_3a01_11eb_a21f_0242ac1c0002row18_col15\" class=\"data row18 col15\" >0</td>\n",
              "                        <td id=\"T_4e3d8ae4_3a01_11eb_a21f_0242ac1c0002row18_col16\" class=\"data row18 col16\" >0</td>\n",
              "                        <td id=\"T_4e3d8ae4_3a01_11eb_a21f_0242ac1c0002row18_col17\" class=\"data row18 col17\" >0</td>\n",
              "                        <td id=\"T_4e3d8ae4_3a01_11eb_a21f_0242ac1c0002row18_col18\" class=\"data row18 col18\" >0</td>\n",
              "                        <td id=\"T_4e3d8ae4_3a01_11eb_a21f_0242ac1c0002row18_col19\" class=\"data row18 col19\" >0</td>\n",
              "                        <td id=\"T_4e3d8ae4_3a01_11eb_a21f_0242ac1c0002row18_col20\" class=\"data row18 col20\" >0</td>\n",
              "                        <td id=\"T_4e3d8ae4_3a01_11eb_a21f_0242ac1c0002row18_col21\" class=\"data row18 col21\" >0</td>\n",
              "                        <td id=\"T_4e3d8ae4_3a01_11eb_a21f_0242ac1c0002row18_col22\" class=\"data row18 col22\" >0</td>\n",
              "            </tr>\n",
              "            <tr>\n",
              "                        <th id=\"T_4e3d8ae4_3a01_11eb_a21f_0242ac1c0002level0_row19\" class=\"row_heading level0 row19\" >19</th>\n",
              "                        <td id=\"T_4e3d8ae4_3a01_11eb_a21f_0242ac1c0002row19_col0\" class=\"data row19 col0\" >0</td>\n",
              "                        <td id=\"T_4e3d8ae4_3a01_11eb_a21f_0242ac1c0002row19_col1\" class=\"data row19 col1\" >0</td>\n",
              "                        <td id=\"T_4e3d8ae4_3a01_11eb_a21f_0242ac1c0002row19_col2\" class=\"data row19 col2\" >187</td>\n",
              "                        <td id=\"T_4e3d8ae4_3a01_11eb_a21f_0242ac1c0002row19_col3\" class=\"data row19 col3\" >253</td>\n",
              "                        <td id=\"T_4e3d8ae4_3a01_11eb_a21f_0242ac1c0002row19_col4\" class=\"data row19 col4\" >253</td>\n",
              "                        <td id=\"T_4e3d8ae4_3a01_11eb_a21f_0242ac1c0002row19_col5\" class=\"data row19 col5\" >253</td>\n",
              "                        <td id=\"T_4e3d8ae4_3a01_11eb_a21f_0242ac1c0002row19_col6\" class=\"data row19 col6\" >253</td>\n",
              "                        <td id=\"T_4e3d8ae4_3a01_11eb_a21f_0242ac1c0002row19_col7\" class=\"data row19 col7\" >253</td>\n",
              "                        <td id=\"T_4e3d8ae4_3a01_11eb_a21f_0242ac1c0002row19_col8\" class=\"data row19 col8\" >253</td>\n",
              "                        <td id=\"T_4e3d8ae4_3a01_11eb_a21f_0242ac1c0002row19_col9\" class=\"data row19 col9\" >253</td>\n",
              "                        <td id=\"T_4e3d8ae4_3a01_11eb_a21f_0242ac1c0002row19_col10\" class=\"data row19 col10\" >197</td>\n",
              "                        <td id=\"T_4e3d8ae4_3a01_11eb_a21f_0242ac1c0002row19_col11\" class=\"data row19 col11\" >86</td>\n",
              "                        <td id=\"T_4e3d8ae4_3a01_11eb_a21f_0242ac1c0002row19_col12\" class=\"data row19 col12\" >0</td>\n",
              "                        <td id=\"T_4e3d8ae4_3a01_11eb_a21f_0242ac1c0002row19_col13\" class=\"data row19 col13\" >0</td>\n",
              "                        <td id=\"T_4e3d8ae4_3a01_11eb_a21f_0242ac1c0002row19_col14\" class=\"data row19 col14\" >0</td>\n",
              "                        <td id=\"T_4e3d8ae4_3a01_11eb_a21f_0242ac1c0002row19_col15\" class=\"data row19 col15\" >0</td>\n",
              "                        <td id=\"T_4e3d8ae4_3a01_11eb_a21f_0242ac1c0002row19_col16\" class=\"data row19 col16\" >0</td>\n",
              "                        <td id=\"T_4e3d8ae4_3a01_11eb_a21f_0242ac1c0002row19_col17\" class=\"data row19 col17\" >0</td>\n",
              "                        <td id=\"T_4e3d8ae4_3a01_11eb_a21f_0242ac1c0002row19_col18\" class=\"data row19 col18\" >0</td>\n",
              "                        <td id=\"T_4e3d8ae4_3a01_11eb_a21f_0242ac1c0002row19_col19\" class=\"data row19 col19\" >0</td>\n",
              "                        <td id=\"T_4e3d8ae4_3a01_11eb_a21f_0242ac1c0002row19_col20\" class=\"data row19 col20\" >0</td>\n",
              "                        <td id=\"T_4e3d8ae4_3a01_11eb_a21f_0242ac1c0002row19_col21\" class=\"data row19 col21\" >0</td>\n",
              "                        <td id=\"T_4e3d8ae4_3a01_11eb_a21f_0242ac1c0002row19_col22\" class=\"data row19 col22\" >0</td>\n",
              "            </tr>\n",
              "            <tr>\n",
              "                        <th id=\"T_4e3d8ae4_3a01_11eb_a21f_0242ac1c0002level0_row20\" class=\"row_heading level0 row20\" >20</th>\n",
              "                        <td id=\"T_4e3d8ae4_3a01_11eb_a21f_0242ac1c0002row20_col0\" class=\"data row20 col0\" >0</td>\n",
              "                        <td id=\"T_4e3d8ae4_3a01_11eb_a21f_0242ac1c0002row20_col1\" class=\"data row20 col1\" >0</td>\n",
              "                        <td id=\"T_4e3d8ae4_3a01_11eb_a21f_0242ac1c0002row20_col2\" class=\"data row20 col2\" >103</td>\n",
              "                        <td id=\"T_4e3d8ae4_3a01_11eb_a21f_0242ac1c0002row20_col3\" class=\"data row20 col3\" >253</td>\n",
              "                        <td id=\"T_4e3d8ae4_3a01_11eb_a21f_0242ac1c0002row20_col4\" class=\"data row20 col4\" >253</td>\n",
              "                        <td id=\"T_4e3d8ae4_3a01_11eb_a21f_0242ac1c0002row20_col5\" class=\"data row20 col5\" >253</td>\n",
              "                        <td id=\"T_4e3d8ae4_3a01_11eb_a21f_0242ac1c0002row20_col6\" class=\"data row20 col6\" >253</td>\n",
              "                        <td id=\"T_4e3d8ae4_3a01_11eb_a21f_0242ac1c0002row20_col7\" class=\"data row20 col7\" >253</td>\n",
              "                        <td id=\"T_4e3d8ae4_3a01_11eb_a21f_0242ac1c0002row20_col8\" class=\"data row20 col8\" >232</td>\n",
              "                        <td id=\"T_4e3d8ae4_3a01_11eb_a21f_0242ac1c0002row20_col9\" class=\"data row20 col9\" >67</td>\n",
              "                        <td id=\"T_4e3d8ae4_3a01_11eb_a21f_0242ac1c0002row20_col10\" class=\"data row20 col10\" >1</td>\n",
              "                        <td id=\"T_4e3d8ae4_3a01_11eb_a21f_0242ac1c0002row20_col11\" class=\"data row20 col11\" >0</td>\n",
              "                        <td id=\"T_4e3d8ae4_3a01_11eb_a21f_0242ac1c0002row20_col12\" class=\"data row20 col12\" >0</td>\n",
              "                        <td id=\"T_4e3d8ae4_3a01_11eb_a21f_0242ac1c0002row20_col13\" class=\"data row20 col13\" >0</td>\n",
              "                        <td id=\"T_4e3d8ae4_3a01_11eb_a21f_0242ac1c0002row20_col14\" class=\"data row20 col14\" >0</td>\n",
              "                        <td id=\"T_4e3d8ae4_3a01_11eb_a21f_0242ac1c0002row20_col15\" class=\"data row20 col15\" >0</td>\n",
              "                        <td id=\"T_4e3d8ae4_3a01_11eb_a21f_0242ac1c0002row20_col16\" class=\"data row20 col16\" >0</td>\n",
              "                        <td id=\"T_4e3d8ae4_3a01_11eb_a21f_0242ac1c0002row20_col17\" class=\"data row20 col17\" >0</td>\n",
              "                        <td id=\"T_4e3d8ae4_3a01_11eb_a21f_0242ac1c0002row20_col18\" class=\"data row20 col18\" >0</td>\n",
              "                        <td id=\"T_4e3d8ae4_3a01_11eb_a21f_0242ac1c0002row20_col19\" class=\"data row20 col19\" >0</td>\n",
              "                        <td id=\"T_4e3d8ae4_3a01_11eb_a21f_0242ac1c0002row20_col20\" class=\"data row20 col20\" >0</td>\n",
              "                        <td id=\"T_4e3d8ae4_3a01_11eb_a21f_0242ac1c0002row20_col21\" class=\"data row20 col21\" >0</td>\n",
              "                        <td id=\"T_4e3d8ae4_3a01_11eb_a21f_0242ac1c0002row20_col22\" class=\"data row20 col22\" >0</td>\n",
              "            </tr>\n",
              "            <tr>\n",
              "                        <th id=\"T_4e3d8ae4_3a01_11eb_a21f_0242ac1c0002level0_row21\" class=\"row_heading level0 row21\" >21</th>\n",
              "                        <td id=\"T_4e3d8ae4_3a01_11eb_a21f_0242ac1c0002row21_col0\" class=\"data row21 col0\" >0</td>\n",
              "                        <td id=\"T_4e3d8ae4_3a01_11eb_a21f_0242ac1c0002row21_col1\" class=\"data row21 col1\" >0</td>\n",
              "                        <td id=\"T_4e3d8ae4_3a01_11eb_a21f_0242ac1c0002row21_col2\" class=\"data row21 col2\" >0</td>\n",
              "                        <td id=\"T_4e3d8ae4_3a01_11eb_a21f_0242ac1c0002row21_col3\" class=\"data row21 col3\" >0</td>\n",
              "                        <td id=\"T_4e3d8ae4_3a01_11eb_a21f_0242ac1c0002row21_col4\" class=\"data row21 col4\" >0</td>\n",
              "                        <td id=\"T_4e3d8ae4_3a01_11eb_a21f_0242ac1c0002row21_col5\" class=\"data row21 col5\" >0</td>\n",
              "                        <td id=\"T_4e3d8ae4_3a01_11eb_a21f_0242ac1c0002row21_col6\" class=\"data row21 col6\" >0</td>\n",
              "                        <td id=\"T_4e3d8ae4_3a01_11eb_a21f_0242ac1c0002row21_col7\" class=\"data row21 col7\" >0</td>\n",
              "                        <td id=\"T_4e3d8ae4_3a01_11eb_a21f_0242ac1c0002row21_col8\" class=\"data row21 col8\" >0</td>\n",
              "                        <td id=\"T_4e3d8ae4_3a01_11eb_a21f_0242ac1c0002row21_col9\" class=\"data row21 col9\" >0</td>\n",
              "                        <td id=\"T_4e3d8ae4_3a01_11eb_a21f_0242ac1c0002row21_col10\" class=\"data row21 col10\" >0</td>\n",
              "                        <td id=\"T_4e3d8ae4_3a01_11eb_a21f_0242ac1c0002row21_col11\" class=\"data row21 col11\" >0</td>\n",
              "                        <td id=\"T_4e3d8ae4_3a01_11eb_a21f_0242ac1c0002row21_col12\" class=\"data row21 col12\" >0</td>\n",
              "                        <td id=\"T_4e3d8ae4_3a01_11eb_a21f_0242ac1c0002row21_col13\" class=\"data row21 col13\" >0</td>\n",
              "                        <td id=\"T_4e3d8ae4_3a01_11eb_a21f_0242ac1c0002row21_col14\" class=\"data row21 col14\" >0</td>\n",
              "                        <td id=\"T_4e3d8ae4_3a01_11eb_a21f_0242ac1c0002row21_col15\" class=\"data row21 col15\" >0</td>\n",
              "                        <td id=\"T_4e3d8ae4_3a01_11eb_a21f_0242ac1c0002row21_col16\" class=\"data row21 col16\" >0</td>\n",
              "                        <td id=\"T_4e3d8ae4_3a01_11eb_a21f_0242ac1c0002row21_col17\" class=\"data row21 col17\" >0</td>\n",
              "                        <td id=\"T_4e3d8ae4_3a01_11eb_a21f_0242ac1c0002row21_col18\" class=\"data row21 col18\" >0</td>\n",
              "                        <td id=\"T_4e3d8ae4_3a01_11eb_a21f_0242ac1c0002row21_col19\" class=\"data row21 col19\" >0</td>\n",
              "                        <td id=\"T_4e3d8ae4_3a01_11eb_a21f_0242ac1c0002row21_col20\" class=\"data row21 col20\" >0</td>\n",
              "                        <td id=\"T_4e3d8ae4_3a01_11eb_a21f_0242ac1c0002row21_col21\" class=\"data row21 col21\" >0</td>\n",
              "                        <td id=\"T_4e3d8ae4_3a01_11eb_a21f_0242ac1c0002row21_col22\" class=\"data row21 col22\" >0</td>\n",
              "            </tr>\n",
              "            <tr>\n",
              "                        <th id=\"T_4e3d8ae4_3a01_11eb_a21f_0242ac1c0002level0_row22\" class=\"row_heading level0 row22\" >22</th>\n",
              "                        <td id=\"T_4e3d8ae4_3a01_11eb_a21f_0242ac1c0002row22_col0\" class=\"data row22 col0\" >0</td>\n",
              "                        <td id=\"T_4e3d8ae4_3a01_11eb_a21f_0242ac1c0002row22_col1\" class=\"data row22 col1\" >0</td>\n",
              "                        <td id=\"T_4e3d8ae4_3a01_11eb_a21f_0242ac1c0002row22_col2\" class=\"data row22 col2\" >0</td>\n",
              "                        <td id=\"T_4e3d8ae4_3a01_11eb_a21f_0242ac1c0002row22_col3\" class=\"data row22 col3\" >0</td>\n",
              "                        <td id=\"T_4e3d8ae4_3a01_11eb_a21f_0242ac1c0002row22_col4\" class=\"data row22 col4\" >0</td>\n",
              "                        <td id=\"T_4e3d8ae4_3a01_11eb_a21f_0242ac1c0002row22_col5\" class=\"data row22 col5\" >0</td>\n",
              "                        <td id=\"T_4e3d8ae4_3a01_11eb_a21f_0242ac1c0002row22_col6\" class=\"data row22 col6\" >0</td>\n",
              "                        <td id=\"T_4e3d8ae4_3a01_11eb_a21f_0242ac1c0002row22_col7\" class=\"data row22 col7\" >0</td>\n",
              "                        <td id=\"T_4e3d8ae4_3a01_11eb_a21f_0242ac1c0002row22_col8\" class=\"data row22 col8\" >0</td>\n",
              "                        <td id=\"T_4e3d8ae4_3a01_11eb_a21f_0242ac1c0002row22_col9\" class=\"data row22 col9\" >0</td>\n",
              "                        <td id=\"T_4e3d8ae4_3a01_11eb_a21f_0242ac1c0002row22_col10\" class=\"data row22 col10\" >0</td>\n",
              "                        <td id=\"T_4e3d8ae4_3a01_11eb_a21f_0242ac1c0002row22_col11\" class=\"data row22 col11\" >0</td>\n",
              "                        <td id=\"T_4e3d8ae4_3a01_11eb_a21f_0242ac1c0002row22_col12\" class=\"data row22 col12\" >0</td>\n",
              "                        <td id=\"T_4e3d8ae4_3a01_11eb_a21f_0242ac1c0002row22_col13\" class=\"data row22 col13\" >0</td>\n",
              "                        <td id=\"T_4e3d8ae4_3a01_11eb_a21f_0242ac1c0002row22_col14\" class=\"data row22 col14\" >0</td>\n",
              "                        <td id=\"T_4e3d8ae4_3a01_11eb_a21f_0242ac1c0002row22_col15\" class=\"data row22 col15\" >0</td>\n",
              "                        <td id=\"T_4e3d8ae4_3a01_11eb_a21f_0242ac1c0002row22_col16\" class=\"data row22 col16\" >0</td>\n",
              "                        <td id=\"T_4e3d8ae4_3a01_11eb_a21f_0242ac1c0002row22_col17\" class=\"data row22 col17\" >0</td>\n",
              "                        <td id=\"T_4e3d8ae4_3a01_11eb_a21f_0242ac1c0002row22_col18\" class=\"data row22 col18\" >0</td>\n",
              "                        <td id=\"T_4e3d8ae4_3a01_11eb_a21f_0242ac1c0002row22_col19\" class=\"data row22 col19\" >0</td>\n",
              "                        <td id=\"T_4e3d8ae4_3a01_11eb_a21f_0242ac1c0002row22_col20\" class=\"data row22 col20\" >0</td>\n",
              "                        <td id=\"T_4e3d8ae4_3a01_11eb_a21f_0242ac1c0002row22_col21\" class=\"data row22 col21\" >0</td>\n",
              "                        <td id=\"T_4e3d8ae4_3a01_11eb_a21f_0242ac1c0002row22_col22\" class=\"data row22 col22\" >0</td>\n",
              "            </tr>\n",
              "    </tbody></table>"
            ],
            "text/plain": [
              "<pandas.io.formats.style.Styler at 0x7f84b1302b00>"
            ]
          },
          "metadata": {
            "tags": []
          },
          "execution_count": 204
        }
      ]
    },
    {
      "cell_type": "markdown",
      "metadata": {
        "id": "poZpmL9z3jsi"
      },
      "source": [
        "## First Try: Pixel Similarity"
      ]
    },
    {
      "cell_type": "code",
      "metadata": {
        "id": "KI_IpvpY3jsi",
        "colab": {
          "base_uri": "https://localhost:8080/"
        },
        "outputId": "4a0245d0-ae85-4a28-c751-88ff27d0e9e7"
      },
      "source": [
        "seven_tensors = [tensor(Image.open(o)) for o in sevens]\n",
        "three_tensors = [tensor(Image.open(o)) for o in threes]\n",
        "len(three_tensors),len(seven_tensors)"
      ],
      "execution_count": 205,
      "outputs": [
        {
          "output_type": "execute_result",
          "data": {
            "text/plain": [
              "(6131, 6265)"
            ]
          },
          "metadata": {
            "tags": []
          },
          "execution_count": 205
        }
      ]
    },
    {
      "cell_type": "code",
      "metadata": {
        "id": "UDjADxiZ3jsi",
        "colab": {
          "base_uri": "https://localhost:8080/",
          "height": 85
        },
        "outputId": "1aec710d-8674-4ece-f42e-2b050547c98e"
      },
      "source": [
        "show_image(three_tensors[1]);"
      ],
      "execution_count": 206,
      "outputs": [
        {
          "output_type": "display_data",
          "data": {
            "image/png": "[encoded data removed]",
            "text/plain": [
              "<Figure size 72x72 with 1 Axes>"
            ]
          },
          "metadata": {
            "tags": [],
            "needs_background": "light"
          }
        }
      ]
    },
    {
      "cell_type": "code",
      "metadata": {
        "id": "5RMiJl-Z-DGq",
        "colab": {
          "base_uri": "https://localhost:8080/",
          "height": 282
        },
        "outputId": "5208bb12-3674-4af7-9c77-dc40a7456db7"
      },
      "source": [
        "from  matplotlib import pyplot as plt\n",
        "plt.imshow(three_tensors[2])"
      ],
      "execution_count": 207,
      "outputs": [
        {
          "output_type": "execute_result",
          "data": {
            "text/plain": [
              "<matplotlib.image.AxesImage at 0x7f84aff6a208>"
            ]
          },
          "metadata": {
            "tags": []
          },
          "execution_count": 207
        },
        {
          "output_type": "display_data",
          "data": {
            "image/png": "[encoded data removed]",
            "text/plain": [
              "<Figure size 432x288 with 1 Axes>"
            ]
          },
          "metadata": {
            "tags": [],
            "needs_background": "light"
          }
        }
      ]
    },
    {
      "cell_type": "code",
      "metadata": {
        "id": "BVwDuav23jsi",
        "colab": {
          "base_uri": "https://localhost:8080/"
        },
        "outputId": "bb03617a-0c57-47eb-f5ce-0451d944e11f"
      },
      "source": [
        "stacked_sevens = torch.stack(seven_tensors).float()/255\n",
        "stacked_threes = torch.stack(three_tensors).float()/255\n",
        "stacked_threes.shape"
      ],
      "execution_count": 208,
      "outputs": [
        {
          "output_type": "execute_result",
          "data": {
            "text/plain": [
              "torch.Size([6131, 28, 28])"
            ]
          },
          "metadata": {
            "tags": []
          },
          "execution_count": 208
        }
      ]
    },
    {
      "cell_type": "code",
      "metadata": {
        "id": "UGjtkrIx3jsi",
        "colab": {
          "base_uri": "https://localhost:8080/"
        },
        "outputId": "0d75d7ab-b8f9-46ec-bc26-87c4d1a7cf09"
      },
      "source": [
        "len(stacked_threes.shape)"
      ],
      "execution_count": 209,
      "outputs": [
        {
          "output_type": "execute_result",
          "data": {
            "text/plain": [
              "3"
            ]
          },
          "metadata": {
            "tags": []
          },
          "execution_count": 209
        }
      ]
    },
    {
      "cell_type": "code",
      "metadata": {
        "id": "Mo1Ayywj3jsi",
        "colab": {
          "base_uri": "https://localhost:8080/"
        },
        "outputId": "013e1338-012a-4610-b7a0-b2f65469dc67"
      },
      "source": [
        "stacked_threes.ndim"
      ],
      "execution_count": 210,
      "outputs": [
        {
          "output_type": "execute_result",
          "data": {
            "text/plain": [
              "3"
            ]
          },
          "metadata": {
            "tags": []
          },
          "execution_count": 210
        }
      ]
    },
    {
      "cell_type": "code",
      "metadata": {
        "id": "bLTTF6IO3jsi",
        "colab": {
          "base_uri": "https://localhost:8080/",
          "height": 85
        },
        "outputId": "02e4e039-4de9-49e1-cd96-75db42b4d063"
      },
      "source": [
        "mean3 = stacked_threes.mean(0)\n",
        "show_image(mean3);"
      ],
      "execution_count": 211,
      "outputs": [
        {
          "output_type": "display_data",
          "data": {
            "image/png": "[encoded data removed]",
            "text/plain": [
              "<Figure size 72x72 with 1 Axes>"
            ]
          },
          "metadata": {
            "tags": [],
            "needs_background": "light"
          }
        }
      ]
    },
    {
      "cell_type": "code",
      "metadata": {
        "id": "Rd98gXci3jsi",
        "colab": {
          "base_uri": "https://localhost:8080/",
          "height": 85
        },
        "outputId": "743e78ad-61d4-40a3-d4d0-b4fa45c1eda7"
      },
      "source": [
        "mean7 = stacked_sevens.mean(0)\n",
        "show_image(mean7);"
      ],
      "execution_count": 212,
      "outputs": [
        {
          "output_type": "display_data",
          "data": {
            "image/png": "[encoded data removed]",
            "text/plain": [
              "<Figure size 72x72 with 1 Axes>"
            ]
          },
          "metadata": {
            "tags": [],
            "needs_background": "light"
          }
        }
      ]
    },
    {
      "cell_type": "code",
      "metadata": {
        "id": "BHdicZ433jsi",
        "colab": {
          "base_uri": "https://localhost:8080/",
          "height": 85
        },
        "outputId": "1c97ac37-0559-457f-e709-9921bc42eef5"
      },
      "source": [
        "a_3 = stacked_threes[1]\n",
        "show_image(a_3);"
      ],
      "execution_count": 213,
      "outputs": [
        {
          "output_type": "display_data",
          "data": {
            "image/png": "[encoded data removed]",
            "text/plain": [
              "<Figure size 72x72 with 1 Axes>"
            ]
          },
          "metadata": {
            "tags": [],
            "needs_background": "light"
          }
        }
      ]
    },
    {
      "cell_type": "code",
      "metadata": {
        "id": "zWJQLly13jsi",
        "colab": {
          "base_uri": "https://localhost:8080/"
        },
        "outputId": "7af2b71f-a7ef-4155-e1c6-344b52dd64d7"
      },
      "source": [
        "dist_3_abs = (a_3 - mean3).abs().mean()\n",
        "dist_3_sqr = ((a_3 - mean3)**2).mean().sqrt()\n",
        "dist_3_abs,dist_3_sqr"
      ],
      "execution_count": 214,
      "outputs": [
        {
          "output_type": "execute_result",
          "data": {
            "text/plain": [
              "(tensor(0.1114), tensor(0.2021))"
            ]
          },
          "metadata": {
            "tags": []
          },
          "execution_count": 214
        }
      ]
    },
    {
      "cell_type": "code",
      "metadata": {
        "id": "e7wXyMla3jsi",
        "colab": {
          "base_uri": "https://localhost:8080/"
        },
        "outputId": "a75981b4-2cea-451a-81d3-65867eecd7f8"
      },
      "source": [
        "dist_7_abs = (a_3 - mean7).abs().mean()\n",
        "dist_7_sqr = ((a_3 - mean7)**2).mean().sqrt()\n",
        "dist_7_abs,dist_7_sqr"
      ],
      "execution_count": 215,
      "outputs": [
        {
          "output_type": "execute_result",
          "data": {
            "text/plain": [
              "(tensor(0.1586), tensor(0.3021))"
            ]
          },
          "metadata": {
            "tags": []
          },
          "execution_count": 215
        }
      ]
    },
    {
      "cell_type": "code",
      "metadata": {
        "id": "-Np0qJGn3jsi",
        "colab": {
          "base_uri": "https://localhost:8080/"
        },
        "outputId": "3d4740df-bfab-4968-aa6c-79fed72daf99"
      },
      "source": [
        "F.l1_loss(a_3.float(),mean7), F.mse_loss(a_3,mean7).sqrt()"
      ],
      "execution_count": 216,
      "outputs": [
        {
          "output_type": "execute_result",
          "data": {
            "text/plain": [
              "(tensor(0.1586), tensor(0.3021))"
            ]
          },
          "metadata": {
            "tags": []
          },
          "execution_count": 216
        }
      ]
    },
    {
      "cell_type": "markdown",
      "metadata": {
        "id": "knwlAjCu3jsi"
      },
      "source": [
        "### NumPy Arrays and PyTorch Tensors"
      ]
    },
    {
      "cell_type": "code",
      "metadata": {
        "id": "urQuJ3Sh3jsi"
      },
      "source": [
        "data = [[1,2,3],[4,5,6]]\n",
        "arr = array (data)\n",
        "tns = tensor(data)"
      ],
      "execution_count": 217,
      "outputs": []
    },
    {
      "cell_type": "code",
      "metadata": {
        "id": "OxTp7fuP3jsi",
        "colab": {
          "base_uri": "https://localhost:8080/"
        },
        "outputId": "7c5c6a85-53ba-4283-a442-4d6b175a9b47"
      },
      "source": [
        "arr  # numpy"
      ],
      "execution_count": 218,
      "outputs": [
        {
          "output_type": "execute_result",
          "data": {
            "text/plain": [
              "array([[1, 2, 3],\n",
              "       [4, 5, 6]])"
            ]
          },
          "metadata": {
            "tags": []
          },
          "execution_count": 218
        }
      ]
    },
    {
      "cell_type": "code",
      "metadata": {
        "id": "XIoXslg-3jsi",
        "colab": {
          "base_uri": "https://localhost:8080/"
        },
        "outputId": "45a478a6-f0e5-4723-cc6c-ab94e910d5aa"
      },
      "source": [
        "tns  # pytorch"
      ],
      "execution_count": 219,
      "outputs": [
        {
          "output_type": "execute_result",
          "data": {
            "text/plain": [
              "tensor([[1, 2, 3],\n",
              "        [4, 5, 6]])"
            ]
          },
          "metadata": {
            "tags": []
          },
          "execution_count": 219
        }
      ]
    },
    {
      "cell_type": "code",
      "metadata": {
        "id": "f_akOrB33jsi",
        "colab": {
          "base_uri": "https://localhost:8080/"
        },
        "outputId": "7723865e-1127-482a-f36b-b9129ee65ccc"
      },
      "source": [
        "tns[1]"
      ],
      "execution_count": 220,
      "outputs": [
        {
          "output_type": "execute_result",
          "data": {
            "text/plain": [
              "tensor([4, 5, 6])"
            ]
          },
          "metadata": {
            "tags": []
          },
          "execution_count": 220
        }
      ]
    },
    {
      "cell_type": "code",
      "metadata": {
        "id": "plfJdjC23jsi",
        "colab": {
          "base_uri": "https://localhost:8080/"
        },
        "outputId": "2c16feed-62dd-4818-8203-f7d30fe18392"
      },
      "source": [
        "tns[:,1]"
      ],
      "execution_count": 221,
      "outputs": [
        {
          "output_type": "execute_result",
          "data": {
            "text/plain": [
              "tensor([2, 5])"
            ]
          },
          "metadata": {
            "tags": []
          },
          "execution_count": 221
        }
      ]
    },
    {
      "cell_type": "code",
      "metadata": {
        "id": "x5_OEK4u3jsi",
        "colab": {
          "base_uri": "https://localhost:8080/"
        },
        "outputId": "3c7858a3-57a4-4bd4-9e74-3eb035024f01"
      },
      "source": [
        "tns[1,1:3]"
      ],
      "execution_count": 222,
      "outputs": [
        {
          "output_type": "execute_result",
          "data": {
            "text/plain": [
              "tensor([5, 6])"
            ]
          },
          "metadata": {
            "tags": []
          },
          "execution_count": 222
        }
      ]
    },
    {
      "cell_type": "code",
      "metadata": {
        "id": "EW81caBr3jsi",
        "colab": {
          "base_uri": "https://localhost:8080/"
        },
        "outputId": "a8c5fea4-a2ba-42e6-b6eb-33af5fe2c2af"
      },
      "source": [
        "tns+1"
      ],
      "execution_count": 223,
      "outputs": [
        {
          "output_type": "execute_result",
          "data": {
            "text/plain": [
              "tensor([[2, 3, 4],\n",
              "        [5, 6, 7]])"
            ]
          },
          "metadata": {
            "tags": []
          },
          "execution_count": 223
        }
      ]
    },
    {
      "cell_type": "code",
      "metadata": {
        "id": "sUepYsR2_bhs",
        "colab": {
          "base_uri": "https://localhost:8080/"
        },
        "outputId": "d6791ef9-aa7b-4f32-aedf-f08bade723ab"
      },
      "source": [
        "type(tns)"
      ],
      "execution_count": 224,
      "outputs": [
        {
          "output_type": "execute_result",
          "data": {
            "text/plain": [
              "torch.Tensor"
            ]
          },
          "metadata": {
            "tags": []
          },
          "execution_count": 224
        }
      ]
    },
    {
      "cell_type": "code",
      "metadata": {
        "id": "pgsMKZwf3jsi",
        "colab": {
          "base_uri": "https://localhost:8080/",
          "height": 35
        },
        "outputId": "56a0f4a3-697f-4fe6-e5ec-ee1f1d55f673"
      },
      "source": [
        "tns.type()"
      ],
      "execution_count": 225,
      "outputs": [
        {
          "output_type": "execute_result",
          "data": {
            "application/vnd.google.colaboratory.intrinsic+json": {
              "type": "string"
            },
            "text/plain": [
              "'torch.LongTensor'"
            ]
          },
          "metadata": {
            "tags": []
          },
          "execution_count": 225
        }
      ]
    },
    {
      "cell_type": "code",
      "metadata": {
        "id": "aWmHCydT3jsi",
        "colab": {
          "base_uri": "https://localhost:8080/"
        },
        "outputId": "840ee412-6f14-4b69-d7ce-9ab4e7d4caad"
      },
      "source": [
        "tns*1.5"
      ],
      "execution_count": 226,
      "outputs": [
        {
          "output_type": "execute_result",
          "data": {
            "text/plain": [
              "tensor([[1.5000, 3.0000, 4.5000],\n",
              "        [6.0000, 7.5000, 9.0000]])"
            ]
          },
          "metadata": {
            "tags": []
          },
          "execution_count": 226
        }
      ]
    },
    {
      "cell_type": "markdown",
      "metadata": {
        "id": "NMwZwa6A3jsi"
      },
      "source": [
        "## Computing Metrics Using Broadcasting"
      ]
    },
    {
      "cell_type": "code",
      "metadata": {
        "id": "cKlhU_gf3jsi",
        "colab": {
          "base_uri": "https://localhost:8080/"
        },
        "outputId": "011a5f9f-dc53-40e4-fcd4-e205d64d43c9"
      },
      "source": [
        "valid_3_tens = torch.stack([tensor(Image.open(o)) \n",
        "                            for o in (path/'valid'/'3').ls()])\n",
        "valid_3_tens = valid_3_tens.float()/255\n",
        "valid_7_tens = torch.stack([tensor(Image.open(o)) \n",
        "                            for o in (path/'valid'/'7').ls()])\n",
        "valid_7_tens = valid_7_tens.float()/255\n",
        "valid_3_tens.shape,valid_7_tens.shape"
      ],
      "execution_count": 227,
      "outputs": [
        {
          "output_type": "execute_result",
          "data": {
            "text/plain": [
              "(torch.Size([1010, 28, 28]), torch.Size([1028, 28, 28]))"
            ]
          },
          "metadata": {
            "tags": []
          },
          "execution_count": 227
        }
      ]
    },
    {
      "cell_type": "code",
      "metadata": {
        "id": "EnYXgfiR3jsi",
        "colab": {
          "base_uri": "https://localhost:8080/"
        },
        "outputId": "35dd66ab-3ea8-4ecb-9ab7-0c962ba9c729"
      },
      "source": [
        "def mnist_distance(a,b): return (a-b).abs().mean((-1,-2))\n",
        "mnist_distance(a_3, mean3)"
      ],
      "execution_count": 228,
      "outputs": [
        {
          "output_type": "execute_result",
          "data": {
            "text/plain": [
              "tensor(0.1114)"
            ]
          },
          "metadata": {
            "tags": []
          },
          "execution_count": 228
        }
      ]
    },
    {
      "cell_type": "code",
      "metadata": {
        "id": "epCiil5a3jsi",
        "colab": {
          "base_uri": "https://localhost:8080/"
        },
        "outputId": "361754c0-d655-4a12-c379-7f4a3d796a93"
      },
      "source": [
        "valid_3_dist = mnist_distance(valid_3_tens, mean3)\n",
        "valid_3_dist, valid_3_dist.shape"
      ],
      "execution_count": 229,
      "outputs": [
        {
          "output_type": "execute_result",
          "data": {
            "text/plain": [
              "(tensor([0.1262, 0.1611, 0.1319,  ..., 0.1654, 0.1285, 0.1230]),\n",
              " torch.Size([1010]))"
            ]
          },
          "metadata": {
            "tags": []
          },
          "execution_count": 229
        }
      ]
    },
    {
      "cell_type": "code",
      "metadata": {
        "id": "cFa8S-093jsi",
        "colab": {
          "base_uri": "https://localhost:8080/"
        },
        "outputId": "b28834a0-b94f-4df9-ac20-6cf76f72f6c5"
      },
      "source": [
        "tensor([1,2,3]) + tensor([1,1,1])"
      ],
      "execution_count": 230,
      "outputs": [
        {
          "output_type": "execute_result",
          "data": {
            "text/plain": [
              "tensor([2, 3, 4])"
            ]
          },
          "metadata": {
            "tags": []
          },
          "execution_count": 230
        }
      ]
    },
    {
      "cell_type": "code",
      "metadata": {
        "id": "sfWOQTIW3jsi",
        "colab": {
          "base_uri": "https://localhost:8080/"
        },
        "outputId": "392c0ec6-76c2-4bea-c953-d3540adda033"
      },
      "source": [
        "(valid_3_tens-mean3).shape"
      ],
      "execution_count": 231,
      "outputs": [
        {
          "output_type": "execute_result",
          "data": {
            "text/plain": [
              "torch.Size([1010, 28, 28])"
            ]
          },
          "metadata": {
            "tags": []
          },
          "execution_count": 231
        }
      ]
    },
    {
      "cell_type": "code",
      "metadata": {
        "id": "edUEADtZ3jsi"
      },
      "source": [
        "def is_3(x): return mnist_distance(x,mean3) < mnist_distance(x,mean7)"
      ],
      "execution_count": 232,
      "outputs": []
    },
    {
      "cell_type": "code",
      "metadata": {
        "id": "9jm9xwB73jsi",
        "colab": {
          "base_uri": "https://localhost:8080/"
        },
        "outputId": "e77def6d-b2b3-4abf-a84a-420f9639ef1d"
      },
      "source": [
        "is_3(a_3), is_3(a_3).float()"
      ],
      "execution_count": 233,
      "outputs": [
        {
          "output_type": "execute_result",
          "data": {
            "text/plain": [
              "(tensor(True), tensor(1.))"
            ]
          },
          "metadata": {
            "tags": []
          },
          "execution_count": 233
        }
      ]
    },
    {
      "cell_type": "code",
      "metadata": {
        "id": "NwUwe2Y-3jsi",
        "colab": {
          "base_uri": "https://localhost:8080/"
        },
        "outputId": "eefb6f34-5795-4ea2-f297-5893ca07016e"
      },
      "source": [
        "is_3(valid_3_tens)"
      ],
      "execution_count": 234,
      "outputs": [
        {
          "output_type": "execute_result",
          "data": {
            "text/plain": [
              "tensor([True, True, True,  ..., True, True, True])"
            ]
          },
          "metadata": {
            "tags": []
          },
          "execution_count": 234
        }
      ]
    },
    {
      "cell_type": "code",
      "metadata": {
        "id": "_0CN1dV43jsi",
        "colab": {
          "base_uri": "https://localhost:8080/"
        },
        "outputId": "0f1a96a0-76b1-4587-b494-8f95b7ed7be9"
      },
      "source": [
        "accuracy_3s =      is_3(valid_3_tens).float() .mean()\n",
        "accuracy_7s = (1 - is_3(valid_7_tens).float()).mean()\n",
        "\n",
        "accuracy_3s,accuracy_7s,(accuracy_3s+accuracy_7s)/2"
      ],
      "execution_count": 235,
      "outputs": [
        {
          "output_type": "execute_result",
          "data": {
            "text/plain": [
              "(tensor(0.9168), tensor(0.9854), tensor(0.9511))"
            ]
          },
          "metadata": {
            "tags": []
          },
          "execution_count": 235
        }
      ]
    },
    {
      "cell_type": "markdown",
      "metadata": {
        "id": "Mz827Fqu3jsi"
      },
      "source": [
        "## Stochastic Gradient Descent (SGD)"
      ]
    },
    {
      "cell_type": "code",
      "metadata": {
        "id": "0Nndhp5k3jsi",
        "colab": {
          "base_uri": "https://localhost:8080/",
          "height": 125
        },
        "outputId": "9c4f14f9-39a9-4181-b4d5-9e98ec6c433e"
      },
      "source": [
        "gv('''\n",
        "init->predict->loss->gradient->step->stop\n",
        "step->predict[label=repeat]\n",
        "''')"
      ],
      "execution_count": 236,
      "outputs": [
        {
          "output_type": "execute_result",
          "data": {
            "text/plain": [
              "<graphviz.files.Source at 0x7f84a2622358>"
            ],
            "image/svg+xml": "<?xml version=\"1.0\" encoding=\"UTF-8\" standalone=\"no\"?>\n<!DOCTYPE svg PUBLIC \"-//W3C//DTD SVG 1.1//EN\"\n \"http://www.w3.org/Graphics/SVG/1.1/DTD/svg11.dtd\">\n<!-- Generated by graphviz version 2.40.1 (20161225.0304)\n -->\n<!-- Title: G Pages: 1 -->\n<svg width=\"597pt\" height=\"78pt\"\n viewBox=\"0.00 0.00 596.69 78.00\" xmlns=\"http://www.w3.org/2000/svg\" xmlns:xlink=\"http://www.w3.org/1999/xlink\">\n<g id=\"graph0\" class=\"graph\" transform=\"scale(1 1) rotate(0) translate(4 74)\">\n<title>G</title>\n<polygon fill=\"#ffffff\" stroke=\"transparent\" points=\"-4,4 -4,-74 592.6863,-74 592.6863,4 -4,4\"/>\n<!-- init -->\n<g id=\"node1\" class=\"node\">\n<title>init</title>\n<ellipse fill=\"none\" stroke=\"#000000\" cx=\"27\" cy=\"-18\" rx=\"27\" ry=\"18\"/>\n<text text-anchor=\"middle\" x=\"27\" y=\"-14.3\" font-family=\"Times,serif\" font-size=\"14.00\" fill=\"#000000\">init</text>\n</g>\n<!-- predict -->\n<g id=\"node2\" class=\"node\">\n<title>predict</title>\n<ellipse fill=\"none\" stroke=\"#000000\" cx=\"127.3968\" cy=\"-18\" rx=\"36.2938\" ry=\"18\"/>\n<text text-anchor=\"middle\" x=\"127.3968\" y=\"-14.3\" font-family=\"Times,serif\" font-size=\"14.00\" fill=\"#000000\">predict</text>\n</g>\n<!-- init&#45;&gt;predict -->\n<g id=\"edge1\" class=\"edge\">\n<title>init&#45;&gt;predict</title>\n<path fill=\"none\" stroke=\"#000000\" d=\"M54.1688,-18C62.3543,-18 71.5827,-18 80.6596,-18\"/>\n<polygon fill=\"#000000\" stroke=\"#000000\" points=\"80.7795,-21.5001 90.7795,-18 80.7795,-14.5001 80.7795,-21.5001\"/>\n</g>\n<!-- loss -->\n<g id=\"node3\" class=\"node\">\n<title>loss</title>\n<ellipse fill=\"none\" stroke=\"#000000\" cx=\"227.7935\" cy=\"-52\" rx=\"27\" ry=\"18\"/>\n<text text-anchor=\"middle\" x=\"227.7935\" y=\"-48.3\" font-family=\"Times,serif\" font-size=\"14.00\" fill=\"#000000\">loss</text>\n</g>\n<!-- predict&#45;&gt;loss -->\n<g id=\"edge2\" class=\"edge\">\n<title>predict&#45;&gt;loss</title>\n<path fill=\"none\" stroke=\"#000000\" d=\"M157.5191,-28.2011C168.9806,-32.0826 182.1139,-36.5303 193.9014,-40.5222\"/>\n<polygon fill=\"#000000\" stroke=\"#000000\" points=\"192.8259,-43.8532 203.4202,-43.7458 195.0713,-37.2231 192.8259,-43.8532\"/>\n</g>\n<!-- gradient -->\n<g id=\"node4\" class=\"node\">\n<title>gradient</title>\n<ellipse fill=\"none\" stroke=\"#000000\" cx=\"365.7399\" cy=\"-52\" rx=\"40.8928\" ry=\"18\"/>\n<text text-anchor=\"middle\" x=\"365.7399\" y=\"-48.3\" font-family=\"Times,serif\" font-size=\"14.00\" fill=\"#000000\">gradient</text>\n</g>\n<!-- loss&#45;&gt;gradient -->\n<g id=\"edge3\" class=\"edge\">\n<title>loss&#45;&gt;gradient</title>\n<path fill=\"none\" stroke=\"#000000\" d=\"M255.0473,-52C272.0415,-52 294.4481,-52 314.6545,-52\"/>\n<polygon fill=\"#000000\" stroke=\"#000000\" points=\"314.671,-55.5001 324.671,-52 314.671,-48.5001 314.671,-55.5001\"/>\n</g>\n<!-- step -->\n<g id=\"node5\" class=\"node\">\n<title>step</title>\n<ellipse fill=\"none\" stroke=\"#000000\" cx=\"470.6863\" cy=\"-18\" rx=\"27\" ry=\"18\"/>\n<text text-anchor=\"middle\" x=\"470.6863\" y=\"-14.3\" font-family=\"Times,serif\" font-size=\"14.00\" fill=\"#000000\">step</text>\n</g>\n<!-- gradient&#45;&gt;step -->\n<g id=\"edge4\" class=\"edge\">\n<title>gradient&#45;&gt;step</title>\n<path fill=\"none\" stroke=\"#000000\" d=\"M398.9456,-41.2422C410.9558,-37.3512 424.5297,-32.9536 436.6132,-29.0388\"/>\n<polygon fill=\"#000000\" stroke=\"#000000\" points=\"437.9112,-32.2975 446.3457,-25.8857 435.7537,-25.6382 437.9112,-32.2975\"/>\n</g>\n<!-- step&#45;&gt;predict -->\n<g id=\"edge6\" class=\"edge\">\n<title>step&#45;&gt;predict</title>\n<path fill=\"none\" stroke=\"#000000\" d=\"M443.4266,-18C384.9297,-18 246.7861,-18 174.0495,-18\"/>\n<polygon fill=\"#000000\" stroke=\"#000000\" points=\"173.8098,-14.5001 163.8098,-18 173.8097,-21.5001 173.8098,-14.5001\"/>\n<text text-anchor=\"middle\" x=\"289.7935\" y=\"-21.8\" font-family=\"Times,serif\" font-size=\"14.00\" fill=\"#000000\">repeat</text>\n</g>\n<!-- stop -->\n<g id=\"node6\" class=\"node\">\n<title>stop</title>\n<ellipse fill=\"none\" stroke=\"#000000\" cx=\"561.6863\" cy=\"-18\" rx=\"27\" ry=\"18\"/>\n<text text-anchor=\"middle\" x=\"561.6863\" y=\"-14.3\" font-family=\"Times,serif\" font-size=\"14.00\" fill=\"#000000\">stop</text>\n</g>\n<!-- step&#45;&gt;stop -->\n<g id=\"edge5\" class=\"edge\">\n<title>step&#45;&gt;stop</title>\n<path fill=\"none\" stroke=\"#000000\" d=\"M497.9893,-18C506.2676,-18 515.508,-18 524.3268,-18\"/>\n<polygon fill=\"#000000\" stroke=\"#000000\" points=\"524.4026,-21.5001 534.4025,-18 524.4025,-14.5001 524.4026,-21.5001\"/>\n</g>\n</g>\n</svg>\n"
          },
          "metadata": {
            "tags": []
          },
          "execution_count": 236
        }
      ]
    },
    {
      "cell_type": "code",
      "metadata": {
        "id": "F54979W73jsi"
      },
      "source": [
        "def f(x): return x**2"
      ],
      "execution_count": 237,
      "outputs": []
    },
    {
      "cell_type": "code",
      "metadata": {
        "id": "nNf6knPR3jsi",
        "colab": {
          "base_uri": "https://localhost:8080/",
          "height": 279
        },
        "outputId": "af8378f6-9b78-45c1-9fea-40a8b0a6c1c3"
      },
      "source": [
        "plot_function(f, 'x', 'x**2')"
      ],
      "execution_count": 238,
      "outputs": [
        {
          "output_type": "display_data",
          "data": {
            "image/png": "[encoded data removed]",
            "text/plain": [
              "<Figure size 432x288 with 1 Axes>"
            ]
          },
          "metadata": {
            "tags": [],
            "needs_background": "light"
          }
        }
      ]
    },
    {
      "cell_type": "code",
      "metadata": {
        "id": "LzXB7ccW3jsi",
        "colab": {
          "base_uri": "https://localhost:8080/",
          "height": 279
        },
        "outputId": "899852ad-61cf-4595-b5a2-a2f1135529fb"
      },
      "source": [
        "plot_function(f, 'x', 'x**2')\n",
        "plt.scatter(-1.5, f(-1.5), color='red');"
      ],
      "execution_count": 239,
      "outputs": [
        {
          "output_type": "display_data",
          "data": {
            "image/png": "[encoded data removed]",
            "text/plain": [
              "<Figure size 432x288 with 1 Axes>"
            ]
          },
          "metadata": {
            "tags": [],
            "needs_background": "light"
          }
        }
      ]
    },
    {
      "cell_type": "markdown",
      "metadata": {
        "id": "9w7BuBp63jsi"
      },
      "source": [
        "### Calculating Gradients"
      ]
    },
    {
      "cell_type": "code",
      "metadata": {
        "id": "rfzE9zIQ3jsi"
      },
      "source": [
        "xt = tensor(3.).requires_grad_()"
      ],
      "execution_count": 240,
      "outputs": []
    },
    {
      "cell_type": "code",
      "metadata": {
        "id": "nDNZKG8e3jsi",
        "colab": {
          "base_uri": "https://localhost:8080/"
        },
        "outputId": "5ef92103-05af-49a1-eeb6-b342338b8725"
      },
      "source": [
        "yt = f(xt)\n",
        "yt"
      ],
      "execution_count": 241,
      "outputs": [
        {
          "output_type": "execute_result",
          "data": {
            "text/plain": [
              "tensor(9., grad_fn=<PowBackward0>)"
            ]
          },
          "metadata": {
            "tags": []
          },
          "execution_count": 241
        }
      ]
    },
    {
      "cell_type": "code",
      "metadata": {
        "id": "9DHeaYv33jsi"
      },
      "source": [
        "yt.backward()"
      ],
      "execution_count": 242,
      "outputs": []
    },
    {
      "cell_type": "code",
      "metadata": {
        "id": "fapEk9Ij3jsj",
        "colab": {
          "base_uri": "https://localhost:8080/"
        },
        "outputId": "fd03a2f5-c89e-4a02-fd41-eda823b7a0df"
      },
      "source": [
        "xt.grad"
      ],
      "execution_count": 243,
      "outputs": [
        {
          "output_type": "execute_result",
          "data": {
            "text/plain": [
              "tensor(6.)"
            ]
          },
          "metadata": {
            "tags": []
          },
          "execution_count": 243
        }
      ]
    },
    {
      "cell_type": "code",
      "metadata": {
        "id": "VL0bMWRX3jsj",
        "colab": {
          "base_uri": "https://localhost:8080/"
        },
        "outputId": "9ac5dee3-29e5-48a7-ad3c-c83239c75763"
      },
      "source": [
        "xt = tensor([3.,4.,10.]).requires_grad_()\n",
        "xt"
      ],
      "execution_count": 244,
      "outputs": [
        {
          "output_type": "execute_result",
          "data": {
            "text/plain": [
              "tensor([ 3.,  4., 10.], requires_grad=True)"
            ]
          },
          "metadata": {
            "tags": []
          },
          "execution_count": 244
        }
      ]
    },
    {
      "cell_type": "code",
      "metadata": {
        "id": "Hlq42tTn3jsj",
        "colab": {
          "base_uri": "https://localhost:8080/"
        },
        "outputId": "7ff1c482-b503-439e-bc84-e2ff06491afb"
      },
      "source": [
        "def f(x): return (x**2).sum()\n",
        "\n",
        "yt = f(xt)\n",
        "yt"
      ],
      "execution_count": 245,
      "outputs": [
        {
          "output_type": "execute_result",
          "data": {
            "text/plain": [
              "tensor(125., grad_fn=<SumBackward0>)"
            ]
          },
          "metadata": {
            "tags": []
          },
          "execution_count": 245
        }
      ]
    },
    {
      "cell_type": "code",
      "metadata": {
        "id": "1Au5hwcW3jsj",
        "colab": {
          "base_uri": "https://localhost:8080/"
        },
        "outputId": "7e228a1b-097d-4907-e5b2-0e7c51f73293"
      },
      "source": [
        "yt.backward()\n",
        "xt.grad"
      ],
      "execution_count": 246,
      "outputs": [
        {
          "output_type": "execute_result",
          "data": {
            "text/plain": [
              "tensor([ 6.,  8., 20.])"
            ]
          },
          "metadata": {
            "tags": []
          },
          "execution_count": 246
        }
      ]
    },
    {
      "cell_type": "markdown",
      "metadata": {
        "id": "_JgPG2AB3jsj"
      },
      "source": [
        "### Stepping With a Learning Rate"
      ]
    },
    {
      "cell_type": "markdown",
      "metadata": {
        "id": "rOQkJnXV3jsj"
      },
      "source": [
        "### An End-to-End SGD Example"
      ]
    },
    {
      "cell_type": "code",
      "metadata": {
        "id": "7C7s05vQ3jsj",
        "colab": {
          "base_uri": "https://localhost:8080/"
        },
        "outputId": "5c9d8747-5f26-4358-eb55-87dac03595f2"
      },
      "source": [
        "time = torch.arange(0,20).float(); time"
      ],
      "execution_count": 247,
      "outputs": [
        {
          "output_type": "execute_result",
          "data": {
            "text/plain": [
              "tensor([ 0.,  1.,  2.,  3.,  4.,  5.,  6.,  7.,  8.,  9., 10., 11., 12., 13., 14., 15., 16., 17., 18., 19.])"
            ]
          },
          "metadata": {
            "tags": []
          },
          "execution_count": 247
        }
      ]
    },
    {
      "cell_type": "code",
      "metadata": {
        "id": "hZGp-bFW3jsj",
        "colab": {
          "base_uri": "https://localhost:8080/",
          "height": 265
        },
        "outputId": "f5df888a-a0a4-4b02-aea4-25f3626872da"
      },
      "source": [
        "speed = torch.randn(20)*3 + 0.75*(time-9.5)**2 + 1\n",
        "plt.scatter(time,speed);"
      ],
      "execution_count": 248,
      "outputs": [
        {
          "output_type": "display_data",
          "data": {
            "image/png": "[encoded data removed]",
            "text/plain": [
              "<Figure size 432x288 with 1 Axes>"
            ]
          },
          "metadata": {
            "tags": [],
            "needs_background": "light"
          }
        }
      ]
    },
    {
      "cell_type": "code",
      "metadata": {
        "id": "ZAIRC_Tx3jsj"
      },
      "source": [
        "def f(t, params):\n",
        "    a,b,c = params\n",
        "    return a*(t**2) + (b*t) + c"
      ],
      "execution_count": 249,
      "outputs": []
    },
    {
      "cell_type": "code",
      "metadata": {
        "id": "NZL3rD9U3jsj"
      },
      "source": [
        "def mse(preds, targets): return ((preds-targets)**2).mean()"
      ],
      "execution_count": 250,
      "outputs": []
    },
    {
      "cell_type": "markdown",
      "metadata": {
        "id": "c331XNtm3jsj"
      },
      "source": [
        "#### Step 1: Initialize the parameters"
      ]
    },
    {
      "cell_type": "code",
      "metadata": {
        "id": "Ay_LiSL23jsj"
      },
      "source": [
        "params = torch.randn(3).requires_grad_()"
      ],
      "execution_count": 251,
      "outputs": []
    },
    {
      "cell_type": "code",
      "metadata": {
        "id": "Kc6h14lU3jsj"
      },
      "source": [
        "#hide\n",
        "orig_params = params.clone()"
      ],
      "execution_count": 252,
      "outputs": []
    },
    {
      "cell_type": "markdown",
      "metadata": {
        "id": "LpFU4DDI3jsj"
      },
      "source": [
        "#### Step 2: Calculate the predictions"
      ]
    },
    {
      "cell_type": "code",
      "metadata": {
        "id": "m4C3biiT3jsj"
      },
      "source": [
        "preds = f(time, params)"
      ],
      "execution_count": 253,
      "outputs": []
    },
    {
      "cell_type": "code",
      "metadata": {
        "id": "J6Ikpj-J3jsj"
      },
      "source": [
        "def show_preds(preds, ax=None):\n",
        "    if ax is None: ax=plt.subplots()[1]\n",
        "    ax.scatter(time, speed)\n",
        "    ax.scatter(time, to_np(preds), color='red')\n",
        "    ax.set_ylim(-300,100)"
      ],
      "execution_count": 254,
      "outputs": []
    },
    {
      "cell_type": "code",
      "metadata": {
        "id": "sbgqgRND3jsj",
        "colab": {
          "base_uri": "https://localhost:8080/",
          "height": 269
        },
        "outputId": "94dbe752-1713-4b56-b117-0f0f1ba55a9e"
      },
      "source": [
        "show_preds(preds)"
      ],
      "execution_count": 255,
      "outputs": [
        {
          "output_type": "display_data",
          "data": {
            "image/png": "[encoded data removed]",
            "text/plain": [
              "<Figure size 432x288 with 1 Axes>"
            ]
          },
          "metadata": {
            "tags": [],
            "needs_background": "light"
          }
        }
      ]
    },
    {
      "cell_type": "markdown",
      "metadata": {
        "id": "ARRYqGNo3jsj"
      },
      "source": [
        "#### Step 3: Calculate the loss"
      ]
    },
    {
      "cell_type": "code",
      "metadata": {
        "id": "iBHg-_VJ3jsj",
        "colab": {
          "base_uri": "https://localhost:8080/"
        },
        "outputId": "9b70e8db-1a49-4df7-9827-63c48389a68c"
      },
      "source": [
        "loss = mse(preds, speed)\n",
        "loss"
      ],
      "execution_count": 256,
      "outputs": [
        {
          "output_type": "execute_result",
          "data": {
            "text/plain": [
              "tensor(978.4811, grad_fn=<MeanBackward0>)"
            ]
          },
          "metadata": {
            "tags": []
          },
          "execution_count": 256
        }
      ]
    },
    {
      "cell_type": "markdown",
      "metadata": {
        "id": "4tuECSlE3jsj"
      },
      "source": [
        "#### Step 4: Calculate the gradients"
      ]
    },
    {
      "cell_type": "code",
      "metadata": {
        "id": "SPL762b33jsj",
        "colab": {
          "base_uri": "https://localhost:8080/"
        },
        "outputId": "8bc88d7c-9d7a-446a-9a15-e9cb965a9f36"
      },
      "source": [
        "loss.backward()\n",
        "params.grad"
      ],
      "execution_count": 257,
      "outputs": [
        {
          "output_type": "execute_result",
          "data": {
            "text/plain": [
              "tensor([6098.6118,  385.2003,    7.0187])"
            ]
          },
          "metadata": {
            "tags": []
          },
          "execution_count": 257
        }
      ]
    },
    {
      "cell_type": "code",
      "metadata": {
        "id": "y1LWiRn63jsj",
        "colab": {
          "base_uri": "https://localhost:8080/"
        },
        "outputId": "4c4b070a-0b4f-4b11-dd54-83d2c4810acd"
      },
      "source": [
        "params.grad * 1e-5"
      ],
      "execution_count": 258,
      "outputs": [
        {
          "output_type": "execute_result",
          "data": {
            "text/plain": [
              "tensor([6.0986e-02, 3.8520e-03, 7.0187e-05])"
            ]
          },
          "metadata": {
            "tags": []
          },
          "execution_count": 258
        }
      ]
    },
    {
      "cell_type": "code",
      "metadata": {
        "id": "UkZU3HpT3jsj",
        "colab": {
          "base_uri": "https://localhost:8080/"
        },
        "outputId": "318a0ec7-1631-46ef-eac8-954eeea0605b"
      },
      "source": [
        "params"
      ],
      "execution_count": 259,
      "outputs": [
        {
          "output_type": "execute_result",
          "data": {
            "text/plain": [
              "tensor([ 0.2826, -0.5680,  0.4640], requires_grad=True)"
            ]
          },
          "metadata": {
            "tags": []
          },
          "execution_count": 259
        }
      ]
    },
    {
      "cell_type": "markdown",
      "metadata": {
        "id": "fLXJaG153jsj"
      },
      "source": [
        "#### Step 5: Step the weights. "
      ]
    },
    {
      "cell_type": "code",
      "metadata": {
        "id": "NNlg8J703jsj"
      },
      "source": [
        "lr = 1e-5\n",
        "params.data -= lr * params.grad.data\n",
        "params.grad = None"
      ],
      "execution_count": 260,
      "outputs": []
    },
    {
      "cell_type": "code",
      "metadata": {
        "id": "zp1kPRln3jsj",
        "colab": {
          "base_uri": "https://localhost:8080/"
        },
        "outputId": "ef5db886-f7e9-4483-e919-6cc3582972cb"
      },
      "source": [
        "preds = f(time,params)\n",
        "mse(preds, speed)"
      ],
      "execution_count": 261,
      "outputs": [
        {
          "output_type": "execute_result",
          "data": {
            "text/plain": [
              "tensor(710.5535, grad_fn=<MeanBackward0>)"
            ]
          },
          "metadata": {
            "tags": []
          },
          "execution_count": 261
        }
      ]
    },
    {
      "cell_type": "code",
      "metadata": {
        "id": "wS_Jc-eX3jsj",
        "colab": {
          "base_uri": "https://localhost:8080/",
          "height": 269
        },
        "outputId": "5cf94e7b-409c-41cf-93be-cd0d0a93ad1d"
      },
      "source": [
        "show_preds(preds)"
      ],
      "execution_count": 262,
      "outputs": [
        {
          "output_type": "display_data",
          "data": {
            "image/png": "[encoded data removed]",
            "text/plain": [
              "<Figure size 432x288 with 1 Axes>"
            ]
          },
          "metadata": {
            "tags": [],
            "needs_background": "light"
          }
        }
      ]
    },
    {
      "cell_type": "code",
      "metadata": {
        "id": "7ayaZ8bi3jsj"
      },
      "source": [
        "def apply_step(params, prn=True):\n",
        "    preds = f(time, params)\n",
        "    loss = mse(preds, speed)\n",
        "    loss.backward()\n",
        "    params.data -= lr * params.grad.data\n",
        "    params.grad = None\n",
        "    if prn: print(loss.item())\n",
        "    return preds"
      ],
      "execution_count": 263,
      "outputs": []
    },
    {
      "cell_type": "markdown",
      "metadata": {
        "id": "HvJqpnar3jsj"
      },
      "source": [
        "#### Step 6: Repeat the process "
      ]
    },
    {
      "cell_type": "code",
      "metadata": {
        "id": "U0Mf8oey3jsj",
        "colab": {
          "base_uri": "https://localhost:8080/"
        },
        "outputId": "17d7b464-62a0-412f-9319-c13a5b09c17c"
      },
      "source": [
        "for i in range(10): apply_step(params)"
      ],
      "execution_count": 264,
      "outputs": [
        {
          "output_type": "stream",
          "text": [
            "710.5535278320312\n",
            "659.8499755859375\n",
            "650.2518310546875\n",
            "648.4320678710938\n",
            "648.0842895507812\n",
            "648.0150146484375\n",
            "647.9983520507812\n",
            "647.9917602539062\n",
            "647.9869995117188\n",
            "647.9825439453125\n"
          ],
          "name": "stdout"
        }
      ]
    },
    {
      "cell_type": "code",
      "metadata": {
        "id": "5diUTV603jsj"
      },
      "source": [
        "#hide\n",
        "params = orig_params.detach().requires_grad_()"
      ],
      "execution_count": 265,
      "outputs": []
    },
    {
      "cell_type": "code",
      "metadata": {
        "id": "0LJn_hXZ3jsj",
        "colab": {
          "base_uri": "https://localhost:8080/",
          "height": 225
        },
        "outputId": "d4412403-027a-4f86-abc3-ae8472f80fc1"
      },
      "source": [
        "_,axs = plt.subplots(1,4,figsize=(12,3))\n",
        "for ax in axs: show_preds(apply_step(params, False), ax)\n",
        "plt.tight_layout()"
      ],
      "execution_count": 266,
      "outputs": [
        {
          "output_type": "display_data",
          "data": {
            "image/png": "[encoded data removed]",
            "text/plain": [
              "<Figure size 864x216 with 4 Axes>"
            ]
          },
          "metadata": {
            "tags": [],
            "needs_background": "light"
          }
        }
      ]
    },
    {
      "cell_type": "markdown",
      "metadata": {
        "id": "NZUL55kR3jsj"
      },
      "source": [
        "#### Step 7: stop"
      ]
    },
    {
      "cell_type": "markdown",
      "metadata": {
        "id": "YRlqqDl63jsj"
      },
      "source": [
        "### Summarizing Gradient Descent"
      ]
    },
    {
      "cell_type": "code",
      "metadata": {
        "id": "OF9Udga23jsj",
        "colab": {
          "base_uri": "https://localhost:8080/",
          "height": 125
        },
        "outputId": "2f59f662-8908-4a84-a425-dcbf282266cc"
      },
      "source": [
        "gv('''\n",
        "init->predict->loss->gradient->step->stop\n",
        "step->predict[label=repeat]\n",
        "''')"
      ],
      "execution_count": 267,
      "outputs": [
        {
          "output_type": "execute_result",
          "data": {
            "text/plain": [
              "<graphviz.files.Source at 0x7f84a21d1208>"
            ],
            "image/svg+xml": "<?xml version=\"1.0\" encoding=\"UTF-8\" standalone=\"no\"?>\n<!DOCTYPE svg PUBLIC \"-//W3C//DTD SVG 1.1//EN\"\n \"http://www.w3.org/Graphics/SVG/1.1/DTD/svg11.dtd\">\n<!-- Generated by graphviz version 2.40.1 (20161225.0304)\n -->\n<!-- Title: G Pages: 1 -->\n<svg width=\"597pt\" height=\"78pt\"\n viewBox=\"0.00 0.00 596.69 78.00\" xmlns=\"http://www.w3.org/2000/svg\" xmlns:xlink=\"http://www.w3.org/1999/xlink\">\n<g id=\"graph0\" class=\"graph\" transform=\"scale(1 1) rotate(0) translate(4 74)\">\n<title>G</title>\n<polygon fill=\"#ffffff\" stroke=\"transparent\" points=\"-4,4 -4,-74 592.6863,-74 592.6863,4 -4,4\"/>\n<!-- init -->\n<g id=\"node1\" class=\"node\">\n<title>init</title>\n<ellipse fill=\"none\" stroke=\"#000000\" cx=\"27\" cy=\"-18\" rx=\"27\" ry=\"18\"/>\n<text text-anchor=\"middle\" x=\"27\" y=\"-14.3\" font-family=\"Times,serif\" font-size=\"14.00\" fill=\"#000000\">init</text>\n</g>\n<!-- predict -->\n<g id=\"node2\" class=\"node\">\n<title>predict</title>\n<ellipse fill=\"none\" stroke=\"#000000\" cx=\"127.3968\" cy=\"-18\" rx=\"36.2938\" ry=\"18\"/>\n<text text-anchor=\"middle\" x=\"127.3968\" y=\"-14.3\" font-family=\"Times,serif\" font-size=\"14.00\" fill=\"#000000\">predict</text>\n</g>\n<!-- init&#45;&gt;predict -->\n<g id=\"edge1\" class=\"edge\">\n<title>init&#45;&gt;predict</title>\n<path fill=\"none\" stroke=\"#000000\" d=\"M54.1688,-18C62.3543,-18 71.5827,-18 80.6596,-18\"/>\n<polygon fill=\"#000000\" stroke=\"#000000\" points=\"80.7795,-21.5001 90.7795,-18 80.7795,-14.5001 80.7795,-21.5001\"/>\n</g>\n<!-- loss -->\n<g id=\"node3\" class=\"node\">\n<title>loss</title>\n<ellipse fill=\"none\" stroke=\"#000000\" cx=\"227.7935\" cy=\"-52\" rx=\"27\" ry=\"18\"/>\n<text text-anchor=\"middle\" x=\"227.7935\" y=\"-48.3\" font-family=\"Times,serif\" font-size=\"14.00\" fill=\"#000000\">loss</text>\n</g>\n<!-- predict&#45;&gt;loss -->\n<g id=\"edge2\" class=\"edge\">\n<title>predict&#45;&gt;loss</title>\n<path fill=\"none\" stroke=\"#000000\" d=\"M157.5191,-28.2011C168.9806,-32.0826 182.1139,-36.5303 193.9014,-40.5222\"/>\n<polygon fill=\"#000000\" stroke=\"#000000\" points=\"192.8259,-43.8532 203.4202,-43.7458 195.0713,-37.2231 192.8259,-43.8532\"/>\n</g>\n<!-- gradient -->\n<g id=\"node4\" class=\"node\">\n<title>gradient</title>\n<ellipse fill=\"none\" stroke=\"#000000\" cx=\"365.7399\" cy=\"-52\" rx=\"40.8928\" ry=\"18\"/>\n<text text-anchor=\"middle\" x=\"365.7399\" y=\"-48.3\" font-family=\"Times,serif\" font-size=\"14.00\" fill=\"#000000\">gradient</text>\n</g>\n<!-- loss&#45;&gt;gradient -->\n<g id=\"edge3\" class=\"edge\">\n<title>loss&#45;&gt;gradient</title>\n<path fill=\"none\" stroke=\"#000000\" d=\"M255.0473,-52C272.0415,-52 294.4481,-52 314.6545,-52\"/>\n<polygon fill=\"#000000\" stroke=\"#000000\" points=\"314.671,-55.5001 324.671,-52 314.671,-48.5001 314.671,-55.5001\"/>\n</g>\n<!-- step -->\n<g id=\"node5\" class=\"node\">\n<title>step</title>\n<ellipse fill=\"none\" stroke=\"#000000\" cx=\"470.6863\" cy=\"-18\" rx=\"27\" ry=\"18\"/>\n<text text-anchor=\"middle\" x=\"470.6863\" y=\"-14.3\" font-family=\"Times,serif\" font-size=\"14.00\" fill=\"#000000\">step</text>\n</g>\n<!-- gradient&#45;&gt;step -->\n<g id=\"edge4\" class=\"edge\">\n<title>gradient&#45;&gt;step</title>\n<path fill=\"none\" stroke=\"#000000\" d=\"M398.9456,-41.2422C410.9558,-37.3512 424.5297,-32.9536 436.6132,-29.0388\"/>\n<polygon fill=\"#000000\" stroke=\"#000000\" points=\"437.9112,-32.2975 446.3457,-25.8857 435.7537,-25.6382 437.9112,-32.2975\"/>\n</g>\n<!-- step&#45;&gt;predict -->\n<g id=\"edge6\" class=\"edge\">\n<title>step&#45;&gt;predict</title>\n<path fill=\"none\" stroke=\"#000000\" d=\"M443.4266,-18C384.9297,-18 246.7861,-18 174.0495,-18\"/>\n<polygon fill=\"#000000\" stroke=\"#000000\" points=\"173.8098,-14.5001 163.8098,-18 173.8097,-21.5001 173.8098,-14.5001\"/>\n<text text-anchor=\"middle\" x=\"289.7935\" y=\"-21.8\" font-family=\"Times,serif\" font-size=\"14.00\" fill=\"#000000\">repeat</text>\n</g>\n<!-- stop -->\n<g id=\"node6\" class=\"node\">\n<title>stop</title>\n<ellipse fill=\"none\" stroke=\"#000000\" cx=\"561.6863\" cy=\"-18\" rx=\"27\" ry=\"18\"/>\n<text text-anchor=\"middle\" x=\"561.6863\" y=\"-14.3\" font-family=\"Times,serif\" font-size=\"14.00\" fill=\"#000000\">stop</text>\n</g>\n<!-- step&#45;&gt;stop -->\n<g id=\"edge5\" class=\"edge\">\n<title>step&#45;&gt;stop</title>\n<path fill=\"none\" stroke=\"#000000\" d=\"M497.9893,-18C506.2676,-18 515.508,-18 524.3268,-18\"/>\n<polygon fill=\"#000000\" stroke=\"#000000\" points=\"524.4026,-21.5001 534.4025,-18 524.4025,-14.5001 524.4026,-21.5001\"/>\n</g>\n</g>\n</svg>\n"
          },
          "metadata": {
            "tags": []
          },
          "execution_count": 267
        }
      ]
    },
    {
      "cell_type": "markdown",
      "metadata": {
        "id": "SK6RBxyG3jsj"
      },
      "source": [
        "## The MNIST Loss Function"
      ]
    },
    {
      "cell_type": "code",
      "metadata": {
        "id": "dKI69QJO3jsj"
      },
      "source": [
        "train_x = torch.cat([stacked_threes, stacked_sevens]).view(-1, 28*28)"
      ],
      "execution_count": 268,
      "outputs": []
    },
    {
      "cell_type": "code",
      "metadata": {
        "id": "6IFkdGyk3jsj",
        "outputId": "e3a81b36-dd85-4c9b-f114-d8b4202bde07",
        "colab": {
          "base_uri": "https://localhost:8080/"
        }
      },
      "source": [
        "train_y = tensor([1]*len(threes) + [0]*len(sevens)).unsqueeze(1)\n",
        "train_x.shape,train_y.shape"
      ],
      "execution_count": 269,
      "outputs": [
        {
          "output_type": "execute_result",
          "data": {
            "text/plain": [
              "(torch.Size([12396, 784]), torch.Size([12396, 1]))"
            ]
          },
          "metadata": {
            "tags": []
          },
          "execution_count": 269
        }
      ]
    },
    {
      "cell_type": "code",
      "metadata": {
        "id": "79kTbgdl3jsj",
        "outputId": "3ba0ea85-d955-48df-98eb-b39025b57bcc",
        "colab": {
          "base_uri": "https://localhost:8080/"
        }
      },
      "source": [
        "dset = list(zip(train_x,train_y))\n",
        "x,y = dset[0]\n",
        "x.shape,y"
      ],
      "execution_count": 270,
      "outputs": [
        {
          "output_type": "execute_result",
          "data": {
            "text/plain": [
              "(torch.Size([784]), tensor([1]))"
            ]
          },
          "metadata": {
            "tags": []
          },
          "execution_count": 270
        }
      ]
    },
    {
      "cell_type": "code",
      "metadata": {
        "id": "gs9QOain3jsj"
      },
      "source": [
        "valid_x = torch.cat([valid_3_tens, valid_7_tens]).view(-1, 28*28)\n",
        "valid_y = tensor([1]*len(valid_3_tens) + [0]*len(valid_7_tens)).unsqueeze(1)\n",
        "valid_dset = list(zip(valid_x,valid_y))"
      ],
      "execution_count": 271,
      "outputs": []
    },
    {
      "cell_type": "code",
      "metadata": {
        "id": "AfkRvxgH3jsj"
      },
      "source": [
        "def init_params(size, std=1.0): return (torch.randn(size)*std).requires_grad_()"
      ],
      "execution_count": 272,
      "outputs": []
    },
    {
      "cell_type": "code",
      "metadata": {
        "id": "CplLfDzm3jsj"
      },
      "source": [
        "weights = init_params((28*28,1))"
      ],
      "execution_count": 273,
      "outputs": []
    },
    {
      "cell_type": "code",
      "metadata": {
        "id": "04QhDVAn3jsk"
      },
      "source": [
        "bias = init_params(1)"
      ],
      "execution_count": 274,
      "outputs": []
    },
    {
      "cell_type": "code",
      "metadata": {
        "id": "Y3ly-X2O3jsk",
        "outputId": "fed7c890-4d20-4f6e-80db-3266d2d8a655",
        "colab": {
          "base_uri": "https://localhost:8080/"
        }
      },
      "source": [
        "(train_x[0]*weights.T).sum() + bias"
      ],
      "execution_count": 275,
      "outputs": [
        {
          "output_type": "execute_result",
          "data": {
            "text/plain": [
              "tensor([-2.0718], grad_fn=<AddBackward0>)"
            ]
          },
          "metadata": {
            "tags": []
          },
          "execution_count": 275
        }
      ]
    },
    {
      "cell_type": "code",
      "metadata": {
        "id": "nyFoQ-PN3jsk",
        "outputId": "bc5108f9-0d32-4002-dc35-a132b0814fcb",
        "colab": {
          "base_uri": "https://localhost:8080/"
        }
      },
      "source": [
        "def linear1(xb): return xb@weights + bias\n",
        "preds = linear1(train_x)\n",
        "preds"
      ],
      "execution_count": 276,
      "outputs": [
        {
          "output_type": "execute_result",
          "data": {
            "text/plain": [
              "tensor([[ -2.0718],\n",
              "        [  4.6982],\n",
              "        [  5.1459],\n",
              "        ...,\n",
              "        [-16.7550],\n",
              "        [ -4.0665],\n",
              "        [-16.7869]], grad_fn=<AddBackward0>)"
            ]
          },
          "metadata": {
            "tags": []
          },
          "execution_count": 276
        }
      ]
    },
    {
      "cell_type": "code",
      "metadata": {
        "id": "q_aDyhro3jsk",
        "outputId": "6621224f-94bc-44fc-a37a-1438379e3756",
        "colab": {
          "base_uri": "https://localhost:8080/"
        }
      },
      "source": [
        "corrects = (preds>0.0).float() == train_y\n",
        "corrects"
      ],
      "execution_count": 277,
      "outputs": [
        {
          "output_type": "execute_result",
          "data": {
            "text/plain": [
              "tensor([[False],\n",
              "        [ True],\n",
              "        [ True],\n",
              "        ...,\n",
              "        [ True],\n",
              "        [ True],\n",
              "        [ True]])"
            ]
          },
          "metadata": {
            "tags": []
          },
          "execution_count": 277
        }
      ]
    },
    {
      "cell_type": "code",
      "metadata": {
        "id": "nJG95iZ_3jsk",
        "outputId": "4ead520e-5857-4d05-936a-ffa4f5f27bcf",
        "colab": {
          "base_uri": "https://localhost:8080/"
        }
      },
      "source": [
        "corrects.float().mean().item()"
      ],
      "execution_count": 278,
      "outputs": [
        {
          "output_type": "execute_result",
          "data": {
            "text/plain": [
              "0.6635205149650574"
            ]
          },
          "metadata": {
            "tags": []
          },
          "execution_count": 278
        }
      ]
    },
    {
      "cell_type": "code",
      "metadata": {
        "id": "GWZ_9UFZ3jsk"
      },
      "source": [
        "weights[0] *= 1.0001"
      ],
      "execution_count": 279,
      "outputs": []
    },
    {
      "cell_type": "code",
      "metadata": {
        "id": "_kb-6i9d3jsk",
        "outputId": "9c2f0f18-33ed-4ef6-fe0b-832f4de892c1",
        "colab": {
          "base_uri": "https://localhost:8080/"
        }
      },
      "source": [
        "preds = linear1(train_x)\n",
        "((preds>0.0).float() == train_y).float().mean().item()"
      ],
      "execution_count": 280,
      "outputs": [
        {
          "output_type": "execute_result",
          "data": {
            "text/plain": [
              "0.6635205149650574"
            ]
          },
          "metadata": {
            "tags": []
          },
          "execution_count": 280
        }
      ]
    },
    {
      "cell_type": "code",
      "metadata": {
        "id": "vIP4Wu5q3jsk"
      },
      "source": [
        "trgts  = tensor([1,0,1])\n",
        "prds   = tensor([0.9, 0.4, 0.2])"
      ],
      "execution_count": 281,
      "outputs": []
    },
    {
      "cell_type": "code",
      "metadata": {
        "id": "1cobfivB3jsk"
      },
      "source": [
        "def mnist_loss(predictions, targets):\n",
        "    return torch.where(targets==1, 1-predictions, predictions).mean()"
      ],
      "execution_count": 282,
      "outputs": []
    },
    {
      "cell_type": "code",
      "metadata": {
        "id": "QD4gLt4J3jsk",
        "outputId": "f1861cec-8d27-4143-a124-e36595daaedc",
        "colab": {
          "base_uri": "https://localhost:8080/"
        }
      },
      "source": [
        "torch.where(trgts==1, 1-prds, prds)"
      ],
      "execution_count": 283,
      "outputs": [
        {
          "output_type": "execute_result",
          "data": {
            "text/plain": [
              "tensor([0.1000, 0.4000, 0.8000])"
            ]
          },
          "metadata": {
            "tags": []
          },
          "execution_count": 283
        }
      ]
    },
    {
      "cell_type": "code",
      "metadata": {
        "id": "819SuEJ33jsk",
        "outputId": "7d067665-0492-4d8b-ff76-ab35d01b78ad",
        "colab": {
          "base_uri": "https://localhost:8080/"
        }
      },
      "source": [
        "mnist_loss(prds,trgts)"
      ],
      "execution_count": 284,
      "outputs": [
        {
          "output_type": "execute_result",
          "data": {
            "text/plain": [
              "tensor(0.4333)"
            ]
          },
          "metadata": {
            "tags": []
          },
          "execution_count": 284
        }
      ]
    },
    {
      "cell_type": "code",
      "metadata": {
        "id": "RhdecejL3jsk",
        "outputId": "1d26157a-459b-4c86-923a-36ade56e6312",
        "colab": {
          "base_uri": "https://localhost:8080/"
        }
      },
      "source": [
        "mnist_loss(tensor([0.9, 0.4, 0.8]),trgts)"
      ],
      "execution_count": 285,
      "outputs": [
        {
          "output_type": "execute_result",
          "data": {
            "text/plain": [
              "tensor(0.2333)"
            ]
          },
          "metadata": {
            "tags": []
          },
          "execution_count": 285
        }
      ]
    },
    {
      "cell_type": "markdown",
      "metadata": {
        "id": "yrvN3wQL3jsk"
      },
      "source": [
        "### Sigmoid"
      ]
    },
    {
      "cell_type": "code",
      "metadata": {
        "id": "6ppbmRWo3jsk"
      },
      "source": [
        "def sigmoid(x): return 1/(1+torch.exp(-x))"
      ],
      "execution_count": 286,
      "outputs": []
    },
    {
      "cell_type": "code",
      "metadata": {
        "id": "9Snnt-gp3jsk",
        "outputId": "c8f0ed92-be8c-4dab-fb0c-19b9637a93e2",
        "colab": {
          "base_uri": "https://localhost:8080/",
          "height": 281
        }
      },
      "source": [
        "plot_function(torch.sigmoid, title='Sigmoid', min=-4, max=4)"
      ],
      "execution_count": 287,
      "outputs": [
        {
          "output_type": "display_data",
          "data": {
            "image/png": "[encoded data removed]",
            "text/plain": [
              "<Figure size 432x288 with 1 Axes>"
            ]
          },
          "metadata": {
            "tags": [],
            "needs_background": "light"
          }
        }
      ]
    },
    {
      "cell_type": "code",
      "metadata": {
        "id": "3Vy2e2ox3jsk"
      },
      "source": [
        "def mnist_loss(predictions, targets):\n",
        "    predictions = predictions.sigmoid()\n",
        "    return torch.where(targets==1, 1-predictions, predictions).mean()"
      ],
      "execution_count": 288,
      "outputs": []
    },
    {
      "cell_type": "markdown",
      "metadata": {
        "id": "suVwtWOe3jsk"
      },
      "source": [
        "### SGD and Mini-Batches"
      ]
    },
    {
      "cell_type": "code",
      "metadata": {
        "id": "qClcSkVk3jsk",
        "outputId": "39345c2d-cb84-4944-ad54-52fd94e4a32a",
        "colab": {
          "base_uri": "https://localhost:8080/"
        }
      },
      "source": [
        "coll = range(15)\n",
        "dl = DataLoader(coll, batch_size=5, shuffle=True)\n",
        "list(dl)"
      ],
      "execution_count": 289,
      "outputs": [
        {
          "output_type": "execute_result",
          "data": {
            "text/plain": [
              "[tensor([10, 12,  9, 14,  2]),\n",
              " tensor([ 3,  4,  6, 13,  7]),\n",
              " tensor([ 8, 11,  0,  5,  1])]"
            ]
          },
          "metadata": {
            "tags": []
          },
          "execution_count": 289
        }
      ]
    },
    {
      "cell_type": "code",
      "metadata": {
        "id": "2U1b90nq3jsk",
        "outputId": "d93e3d50-733b-429c-974f-90e7a195e04c",
        "colab": {
          "base_uri": "https://localhost:8080/"
        }
      },
      "source": [
        "ds = L(enumerate(string.ascii_lowercase))\n",
        "ds"
      ],
      "execution_count": 290,
      "outputs": [
        {
          "output_type": "execute_result",
          "data": {
            "text/plain": [
              "(#26) [(0, 'a'),(1, 'b'),(2, 'c'),(3, 'd'),(4, 'e'),(5, 'f'),(6, 'g'),(7, 'h'),(8, 'i'),(9, 'j')...]"
            ]
          },
          "metadata": {
            "tags": []
          },
          "execution_count": 290
        }
      ]
    },
    {
      "cell_type": "code",
      "metadata": {
        "id": "zdKa2q82fb1f",
        "outputId": "f08d31c5-a9fb-4a67-9181-5097d1aee283",
        "colab": {
          "base_uri": "https://localhost:8080/",
          "height": 35
        }
      },
      "source": [
        "string.ascii_lowercase"
      ],
      "execution_count": 291,
      "outputs": [
        {
          "output_type": "execute_result",
          "data": {
            "application/vnd.google.colaboratory.intrinsic+json": {
              "type": "string"
            },
            "text/plain": [
              "'abcdefghijklmnopqrstuvwxyz'"
            ]
          },
          "metadata": {
            "tags": []
          },
          "execution_count": 291
        }
      ]
    },
    {
      "cell_type": "code",
      "metadata": {
        "id": "M7joPWXd3jsk",
        "outputId": "fdaaad68-5136-44fb-c8e1-e1e7ba333837",
        "colab": {
          "base_uri": "https://localhost:8080/"
        }
      },
      "source": [
        "dl = DataLoader(ds, batch_size=6, shuffle=True)\n",
        "list(dl)"
      ],
      "execution_count": 292,
      "outputs": [
        {
          "output_type": "execute_result",
          "data": {
            "text/plain": [
              "[(tensor([ 5,  9,  8, 15,  4, 24]), ('f', 'j', 'i', 'p', 'e', 'y')),\n",
              " (tensor([ 0, 18, 12, 10,  6, 20]), ('a', 's', 'm', 'k', 'g', 'u')),\n",
              " (tensor([17, 16, 23, 13,  3, 14]), ('r', 'q', 'x', 'n', 'd', 'o')),\n",
              " (tensor([21, 22,  7, 19,  1,  2]), ('v', 'w', 'h', 't', 'b', 'c')),\n",
              " (tensor([11, 25]), ('l', 'z'))]"
            ]
          },
          "metadata": {
            "tags": []
          },
          "execution_count": 292
        }
      ]
    },
    {
      "cell_type": "code",
      "metadata": {
        "id": "o24XNuhKgL4x",
        "outputId": "fc53ee3a-6119-4f7e-d54e-0891b5d4649c",
        "colab": {
          "base_uri": "https://localhost:8080/",
          "height": 35
        }
      },
      "source": [
        "string.ascii_uppercase"
      ],
      "execution_count": 293,
      "outputs": [
        {
          "output_type": "execute_result",
          "data": {
            "application/vnd.google.colaboratory.intrinsic+json": {
              "type": "string"
            },
            "text/plain": [
              "'ABCDEFGHIJKLMNOPQRSTUVWXYZ'"
            ]
          },
          "metadata": {
            "tags": []
          },
          "execution_count": 293
        }
      ]
    },
    {
      "cell_type": "code",
      "metadata": {
        "id": "w6uysI47fg4v",
        "outputId": "4fe959fc-59f0-4ded-8d51-c1f4b861bf65",
        "colab": {
          "base_uri": "https://localhost:8080/"
        }
      },
      "source": [
        "ds_mine = list(enumerate(string.ascii_uppercase))\r\n",
        "ds_mine"
      ],
      "execution_count": 294,
      "outputs": [
        {
          "output_type": "execute_result",
          "data": {
            "text/plain": [
              "[(0, 'A'),\n",
              " (1, 'B'),\n",
              " (2, 'C'),\n",
              " (3, 'D'),\n",
              " (4, 'E'),\n",
              " (5, 'F'),\n",
              " (6, 'G'),\n",
              " (7, 'H'),\n",
              " (8, 'I'),\n",
              " (9, 'J'),\n",
              " (10, 'K'),\n",
              " (11, 'L'),\n",
              " (12, 'M'),\n",
              " (13, 'N'),\n",
              " (14, 'O'),\n",
              " (15, 'P'),\n",
              " (16, 'Q'),\n",
              " (17, 'R'),\n",
              " (18, 'S'),\n",
              " (19, 'T'),\n",
              " (20, 'U'),\n",
              " (21, 'V'),\n",
              " (22, 'W'),\n",
              " (23, 'X'),\n",
              " (24, 'Y'),\n",
              " (25, 'Z')]"
            ]
          },
          "metadata": {
            "tags": []
          },
          "execution_count": 294
        }
      ]
    },
    {
      "cell_type": "code",
      "metadata": {
        "id": "Y0zHINeafbHa",
        "outputId": "709efe4d-decc-4e3c-cf22-5fe496339c41",
        "colab": {
          "base_uri": "https://localhost:8080/"
        }
      },
      "source": [
        "dl_mine = DataLoader(ds_mine, batch_size=6, shuffle=True)\r\n",
        "list(dl_mine)"
      ],
      "execution_count": 295,
      "outputs": [
        {
          "output_type": "execute_result",
          "data": {
            "text/plain": [
              "[(tensor([ 1,  4, 21,  5, 17, 24]), ('B', 'E', 'V', 'F', 'R', 'Y')),\n",
              " (tensor([23,  9, 22, 13,  2,  6]), ('X', 'J', 'W', 'N', 'C', 'G')),\n",
              " (tensor([16, 12, 14,  7, 20, 15]), ('Q', 'M', 'O', 'H', 'U', 'P')),\n",
              " (tensor([ 8, 18,  3,  0, 25, 19]), ('I', 'S', 'D', 'A', 'Z', 'T')),\n",
              " (tensor([11, 10]), ('L', 'K'))]"
            ]
          },
          "metadata": {
            "tags": []
          },
          "execution_count": 295
        }
      ]
    },
    {
      "cell_type": "markdown",
      "metadata": {
        "id": "xzjneh2I3jsk"
      },
      "source": [
        "## Putting It All Together"
      ]
    },
    {
      "cell_type": "code",
      "metadata": {
        "id": "wMSaVzdQ3jsk"
      },
      "source": [
        "weights = init_params((28*28,1))\n",
        "bias = init_params(1)"
      ],
      "execution_count": 296,
      "outputs": []
    },
    {
      "cell_type": "code",
      "metadata": {
        "id": "U4a--qoR3jsk",
        "outputId": "c727a0cc-74f0-43c8-f138-1e8d0978d566",
        "colab": {
          "base_uri": "https://localhost:8080/"
        }
      },
      "source": [
        "dl = DataLoader(dset, batch_size=256)\n",
        "xb,yb = first(dl)\n",
        "xb.shape,yb.shape"
      ],
      "execution_count": 297,
      "outputs": [
        {
          "output_type": "execute_result",
          "data": {
            "text/plain": [
              "(torch.Size([256, 784]), torch.Size([256, 1]))"
            ]
          },
          "metadata": {
            "tags": []
          },
          "execution_count": 297
        }
      ]
    },
    {
      "cell_type": "code",
      "metadata": {
        "id": "S73GOoAk3jsk"
      },
      "source": [
        "valid_dl = DataLoader(valid_dset, batch_size=256)"
      ],
      "execution_count": 298,
      "outputs": []
    },
    {
      "cell_type": "code",
      "metadata": {
        "id": "RV9gOgY33jsk",
        "outputId": "64f35705-1c43-4fa5-fc51-fcdc6ff73f51",
        "colab": {
          "base_uri": "https://localhost:8080/"
        }
      },
      "source": [
        "batch = train_x[:4]\n",
        "batch.shape"
      ],
      "execution_count": 299,
      "outputs": [
        {
          "output_type": "execute_result",
          "data": {
            "text/plain": [
              "torch.Size([4, 784])"
            ]
          },
          "metadata": {
            "tags": []
          },
          "execution_count": 299
        }
      ]
    },
    {
      "cell_type": "code",
      "metadata": {
        "id": "WvNrfe3giOpr"
      },
      "source": [
        "linear1??"
      ],
      "execution_count": 300,
      "outputs": []
    },
    {
      "cell_type": "code",
      "metadata": {
        "id": "2MG4ja6d3jsk",
        "outputId": "b272913c-249e-4aba-a8a5-87851f135b53",
        "colab": {
          "base_uri": "https://localhost:8080/"
        }
      },
      "source": [
        "preds = linear1(batch)\n",
        "preds"
      ],
      "execution_count": 301,
      "outputs": [
        {
          "output_type": "execute_result",
          "data": {
            "text/plain": [
              "tensor([[11.5121],\n",
              "        [ 5.2608],\n",
              "        [14.8274],\n",
              "        [ 1.7775]], grad_fn=<AddBackward0>)"
            ]
          },
          "metadata": {
            "tags": []
          },
          "execution_count": 301
        }
      ]
    },
    {
      "cell_type": "code",
      "metadata": {
        "id": "xIAquxYf3jsk",
        "outputId": "c664c0a5-7da8-428b-fc53-f1cd7cb07064",
        "colab": {
          "base_uri": "https://localhost:8080/"
        }
      },
      "source": [
        "loss = mnist_loss(preds, train_y[:4])\n",
        "loss"
      ],
      "execution_count": 302,
      "outputs": [
        {
          "output_type": "execute_result",
          "data": {
            "text/plain": [
              "tensor(0.0374, grad_fn=<MeanBackward0>)"
            ]
          },
          "metadata": {
            "tags": []
          },
          "execution_count": 302
        }
      ]
    },
    {
      "cell_type": "code",
      "metadata": {
        "id": "rBkAXFSn3jsk",
        "outputId": "add7d12e-9c02-419a-d86c-1a4cde565e13",
        "colab": {
          "base_uri": "https://localhost:8080/"
        }
      },
      "source": [
        "loss.backward()\n",
        "weights.grad.shape,weights.grad.mean(),bias.grad"
      ],
      "execution_count": 303,
      "outputs": [
        {
          "output_type": "execute_result",
          "data": {
            "text/plain": [
              "(torch.Size([784, 1]), tensor(-0.0056), tensor([-0.0322]))"
            ]
          },
          "metadata": {
            "tags": []
          },
          "execution_count": 303
        }
      ]
    },
    {
      "cell_type": "code",
      "metadata": {
        "id": "uoVtbSBf3jsk"
      },
      "source": [
        "def calc_grad(xb, yb, model):\n",
        "    preds = model(xb)\n",
        "    loss = mnist_loss(preds, yb)\n",
        "    loss.backward()"
      ],
      "execution_count": 304,
      "outputs": []
    },
    {
      "cell_type": "code",
      "metadata": {
        "id": "m8oynhYN3jsk",
        "outputId": "32955d25-854c-46b4-91e9-62c5c07ce4a6",
        "colab": {
          "base_uri": "https://localhost:8080/"
        }
      },
      "source": [
        "calc_grad(batch, train_y[:4], linear1)\n",
        "weights.grad.mean(),bias.grad"
      ],
      "execution_count": 305,
      "outputs": [
        {
          "output_type": "execute_result",
          "data": {
            "text/plain": [
              "(tensor(-0.0112), tensor([-0.0644]))"
            ]
          },
          "metadata": {
            "tags": []
          },
          "execution_count": 305
        }
      ]
    },
    {
      "cell_type": "code",
      "metadata": {
        "id": "L5Rhm5rH3jsk",
        "outputId": "2ea89ee4-0fee-4f64-b780-61f59140bee4",
        "colab": {
          "base_uri": "https://localhost:8080/"
        }
      },
      "source": [
        "calc_grad(batch, train_y[:4], linear1)\n",
        "weights.grad.mean(),bias.grad"
      ],
      "execution_count": 306,
      "outputs": [
        {
          "output_type": "execute_result",
          "data": {
            "text/plain": [
              "(tensor(-0.0169), tensor([-0.0966]))"
            ]
          },
          "metadata": {
            "tags": []
          },
          "execution_count": 306
        }
      ]
    },
    {
      "cell_type": "code",
      "metadata": {
        "id": "-UJzRWcG3jsk"
      },
      "source": [
        "weights.grad.zero_()\n",
        "bias.grad.zero_();"
      ],
      "execution_count": 307,
      "outputs": []
    },
    {
      "cell_type": "code",
      "metadata": {
        "id": "t_QgX_7A3jsk"
      },
      "source": [
        "def train_epoch(model, lr, params):\n",
        "    for xb,yb in dl:\n",
        "        calc_grad(xb, yb, model)\n",
        "        for p in params:\n",
        "            p.data -= p.grad*lr\n",
        "            p.grad.zero_()"
      ],
      "execution_count": 308,
      "outputs": []
    },
    {
      "cell_type": "code",
      "metadata": {
        "id": "zeEk2mOS3jsk",
        "outputId": "fbd4b971-a0a3-4882-ab83-465730d52dbb",
        "colab": {
          "base_uri": "https://localhost:8080/"
        }
      },
      "source": [
        "(preds>0.0).float() == train_y[:4]"
      ],
      "execution_count": 309,
      "outputs": [
        {
          "output_type": "execute_result",
          "data": {
            "text/plain": [
              "tensor([[True],\n",
              "        [True],\n",
              "        [True],\n",
              "        [True]])"
            ]
          },
          "metadata": {
            "tags": []
          },
          "execution_count": 309
        }
      ]
    },
    {
      "cell_type": "code",
      "metadata": {
        "id": "21C8PBeW3jsk"
      },
      "source": [
        "def batch_accuracy(xb, yb):\n",
        "    preds = xb.sigmoid()\n",
        "    correct = (preds>0.5) == yb\n",
        "    return correct.float().mean()"
      ],
      "execution_count": 310,
      "outputs": []
    },
    {
      "cell_type": "code",
      "metadata": {
        "id": "eoLmGB-13jsk",
        "outputId": "c0225c77-9516-4a58-9af2-00abc6b99484",
        "colab": {
          "base_uri": "https://localhost:8080/"
        }
      },
      "source": [
        "batch_accuracy(linear1(batch), train_y[:4])"
      ],
      "execution_count": 311,
      "outputs": [
        {
          "output_type": "execute_result",
          "data": {
            "text/plain": [
              "tensor(1.)"
            ]
          },
          "metadata": {
            "tags": []
          },
          "execution_count": 311
        }
      ]
    },
    {
      "cell_type": "code",
      "metadata": {
        "id": "qx57wHE23jsk"
      },
      "source": [
        "def validate_epoch(model):\n",
        "    accs = [batch_accuracy(model(xb), yb) for xb,yb in valid_dl]\n",
        "    return round(torch.stack(accs).mean().item(), 4)"
      ],
      "execution_count": 312,
      "outputs": []
    },
    {
      "cell_type": "code",
      "metadata": {
        "id": "yda0KbUf3jsl",
        "outputId": "cddd6387-1732-419e-9a5a-8ebaa6089bd6",
        "colab": {
          "base_uri": "https://localhost:8080/"
        }
      },
      "source": [
        "validate_epoch(linear1)"
      ],
      "execution_count": 313,
      "outputs": [
        {
          "output_type": "execute_result",
          "data": {
            "text/plain": [
              "0.4623"
            ]
          },
          "metadata": {
            "tags": []
          },
          "execution_count": 313
        }
      ]
    },
    {
      "cell_type": "code",
      "metadata": {
        "id": "GTBITXmq3jsl",
        "outputId": "285ecb48-c99a-4c75-ccfd-8b68c7079592",
        "colab": {
          "base_uri": "https://localhost:8080/"
        }
      },
      "source": [
        "lr = 1.\n",
        "params = weights,bias\n",
        "train_epoch(linear1, lr, params)\n",
        "validate_epoch(linear1)"
      ],
      "execution_count": 314,
      "outputs": [
        {
          "output_type": "execute_result",
          "data": {
            "text/plain": [
              "0.6578"
            ]
          },
          "metadata": {
            "tags": []
          },
          "execution_count": 314
        }
      ]
    },
    {
      "cell_type": "code",
      "metadata": {
        "id": "aGRr12-X3jsl",
        "outputId": "bc096825-bcc0-4018-9561-75737f513320",
        "colab": {
          "base_uri": "https://localhost:8080/"
        }
      },
      "source": [
        "for i in range(20):\n",
        "    train_epoch(linear1, lr, params)\n",
        "    print(validate_epoch(linear1), end=' ')"
      ],
      "execution_count": 315,
      "outputs": [
        {
          "output_type": "stream",
          "text": [
            "0.7856 0.9125 0.9438 0.9589 0.9614 0.9609 0.9643 0.9687 0.9702 0.9716 0.9731 0.9731 0.9746 0.9751 0.9761 0.9765 0.977 0.977 0.9785 0.9785 "
          ],
          "name": "stdout"
        }
      ]
    },
    {
      "cell_type": "markdown",
      "metadata": {
        "id": "fTE3MbJi3jsl"
      },
      "source": [
        "### Creating an Optimizer"
      ]
    },
    {
      "cell_type": "code",
      "metadata": {
        "id": "PUf4_5YZ3jsl"
      },
      "source": [
        "linear_model = nn.Linear(28*28,1)"
      ],
      "execution_count": 316,
      "outputs": []
    },
    {
      "cell_type": "code",
      "metadata": {
        "id": "ZJwpf6oI3jsl",
        "outputId": "b8d14388-043d-4999-a7d0-b8c4afa255a2",
        "colab": {
          "base_uri": "https://localhost:8080/"
        }
      },
      "source": [
        "w,b = linear_model.parameters()\n",
        "w.shape,b.shape"
      ],
      "execution_count": 317,
      "outputs": [
        {
          "output_type": "execute_result",
          "data": {
            "text/plain": [
              "(torch.Size([1, 784]), torch.Size([1]))"
            ]
          },
          "metadata": {
            "tags": []
          },
          "execution_count": 317
        }
      ]
    },
    {
      "cell_type": "code",
      "metadata": {
        "id": "kf2EavFx3jsl"
      },
      "source": [
        "class BasicOptim:\n",
        "    def __init__(self,params,lr): self.params,self.lr = list(params),lr\n",
        "\n",
        "    def step(self, *args, **kwargs):\n",
        "        for p in self.params: p.data -= p.grad.data * self.lr\n",
        "\n",
        "    def zero_grad(self, *args, **kwargs):\n",
        "        for p in self.params: p.grad = None"
      ],
      "execution_count": 318,
      "outputs": []
    },
    {
      "cell_type": "code",
      "metadata": {
        "id": "lDXpXnUl3jsl"
      },
      "source": [
        "opt = BasicOptim(linear_model.parameters(), lr)"
      ],
      "execution_count": 319,
      "outputs": []
    },
    {
      "cell_type": "code",
      "metadata": {
        "id": "TVikfna_3jsl"
      },
      "source": [
        "def train_epoch(model):\n",
        "    for xb,yb in dl:\n",
        "        calc_grad(xb, yb, model)\n",
        "        opt.step()\n",
        "        opt.zero_grad()"
      ],
      "execution_count": 320,
      "outputs": []
    },
    {
      "cell_type": "code",
      "metadata": {
        "id": "68vdEgim3jsl",
        "outputId": "b38f0f7c-432b-4a31-de34-b8210ea0e69b",
        "colab": {
          "base_uri": "https://localhost:8080/"
        }
      },
      "source": [
        "validate_epoch(linear_model)"
      ],
      "execution_count": 321,
      "outputs": [
        {
          "output_type": "execute_result",
          "data": {
            "text/plain": [
              "0.5727"
            ]
          },
          "metadata": {
            "tags": []
          },
          "execution_count": 321
        }
      ]
    },
    {
      "cell_type": "code",
      "metadata": {
        "id": "6ckvICHE3jsl"
      },
      "source": [
        "def train_model(model, epochs):\n",
        "    for i in range(epochs):\n",
        "        train_epoch(model)\n",
        "        print(validate_epoch(model), end=' ')"
      ],
      "execution_count": 322,
      "outputs": []
    },
    {
      "cell_type": "code",
      "metadata": {
        "id": "LGS1RUsF3jsl",
        "outputId": "1b23a279-3051-4840-b042-b2403ea9cd96",
        "colab": {
          "base_uri": "https://localhost:8080/"
        }
      },
      "source": [
        "train_model(linear_model, 20)"
      ],
      "execution_count": 323,
      "outputs": [
        {
          "output_type": "stream",
          "text": [
            "0.4932 0.8667 0.8305 0.9101 0.9321 0.9448 0.9541 0.9629 0.9648 0.9668 0.9687 0.9712 0.9731 0.9746 0.9756 0.9761 0.9775 0.9775 0.9775 0.9785 "
          ],
          "name": "stdout"
        }
      ]
    },
    {
      "cell_type": "code",
      "metadata": {
        "id": "bPVDeKLw3jsl",
        "outputId": "601ea5b0-6bd9-4181-b553-d5c37b933592",
        "colab": {
          "base_uri": "https://localhost:8080/"
        }
      },
      "source": [
        "linear_model = nn.Linear(28*28,1)\n",
        "opt = SGD(linear_model.parameters(), lr)\n",
        "train_model(linear_model, 20)"
      ],
      "execution_count": 324,
      "outputs": [
        {
          "output_type": "stream",
          "text": [
            "0.4932 0.8203 0.8437 0.9136 0.9341 0.9477 0.955 0.9629 0.9653 0.9672 0.9692 0.9716 0.9746 0.9751 0.9756 0.9765 0.9775 0.978 0.9785 0.9785 "
          ],
          "name": "stdout"
        }
      ]
    },
    {
      "cell_type": "code",
      "metadata": {
        "id": "z10kt_o53jsl"
      },
      "source": [
        "dls = DataLoaders(dl, valid_dl)"
      ],
      "execution_count": 325,
      "outputs": []
    },
    {
      "cell_type": "code",
      "metadata": {
        "id": "i6Cb_-YT3jsl"
      },
      "source": [
        "learn = Learner(dls, nn.Linear(28*28,1), opt_func=SGD,\n",
        "                loss_func=mnist_loss, metrics=batch_accuracy)"
      ],
      "execution_count": 326,
      "outputs": []
    },
    {
      "cell_type": "code",
      "metadata": {
        "id": "hAEwsshSrJC0"
      },
      "source": [
        "mnist_loss??, batch_accuracy??"
      ],
      "execution_count": 327,
      "outputs": []
    },
    {
      "cell_type": "code",
      "metadata": {
        "id": "zH4fjJYk3jsl",
        "outputId": "0b143420-d5eb-4f5d-d4d2-71442bc5b558",
        "colab": {
          "base_uri": "https://localhost:8080/",
          "height": 343
        }
      },
      "source": [
        "learn.fit(10, lr=lr)"
      ],
      "execution_count": 328,
      "outputs": [
        {
          "output_type": "display_data",
          "data": {
            "text/html": [
              "<table border=\"1\" class=\"dataframe\">\n",
              "  <thead>\n",
              "    <tr style=\"text-align: left;\">\n",
              "      <th>epoch</th>\n",
              "      <th>train_loss</th>\n",
              "      <th>valid_loss</th>\n",
              "      <th>batch_accuracy</th>\n",
              "      <th>time</th>\n",
              "    </tr>\n",
              "  </thead>\n",
              "  <tbody>\n",
              "    <tr>\n",
              "      <td>0</td>\n",
              "      <td>0.636842</td>\n",
              "      <td>0.503686</td>\n",
              "      <td>0.495584</td>\n",
              "      <td>00:00</td>\n",
              "    </tr>\n",
              "    <tr>\n",
              "      <td>1</td>\n",
              "      <td>0.628574</td>\n",
              "      <td>0.296750</td>\n",
              "      <td>0.708047</td>\n",
              "      <td>00:00</td>\n",
              "    </tr>\n",
              "    <tr>\n",
              "      <td>2</td>\n",
              "      <td>0.229619</td>\n",
              "      <td>0.305099</td>\n",
              "      <td>0.691364</td>\n",
              "      <td>00:00</td>\n",
              "    </tr>\n",
              "    <tr>\n",
              "      <td>3</td>\n",
              "      <td>0.099120</td>\n",
              "      <td>0.141723</td>\n",
              "      <td>0.874387</td>\n",
              "      <td>00:00</td>\n",
              "    </tr>\n",
              "    <tr>\n",
              "      <td>4</td>\n",
              "      <td>0.050505</td>\n",
              "      <td>0.092982</td>\n",
              "      <td>0.919529</td>\n",
              "      <td>00:00</td>\n",
              "    </tr>\n",
              "    <tr>\n",
              "      <td>5</td>\n",
              "      <td>0.031595</td>\n",
              "      <td>0.070995</td>\n",
              "      <td>0.937684</td>\n",
              "      <td>00:00</td>\n",
              "    </tr>\n",
              "    <tr>\n",
              "      <td>6</td>\n",
              "      <td>0.023792</td>\n",
              "      <td>0.058302</td>\n",
              "      <td>0.950932</td>\n",
              "      <td>00:00</td>\n",
              "    </tr>\n",
              "    <tr>\n",
              "      <td>7</td>\n",
              "      <td>0.020357</td>\n",
              "      <td>0.050134</td>\n",
              "      <td>0.958292</td>\n",
              "      <td>00:00</td>\n",
              "    </tr>\n",
              "    <tr>\n",
              "      <td>8</td>\n",
              "      <td>0.018673</td>\n",
              "      <td>0.044561</td>\n",
              "      <td>0.963199</td>\n",
              "      <td>00:00</td>\n",
              "    </tr>\n",
              "    <tr>\n",
              "      <td>9</td>\n",
              "      <td>0.017711</td>\n",
              "      <td>0.040563</td>\n",
              "      <td>0.965653</td>\n",
              "      <td>00:00</td>\n",
              "    </tr>\n",
              "  </tbody>\n",
              "</table>"
            ],
            "text/plain": [
              "<IPython.core.display.HTML object>"
            ]
          },
          "metadata": {
            "tags": []
          }
        }
      ]
    },
    {
      "cell_type": "markdown",
      "metadata": {
        "id": "yzHWUM5c3jsl"
      },
      "source": [
        "## Adding a Nonlinearity"
      ]
    },
    {
      "cell_type": "code",
      "metadata": {
        "id": "EWc372Be3jsl"
      },
      "source": [
        "def simple_net(xb): \n",
        "    res = xb@w1 + b1\n",
        "    res = res.max(tensor(0.0))\n",
        "    res = res@w2 + b2\n",
        "    return res"
      ],
      "execution_count": 329,
      "outputs": []
    },
    {
      "cell_type": "code",
      "metadata": {
        "id": "jaVMOrkg3jsl"
      },
      "source": [
        "w1 = init_params((28*28,30))\n",
        "b1 = init_params(30)\n",
        "w2 = init_params((30,1))\n",
        "b2 = init_params(1)"
      ],
      "execution_count": 330,
      "outputs": []
    },
    {
      "cell_type": "code",
      "metadata": {
        "id": "Oudc83ty3jsl",
        "outputId": "e223fdfa-3ca8-40b2-df9b-11652ad533e6",
        "colab": {
          "base_uri": "https://localhost:8080/",
          "height": 265
        }
      },
      "source": [
        "plot_function(F.relu)"
      ],
      "execution_count": 331,
      "outputs": [
        {
          "output_type": "display_data",
          "data": {
            "image/png": "[encoded data removed]",
            "text/plain": [
              "<Figure size 432x288 with 1 Axes>"
            ]
          },
          "metadata": {
            "tags": [],
            "needs_background": "light"
          }
        }
      ]
    },
    {
      "cell_type": "code",
      "metadata": {
        "id": "x_jSZD8L3jsl"
      },
      "source": [
        "simple_net = nn.Sequential(\n",
        "    nn.Linear(28*28,30),\n",
        "    nn.ReLU(),\n",
        "    nn.Linear(30,1)\n",
        ")"
      ],
      "execution_count": 332,
      "outputs": []
    },
    {
      "cell_type": "code",
      "metadata": {
        "id": "1_SaIP6Y3jsl"
      },
      "source": [
        "learn = Learner(dls, simple_net, opt_func=SGD,\n",
        "                loss_func=mnist_loss, metrics=batch_accuracy)"
      ],
      "execution_count": 333,
      "outputs": []
    },
    {
      "cell_type": "code",
      "metadata": {
        "id": "Q_ABTOnc3jsl",
        "outputId": "c236bcd8-f7f7-4ea1-b285-8e754cbf36f9",
        "colab": {
          "base_uri": "https://localhost:8080/",
          "height": 1000
        }
      },
      "source": [
        "learn.fit(40, 0.1)"
      ],
      "execution_count": 334,
      "outputs": [
        {
          "output_type": "display_data",
          "data": {
            "text/html": [
              "<table border=\"1\" class=\"dataframe\">\n",
              "  <thead>\n",
              "    <tr style=\"text-align: left;\">\n",
              "      <th>epoch</th>\n",
              "      <th>train_loss</th>\n",
              "      <th>valid_loss</th>\n",
              "      <th>batch_accuracy</th>\n",
              "      <th>time</th>\n",
              "    </tr>\n",
              "  </thead>\n",
              "  <tbody>\n",
              "    <tr>\n",
              "      <td>0</td>\n",
              "      <td>0.244247</td>\n",
              "      <td>0.413080</td>\n",
              "      <td>0.505397</td>\n",
              "      <td>00:00</td>\n",
              "    </tr>\n",
              "    <tr>\n",
              "      <td>1</td>\n",
              "      <td>0.122437</td>\n",
              "      <td>0.203607</td>\n",
              "      <td>0.829735</td>\n",
              "      <td>00:00</td>\n",
              "    </tr>\n",
              "    <tr>\n",
              "      <td>2</td>\n",
              "      <td>0.071252</td>\n",
              "      <td>0.107397</td>\n",
              "      <td>0.923945</td>\n",
              "      <td>00:00</td>\n",
              "    </tr>\n",
              "    <tr>\n",
              "      <td>3</td>\n",
              "      <td>0.049022</td>\n",
              "      <td>0.074642</td>\n",
              "      <td>0.942591</td>\n",
              "      <td>00:00</td>\n",
              "    </tr>\n",
              "    <tr>\n",
              "      <td>4</td>\n",
              "      <td>0.038376</td>\n",
              "      <td>0.059132</td>\n",
              "      <td>0.958292</td>\n",
              "      <td>00:00</td>\n",
              "    </tr>\n",
              "    <tr>\n",
              "      <td>5</td>\n",
              "      <td>0.032724</td>\n",
              "      <td>0.050266</td>\n",
              "      <td>0.964181</td>\n",
              "      <td>00:00</td>\n",
              "    </tr>\n",
              "    <tr>\n",
              "      <td>6</td>\n",
              "      <td>0.029347</td>\n",
              "      <td>0.044610</td>\n",
              "      <td>0.965162</td>\n",
              "      <td>00:00</td>\n",
              "    </tr>\n",
              "    <tr>\n",
              "      <td>7</td>\n",
              "      <td>0.027085</td>\n",
              "      <td>0.040700</td>\n",
              "      <td>0.967125</td>\n",
              "      <td>00:00</td>\n",
              "    </tr>\n",
              "    <tr>\n",
              "      <td>8</td>\n",
              "      <td>0.025423</td>\n",
              "      <td>0.037830</td>\n",
              "      <td>0.969578</td>\n",
              "      <td>00:00</td>\n",
              "    </tr>\n",
              "    <tr>\n",
              "      <td>9</td>\n",
              "      <td>0.024123</td>\n",
              "      <td>0.035625</td>\n",
              "      <td>0.971050</td>\n",
              "      <td>00:00</td>\n",
              "    </tr>\n",
              "    <tr>\n",
              "      <td>10</td>\n",
              "      <td>0.023064</td>\n",
              "      <td>0.033865</td>\n",
              "      <td>0.972522</td>\n",
              "      <td>00:00</td>\n",
              "    </tr>\n",
              "    <tr>\n",
              "      <td>11</td>\n",
              "      <td>0.022177</td>\n",
              "      <td>0.032420</td>\n",
              "      <td>0.973013</td>\n",
              "      <td>00:00</td>\n",
              "    </tr>\n",
              "    <tr>\n",
              "      <td>12</td>\n",
              "      <td>0.021419</td>\n",
              "      <td>0.031203</td>\n",
              "      <td>0.973503</td>\n",
              "      <td>00:00</td>\n",
              "    </tr>\n",
              "    <tr>\n",
              "      <td>13</td>\n",
              "      <td>0.020763</td>\n",
              "      <td>0.030155</td>\n",
              "      <td>0.974975</td>\n",
              "      <td>00:00</td>\n",
              "    </tr>\n",
              "    <tr>\n",
              "      <td>14</td>\n",
              "      <td>0.020185</td>\n",
              "      <td>0.029239</td>\n",
              "      <td>0.975466</td>\n",
              "      <td>00:00</td>\n",
              "    </tr>\n",
              "    <tr>\n",
              "      <td>15</td>\n",
              "      <td>0.019673</td>\n",
              "      <td>0.028427</td>\n",
              "      <td>0.975466</td>\n",
              "      <td>00:00</td>\n",
              "    </tr>\n",
              "    <tr>\n",
              "      <td>16</td>\n",
              "      <td>0.019213</td>\n",
              "      <td>0.027701</td>\n",
              "      <td>0.977429</td>\n",
              "      <td>00:00</td>\n",
              "    </tr>\n",
              "    <tr>\n",
              "      <td>17</td>\n",
              "      <td>0.018798</td>\n",
              "      <td>0.027047</td>\n",
              "      <td>0.977920</td>\n",
              "      <td>00:00</td>\n",
              "    </tr>\n",
              "    <tr>\n",
              "      <td>18</td>\n",
              "      <td>0.018420</td>\n",
              "      <td>0.026454</td>\n",
              "      <td>0.978410</td>\n",
              "      <td>00:00</td>\n",
              "    </tr>\n",
              "    <tr>\n",
              "      <td>19</td>\n",
              "      <td>0.018073</td>\n",
              "      <td>0.025914</td>\n",
              "      <td>0.978901</td>\n",
              "      <td>00:00</td>\n",
              "    </tr>\n",
              "    <tr>\n",
              "      <td>20</td>\n",
              "      <td>0.017754</td>\n",
              "      <td>0.025422</td>\n",
              "      <td>0.978901</td>\n",
              "      <td>00:00</td>\n",
              "    </tr>\n",
              "    <tr>\n",
              "      <td>21</td>\n",
              "      <td>0.017459</td>\n",
              "      <td>0.024970</td>\n",
              "      <td>0.979392</td>\n",
              "      <td>00:00</td>\n",
              "    </tr>\n",
              "    <tr>\n",
              "      <td>22</td>\n",
              "      <td>0.017184</td>\n",
              "      <td>0.024555</td>\n",
              "      <td>0.980373</td>\n",
              "      <td>00:00</td>\n",
              "    </tr>\n",
              "    <tr>\n",
              "      <td>23</td>\n",
              "      <td>0.016927</td>\n",
              "      <td>0.024173</td>\n",
              "      <td>0.980373</td>\n",
              "      <td>00:00</td>\n",
              "    </tr>\n",
              "    <tr>\n",
              "      <td>24</td>\n",
              "      <td>0.016686</td>\n",
              "      <td>0.023820</td>\n",
              "      <td>0.980373</td>\n",
              "      <td>00:00</td>\n",
              "    </tr>\n",
              "    <tr>\n",
              "      <td>25</td>\n",
              "      <td>0.016460</td>\n",
              "      <td>0.023493</td>\n",
              "      <td>0.980373</td>\n",
              "      <td>00:00</td>\n",
              "    </tr>\n",
              "    <tr>\n",
              "      <td>26</td>\n",
              "      <td>0.016246</td>\n",
              "      <td>0.023191</td>\n",
              "      <td>0.980373</td>\n",
              "      <td>00:00</td>\n",
              "    </tr>\n",
              "    <tr>\n",
              "      <td>27</td>\n",
              "      <td>0.016044</td>\n",
              "      <td>0.022911</td>\n",
              "      <td>0.980864</td>\n",
              "      <td>00:00</td>\n",
              "    </tr>\n",
              "    <tr>\n",
              "      <td>28</td>\n",
              "      <td>0.015853</td>\n",
              "      <td>0.022650</td>\n",
              "      <td>0.981354</td>\n",
              "      <td>00:00</td>\n",
              "    </tr>\n",
              "    <tr>\n",
              "      <td>29</td>\n",
              "      <td>0.015671</td>\n",
              "      <td>0.022406</td>\n",
              "      <td>0.981354</td>\n",
              "      <td>00:00</td>\n",
              "    </tr>\n",
              "    <tr>\n",
              "      <td>30</td>\n",
              "      <td>0.015498</td>\n",
              "      <td>0.022179</td>\n",
              "      <td>0.981845</td>\n",
              "      <td>00:00</td>\n",
              "    </tr>\n",
              "    <tr>\n",
              "      <td>31</td>\n",
              "      <td>0.015334</td>\n",
              "      <td>0.021966</td>\n",
              "      <td>0.982336</td>\n",
              "      <td>00:00</td>\n",
              "    </tr>\n",
              "    <tr>\n",
              "      <td>32</td>\n",
              "      <td>0.015177</td>\n",
              "      <td>0.021766</td>\n",
              "      <td>0.982336</td>\n",
              "      <td>00:00</td>\n",
              "    </tr>\n",
              "    <tr>\n",
              "      <td>33</td>\n",
              "      <td>0.015026</td>\n",
              "      <td>0.021579</td>\n",
              "      <td>0.982336</td>\n",
              "      <td>00:00</td>\n",
              "    </tr>\n",
              "    <tr>\n",
              "      <td>34</td>\n",
              "      <td>0.014882</td>\n",
              "      <td>0.021403</td>\n",
              "      <td>0.982336</td>\n",
              "      <td>00:00</td>\n",
              "    </tr>\n",
              "    <tr>\n",
              "      <td>35</td>\n",
              "      <td>0.014744</td>\n",
              "      <td>0.021236</td>\n",
              "      <td>0.981845</td>\n",
              "      <td>00:00</td>\n",
              "    </tr>\n",
              "    <tr>\n",
              "      <td>36</td>\n",
              "      <td>0.014611</td>\n",
              "      <td>0.021079</td>\n",
              "      <td>0.981845</td>\n",
              "      <td>00:00</td>\n",
              "    </tr>\n",
              "    <tr>\n",
              "      <td>37</td>\n",
              "      <td>0.014483</td>\n",
              "      <td>0.020930</td>\n",
              "      <td>0.981845</td>\n",
              "      <td>00:00</td>\n",
              "    </tr>\n",
              "    <tr>\n",
              "      <td>38</td>\n",
              "      <td>0.014360</td>\n",
              "      <td>0.020788</td>\n",
              "      <td>0.981845</td>\n",
              "      <td>00:00</td>\n",
              "    </tr>\n",
              "    <tr>\n",
              "      <td>39</td>\n",
              "      <td>0.014240</td>\n",
              "      <td>0.020654</td>\n",
              "      <td>0.981845</td>\n",
              "      <td>00:00</td>\n",
              "    </tr>\n",
              "  </tbody>\n",
              "</table>"
            ],
            "text/plain": [
              "<IPython.core.display.HTML object>"
            ]
          },
          "metadata": {
            "tags": []
          }
        }
      ]
    },
    {
      "cell_type": "code",
      "metadata": {
        "id": "6llUKiXh3jsl",
        "outputId": "35286671-bb22-4bba-f52e-1c80d165a19c",
        "colab": {
          "base_uri": "https://localhost:8080/",
          "height": 265
        }
      },
      "source": [
        "plt.plot(L(learn.recorder.values).itemgot(0)); #loss"
      ],
      "execution_count": 335,
      "outputs": [
        {
          "output_type": "display_data",
          "data": {
            "image/png": "[encoded data removed]",
            "text/plain": [
              "<Figure size 432x288 with 1 Axes>"
            ]
          },
          "metadata": {
            "tags": [],
            "needs_background": "light"
          }
        }
      ]
    },
    {
      "cell_type": "code",
      "metadata": {
        "id": "ivaNtoNFzt5c",
        "outputId": "6761b3c6-92b6-4454-c63f-4914e14a2be2",
        "colab": {
          "base_uri": "https://localhost:8080/",
          "height": 267
        }
      },
      "source": [
        "plt.plot(L(learn.recorder.values).itemgot(2)); #valid acc"
      ],
      "execution_count": 336,
      "outputs": [
        {
          "output_type": "display_data",
          "data": {
            "image/png": "[encoded data removed]",
            "text/plain": [
              "<Figure size 432x288 with 1 Axes>"
            ]
          },
          "metadata": {
            "tags": [],
            "needs_background": "light"
          }
        }
      ]
    },
    {
      "cell_type": "code",
      "metadata": {
        "id": "KdML_RlPzxj0",
        "outputId": "3080aef1-fd59-4159-d262-a73d3e13c9dd",
        "colab": {
          "base_uri": "https://localhost:8080/"
        }
      },
      "source": [
        "learn.recorder.values"
      ],
      "execution_count": 337,
      "outputs": [
        {
          "output_type": "execute_result",
          "data": {
            "text/plain": [
              "[(#3) [0.24424679577350616,0.41308048367500305,0.5053974390029907],\n",
              " (#3) [0.12243717908859253,0.203606516122818,0.8297350406646729],\n",
              " (#3) [0.07125210762023926,0.10739720612764359,0.9239450693130493],\n",
              " (#3) [0.049022186547517776,0.0746418908238411,0.9425907731056213],\n",
              " (#3) [0.038375988602638245,0.059132445603609085,0.9582924246788025],\n",
              " (#3) [0.03272372856736183,0.050265803933143616,0.964180588722229],\n",
              " (#3) [0.029347466304898262,0.04461010918021202,0.965161919593811],\n",
              " (#3) [0.02708500809967518,0.04070020467042923,0.9671246409416199],\n",
              " (#3) [0.025423191487789154,0.0378296859562397,0.9695780277252197],\n",
              " (#3) [0.02412279136478901,0.0356251485645771,0.9710500240325928],\n",
              " (#3) [0.023064235225319862,0.03386484459042549,0.9725220799446106],\n",
              " (#3) [0.022176992148160934,0.03241988644003868,0.9730127453804016],\n",
              " (#3) [0.021419452503323555,0.03120320849120617,0.9735034108161926],\n",
              " (#3) [0.020762518048286438,0.030155479907989502,0.9749754667282104],\n",
              " (#3) [0.020185496658086777,0.029238726943731308,0.9754661321640015],\n",
              " (#3) [0.019672773778438568,0.028427166864275932,0.9754661321640015],\n",
              " (#3) [0.01921316236257553,0.02770102210342884,0.9774288535118103],\n",
              " (#3) [0.018797801807522774,0.027046579867601395,0.9779195189476013],\n",
              " (#3) [0.018419770523905754,0.026453563943505287,0.9784101843833923],\n",
              " (#3) [0.01807321049273014,0.02591441012918949,0.9789009094238281],\n",
              " (#3) [0.01775447279214859,0.0254218727350235,0.9789009094238281],\n",
              " (#3) [0.0174592062830925,0.02497006207704544,0.9793915748596191],\n",
              " (#3) [0.017184218391776085,0.024555020034313202,0.9803729057312012],\n",
              " (#3) [0.016927368938922882,0.024172617122530937,0.9803729057312012],\n",
              " (#3) [0.016686471179127693,0.023819709196686745,0.9803729057312012],\n",
              " (#3) [0.016459815204143524,0.02349344827234745,0.9803729057312012],\n",
              " (#3) [0.016246216371655464,0.023191314190626144,0.9803729057312012],\n",
              " (#3) [0.016044355928897858,0.02291066385805607,0.9808635711669922],\n",
              " (#3) [0.0158530343323946,0.022649725899100304,0.981354296207428],\n",
              " (#3) [0.01567126251757145,0.02240620367228985,0.981354296207428],\n",
              " (#3) [0.01549837552011013,0.02217867039144039,0.981844961643219],\n",
              " (#3) [0.015333743765950203,0.021965913474559784,0.98233562707901],\n",
              " (#3) [0.015176571905612946,0.021766452118754387,0.98233562707901],\n",
              " (#3) [0.015026179142296314,0.02157905325293541,0.98233562707901],\n",
              " (#3) [0.014882066287100315,0.021402552723884583,0.98233562707901],\n",
              " (#3) [0.014743871986865997,0.021236145868897438,0.981844961643219],\n",
              " (#3) [0.014611022546887398,0.021078897640109062,0.981844961643219],\n",
              " (#3) [0.014483029022812843,0.020929934456944466,0.981844961643219],\n",
              " (#3) [0.014359638094902039,0.020788386464118958,0.981844961643219],\n",
              " (#3) [0.014240308664739132,0.02065379172563553,0.981844961643219]]"
            ]
          },
          "metadata": {
            "tags": []
          },
          "execution_count": 337
        }
      ]
    },
    {
      "cell_type": "code",
      "metadata": {
        "id": "rtAFvZX93jsl",
        "outputId": "fe952c83-3235-4096-92d6-081941e1b07d",
        "colab": {
          "base_uri": "https://localhost:8080/"
        }
      },
      "source": [
        "learn.recorder.values[-1][2]"
      ],
      "execution_count": 339,
      "outputs": [
        {
          "output_type": "execute_result",
          "data": {
            "text/plain": [
              "0.981844961643219"
            ]
          },
          "metadata": {
            "tags": []
          },
          "execution_count": 339
        }
      ]
    },
    {
      "cell_type": "code",
      "metadata": {
        "id": "stHlFgyI196E",
        "outputId": "db5ce11e-5af4-43d4-bbb3-f1491954fed1",
        "colab": {
          "base_uri": "https://localhost:8080/"
        }
      },
      "source": [
        "m = learn.model\r\n",
        "m"
      ],
      "execution_count": 340,
      "outputs": [
        {
          "output_type": "execute_result",
          "data": {
            "text/plain": [
              "Sequential(\n",
              "  (0): Linear(in_features=784, out_features=30, bias=True)\n",
              "  (1): ReLU()\n",
              "  (2): Linear(in_features=30, out_features=1, bias=True)\n",
              ")"
            ]
          },
          "metadata": {
            "tags": []
          },
          "execution_count": 340
        }
      ]
    },
    {
      "cell_type": "code",
      "metadata": {
        "id": "XelOuhcM2Dvr",
        "outputId": "9f10f81c-a7e9-466c-8ff1-241de9648e11",
        "colab": {
          "base_uri": "https://localhost:8080/"
        }
      },
      "source": [
        "print(m[0])\r\n",
        "w, b = m[0].parameters()\r\n",
        "w, b"
      ],
      "execution_count": 343,
      "outputs": [
        {
          "output_type": "stream",
          "text": [
            "Linear(in_features=784, out_features=30, bias=True)\n"
          ],
          "name": "stdout"
        },
        {
          "output_type": "execute_result",
          "data": {
            "text/plain": [
              "(Parameter containing:\n",
              " tensor([[-0.0025,  0.0338, -0.0205,  ..., -0.0197, -0.0012, -0.0233],\n",
              "         [-0.0307, -0.0065,  0.0022,  ..., -0.0266, -0.0288, -0.0226],\n",
              "         [ 0.0175,  0.0343,  0.0145,  ..., -0.0343, -0.0006,  0.0296],\n",
              "         ...,\n",
              "         [-0.0203, -0.0123, -0.0323,  ...,  0.0263,  0.0048, -0.0343],\n",
              "         [ 0.0117, -0.0191, -0.0043,  ...,  0.0246, -0.0016, -0.0355],\n",
              "         [-0.0301,  0.0059, -0.0226,  ...,  0.0253,  0.0198, -0.0145]], requires_grad=True),\n",
              " Parameter containing:\n",
              " tensor([-0.0309,  0.0910, -0.0197,  0.0061, -0.0524,  0.0713,  0.0149, -0.0019,  0.0355, -0.0182,  0.1110, -0.0240, -0.0093,  0.1084, -0.0319,  0.0519, -0.0262,  0.1057,  0.0714,  0.1178,  0.0545,\n",
              "         -0.0269,  0.0598, -0.0480,  0.0033,  0.0139,  0.1035,  0.0596, -0.0680, -0.0172], requires_grad=True))"
            ]
          },
          "metadata": {
            "tags": []
          },
          "execution_count": 343
        }
      ]
    },
    {
      "cell_type": "code",
      "metadata": {
        "id": "dFhTHsgF2Zhh",
        "outputId": "ec965206-a110-4260-b9f5-d13c9ab3860c",
        "colab": {
          "base_uri": "https://localhost:8080/"
        }
      },
      "source": [
        "w.shape, b.shape"
      ],
      "execution_count": 344,
      "outputs": [
        {
          "output_type": "execute_result",
          "data": {
            "text/plain": [
              "(torch.Size([30, 784]), torch.Size([30]))"
            ]
          },
          "metadata": {
            "tags": []
          },
          "execution_count": 344
        }
      ]
    },
    {
      "cell_type": "code",
      "metadata": {
        "id": "5l_hm4jz2ooG",
        "outputId": "5a8a2c0e-0859-4fc2-fa53-f1295d9c45b6",
        "colab": {
          "base_uri": "https://localhost:8080/",
          "height": 1000
        }
      },
      "source": [
        "for i in range(30):\r\n",
        "  show_image(w[i].view(28, 28), figsize=(2,2))"
      ],
      "execution_count": 364,
      "outputs": [
        {
          "output_type": "stream",
          "text": [
            "/usr/local/lib/python3.6/dist-packages/fastai/torch_core.py:60: RuntimeWarning: More than 20 figures have been opened. Figures created through the pyplot interface (`matplotlib.pyplot.figure`) are retained until explicitly closed and may consume too much memory. (To control this warning, see the rcParam `figure.max_open_warning`).\n",
            "  if ax is None: _,ax = plt.subplots(figsize=figsize)\n"
          ],
          "name": "stderr"
        },
        {
          "output_type": "display_data",
          "data": {
            "image/png": "[encoded data removed]",
            "text/plain": [
              "<Figure size 144x144 with 1 Axes>"
            ]
          },
          "metadata": {
            "tags": [],
            "needs_background": "light"
          }
        },
        {
          "output_type": "display_data",
          "data": {
            "image/png": "[encoded data removed]",
            "text/plain": [
              "<Figure size 144x144 with 1 Axes>"
            ]
          },
          "metadata": {
            "tags": [],
            "needs_background": "light"
          }
        },
        {
          "output_type": "display_data",
          "data": {
            "image/png": "[encoded data removed]",
            "text/plain": [
              "<Figure size 144x144 with 1 Axes>"
            ]
          },
          "metadata": {
            "tags": [],
            "needs_background": "light"
          }
        },
        {
          "output_type": "display_data",
          "data": {
            "image/png": "[encoded data removed]",
            "text/plain": [
              "<Figure size 144x144 with 1 Axes>"
            ]
          },
          "metadata": {
            "tags": [],
            "needs_background": "light"
          }
        },
        {
          "output_type": "display_data",
          "data": {
            "image/png": "[encoded data removed]",
            "text/plain": [
              "<Figure size 144x144 with 1 Axes>"
            ]
          },
          "metadata": {
            "tags": [],
            "needs_background": "light"
          }
        },
        {
          "output_type": "display_data",
          "data": {
            "image/png": "[encoded data removed]",
            "text/plain": [
              "<Figure size 144x144 with 1 Axes>"
            ]
          },
          "metadata": {
            "tags": [],
            "needs_background": "light"
          }
        },
        {
          "output_type": "display_data",
          "data": {
            "image/png": "[encoded data removed]",
            "text/plain": [
              "<Figure size 144x144 with 1 Axes>"
            ]
          },
          "metadata": {
            "tags": [],
            "needs_background": "light"
          }
        },
        {
          "output_type": "display_data",
          "data": {
            "image/png": "[encoded data removed]",
            "text/plain": [
              "<Figure size 144x144 with 1 Axes>"
            ]
          },
          "metadata": {
            "tags": [],
            "needs_background": "light"
          }
        },
        {
          "output_type": "display_data",
          "data": {
            "image/png": "[encoded data removed]",
            "text/plain": [
              "<Figure size 144x144 with 1 Axes>"
            ]
          },
          "metadata": {
            "tags": [],
            "needs_background": "light"
          }
        },
        {
          "output_type": "display_data",
          "data": {
            "image/png": "[encoded data removed]",
            "text/plain": [
              "<Figure size 144x144 with 1 Axes>"
            ]
          },
          "metadata": {
            "tags": [],
            "needs_background": "light"
          }
        },
        {
          "output_type": "display_data",
          "data": {
            "image/png": "[encoded data removed]",
            "text/plain": [
              "<Figure size 144x144 with 1 Axes>"
            ]
          },
          "metadata": {
            "tags": [],
            "needs_background": "light"
          }
        },
        {
          "output_type": "display_data",
          "data": {
            "image/png": "[encoded data removed]",
            "text/plain": [
              "<Figure size 144x144 with 1 Axes>"
            ]
          },
          "metadata": {
            "tags": [],
            "needs_background": "light"
          }
        },
        {
          "output_type": "display_data",
          "data": {
            "image/png": "[encoded data removed]",
            "text/plain": [
              "<Figure size 144x144 with 1 Axes>"
            ]
          },
          "metadata": {
            "tags": [],
            "needs_background": "light"
          }
        },
        {
          "output_type": "display_data",
          "data": {
            "image/png": "[encoded data removed]",
            "text/plain": [
              "<Figure size 144x144 with 1 Axes>"
            ]
          },
          "metadata": {
            "tags": [],
            "needs_background": "light"
          }
        },
        {
          "output_type": "display_data",
          "data": {
            "image/png": "[encoded data removed]",
            "text/plain": [
              "<Figure size 144x144 with 1 Axes>"
            ]
          },
          "metadata": {
            "tags": [],
            "needs_background": "light"
          }
        },
        {
          "output_type": "display_data",
          "data": {
            "image/png": "[encoded data removed]",
            "text/plain": [
              "<Figure size 144x144 with 1 Axes>"
            ]
          },
          "metadata": {
            "tags": [],
            "needs_background": "light"
          }
        },
        {
          "output_type": "display_data",
          "data": {
            "image/png": "[encoded data removed]",
            "text/plain": [
              "<Figure size 144x144 with 1 Axes>"
            ]
          },
          "metadata": {
            "tags": [],
            "needs_background": "light"
          }
        },
        {
          "output_type": "display_data",
          "data": {
            "image/png": "[encoded data removed]",
            "text/plain": [
              "<Figure size 144x144 with 1 Axes>"
            ]
          },
          "metadata": {
            "tags": [],
            "needs_background": "light"
          }
        },
        {
          "output_type": "display_data",
          "data": {
            "image/png": "[encoded data removed]",
            "text/plain": [
              "<Figure size 144x144 with 1 Axes>"
            ]
          },
          "metadata": {
            "tags": [],
            "needs_background": "light"
          }
        },
        {
          "output_type": "display_data",
          "data": {
            "image/png": "[encoded data removed]",
            "text/plain": [
              "<Figure size 144x144 with 1 Axes>"
            ]
          },
          "metadata": {
            "tags": [],
            "needs_background": "light"
          }
        },
        {
          "output_type": "display_data",
          "data": {
            "image/png": "[encoded data removed]",
            "text/plain": [
              "<Figure size 144x144 with 1 Axes>"
            ]
          },
          "metadata": {
            "tags": [],
            "needs_background": "light"
          }
        },
        {
          "output_type": "display_data",
          "data": {
            "image/png": "[encoded data removed]",
            "text/plain": [
              "<Figure size 144x144 with 1 Axes>"
            ]
          },
          "metadata": {
            "tags": [],
            "needs_background": "light"
          }
        },
        {
          "output_type": "display_data",
          "data": {
            "image/png": "[encoded data removed]",
            "text/plain": [
              "<Figure size 144x144 with 1 Axes>"
            ]
          },
          "metadata": {
            "tags": [],
            "needs_background": "light"
          }
        },
        {
          "output_type": "display_data",
          "data": {
            "image/png": "[encoded data removed]",
            "text/plain": [
              "<Figure size 144x144 with 1 Axes>"
            ]
          },
          "metadata": {
            "tags": [],
            "needs_background": "light"
          }
        },
        {
          "output_type": "display_data",
          "data": {
            "image/png": "[encoded data removed]",
            "text/plain": [
              "<Figure size 144x144 with 1 Axes>"
            ]
          },
          "metadata": {
            "tags": [],
            "needs_background": "light"
          }
        },
        {
          "output_type": "display_data",
          "data": {
            "image/png": "[encoded data removed]",
            "text/plain": [
              "<Figure size 144x144 with 1 Axes>"
            ]
          },
          "metadata": {
            "tags": [],
            "needs_background": "light"
          }
        },
        {
          "output_type": "display_data",
          "data": {
            "image/png": "[encoded data removed]",
            "text/plain": [
              "<Figure size 144x144 with 1 Axes>"
            ]
          },
          "metadata": {
            "tags": [],
            "needs_background": "light"
          }
        },
        {
          "output_type": "display_data",
          "data": {
            "image/png": "[encoded data removed]",
            "text/plain": [
              "<Figure size 144x144 with 1 Axes>"
            ]
          },
          "metadata": {
            "tags": [],
            "needs_background": "light"
          }
        },
        {
          "output_type": "display_data",
          "data": {
            "image/png": "[encoded data removed]",
            "text/plain": [
              "<Figure size 144x144 with 1 Axes>"
            ]
          },
          "metadata": {
            "tags": [],
            "needs_background": "light"
          }
        },
        {
          "output_type": "display_data",
          "data": {
            "image/png": "[encoded data removed]",
            "text/plain": [
              "<Figure size 144x144 with 1 Axes>"
            ]
          },
          "metadata": {
            "tags": [],
            "needs_background": "light"
          }
        }
      ]
    },
    {
      "cell_type": "code",
      "metadata": {
        "id": "WZdSQSDtz9Wz",
        "outputId": "36652133-2b1e-4476-a182-33116e641db2",
        "colab": {
          "base_uri": "https://localhost:8080/",
          "height": 151
        }
      },
      "source": [
        "doc(L)"
      ],
      "execution_count": 178,
      "outputs": [
        {
          "output_type": "display_data",
          "data": {
            "text/html": [
              "<h2 id=\"L\" class=\"doc_header\"><code>class</code> <code>L</code><a href=\"https://github.com/fastai/fastcore/tree/master/fastcore/foundation.py#L125\" class=\"source_link\" style=\"float:right\">[source]</a></h2><blockquote><p><code>L</code>(<strong><code>items</code></strong>=<em><code>None</code></em>, <strong>*<code>rest</code></strong>, <strong><code>use_list</code></strong>=<em><code>False</code></em>, <strong><code>match</code></strong>=<em><code>None</code></em>) :: <code>GetAttr</code></p>\n",
              "</blockquote>\n",
              "<p>Behaves like a list of <code>items</code> but can also index with list of indices or masks</p>\n",
              "<p><a href=\"https://fastcore.fast.ai/foundation#L\" target=\"_blank\" rel=\"noreferrer noopener\">Show in docs</a></p>\n"
            ],
            "text/plain": [
              "<IPython.core.display.HTML object>"
            ]
          },
          "metadata": {
            "tags": []
          }
        }
      ]
    },
    {
      "cell_type": "markdown",
      "metadata": {
        "id": "b4VAWVnF3jsl"
      },
      "source": [
        "### Going Deeper"
      ]
    },
    {
      "cell_type": "code",
      "metadata": {
        "id": "aOVnUFxV3jsl",
        "outputId": "49f4c6af-f718-4cf6-c893-089f70b20346",
        "colab": {
          "base_uri": "https://localhost:8080/",
          "height": 77
        }
      },
      "source": [
        "dls = ImageDataLoaders.from_folder(path)\n",
        "learn = cnn_learner(dls, resnet18, pretrained=False,\n",
        "                    loss_func=F.cross_entropy, metrics=accuracy)\n",
        "learn.fit_one_cycle(1, 0.1)"
      ],
      "execution_count": 173,
      "outputs": [
        {
          "output_type": "display_data",
          "data": {
            "text/html": [
              "<table border=\"1\" class=\"dataframe\">\n",
              "  <thead>\n",
              "    <tr style=\"text-align: left;\">\n",
              "      <th>epoch</th>\n",
              "      <th>train_loss</th>\n",
              "      <th>valid_loss</th>\n",
              "      <th>accuracy</th>\n",
              "      <th>time</th>\n",
              "    </tr>\n",
              "  </thead>\n",
              "  <tbody>\n",
              "    <tr>\n",
              "      <td>0</td>\n",
              "      <td>0.084675</td>\n",
              "      <td>0.013644</td>\n",
              "      <td>0.997056</td>\n",
              "      <td>00:16</td>\n",
              "    </tr>\n",
              "  </tbody>\n",
              "</table>"
            ],
            "text/plain": [
              "<IPython.core.display.HTML object>"
            ]
          },
          "metadata": {
            "tags": []
          }
        }
      ]
    },
    {
      "cell_type": "markdown",
      "metadata": {
        "id": "Xuz7zZ_o3jsl"
      },
      "source": [
        "## Jargon Recap"
      ]
    },
    {
      "cell_type": "markdown",
      "metadata": {
        "id": "CsoLGk3w3jsl"
      },
      "source": [
        "## Questionnaire"
      ]
    },
    {
      "cell_type": "markdown",
      "metadata": {
        "id": "nNR6QOav3jsl"
      },
      "source": [
        "1. How is a grayscale image represented on a computer? How about a color image?\n",
        "1. How are the files and folders in the `MNIST_SAMPLE` dataset structured? Why?\n",
        "1. Explain how the \"pixel similarity\" approach to classifying digits works.\n",
        "1. What is a list comprehension? Create one now that selects odd numbers from a list and doubles them.\n",
        "1. What is a \"rank-3 tensor\"?\n",
        "1. What is the difference between tensor rank and shape? How do you get the rank from the shape?\n",
        "1. What are RMSE and L1 norm?\n",
        "1. How can you apply a calculation on thousands of numbers at once, many thousands of times faster than a Python loop?\n",
        "1. Create a 3×3 tensor or array containing the numbers from 1 to 9. Double it. Select the bottom-right four numbers.\n",
        "1. What is broadcasting?\n",
        "1. Are metrics generally calculated using the training set, or the validation set? Why?\n",
        "1. What is SGD?\n",
        "1. Why does SGD use mini-batches?\n",
        "1. What are the seven steps in SGD for machine learning?\n",
        "1. How do we initialize the weights in a model?\n",
        "1. What is \"loss\"?\n",
        "1. Why can't we always use a high learning rate?\n",
        "1. What is a \"gradient\"?\n",
        "1. Do you need to know how to calculate gradients yourself?\n",
        "1. Why can't we use accuracy as a loss function?\n",
        "1. Draw the sigmoid function. What is special about its shape?\n",
        "1. What is the difference between a loss function and a metric?\n",
        "1. What is the function to calculate new weights using a learning rate?\n",
        "1. What does the `DataLoader` class do?\n",
        "1. Write pseudocode showing the basic steps taken in each epoch for SGD.\n",
        "1. Create a function that, if passed two arguments `[1,2,3,4]` and `'abcd'`, returns `[(1, 'a'), (2, 'b'), (3, 'c'), (4, 'd')]`. What is special about that output data structure?\n",
        "1. What does `view` do in PyTorch?\n",
        "1. What are the \"bias\" parameters in a neural network? Why do we need them?\n",
        "1. What does the `@` operator do in Python?\n",
        "1. What does the `backward` method do?\n",
        "1. Why do we have to zero the gradients?\n",
        "1. What information do we have to pass to `Learner`?\n",
        "1. Show Python or pseudocode for the basic steps of a training loop.\n",
        "1. What is \"ReLU\"? Draw a plot of it for values from `-2` to `+2`.\n",
        "1. What is an \"activation function\"?\n",
        "1. What's the difference between `F.relu` and `nn.ReLU`?\n",
        "1. The universal approximation theorem shows that any function can be approximated as closely as needed using just one nonlinearity. So why do we normally use more?"
      ]
    },
    {
      "cell_type": "code",
      "metadata": {
        "id": "cfiq0DJA-i6x",
        "outputId": "4eadcc18-a2ea-4bf1-9c4b-4bba7f3dcb3c",
        "colab": {
          "base_uri": "https://localhost:8080/",
          "height": 281
        }
      },
      "source": [
        "plot_function(F.relu, title='ReLU', min=-2, max=2)"
      ],
      "execution_count": 398,
      "outputs": [
        {
          "output_type": "display_data",
          "data": {
            "image/png": "[encoded data removed]",
            "text/plain": [
              "<Figure size 432x288 with 1 Axes>"
            ]
          },
          "metadata": {
            "tags": [],
            "needs_background": "light"
          }
        }
      ]
    },
    {
      "cell_type": "code",
      "metadata": {
        "id": "g-jip8xY9qXj",
        "outputId": "a613d33a-a520-4bec-d956-ee259aef0232",
        "colab": {
          "base_uri": "https://localhost:8080/"
        }
      },
      "source": [
        "list(zip([1,2,3,4] , list('abcd')))"
      ],
      "execution_count": 392,
      "outputs": [
        {
          "output_type": "execute_result",
          "data": {
            "text/plain": [
              "[(1, 'a'), (2, 'b'), (3, 'c'), (4, 'd')]"
            ]
          },
          "metadata": {
            "tags": []
          },
          "execution_count": 392
        }
      ]
    },
    {
      "cell_type": "code",
      "metadata": {
        "id": "iyTqndO78zpN",
        "outputId": "f3870639-a6d7-47da-e8db-6205d0ca4397",
        "colab": {
          "base_uri": "https://localhost:8080/"
        }
      },
      "source": [
        "L([1,2,3,4] , list('abcd'))"
      ],
      "execution_count": 385,
      "outputs": [
        {
          "output_type": "execute_result",
          "data": {
            "text/plain": [
              "(#2) [[1, 2, 3, 4],['a', 'b', 'c', 'd']]"
            ]
          },
          "metadata": {
            "tags": []
          },
          "execution_count": 385
        }
      ]
    },
    {
      "cell_type": "code",
      "metadata": {
        "id": "Xlt6SdZP9cA5",
        "outputId": "09f60b7d-ab78-46e1-8e1b-aebe4f38c2b0",
        "colab": {
          "base_uri": "https://localhost:8080/"
        }
      },
      "source": [
        "list('abcd')"
      ],
      "execution_count": 382,
      "outputs": [
        {
          "output_type": "execute_result",
          "data": {
            "text/plain": [
              "['a', 'b', 'c', 'd']"
            ]
          },
          "metadata": {
            "tags": []
          },
          "execution_count": 382
        }
      ]
    },
    {
      "cell_type": "code",
      "metadata": {
        "id": "_5sdl0gx8F5I",
        "outputId": "fa041919-756f-4872-ab49-68b94522848c",
        "colab": {
          "base_uri": "https://localhost:8080/"
        }
      },
      "source": [
        "len(tensor([1,2,3]).shape)"
      ],
      "execution_count": 369,
      "outputs": [
        {
          "output_type": "execute_result",
          "data": {
            "text/plain": [
              "1"
            ]
          },
          "metadata": {
            "tags": []
          },
          "execution_count": 369
        }
      ]
    },
    {
      "cell_type": "code",
      "metadata": {
        "id": "e9XX8s1772Ug",
        "outputId": "f4246f9b-86d5-4e10-ce95-0a7b131ba047",
        "colab": {
          "base_uri": "https://localhost:8080/"
        }
      },
      "source": [
        "k = tensor([[1,2,3],[4,5,6],[7,8,9]])\r\n",
        "len(k.shape) #rank\r\n",
        "k = k*2\r\n",
        "print(k)\r\n",
        "k[1:,1:]"
      ],
      "execution_count": 373,
      "outputs": [
        {
          "output_type": "stream",
          "text": [
            "tensor([[ 2,  4,  6],\n",
            "        [ 8, 10, 12],\n",
            "        [14, 16, 18]])\n"
          ],
          "name": "stdout"
        },
        {
          "output_type": "execute_result",
          "data": {
            "text/plain": [
              "tensor([[10, 12],\n",
              "        [16, 18]])"
            ]
          },
          "metadata": {
            "tags": []
          },
          "execution_count": 373
        }
      ]
    },
    {
      "cell_type": "markdown",
      "metadata": {
        "id": "sKl7R4al3jsl"
      },
      "source": [
        "### Further Research"
      ]
    },
    {
      "cell_type": "markdown",
      "metadata": {
        "id": "znoxu3UD3jsl"
      },
      "source": [
        "1. Create your own implementation of `Learner` from scratch, based on the training loop shown in this chapter.\n",
        "1. Complete all the steps in this chapter using the full MNIST datasets (that is, for all digits, not just 3s and 7s). This is a significant project and will take you quite a bit of time to complete! You'll need to do some of your own research to figure out how to overcome some obstacles you'll meet on the way."
      ]
    },
    {
      "cell_type": "code",
      "metadata": {
        "id": "CKrbPkDP3jsl"
      },
      "source": [
        ""
      ],
      "execution_count": null,
      "outputs": []
    },
    {
      "cell_type": "code",
      "metadata": {
        "id": "3KBW-EeC4k6d"
      },
      "source": [
        ""
      ],
      "execution_count": null,
      "outputs": []
    },
    {
      "cell_type": "code",
      "metadata": {
        "id": "SacGUeTG4w3A"
      },
      "source": [
        ""
      ],
      "execution_count": null,
      "outputs": []
    },
    {
      "cell_type": "code",
      "metadata": {
        "id": "8ffwdSBQ_aJe"
      },
      "source": [
        ""
      ],
      "execution_count": null,
      "outputs": []
    },
    {
      "cell_type": "code",
      "metadata": {
        "id": "PG7rQZCXz8ee"
      },
      "source": [
        ""
      ],
      "execution_count": null,
      "outputs": []
    }
  ]
}