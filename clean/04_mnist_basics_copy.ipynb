{
  "nbformat": 4,
  "nbformat_minor": 0,
  "metadata": {
    "jupytext": {
      "split_at_heading": true
    },
    "kernelspec": {
      "display_name": "Python 3",
      "language": "python",
      "name": "python3"
    },
    "colab": {
      "name": "04_mnist_basics.ipynb",
      "provenance": []
    }
  },
  "cells": [
    {
      "cell_type": "code",
      "metadata": {
        "id": "199PXtDt3jsg"
      },
      "source": [
        "#hide\n",
        "!pip install -Uqq fastbook\n",
        "import fastbook\n",
        "#fastbook.setup_book()"
      ],
      "execution_count": 2,
      "outputs": []
    },
    {
      "cell_type": "code",
      "metadata": {
        "id": "QW2mD-Tp3jsh"
      },
      "source": [
        "#hide\n",
        "from fastai.vision.all import *\n",
        "from fastbook import *\n",
        "\n",
        "matplotlib.rc('image', cmap='Greys')"
      ],
      "execution_count": 3,
      "outputs": []
    },
    {
      "cell_type": "markdown",
      "metadata": {
        "id": "v8x2ZAwo3jsh"
      },
      "source": [
        "# Under the Hood: Training a Digit Classifier"
      ]
    },
    {
      "cell_type": "markdown",
      "metadata": {
        "id": "WqEETMgi3jsh"
      },
      "source": [
        "## Pixels: The Foundations of Computer Vision"
      ]
    },
    {
      "cell_type": "markdown",
      "metadata": {
        "id": "oVGkYna_3jsh"
      },
      "source": [
        "## Sidebar: Tenacity and Deep Learning"
      ]
    },
    {
      "cell_type": "markdown",
      "metadata": {
        "id": "CgKfADlB3jsh"
      },
      "source": [
        "## End sidebar"
      ]
    },
    {
      "cell_type": "code",
      "metadata": {
        "id": "4nzXzr2m3jsh",
        "outputId": "77925dad-2f69-4a62-943f-e142b8d5a9fa",
        "colab": {
          "base_uri": "https://localhost:8080/",
          "height": 17
        }
      },
      "source": [
        "path = untar_data(URLs.MNIST_SAMPLE)"
      ],
      "execution_count": 4,
      "outputs": [
        {
          "output_type": "display_data",
          "data": {
            "text/html": [
              ""
            ],
            "text/plain": [
              "<IPython.core.display.HTML object>"
            ]
          },
          "metadata": {
            "tags": []
          }
        }
      ]
    },
    {
      "cell_type": "code",
      "metadata": {
        "id": "wypC4FJG3jsh"
      },
      "source": [
        "#hide\n",
        "Path.BASE_PATH = path"
      ],
      "execution_count": 5,
      "outputs": []
    },
    {
      "cell_type": "code",
      "metadata": {
        "id": "9DGFJoCm4mjN",
        "outputId": "21bd51a1-f1d9-4d35-f45f-572701d7d883",
        "colab": {
          "base_uri": "https://localhost:8080/"
        }
      },
      "source": [
        "path"
      ],
      "execution_count": 8,
      "outputs": [
        {
          "output_type": "execute_result",
          "data": {
            "text/plain": [
              "Path('.')"
            ]
          },
          "metadata": {
            "tags": []
          },
          "execution_count": 8
        }
      ]
    },
    {
      "cell_type": "code",
      "metadata": {
        "id": "QXXlqtLO4ipk",
        "outputId": "cc7f02c8-0808-4636-fa69-0bc741972a6c",
        "colab": {
          "base_uri": "https://localhost:8080/"
        }
      },
      "source": [
        "type(path)"
      ],
      "execution_count": 6,
      "outputs": [
        {
          "output_type": "execute_result",
          "data": {
            "text/plain": [
              "pathlib.PosixPath"
            ]
          },
          "metadata": {
            "tags": []
          },
          "execution_count": 6
        }
      ]
    },
    {
      "cell_type": "code",
      "metadata": {
        "id": "Gkxymtwu4qKv"
      },
      "source": [
        "path.ls?"
      ],
      "execution_count": 10,
      "outputs": []
    },
    {
      "cell_type": "code",
      "metadata": {
        "id": "UcLzcTCR40VF"
      },
      "source": [
        "path.ls??"
      ],
      "execution_count": 11,
      "outputs": []
    },
    {
      "cell_type": "code",
      "metadata": {
        "id": "yqKRadO344UQ",
        "outputId": "702e1df0-cb28-4f37-8bc0-75ac16091798",
        "colab": {
          "base_uri": "https://localhost:8080/",
          "height": 143
        }
      },
      "source": [
        "doc(path.ls)"
      ],
      "execution_count": 14,
      "outputs": [
        {
          "output_type": "display_data",
          "data": {
            "text/html": [
              "<h4 id=\"Path.ls\" class=\"doc_header\"><code>Path.ls</code><a href=\"https://github.com/fastai/fastcore/tree/master/fastcore/xtras.py#L104\" class=\"source_link\" style=\"float:right\">[source]</a></h4><blockquote><p><code>Path.ls</code>(<strong><code>n_max</code></strong>=<em><code>None</code></em>, <strong><code>file_type</code></strong>=<em><code>None</code></em>, <strong><code>file_exts</code></strong>=<em><code>None</code></em>)</p>\n",
              "</blockquote>\n",
              "<p>Contents of path as a list</p>\n",
              "<p><a href=\"https://fastcore.fast.ai/xtras#Path.ls\" target=\"_blank\" rel=\"noreferrer noopener\">Show in docs</a></p>\n"
            ],
            "text/plain": [
              "<IPython.core.display.HTML object>"
            ]
          },
          "metadata": {
            "tags": []
          }
        }
      ]
    },
    {
      "cell_type": "code",
      "metadata": {
        "id": "5KRxavJD3jsh",
        "outputId": "ad6f52af-a8a8-4adc-81f6-f6cdc0de8806",
        "colab": {
          "base_uri": "https://localhost:8080/"
        }
      },
      "source": [
        "path.ls()"
      ],
      "execution_count": 15,
      "outputs": [
        {
          "output_type": "execute_result",
          "data": {
            "text/plain": [
              "(#3) [Path('train'),Path('labels.csv'),Path('valid')]"
            ]
          },
          "metadata": {
            "tags": []
          },
          "execution_count": 15
        }
      ]
    },
    {
      "cell_type": "code",
      "metadata": {
        "id": "vu3kP24S3jsh",
        "outputId": "a278e513-b518-4cca-f406-80c551199a1f",
        "colab": {
          "base_uri": "https://localhost:8080/"
        }
      },
      "source": [
        "(path/'train').ls()"
      ],
      "execution_count": 16,
      "outputs": [
        {
          "output_type": "execute_result",
          "data": {
            "text/plain": [
              "(#2) [Path('train/3'),Path('train/7')]"
            ]
          },
          "metadata": {
            "tags": []
          },
          "execution_count": 16
        }
      ]
    },
    {
      "cell_type": "code",
      "metadata": {
        "id": "JckFCaeb3jsi",
        "outputId": "94b35b76-62c8-47e7-d769-f8020ad7700c",
        "colab": {
          "base_uri": "https://localhost:8080/"
        }
      },
      "source": [
        "threes = (path/'train'/'3').ls().sorted()\n",
        "sevens = (path/'train'/'7').ls().sorted()\n",
        "threes"
      ],
      "execution_count": 17,
      "outputs": [
        {
          "output_type": "execute_result",
          "data": {
            "text/plain": [
              "(#6131) [Path('train/3/10.png'),Path('train/3/10000.png'),Path('train/3/10011.png'),Path('train/3/10031.png'),Path('train/3/10034.png'),Path('train/3/10042.png'),Path('train/3/10052.png'),Path('train/3/1007.png'),Path('train/3/10074.png'),Path('train/3/10091.png')...]"
            ]
          },
          "metadata": {
            "tags": []
          },
          "execution_count": 17
        }
      ]
    },
    {
      "cell_type": "code",
      "metadata": {
        "id": "UrkMedC93jsi",
        "outputId": "a60b098c-f993-4e65-b802-ee852094f23b",
        "colab": {
          "base_uri": "https://localhost:8080/",
          "height": 45
        }
      },
      "source": [
        "im3_path = threes[1]\n",
        "im3 = Image.open(im3_path)\n",
        "im3"
      ],
      "execution_count": 18,
      "outputs": [
        {
          "output_type": "execute_result",
          "data": {
            "image/png": "[encoded data removed]",
            "text/plain": [
              "<PIL.PngImagePlugin.PngImageFile image mode=L size=28x28 at 0x7FF813787F98>"
            ]
          },
          "metadata": {
            "tags": []
          },
          "execution_count": 18
        }
      ]
    },
    {
      "cell_type": "code",
      "metadata": {
        "id": "ijjRw2LM5RVQ",
        "outputId": "e7ea6bae-7222-467a-d47b-1382bfdebea6",
        "colab": {
          "base_uri": "https://localhost:8080/"
        }
      },
      "source": [
        "type(im3)"
      ],
      "execution_count": 20,
      "outputs": [
        {
          "output_type": "execute_result",
          "data": {
            "text/plain": [
              "PIL.PngImagePlugin.PngImageFile"
            ]
          },
          "metadata": {
            "tags": []
          },
          "execution_count": 20
        }
      ]
    },
    {
      "cell_type": "code",
      "metadata": {
        "id": "hasVHC_T3jsi",
        "outputId": "043c0f48-e12f-41b5-ea78-d358c9b4ee35",
        "colab": {
          "base_uri": "https://localhost:8080/"
        }
      },
      "source": [
        "array(im3)[4:10,4:10]"
      ],
      "execution_count": 19,
      "outputs": [
        {
          "output_type": "execute_result",
          "data": {
            "text/plain": [
              "array([[  0,   0,   0,   0,   0,   0],\n",
              "       [  0,   0,   0,   0,   0,  29],\n",
              "       [  0,   0,   0,  48, 166, 224],\n",
              "       [  0,  93, 244, 249, 253, 187],\n",
              "       [  0, 107, 253, 253, 230,  48],\n",
              "       [  0,   3,  20,  20,  15,   0]], dtype=uint8)"
            ]
          },
          "metadata": {
            "tags": []
          },
          "execution_count": 19
        }
      ]
    },
    {
      "cell_type": "code",
      "metadata": {
        "id": "11hy4Tr73jsi",
        "outputId": "9a60cdd7-2b35-463b-c922-4905a4d1a357",
        "colab": {
          "base_uri": "https://localhost:8080/"
        }
      },
      "source": [
        "tensor(im3)[4:10,4:10]"
      ],
      "execution_count": 21,
      "outputs": [
        {
          "output_type": "execute_result",
          "data": {
            "text/plain": [
              "tensor([[  0,   0,   0,   0,   0,   0],\n",
              "        [  0,   0,   0,   0,   0,  29],\n",
              "        [  0,   0,   0,  48, 166, 224],\n",
              "        [  0,  93, 244, 249, 253, 187],\n",
              "        [  0, 107, 253, 253, 230,  48],\n",
              "        [  0,   3,  20,  20,  15,   0]], dtype=torch.uint8)"
            ]
          },
          "metadata": {
            "tags": []
          },
          "execution_count": 21
        }
      ]
    },
    {
      "cell_type": "code",
      "metadata": {
        "id": "GMzJhmtm3jsi",
        "outputId": "b455f1fc-7c56-48f6-c3b7-cb863f4cc542",
        "colab": {
          "base_uri": "https://localhost:8080/",
          "height": 498
        }
      },
      "source": [
        "im3_t = tensor(im3)\n",
        "df = pd.DataFrame(im3_t[4:27,4:27])\n",
        "df.style.set_properties(**{'font-size':'6pt'}).background_gradient('Greys')"
      ],
      "execution_count": 27,
      "outputs": [
        {
          "output_type": "execute_result",
          "data": {
            "text/html": [
              "<style  type=\"text/css\" >\n",
              "#T_a0f9bb70_387d_11eb_82ed_0242ac1c0002row0_col0,#T_a0f9bb70_387d_11eb_82ed_0242ac1c0002row0_col1,#T_a0f9bb70_387d_11eb_82ed_0242ac1c0002row0_col2,#T_a0f9bb70_387d_11eb_82ed_0242ac1c0002row0_col3,#T_a0f9bb70_387d_11eb_82ed_0242ac1c0002row0_col4,#T_a0f9bb70_387d_11eb_82ed_0242ac1c0002row0_col5,#T_a0f9bb70_387d_11eb_82ed_0242ac1c0002row0_col6,#T_a0f9bb70_387d_11eb_82ed_0242ac1c0002row0_col7,#T_a0f9bb70_387d_11eb_82ed_0242ac1c0002row0_col8,#T_a0f9bb70_387d_11eb_82ed_0242ac1c0002row0_col9,#T_a0f9bb70_387d_11eb_82ed_0242ac1c0002row0_col10,#T_a0f9bb70_387d_11eb_82ed_0242ac1c0002row0_col11,#T_a0f9bb70_387d_11eb_82ed_0242ac1c0002row0_col12,#T_a0f9bb70_387d_11eb_82ed_0242ac1c0002row0_col13,#T_a0f9bb70_387d_11eb_82ed_0242ac1c0002row0_col14,#T_a0f9bb70_387d_11eb_82ed_0242ac1c0002row0_col15,#T_a0f9bb70_387d_11eb_82ed_0242ac1c0002row0_col16,#T_a0f9bb70_387d_11eb_82ed_0242ac1c0002row0_col17,#T_a0f9bb70_387d_11eb_82ed_0242ac1c0002row0_col18,#T_a0f9bb70_387d_11eb_82ed_0242ac1c0002row0_col19,#T_a0f9bb70_387d_11eb_82ed_0242ac1c0002row0_col20,#T_a0f9bb70_387d_11eb_82ed_0242ac1c0002row0_col21,#T_a0f9bb70_387d_11eb_82ed_0242ac1c0002row0_col22,#T_a0f9bb70_387d_11eb_82ed_0242ac1c0002row1_col0,#T_a0f9bb70_387d_11eb_82ed_0242ac1c0002row1_col1,#T_a0f9bb70_387d_11eb_82ed_0242ac1c0002row1_col2,#T_a0f9bb70_387d_11eb_82ed_0242ac1c0002row1_col3,#T_a0f9bb70_387d_11eb_82ed_0242ac1c0002row1_col4,#T_a0f9bb70_387d_11eb_82ed_0242ac1c0002row1_col15,#T_a0f9bb70_387d_11eb_82ed_0242ac1c0002row1_col16,#T_a0f9bb70_387d_11eb_82ed_0242ac1c0002row1_col17,#T_a0f9bb70_387d_11eb_82ed_0242ac1c0002row1_col18,#T_a0f9bb70_387d_11eb_82ed_0242ac1c0002row1_col19,#T_a0f9bb70_387d_11eb_82ed_0242ac1c0002row1_col20,#T_a0f9bb70_387d_11eb_82ed_0242ac1c0002row1_col21,#T_a0f9bb70_387d_11eb_82ed_0242ac1c0002row1_col22,#T_a0f9bb70_387d_11eb_82ed_0242ac1c0002row2_col0,#T_a0f9bb70_387d_11eb_82ed_0242ac1c0002row2_col1,#T_a0f9bb70_387d_11eb_82ed_0242ac1c0002row2_col2,#T_a0f9bb70_387d_11eb_82ed_0242ac1c0002row2_col15,#T_a0f9bb70_387d_11eb_82ed_0242ac1c0002row2_col16,#T_a0f9bb70_387d_11eb_82ed_0242ac1c0002row2_col17,#T_a0f9bb70_387d_11eb_82ed_0242ac1c0002row2_col18,#T_a0f9bb70_387d_11eb_82ed_0242ac1c0002row2_col19,#T_a0f9bb70_387d_11eb_82ed_0242ac1c0002row2_col20,#T_a0f9bb70_387d_11eb_82ed_0242ac1c0002row2_col21,#T_a0f9bb70_387d_11eb_82ed_0242ac1c0002row2_col22,#T_a0f9bb70_387d_11eb_82ed_0242ac1c0002row3_col0,#T_a0f9bb70_387d_11eb_82ed_0242ac1c0002row3_col15,#T_a0f9bb70_387d_11eb_82ed_0242ac1c0002row3_col16,#T_a0f9bb70_387d_11eb_82ed_0242ac1c0002row3_col17,#T_a0f9bb70_387d_11eb_82ed_0242ac1c0002row3_col18,#T_a0f9bb70_387d_11eb_82ed_0242ac1c0002row3_col19,#T_a0f9bb70_387d_11eb_82ed_0242ac1c0002row3_col20,#T_a0f9bb70_387d_11eb_82ed_0242ac1c0002row3_col21,#T_a0f9bb70_387d_11eb_82ed_0242ac1c0002row3_col22,#T_a0f9bb70_387d_11eb_82ed_0242ac1c0002row4_col0,#T_a0f9bb70_387d_11eb_82ed_0242ac1c0002row4_col6,#T_a0f9bb70_387d_11eb_82ed_0242ac1c0002row4_col7,#T_a0f9bb70_387d_11eb_82ed_0242ac1c0002row4_col8,#T_a0f9bb70_387d_11eb_82ed_0242ac1c0002row4_col9,#T_a0f9bb70_387d_11eb_82ed_0242ac1c0002row4_col10,#T_a0f9bb70_387d_11eb_82ed_0242ac1c0002row4_col15,#T_a0f9bb70_387d_11eb_82ed_0242ac1c0002row4_col16,#T_a0f9bb70_387d_11eb_82ed_0242ac1c0002row4_col17,#T_a0f9bb70_387d_11eb_82ed_0242ac1c0002row4_col18,#T_a0f9bb70_387d_11eb_82ed_0242ac1c0002row4_col19,#T_a0f9bb70_387d_11eb_82ed_0242ac1c0002row4_col20,#T_a0f9bb70_387d_11eb_82ed_0242ac1c0002row4_col21,#T_a0f9bb70_387d_11eb_82ed_0242ac1c0002row4_col22,#T_a0f9bb70_387d_11eb_82ed_0242ac1c0002row5_col0,#T_a0f9bb70_387d_11eb_82ed_0242ac1c0002row5_col5,#T_a0f9bb70_387d_11eb_82ed_0242ac1c0002row5_col6,#T_a0f9bb70_387d_11eb_82ed_0242ac1c0002row5_col7,#T_a0f9bb70_387d_11eb_82ed_0242ac1c0002row5_col8,#T_a0f9bb70_387d_11eb_82ed_0242ac1c0002row5_col9,#T_a0f9bb70_387d_11eb_82ed_0242ac1c0002row5_col15,#T_a0f9bb70_387d_11eb_82ed_0242ac1c0002row5_col16,#T_a0f9bb70_387d_11eb_82ed_0242ac1c0002row5_col17,#T_a0f9bb70_387d_11eb_82ed_0242ac1c0002row5_col18,#T_a0f9bb70_387d_11eb_82ed_0242ac1c0002row5_col19,#T_a0f9bb70_387d_11eb_82ed_0242ac1c0002row5_col20,#T_a0f9bb70_387d_11eb_82ed_0242ac1c0002row5_col21,#T_a0f9bb70_387d_11eb_82ed_0242ac1c0002row5_col22,#T_a0f9bb70_387d_11eb_82ed_0242ac1c0002row6_col0,#T_a0f9bb70_387d_11eb_82ed_0242ac1c0002row6_col1,#T_a0f9bb70_387d_11eb_82ed_0242ac1c0002row6_col2,#T_a0f9bb70_387d_11eb_82ed_0242ac1c0002row6_col3,#T_a0f9bb70_387d_11eb_82ed_0242ac1c0002row6_col4,#T_a0f9bb70_387d_11eb_82ed_0242ac1c0002row6_col5,#T_a0f9bb70_387d_11eb_82ed_0242ac1c0002row6_col6,#T_a0f9bb70_387d_11eb_82ed_0242ac1c0002row6_col7,#T_a0f9bb70_387d_11eb_82ed_0242ac1c0002row6_col8,#T_a0f9bb70_387d_11eb_82ed_0242ac1c0002row6_col9,#T_a0f9bb70_387d_11eb_82ed_0242ac1c0002row6_col14,#T_a0f9bb70_387d_11eb_82ed_0242ac1c0002row6_col15,#T_a0f9bb70_387d_11eb_82ed_0242ac1c0002row6_col16,#T_a0f9bb70_387d_11eb_82ed_0242ac1c0002row6_col17,#T_a0f9bb70_387d_11eb_82ed_0242ac1c0002row6_col18,#T_a0f9bb70_387d_11eb_82ed_0242ac1c0002row6_col19,#T_a0f9bb70_387d_11eb_82ed_0242ac1c0002row6_col20,#T_a0f9bb70_387d_11eb_82ed_0242ac1c0002row6_col21,#T_a0f9bb70_387d_11eb_82ed_0242ac1c0002row6_col22,#T_a0f9bb70_387d_11eb_82ed_0242ac1c0002row7_col0,#T_a0f9bb70_387d_11eb_82ed_0242ac1c0002row7_col1,#T_a0f9bb70_387d_11eb_82ed_0242ac1c0002row7_col2,#T_a0f9bb70_387d_11eb_82ed_0242ac1c0002row7_col3,#T_a0f9bb70_387d_11eb_82ed_0242ac1c0002row7_col4,#T_a0f9bb70_387d_11eb_82ed_0242ac1c0002row7_col5,#T_a0f9bb70_387d_11eb_82ed_0242ac1c0002row7_col6,#T_a0f9bb70_387d_11eb_82ed_0242ac1c0002row7_col13,#T_a0f9bb70_387d_11eb_82ed_0242ac1c0002row7_col14,#T_a0f9bb70_387d_11eb_82ed_0242ac1c0002row7_col15,#T_a0f9bb70_387d_11eb_82ed_0242ac1c0002row7_col16,#T_a0f9bb70_387d_11eb_82ed_0242ac1c0002row7_col17,#T_a0f9bb70_387d_11eb_82ed_0242ac1c0002row7_col18,#T_a0f9bb70_387d_11eb_82ed_0242ac1c0002row7_col19,#T_a0f9bb70_387d_11eb_82ed_0242ac1c0002row7_col20,#T_a0f9bb70_387d_11eb_82ed_0242ac1c0002row7_col21,#T_a0f9bb70_387d_11eb_82ed_0242ac1c0002row7_col22,#T_a0f9bb70_387d_11eb_82ed_0242ac1c0002row8_col0,#T_a0f9bb70_387d_11eb_82ed_0242ac1c0002row8_col1,#T_a0f9bb70_387d_11eb_82ed_0242ac1c0002row8_col2,#T_a0f9bb70_387d_11eb_82ed_0242ac1c0002row8_col3,#T_a0f9bb70_387d_11eb_82ed_0242ac1c0002row8_col4,#T_a0f9bb70_387d_11eb_82ed_0242ac1c0002row8_col13,#T_a0f9bb70_387d_11eb_82ed_0242ac1c0002row8_col14,#T_a0f9bb70_387d_11eb_82ed_0242ac1c0002row8_col15,#T_a0f9bb70_387d_11eb_82ed_0242ac1c0002row8_col16,#T_a0f9bb70_387d_11eb_82ed_0242ac1c0002row8_col17,#T_a0f9bb70_387d_11eb_82ed_0242ac1c0002row8_col18,#T_a0f9bb70_387d_11eb_82ed_0242ac1c0002row8_col19,#T_a0f9bb70_387d_11eb_82ed_0242ac1c0002row8_col20,#T_a0f9bb70_387d_11eb_82ed_0242ac1c0002row8_col21,#T_a0f9bb70_387d_11eb_82ed_0242ac1c0002row8_col22,#T_a0f9bb70_387d_11eb_82ed_0242ac1c0002row9_col0,#T_a0f9bb70_387d_11eb_82ed_0242ac1c0002row9_col1,#T_a0f9bb70_387d_11eb_82ed_0242ac1c0002row9_col2,#T_a0f9bb70_387d_11eb_82ed_0242ac1c0002row9_col3,#T_a0f9bb70_387d_11eb_82ed_0242ac1c0002row9_col4,#T_a0f9bb70_387d_11eb_82ed_0242ac1c0002row9_col16,#T_a0f9bb70_387d_11eb_82ed_0242ac1c0002row9_col17,#T_a0f9bb70_387d_11eb_82ed_0242ac1c0002row9_col18,#T_a0f9bb70_387d_11eb_82ed_0242ac1c0002row9_col19,#T_a0f9bb70_387d_11eb_82ed_0242ac1c0002row9_col20,#T_a0f9bb70_387d_11eb_82ed_0242ac1c0002row9_col21,#T_a0f9bb70_387d_11eb_82ed_0242ac1c0002row9_col22,#T_a0f9bb70_387d_11eb_82ed_0242ac1c0002row10_col0,#T_a0f9bb70_387d_11eb_82ed_0242ac1c0002row10_col1,#T_a0f9bb70_387d_11eb_82ed_0242ac1c0002row10_col2,#T_a0f9bb70_387d_11eb_82ed_0242ac1c0002row10_col3,#T_a0f9bb70_387d_11eb_82ed_0242ac1c0002row10_col4,#T_a0f9bb70_387d_11eb_82ed_0242ac1c0002row10_col5,#T_a0f9bb70_387d_11eb_82ed_0242ac1c0002row10_col6,#T_a0f9bb70_387d_11eb_82ed_0242ac1c0002row10_col17,#T_a0f9bb70_387d_11eb_82ed_0242ac1c0002row10_col18,#T_a0f9bb70_387d_11eb_82ed_0242ac1c0002row10_col19,#T_a0f9bb70_387d_11eb_82ed_0242ac1c0002row10_col20,#T_a0f9bb70_387d_11eb_82ed_0242ac1c0002row10_col21,#T_a0f9bb70_387d_11eb_82ed_0242ac1c0002row10_col22,#T_a0f9bb70_387d_11eb_82ed_0242ac1c0002row11_col0,#T_a0f9bb70_387d_11eb_82ed_0242ac1c0002row11_col1,#T_a0f9bb70_387d_11eb_82ed_0242ac1c0002row11_col2,#T_a0f9bb70_387d_11eb_82ed_0242ac1c0002row11_col3,#T_a0f9bb70_387d_11eb_82ed_0242ac1c0002row11_col4,#T_a0f9bb70_387d_11eb_82ed_0242ac1c0002row11_col5,#T_a0f9bb70_387d_11eb_82ed_0242ac1c0002row11_col6,#T_a0f9bb70_387d_11eb_82ed_0242ac1c0002row11_col7,#T_a0f9bb70_387d_11eb_82ed_0242ac1c0002row11_col8,#T_a0f9bb70_387d_11eb_82ed_0242ac1c0002row11_col9,#T_a0f9bb70_387d_11eb_82ed_0242ac1c0002row11_col17,#T_a0f9bb70_387d_11eb_82ed_0242ac1c0002row11_col18,#T_a0f9bb70_387d_11eb_82ed_0242ac1c0002row11_col19,#T_a0f9bb70_387d_11eb_82ed_0242ac1c0002row11_col20,#T_a0f9bb70_387d_11eb_82ed_0242ac1c0002row11_col21,#T_a0f9bb70_387d_11eb_82ed_0242ac1c0002row11_col22,#T_a0f9bb70_387d_11eb_82ed_0242ac1c0002row12_col0,#T_a0f9bb70_387d_11eb_82ed_0242ac1c0002row12_col1,#T_a0f9bb70_387d_11eb_82ed_0242ac1c0002row12_col2,#T_a0f9bb70_387d_11eb_82ed_0242ac1c0002row12_col3,#T_a0f9bb70_387d_11eb_82ed_0242ac1c0002row12_col4,#T_a0f9bb70_387d_11eb_82ed_0242ac1c0002row12_col5,#T_a0f9bb70_387d_11eb_82ed_0242ac1c0002row12_col6,#T_a0f9bb70_387d_11eb_82ed_0242ac1c0002row12_col7,#T_a0f9bb70_387d_11eb_82ed_0242ac1c0002row12_col8,#T_a0f9bb70_387d_11eb_82ed_0242ac1c0002row12_col9,#T_a0f9bb70_387d_11eb_82ed_0242ac1c0002row12_col10,#T_a0f9bb70_387d_11eb_82ed_0242ac1c0002row12_col11,#T_a0f9bb70_387d_11eb_82ed_0242ac1c0002row12_col12,#T_a0f9bb70_387d_11eb_82ed_0242ac1c0002row12_col17,#T_a0f9bb70_387d_11eb_82ed_0242ac1c0002row12_col18,#T_a0f9bb70_387d_11eb_82ed_0242ac1c0002row12_col19,#T_a0f9bb70_387d_11eb_82ed_0242ac1c0002row12_col20,#T_a0f9bb70_387d_11eb_82ed_0242ac1c0002row12_col21,#T_a0f9bb70_387d_11eb_82ed_0242ac1c0002row12_col22,#T_a0f9bb70_387d_11eb_82ed_0242ac1c0002row13_col0,#T_a0f9bb70_387d_11eb_82ed_0242ac1c0002row13_col1,#T_a0f9bb70_387d_11eb_82ed_0242ac1c0002row13_col2,#T_a0f9bb70_387d_11eb_82ed_0242ac1c0002row13_col3,#T_a0f9bb70_387d_11eb_82ed_0242ac1c0002row13_col4,#T_a0f9bb70_387d_11eb_82ed_0242ac1c0002row13_col5,#T_a0f9bb70_387d_11eb_82ed_0242ac1c0002row13_col6,#T_a0f9bb70_387d_11eb_82ed_0242ac1c0002row13_col7,#T_a0f9bb70_387d_11eb_82ed_0242ac1c0002row13_col8,#T_a0f9bb70_387d_11eb_82ed_0242ac1c0002row13_col9,#T_a0f9bb70_387d_11eb_82ed_0242ac1c0002row13_col10,#T_a0f9bb70_387d_11eb_82ed_0242ac1c0002row13_col11,#T_a0f9bb70_387d_11eb_82ed_0242ac1c0002row13_col12,#T_a0f9bb70_387d_11eb_82ed_0242ac1c0002row13_col17,#T_a0f9bb70_387d_11eb_82ed_0242ac1c0002row13_col18,#T_a0f9bb70_387d_11eb_82ed_0242ac1c0002row13_col19,#T_a0f9bb70_387d_11eb_82ed_0242ac1c0002row13_col20,#T_a0f9bb70_387d_11eb_82ed_0242ac1c0002row13_col21,#T_a0f9bb70_387d_11eb_82ed_0242ac1c0002row13_col22,#T_a0f9bb70_387d_11eb_82ed_0242ac1c0002row14_col0,#T_a0f9bb70_387d_11eb_82ed_0242ac1c0002row14_col1,#T_a0f9bb70_387d_11eb_82ed_0242ac1c0002row14_col2,#T_a0f9bb70_387d_11eb_82ed_0242ac1c0002row14_col3,#T_a0f9bb70_387d_11eb_82ed_0242ac1c0002row14_col4,#T_a0f9bb70_387d_11eb_82ed_0242ac1c0002row14_col5,#T_a0f9bb70_387d_11eb_82ed_0242ac1c0002row14_col6,#T_a0f9bb70_387d_11eb_82ed_0242ac1c0002row14_col7,#T_a0f9bb70_387d_11eb_82ed_0242ac1c0002row14_col8,#T_a0f9bb70_387d_11eb_82ed_0242ac1c0002row14_col9,#T_a0f9bb70_387d_11eb_82ed_0242ac1c0002row14_col10,#T_a0f9bb70_387d_11eb_82ed_0242ac1c0002row14_col11,#T_a0f9bb70_387d_11eb_82ed_0242ac1c0002row14_col17,#T_a0f9bb70_387d_11eb_82ed_0242ac1c0002row14_col18,#T_a0f9bb70_387d_11eb_82ed_0242ac1c0002row14_col19,#T_a0f9bb70_387d_11eb_82ed_0242ac1c0002row14_col20,#T_a0f9bb70_387d_11eb_82ed_0242ac1c0002row14_col21,#T_a0f9bb70_387d_11eb_82ed_0242ac1c0002row14_col22,#T_a0f9bb70_387d_11eb_82ed_0242ac1c0002row15_col0,#T_a0f9bb70_387d_11eb_82ed_0242ac1c0002row15_col1,#T_a0f9bb70_387d_11eb_82ed_0242ac1c0002row15_col2,#T_a0f9bb70_387d_11eb_82ed_0242ac1c0002row15_col3,#T_a0f9bb70_387d_11eb_82ed_0242ac1c0002row15_col4,#T_a0f9bb70_387d_11eb_82ed_0242ac1c0002row15_col5,#T_a0f9bb70_387d_11eb_82ed_0242ac1c0002row15_col6,#T_a0f9bb70_387d_11eb_82ed_0242ac1c0002row15_col7,#T_a0f9bb70_387d_11eb_82ed_0242ac1c0002row15_col8,#T_a0f9bb70_387d_11eb_82ed_0242ac1c0002row15_col9,#T_a0f9bb70_387d_11eb_82ed_0242ac1c0002row15_col10,#T_a0f9bb70_387d_11eb_82ed_0242ac1c0002row15_col17,#T_a0f9bb70_387d_11eb_82ed_0242ac1c0002row15_col18,#T_a0f9bb70_387d_11eb_82ed_0242ac1c0002row15_col19,#T_a0f9bb70_387d_11eb_82ed_0242ac1c0002row15_col20,#T_a0f9bb70_387d_11eb_82ed_0242ac1c0002row15_col21,#T_a0f9bb70_387d_11eb_82ed_0242ac1c0002row15_col22,#T_a0f9bb70_387d_11eb_82ed_0242ac1c0002row16_col0,#T_a0f9bb70_387d_11eb_82ed_0242ac1c0002row16_col1,#T_a0f9bb70_387d_11eb_82ed_0242ac1c0002row16_col2,#T_a0f9bb70_387d_11eb_82ed_0242ac1c0002row16_col3,#T_a0f9bb70_387d_11eb_82ed_0242ac1c0002row16_col4,#T_a0f9bb70_387d_11eb_82ed_0242ac1c0002row16_col5,#T_a0f9bb70_387d_11eb_82ed_0242ac1c0002row16_col6,#T_a0f9bb70_387d_11eb_82ed_0242ac1c0002row16_col7,#T_a0f9bb70_387d_11eb_82ed_0242ac1c0002row16_col8,#T_a0f9bb70_387d_11eb_82ed_0242ac1c0002row16_col9,#T_a0f9bb70_387d_11eb_82ed_0242ac1c0002row16_col16,#T_a0f9bb70_387d_11eb_82ed_0242ac1c0002row16_col17,#T_a0f9bb70_387d_11eb_82ed_0242ac1c0002row16_col18,#T_a0f9bb70_387d_11eb_82ed_0242ac1c0002row16_col19,#T_a0f9bb70_387d_11eb_82ed_0242ac1c0002row16_col20,#T_a0f9bb70_387d_11eb_82ed_0242ac1c0002row16_col21,#T_a0f9bb70_387d_11eb_82ed_0242ac1c0002row16_col22,#T_a0f9bb70_387d_11eb_82ed_0242ac1c0002row17_col0,#T_a0f9bb70_387d_11eb_82ed_0242ac1c0002row17_col1,#T_a0f9bb70_387d_11eb_82ed_0242ac1c0002row17_col2,#T_a0f9bb70_387d_11eb_82ed_0242ac1c0002row17_col3,#T_a0f9bb70_387d_11eb_82ed_0242ac1c0002row17_col4,#T_a0f9bb70_387d_11eb_82ed_0242ac1c0002row17_col5,#T_a0f9bb70_387d_11eb_82ed_0242ac1c0002row17_col6,#T_a0f9bb70_387d_11eb_82ed_0242ac1c0002row17_col7,#T_a0f9bb70_387d_11eb_82ed_0242ac1c0002row17_col15,#T_a0f9bb70_387d_11eb_82ed_0242ac1c0002row17_col16,#T_a0f9bb70_387d_11eb_82ed_0242ac1c0002row17_col17,#T_a0f9bb70_387d_11eb_82ed_0242ac1c0002row17_col18,#T_a0f9bb70_387d_11eb_82ed_0242ac1c0002row17_col19,#T_a0f9bb70_387d_11eb_82ed_0242ac1c0002row17_col20,#T_a0f9bb70_387d_11eb_82ed_0242ac1c0002row17_col21,#T_a0f9bb70_387d_11eb_82ed_0242ac1c0002row17_col22,#T_a0f9bb70_387d_11eb_82ed_0242ac1c0002row18_col0,#T_a0f9bb70_387d_11eb_82ed_0242ac1c0002row18_col1,#T_a0f9bb70_387d_11eb_82ed_0242ac1c0002row18_col14,#T_a0f9bb70_387d_11eb_82ed_0242ac1c0002row18_col15,#T_a0f9bb70_387d_11eb_82ed_0242ac1c0002row18_col16,#T_a0f9bb70_387d_11eb_82ed_0242ac1c0002row18_col17,#T_a0f9bb70_387d_11eb_82ed_0242ac1c0002row18_col18,#T_a0f9bb70_387d_11eb_82ed_0242ac1c0002row18_col19,#T_a0f9bb70_387d_11eb_82ed_0242ac1c0002row18_col20,#T_a0f9bb70_387d_11eb_82ed_0242ac1c0002row18_col21,#T_a0f9bb70_387d_11eb_82ed_0242ac1c0002row18_col22,#T_a0f9bb70_387d_11eb_82ed_0242ac1c0002row19_col0,#T_a0f9bb70_387d_11eb_82ed_0242ac1c0002row19_col1,#T_a0f9bb70_387d_11eb_82ed_0242ac1c0002row19_col12,#T_a0f9bb70_387d_11eb_82ed_0242ac1c0002row19_col13,#T_a0f9bb70_387d_11eb_82ed_0242ac1c0002row19_col14,#T_a0f9bb70_387d_11eb_82ed_0242ac1c0002row19_col15,#T_a0f9bb70_387d_11eb_82ed_0242ac1c0002row19_col16,#T_a0f9bb70_387d_11eb_82ed_0242ac1c0002row19_col17,#T_a0f9bb70_387d_11eb_82ed_0242ac1c0002row19_col18,#T_a0f9bb70_387d_11eb_82ed_0242ac1c0002row19_col19,#T_a0f9bb70_387d_11eb_82ed_0242ac1c0002row19_col20,#T_a0f9bb70_387d_11eb_82ed_0242ac1c0002row19_col21,#T_a0f9bb70_387d_11eb_82ed_0242ac1c0002row19_col22,#T_a0f9bb70_387d_11eb_82ed_0242ac1c0002row20_col0,#T_a0f9bb70_387d_11eb_82ed_0242ac1c0002row20_col1,#T_a0f9bb70_387d_11eb_82ed_0242ac1c0002row20_col10,#T_a0f9bb70_387d_11eb_82ed_0242ac1c0002row20_col11,#T_a0f9bb70_387d_11eb_82ed_0242ac1c0002row20_col12,#T_a0f9bb70_387d_11eb_82ed_0242ac1c0002row20_col13,#T_a0f9bb70_387d_11eb_82ed_0242ac1c0002row20_col14,#T_a0f9bb70_387d_11eb_82ed_0242ac1c0002row20_col15,#T_a0f9bb70_387d_11eb_82ed_0242ac1c0002row20_col16,#T_a0f9bb70_387d_11eb_82ed_0242ac1c0002row20_col17,#T_a0f9bb70_387d_11eb_82ed_0242ac1c0002row20_col18,#T_a0f9bb70_387d_11eb_82ed_0242ac1c0002row20_col19,#T_a0f9bb70_387d_11eb_82ed_0242ac1c0002row20_col20,#T_a0f9bb70_387d_11eb_82ed_0242ac1c0002row20_col21,#T_a0f9bb70_387d_11eb_82ed_0242ac1c0002row20_col22,#T_a0f9bb70_387d_11eb_82ed_0242ac1c0002row21_col0,#T_a0f9bb70_387d_11eb_82ed_0242ac1c0002row21_col1,#T_a0f9bb70_387d_11eb_82ed_0242ac1c0002row21_col2,#T_a0f9bb70_387d_11eb_82ed_0242ac1c0002row21_col3,#T_a0f9bb70_387d_11eb_82ed_0242ac1c0002row21_col4,#T_a0f9bb70_387d_11eb_82ed_0242ac1c0002row21_col5,#T_a0f9bb70_387d_11eb_82ed_0242ac1c0002row21_col6,#T_a0f9bb70_387d_11eb_82ed_0242ac1c0002row21_col7,#T_a0f9bb70_387d_11eb_82ed_0242ac1c0002row21_col8,#T_a0f9bb70_387d_11eb_82ed_0242ac1c0002row21_col9,#T_a0f9bb70_387d_11eb_82ed_0242ac1c0002row21_col10,#T_a0f9bb70_387d_11eb_82ed_0242ac1c0002row21_col11,#T_a0f9bb70_387d_11eb_82ed_0242ac1c0002row21_col12,#T_a0f9bb70_387d_11eb_82ed_0242ac1c0002row21_col13,#T_a0f9bb70_387d_11eb_82ed_0242ac1c0002row21_col14,#T_a0f9bb70_387d_11eb_82ed_0242ac1c0002row21_col15,#T_a0f9bb70_387d_11eb_82ed_0242ac1c0002row21_col16,#T_a0f9bb70_387d_11eb_82ed_0242ac1c0002row21_col17,#T_a0f9bb70_387d_11eb_82ed_0242ac1c0002row21_col18,#T_a0f9bb70_387d_11eb_82ed_0242ac1c0002row21_col19,#T_a0f9bb70_387d_11eb_82ed_0242ac1c0002row21_col20,#T_a0f9bb70_387d_11eb_82ed_0242ac1c0002row21_col21,#T_a0f9bb70_387d_11eb_82ed_0242ac1c0002row21_col22,#T_a0f9bb70_387d_11eb_82ed_0242ac1c0002row22_col0,#T_a0f9bb70_387d_11eb_82ed_0242ac1c0002row22_col1,#T_a0f9bb70_387d_11eb_82ed_0242ac1c0002row22_col2,#T_a0f9bb70_387d_11eb_82ed_0242ac1c0002row22_col3,#T_a0f9bb70_387d_11eb_82ed_0242ac1c0002row22_col4,#T_a0f9bb70_387d_11eb_82ed_0242ac1c0002row22_col5,#T_a0f9bb70_387d_11eb_82ed_0242ac1c0002row22_col6,#T_a0f9bb70_387d_11eb_82ed_0242ac1c0002row22_col7,#T_a0f9bb70_387d_11eb_82ed_0242ac1c0002row22_col8,#T_a0f9bb70_387d_11eb_82ed_0242ac1c0002row22_col9,#T_a0f9bb70_387d_11eb_82ed_0242ac1c0002row22_col10,#T_a0f9bb70_387d_11eb_82ed_0242ac1c0002row22_col11,#T_a0f9bb70_387d_11eb_82ed_0242ac1c0002row22_col12,#T_a0f9bb70_387d_11eb_82ed_0242ac1c0002row22_col13,#T_a0f9bb70_387d_11eb_82ed_0242ac1c0002row22_col14,#T_a0f9bb70_387d_11eb_82ed_0242ac1c0002row22_col15,#T_a0f9bb70_387d_11eb_82ed_0242ac1c0002row22_col16,#T_a0f9bb70_387d_11eb_82ed_0242ac1c0002row22_col17,#T_a0f9bb70_387d_11eb_82ed_0242ac1c0002row22_col18,#T_a0f9bb70_387d_11eb_82ed_0242ac1c0002row22_col19,#T_a0f9bb70_387d_11eb_82ed_0242ac1c0002row22_col20,#T_a0f9bb70_387d_11eb_82ed_0242ac1c0002row22_col21,#T_a0f9bb70_387d_11eb_82ed_0242ac1c0002row22_col22{\n",
              "            font-size:  6pt;\n",
              "            background-color:  #ffffff;\n",
              "            color:  #000000;\n",
              "        }#T_a0f9bb70_387d_11eb_82ed_0242ac1c0002row1_col5,#T_a0f9bb70_387d_11eb_82ed_0242ac1c0002row8_col12{\n",
              "            font-size:  6pt;\n",
              "            background-color:  #f1f1f1;\n",
              "            color:  #000000;\n",
              "        }#T_a0f9bb70_387d_11eb_82ed_0242ac1c0002row1_col6,#T_a0f9bb70_387d_11eb_82ed_0242ac1c0002row1_col13{\n",
              "            font-size:  6pt;\n",
              "            background-color:  #7c7c7c;\n",
              "            color:  #000000;\n",
              "        }#T_a0f9bb70_387d_11eb_82ed_0242ac1c0002row1_col7{\n",
              "            font-size:  6pt;\n",
              "            background-color:  #4a4a4a;\n",
              "            color:  #f1f1f1;\n",
              "        }#T_a0f9bb70_387d_11eb_82ed_0242ac1c0002row1_col8,#T_a0f9bb70_387d_11eb_82ed_0242ac1c0002row1_col9,#T_a0f9bb70_387d_11eb_82ed_0242ac1c0002row1_col10,#T_a0f9bb70_387d_11eb_82ed_0242ac1c0002row2_col6,#T_a0f9bb70_387d_11eb_82ed_0242ac1c0002row2_col7,#T_a0f9bb70_387d_11eb_82ed_0242ac1c0002row2_col11,#T_a0f9bb70_387d_11eb_82ed_0242ac1c0002row2_col12,#T_a0f9bb70_387d_11eb_82ed_0242ac1c0002row2_col13,#T_a0f9bb70_387d_11eb_82ed_0242ac1c0002row3_col4,#T_a0f9bb70_387d_11eb_82ed_0242ac1c0002row3_col12,#T_a0f9bb70_387d_11eb_82ed_0242ac1c0002row3_col13,#T_a0f9bb70_387d_11eb_82ed_0242ac1c0002row4_col1,#T_a0f9bb70_387d_11eb_82ed_0242ac1c0002row4_col2,#T_a0f9bb70_387d_11eb_82ed_0242ac1c0002row4_col3,#T_a0f9bb70_387d_11eb_82ed_0242ac1c0002row4_col12,#T_a0f9bb70_387d_11eb_82ed_0242ac1c0002row4_col13,#T_a0f9bb70_387d_11eb_82ed_0242ac1c0002row5_col12,#T_a0f9bb70_387d_11eb_82ed_0242ac1c0002row6_col11,#T_a0f9bb70_387d_11eb_82ed_0242ac1c0002row9_col11,#T_a0f9bb70_387d_11eb_82ed_0242ac1c0002row10_col11,#T_a0f9bb70_387d_11eb_82ed_0242ac1c0002row10_col12,#T_a0f9bb70_387d_11eb_82ed_0242ac1c0002row10_col13,#T_a0f9bb70_387d_11eb_82ed_0242ac1c0002row10_col14,#T_a0f9bb70_387d_11eb_82ed_0242ac1c0002row11_col13,#T_a0f9bb70_387d_11eb_82ed_0242ac1c0002row11_col14,#T_a0f9bb70_387d_11eb_82ed_0242ac1c0002row11_col15,#T_a0f9bb70_387d_11eb_82ed_0242ac1c0002row12_col14,#T_a0f9bb70_387d_11eb_82ed_0242ac1c0002row12_col15,#T_a0f9bb70_387d_11eb_82ed_0242ac1c0002row12_col16,#T_a0f9bb70_387d_11eb_82ed_0242ac1c0002row13_col14,#T_a0f9bb70_387d_11eb_82ed_0242ac1c0002row13_col15,#T_a0f9bb70_387d_11eb_82ed_0242ac1c0002row14_col14,#T_a0f9bb70_387d_11eb_82ed_0242ac1c0002row14_col15,#T_a0f9bb70_387d_11eb_82ed_0242ac1c0002row15_col13,#T_a0f9bb70_387d_11eb_82ed_0242ac1c0002row15_col14,#T_a0f9bb70_387d_11eb_82ed_0242ac1c0002row16_col12,#T_a0f9bb70_387d_11eb_82ed_0242ac1c0002row16_col13,#T_a0f9bb70_387d_11eb_82ed_0242ac1c0002row17_col11,#T_a0f9bb70_387d_11eb_82ed_0242ac1c0002row17_col12,#T_a0f9bb70_387d_11eb_82ed_0242ac1c0002row19_col3,#T_a0f9bb70_387d_11eb_82ed_0242ac1c0002row19_col4,#T_a0f9bb70_387d_11eb_82ed_0242ac1c0002row19_col5,#T_a0f9bb70_387d_11eb_82ed_0242ac1c0002row19_col6,#T_a0f9bb70_387d_11eb_82ed_0242ac1c0002row19_col7,#T_a0f9bb70_387d_11eb_82ed_0242ac1c0002row20_col3,#T_a0f9bb70_387d_11eb_82ed_0242ac1c0002row20_col4,#T_a0f9bb70_387d_11eb_82ed_0242ac1c0002row20_col5,#T_a0f9bb70_387d_11eb_82ed_0242ac1c0002row20_col6,#T_a0f9bb70_387d_11eb_82ed_0242ac1c0002row20_col7{\n",
              "            font-size:  6pt;\n",
              "            background-color:  #000000;\n",
              "            color:  #f1f1f1;\n",
              "        }#T_a0f9bb70_387d_11eb_82ed_0242ac1c0002row1_col11{\n",
              "            font-size:  6pt;\n",
              "            background-color:  #606060;\n",
              "            color:  #f1f1f1;\n",
              "        }#T_a0f9bb70_387d_11eb_82ed_0242ac1c0002row1_col12{\n",
              "            font-size:  6pt;\n",
              "            background-color:  #4d4d4d;\n",
              "            color:  #f1f1f1;\n",
              "        }#T_a0f9bb70_387d_11eb_82ed_0242ac1c0002row1_col14{\n",
              "            font-size:  6pt;\n",
              "            background-color:  #bbbbbb;\n",
              "            color:  #000000;\n",
              "        }#T_a0f9bb70_387d_11eb_82ed_0242ac1c0002row2_col3,#T_a0f9bb70_387d_11eb_82ed_0242ac1c0002row4_col5{\n",
              "            font-size:  6pt;\n",
              "            background-color:  #e4e4e4;\n",
              "            color:  #000000;\n",
              "        }#T_a0f9bb70_387d_11eb_82ed_0242ac1c0002row2_col4,#T_a0f9bb70_387d_11eb_82ed_0242ac1c0002row8_col6{\n",
              "            font-size:  6pt;\n",
              "            background-color:  #6b6b6b;\n",
              "            color:  #000000;\n",
              "        }#T_a0f9bb70_387d_11eb_82ed_0242ac1c0002row2_col5,#T_a0f9bb70_387d_11eb_82ed_0242ac1c0002row5_col11{\n",
              "            font-size:  6pt;\n",
              "            background-color:  #222222;\n",
              "            color:  #f1f1f1;\n",
              "        }#T_a0f9bb70_387d_11eb_82ed_0242ac1c0002row2_col8,#T_a0f9bb70_387d_11eb_82ed_0242ac1c0002row2_col14,#T_a0f9bb70_387d_11eb_82ed_0242ac1c0002row3_col14,#T_a0f9bb70_387d_11eb_82ed_0242ac1c0002row17_col13{\n",
              "            font-size:  6pt;\n",
              "            background-color:  #171717;\n",
              "            color:  #f1f1f1;\n",
              "        }#T_a0f9bb70_387d_11eb_82ed_0242ac1c0002row2_col9,#T_a0f9bb70_387d_11eb_82ed_0242ac1c0002row3_col11{\n",
              "            font-size:  6pt;\n",
              "            background-color:  #4b4b4b;\n",
              "            color:  #f1f1f1;\n",
              "        }#T_a0f9bb70_387d_11eb_82ed_0242ac1c0002row2_col10,#T_a0f9bb70_387d_11eb_82ed_0242ac1c0002row7_col10,#T_a0f9bb70_387d_11eb_82ed_0242ac1c0002row8_col8,#T_a0f9bb70_387d_11eb_82ed_0242ac1c0002row8_col10,#T_a0f9bb70_387d_11eb_82ed_0242ac1c0002row9_col8,#T_a0f9bb70_387d_11eb_82ed_0242ac1c0002row9_col10,#T_a0f9bb70_387d_11eb_82ed_0242ac1c0002row18_col10,#T_a0f9bb70_387d_11eb_82ed_0242ac1c0002row19_col8{\n",
              "            font-size:  6pt;\n",
              "            background-color:  #010101;\n",
              "            color:  #f1f1f1;\n",
              "        }#T_a0f9bb70_387d_11eb_82ed_0242ac1c0002row3_col1{\n",
              "            font-size:  6pt;\n",
              "            background-color:  #272727;\n",
              "            color:  #f1f1f1;\n",
              "        }#T_a0f9bb70_387d_11eb_82ed_0242ac1c0002row3_col2{\n",
              "            font-size:  6pt;\n",
              "            background-color:  #0a0a0a;\n",
              "            color:  #f1f1f1;\n",
              "        }#T_a0f9bb70_387d_11eb_82ed_0242ac1c0002row3_col3,#T_a0f9bb70_387d_11eb_82ed_0242ac1c0002row14_col13{\n",
              "            font-size:  6pt;\n",
              "            background-color:  #050505;\n",
              "            color:  #f1f1f1;\n",
              "        }#T_a0f9bb70_387d_11eb_82ed_0242ac1c0002row3_col5,#T_a0f9bb70_387d_11eb_82ed_0242ac1c0002row8_col11,#T_a0f9bb70_387d_11eb_82ed_0242ac1c0002row10_col15,#T_a0f9bb70_387d_11eb_82ed_0242ac1c0002row19_col2{\n",
              "            font-size:  6pt;\n",
              "            background-color:  #545454;\n",
              "            color:  #f1f1f1;\n",
              "        }#T_a0f9bb70_387d_11eb_82ed_0242ac1c0002row3_col6{\n",
              "            font-size:  6pt;\n",
              "            background-color:  #e6e6e6;\n",
              "            color:  #000000;\n",
              "        }#T_a0f9bb70_387d_11eb_82ed_0242ac1c0002row3_col7,#T_a0f9bb70_387d_11eb_82ed_0242ac1c0002row3_col10,#T_a0f9bb70_387d_11eb_82ed_0242ac1c0002row8_col5{\n",
              "            font-size:  6pt;\n",
              "            background-color:  #fafafa;\n",
              "            color:  #000000;\n",
              "        }#T_a0f9bb70_387d_11eb_82ed_0242ac1c0002row3_col8,#T_a0f9bb70_387d_11eb_82ed_0242ac1c0002row11_col10,#T_a0f9bb70_387d_11eb_82ed_0242ac1c0002row16_col15{\n",
              "            font-size:  6pt;\n",
              "            background-color:  #fbfbfb;\n",
              "            color:  #000000;\n",
              "        }#T_a0f9bb70_387d_11eb_82ed_0242ac1c0002row3_col9{\n",
              "            font-size:  6pt;\n",
              "            background-color:  #fdfdfd;\n",
              "            color:  #000000;\n",
              "        }#T_a0f9bb70_387d_11eb_82ed_0242ac1c0002row4_col4{\n",
              "            font-size:  6pt;\n",
              "            background-color:  #1b1b1b;\n",
              "            color:  #f1f1f1;\n",
              "        }#T_a0f9bb70_387d_11eb_82ed_0242ac1c0002row4_col11{\n",
              "            font-size:  6pt;\n",
              "            background-color:  #4e4e4e;\n",
              "            color:  #f1f1f1;\n",
              "        }#T_a0f9bb70_387d_11eb_82ed_0242ac1c0002row4_col14{\n",
              "            font-size:  6pt;\n",
              "            background-color:  #767676;\n",
              "            color:  #000000;\n",
              "        }#T_a0f9bb70_387d_11eb_82ed_0242ac1c0002row5_col1{\n",
              "            font-size:  6pt;\n",
              "            background-color:  #fcfcfc;\n",
              "            color:  #000000;\n",
              "        }#T_a0f9bb70_387d_11eb_82ed_0242ac1c0002row5_col2,#T_a0f9bb70_387d_11eb_82ed_0242ac1c0002row5_col3,#T_a0f9bb70_387d_11eb_82ed_0242ac1c0002row15_col16{\n",
              "            font-size:  6pt;\n",
              "            background-color:  #f6f6f6;\n",
              "            color:  #000000;\n",
              "        }#T_a0f9bb70_387d_11eb_82ed_0242ac1c0002row5_col4,#T_a0f9bb70_387d_11eb_82ed_0242ac1c0002row7_col7{\n",
              "            font-size:  6pt;\n",
              "            background-color:  #f8f8f8;\n",
              "            color:  #000000;\n",
              "        }#T_a0f9bb70_387d_11eb_82ed_0242ac1c0002row5_col10,#T_a0f9bb70_387d_11eb_82ed_0242ac1c0002row10_col7{\n",
              "            font-size:  6pt;\n",
              "            background-color:  #e8e8e8;\n",
              "            color:  #000000;\n",
              "        }#T_a0f9bb70_387d_11eb_82ed_0242ac1c0002row5_col13,#T_a0f9bb70_387d_11eb_82ed_0242ac1c0002row6_col12{\n",
              "            font-size:  6pt;\n",
              "            background-color:  #090909;\n",
              "            color:  #f1f1f1;\n",
              "        }#T_a0f9bb70_387d_11eb_82ed_0242ac1c0002row5_col14{\n",
              "            font-size:  6pt;\n",
              "            background-color:  #d0d0d0;\n",
              "            color:  #000000;\n",
              "        }#T_a0f9bb70_387d_11eb_82ed_0242ac1c0002row6_col10,#T_a0f9bb70_387d_11eb_82ed_0242ac1c0002row7_col11,#T_a0f9bb70_387d_11eb_82ed_0242ac1c0002row9_col6{\n",
              "            font-size:  6pt;\n",
              "            background-color:  #060606;\n",
              "            color:  #f1f1f1;\n",
              "        }#T_a0f9bb70_387d_11eb_82ed_0242ac1c0002row6_col13{\n",
              "            font-size:  6pt;\n",
              "            background-color:  #979797;\n",
              "            color:  #000000;\n",
              "        }#T_a0f9bb70_387d_11eb_82ed_0242ac1c0002row7_col8{\n",
              "            font-size:  6pt;\n",
              "            background-color:  #b6b6b6;\n",
              "            color:  #000000;\n",
              "        }#T_a0f9bb70_387d_11eb_82ed_0242ac1c0002row7_col9{\n",
              "            font-size:  6pt;\n",
              "            background-color:  #252525;\n",
              "            color:  #f1f1f1;\n",
              "        }#T_a0f9bb70_387d_11eb_82ed_0242ac1c0002row7_col12{\n",
              "            font-size:  6pt;\n",
              "            background-color:  #999999;\n",
              "            color:  #000000;\n",
              "        }#T_a0f9bb70_387d_11eb_82ed_0242ac1c0002row8_col7,#T_a0f9bb70_387d_11eb_82ed_0242ac1c0002row18_col8{\n",
              "            font-size:  6pt;\n",
              "            background-color:  #101010;\n",
              "            color:  #f1f1f1;\n",
              "        }#T_a0f9bb70_387d_11eb_82ed_0242ac1c0002row8_col9,#T_a0f9bb70_387d_11eb_82ed_0242ac1c0002row9_col9,#T_a0f9bb70_387d_11eb_82ed_0242ac1c0002row17_col10,#T_a0f9bb70_387d_11eb_82ed_0242ac1c0002row18_col9,#T_a0f9bb70_387d_11eb_82ed_0242ac1c0002row19_col9{\n",
              "            font-size:  6pt;\n",
              "            background-color:  #020202;\n",
              "            color:  #f1f1f1;\n",
              "        }#T_a0f9bb70_387d_11eb_82ed_0242ac1c0002row9_col5{\n",
              "            font-size:  6pt;\n",
              "            background-color:  #f7f7f7;\n",
              "            color:  #000000;\n",
              "        }#T_a0f9bb70_387d_11eb_82ed_0242ac1c0002row9_col7,#T_a0f9bb70_387d_11eb_82ed_0242ac1c0002row18_col11{\n",
              "            font-size:  6pt;\n",
              "            background-color:  #030303;\n",
              "            color:  #f1f1f1;\n",
              "        }#T_a0f9bb70_387d_11eb_82ed_0242ac1c0002row9_col12{\n",
              "            font-size:  6pt;\n",
              "            background-color:  #181818;\n",
              "            color:  #f1f1f1;\n",
              "        }#T_a0f9bb70_387d_11eb_82ed_0242ac1c0002row9_col13{\n",
              "            font-size:  6pt;\n",
              "            background-color:  #303030;\n",
              "            color:  #f1f1f1;\n",
              "        }#T_a0f9bb70_387d_11eb_82ed_0242ac1c0002row9_col14{\n",
              "            font-size:  6pt;\n",
              "            background-color:  #a9a9a9;\n",
              "            color:  #000000;\n",
              "        }#T_a0f9bb70_387d_11eb_82ed_0242ac1c0002row9_col15{\n",
              "            font-size:  6pt;\n",
              "            background-color:  #fefefe;\n",
              "            color:  #000000;\n",
              "        }#T_a0f9bb70_387d_11eb_82ed_0242ac1c0002row10_col8,#T_a0f9bb70_387d_11eb_82ed_0242ac1c0002row10_col9,#T_a0f9bb70_387d_11eb_82ed_0242ac1c0002row16_col10{\n",
              "            font-size:  6pt;\n",
              "            background-color:  #bababa;\n",
              "            color:  #000000;\n",
              "        }#T_a0f9bb70_387d_11eb_82ed_0242ac1c0002row10_col10{\n",
              "            font-size:  6pt;\n",
              "            background-color:  #393939;\n",
              "            color:  #f1f1f1;\n",
              "        }#T_a0f9bb70_387d_11eb_82ed_0242ac1c0002row10_col16{\n",
              "            font-size:  6pt;\n",
              "            background-color:  #eaeaea;\n",
              "            color:  #000000;\n",
              "        }#T_a0f9bb70_387d_11eb_82ed_0242ac1c0002row11_col11{\n",
              "            font-size:  6pt;\n",
              "            background-color:  #e2e2e2;\n",
              "            color:  #000000;\n",
              "        }#T_a0f9bb70_387d_11eb_82ed_0242ac1c0002row11_col12{\n",
              "            font-size:  6pt;\n",
              "            background-color:  #9f9f9f;\n",
              "            color:  #000000;\n",
              "        }#T_a0f9bb70_387d_11eb_82ed_0242ac1c0002row11_col16{\n",
              "            font-size:  6pt;\n",
              "            background-color:  #898989;\n",
              "            color:  #000000;\n",
              "        }#T_a0f9bb70_387d_11eb_82ed_0242ac1c0002row12_col13{\n",
              "            font-size:  6pt;\n",
              "            background-color:  #585858;\n",
              "            color:  #f1f1f1;\n",
              "        }#T_a0f9bb70_387d_11eb_82ed_0242ac1c0002row13_col13{\n",
              "            font-size:  6pt;\n",
              "            background-color:  #5a5a5a;\n",
              "            color:  #f1f1f1;\n",
              "        }#T_a0f9bb70_387d_11eb_82ed_0242ac1c0002row13_col16{\n",
              "            font-size:  6pt;\n",
              "            background-color:  #525252;\n",
              "            color:  #f1f1f1;\n",
              "        }#T_a0f9bb70_387d_11eb_82ed_0242ac1c0002row14_col12,#T_a0f9bb70_387d_11eb_82ed_0242ac1c0002row19_col11{\n",
              "            font-size:  6pt;\n",
              "            background-color:  #c5c5c5;\n",
              "            color:  #000000;\n",
              "        }#T_a0f9bb70_387d_11eb_82ed_0242ac1c0002row14_col16{\n",
              "            font-size:  6pt;\n",
              "            background-color:  #d7d7d7;\n",
              "            color:  #000000;\n",
              "        }#T_a0f9bb70_387d_11eb_82ed_0242ac1c0002row15_col11,#T_a0f9bb70_387d_11eb_82ed_0242ac1c0002row18_col5{\n",
              "            font-size:  6pt;\n",
              "            background-color:  #dcdcdc;\n",
              "            color:  #000000;\n",
              "        }#T_a0f9bb70_387d_11eb_82ed_0242ac1c0002row15_col12{\n",
              "            font-size:  6pt;\n",
              "            background-color:  #2f2f2f;\n",
              "            color:  #f1f1f1;\n",
              "        }#T_a0f9bb70_387d_11eb_82ed_0242ac1c0002row15_col15{\n",
              "            font-size:  6pt;\n",
              "            background-color:  #636363;\n",
              "            color:  #f1f1f1;\n",
              "        }#T_a0f9bb70_387d_11eb_82ed_0242ac1c0002row16_col11{\n",
              "            font-size:  6pt;\n",
              "            background-color:  #070707;\n",
              "            color:  #f1f1f1;\n",
              "        }#T_a0f9bb70_387d_11eb_82ed_0242ac1c0002row16_col14{\n",
              "            font-size:  6pt;\n",
              "            background-color:  #1f1f1f;\n",
              "            color:  #f1f1f1;\n",
              "        }#T_a0f9bb70_387d_11eb_82ed_0242ac1c0002row17_col8,#T_a0f9bb70_387d_11eb_82ed_0242ac1c0002row18_col2,#T_a0f9bb70_387d_11eb_82ed_0242ac1c0002row18_col4{\n",
              "            font-size:  6pt;\n",
              "            background-color:  #e9e9e9;\n",
              "            color:  #000000;\n",
              "        }#T_a0f9bb70_387d_11eb_82ed_0242ac1c0002row17_col9{\n",
              "            font-size:  6pt;\n",
              "            background-color:  #7d7d7d;\n",
              "            color:  #000000;\n",
              "        }#T_a0f9bb70_387d_11eb_82ed_0242ac1c0002row17_col14{\n",
              "            font-size:  6pt;\n",
              "            background-color:  #e1e1e1;\n",
              "            color:  #000000;\n",
              "        }#T_a0f9bb70_387d_11eb_82ed_0242ac1c0002row18_col3,#T_a0f9bb70_387d_11eb_82ed_0242ac1c0002row18_col6{\n",
              "            font-size:  6pt;\n",
              "            background-color:  #a4a4a4;\n",
              "            color:  #000000;\n",
              "        }#T_a0f9bb70_387d_11eb_82ed_0242ac1c0002row18_col7{\n",
              "            font-size:  6pt;\n",
              "            background-color:  #727272;\n",
              "            color:  #000000;\n",
              "        }#T_a0f9bb70_387d_11eb_82ed_0242ac1c0002row18_col12{\n",
              "            font-size:  6pt;\n",
              "            background-color:  #616161;\n",
              "            color:  #f1f1f1;\n",
              "        }#T_a0f9bb70_387d_11eb_82ed_0242ac1c0002row18_col13{\n",
              "            font-size:  6pt;\n",
              "            background-color:  #f3f3f3;\n",
              "            color:  #000000;\n",
              "        }#T_a0f9bb70_387d_11eb_82ed_0242ac1c0002row19_col10{\n",
              "            font-size:  6pt;\n",
              "            background-color:  #484848;\n",
              "            color:  #f1f1f1;\n",
              "        }#T_a0f9bb70_387d_11eb_82ed_0242ac1c0002row20_col2{\n",
              "            font-size:  6pt;\n",
              "            background-color:  #b3b3b3;\n",
              "            color:  #000000;\n",
              "        }#T_a0f9bb70_387d_11eb_82ed_0242ac1c0002row20_col8{\n",
              "            font-size:  6pt;\n",
              "            background-color:  #1a1a1a;\n",
              "            color:  #f1f1f1;\n",
              "        }#T_a0f9bb70_387d_11eb_82ed_0242ac1c0002row20_col9{\n",
              "            font-size:  6pt;\n",
              "            background-color:  #d6d6d6;\n",
              "            color:  #000000;\n",
              "        }</style><table id=\"T_a0f9bb70_387d_11eb_82ed_0242ac1c0002\" ><thead>    <tr>        <th class=\"blank level0\" ></th>        <th class=\"col_heading level0 col0\" >0</th>        <th class=\"col_heading level0 col1\" >1</th>        <th class=\"col_heading level0 col2\" >2</th>        <th class=\"col_heading level0 col3\" >3</th>        <th class=\"col_heading level0 col4\" >4</th>        <th class=\"col_heading level0 col5\" >5</th>        <th class=\"col_heading level0 col6\" >6</th>        <th class=\"col_heading level0 col7\" >7</th>        <th class=\"col_heading level0 col8\" >8</th>        <th class=\"col_heading level0 col9\" >9</th>        <th class=\"col_heading level0 col10\" >10</th>        <th class=\"col_heading level0 col11\" >11</th>        <th class=\"col_heading level0 col12\" >12</th>        <th class=\"col_heading level0 col13\" >13</th>        <th class=\"col_heading level0 col14\" >14</th>        <th class=\"col_heading level0 col15\" >15</th>        <th class=\"col_heading level0 col16\" >16</th>        <th class=\"col_heading level0 col17\" >17</th>        <th class=\"col_heading level0 col18\" >18</th>        <th class=\"col_heading level0 col19\" >19</th>        <th class=\"col_heading level0 col20\" >20</th>        <th class=\"col_heading level0 col21\" >21</th>        <th class=\"col_heading level0 col22\" >22</th>    </tr></thead><tbody>\n",
              "                <tr>\n",
              "                        <th id=\"T_a0f9bb70_387d_11eb_82ed_0242ac1c0002level0_row0\" class=\"row_heading level0 row0\" >0</th>\n",
              "                        <td id=\"T_a0f9bb70_387d_11eb_82ed_0242ac1c0002row0_col0\" class=\"data row0 col0\" >0</td>\n",
              "                        <td id=\"T_a0f9bb70_387d_11eb_82ed_0242ac1c0002row0_col1\" class=\"data row0 col1\" >0</td>\n",
              "                        <td id=\"T_a0f9bb70_387d_11eb_82ed_0242ac1c0002row0_col2\" class=\"data row0 col2\" >0</td>\n",
              "                        <td id=\"T_a0f9bb70_387d_11eb_82ed_0242ac1c0002row0_col3\" class=\"data row0 col3\" >0</td>\n",
              "                        <td id=\"T_a0f9bb70_387d_11eb_82ed_0242ac1c0002row0_col4\" class=\"data row0 col4\" >0</td>\n",
              "                        <td id=\"T_a0f9bb70_387d_11eb_82ed_0242ac1c0002row0_col5\" class=\"data row0 col5\" >0</td>\n",
              "                        <td id=\"T_a0f9bb70_387d_11eb_82ed_0242ac1c0002row0_col6\" class=\"data row0 col6\" >0</td>\n",
              "                        <td id=\"T_a0f9bb70_387d_11eb_82ed_0242ac1c0002row0_col7\" class=\"data row0 col7\" >0</td>\n",
              "                        <td id=\"T_a0f9bb70_387d_11eb_82ed_0242ac1c0002row0_col8\" class=\"data row0 col8\" >0</td>\n",
              "                        <td id=\"T_a0f9bb70_387d_11eb_82ed_0242ac1c0002row0_col9\" class=\"data row0 col9\" >0</td>\n",
              "                        <td id=\"T_a0f9bb70_387d_11eb_82ed_0242ac1c0002row0_col10\" class=\"data row0 col10\" >0</td>\n",
              "                        <td id=\"T_a0f9bb70_387d_11eb_82ed_0242ac1c0002row0_col11\" class=\"data row0 col11\" >0</td>\n",
              "                        <td id=\"T_a0f9bb70_387d_11eb_82ed_0242ac1c0002row0_col12\" class=\"data row0 col12\" >0</td>\n",
              "                        <td id=\"T_a0f9bb70_387d_11eb_82ed_0242ac1c0002row0_col13\" class=\"data row0 col13\" >0</td>\n",
              "                        <td id=\"T_a0f9bb70_387d_11eb_82ed_0242ac1c0002row0_col14\" class=\"data row0 col14\" >0</td>\n",
              "                        <td id=\"T_a0f9bb70_387d_11eb_82ed_0242ac1c0002row0_col15\" class=\"data row0 col15\" >0</td>\n",
              "                        <td id=\"T_a0f9bb70_387d_11eb_82ed_0242ac1c0002row0_col16\" class=\"data row0 col16\" >0</td>\n",
              "                        <td id=\"T_a0f9bb70_387d_11eb_82ed_0242ac1c0002row0_col17\" class=\"data row0 col17\" >0</td>\n",
              "                        <td id=\"T_a0f9bb70_387d_11eb_82ed_0242ac1c0002row0_col18\" class=\"data row0 col18\" >0</td>\n",
              "                        <td id=\"T_a0f9bb70_387d_11eb_82ed_0242ac1c0002row0_col19\" class=\"data row0 col19\" >0</td>\n",
              "                        <td id=\"T_a0f9bb70_387d_11eb_82ed_0242ac1c0002row0_col20\" class=\"data row0 col20\" >0</td>\n",
              "                        <td id=\"T_a0f9bb70_387d_11eb_82ed_0242ac1c0002row0_col21\" class=\"data row0 col21\" >0</td>\n",
              "                        <td id=\"T_a0f9bb70_387d_11eb_82ed_0242ac1c0002row0_col22\" class=\"data row0 col22\" >0</td>\n",
              "            </tr>\n",
              "            <tr>\n",
              "                        <th id=\"T_a0f9bb70_387d_11eb_82ed_0242ac1c0002level0_row1\" class=\"row_heading level0 row1\" >1</th>\n",
              "                        <td id=\"T_a0f9bb70_387d_11eb_82ed_0242ac1c0002row1_col0\" class=\"data row1 col0\" >0</td>\n",
              "                        <td id=\"T_a0f9bb70_387d_11eb_82ed_0242ac1c0002row1_col1\" class=\"data row1 col1\" >0</td>\n",
              "                        <td id=\"T_a0f9bb70_387d_11eb_82ed_0242ac1c0002row1_col2\" class=\"data row1 col2\" >0</td>\n",
              "                        <td id=\"T_a0f9bb70_387d_11eb_82ed_0242ac1c0002row1_col3\" class=\"data row1 col3\" >0</td>\n",
              "                        <td id=\"T_a0f9bb70_387d_11eb_82ed_0242ac1c0002row1_col4\" class=\"data row1 col4\" >0</td>\n",
              "                        <td id=\"T_a0f9bb70_387d_11eb_82ed_0242ac1c0002row1_col5\" class=\"data row1 col5\" >29</td>\n",
              "                        <td id=\"T_a0f9bb70_387d_11eb_82ed_0242ac1c0002row1_col6\" class=\"data row1 col6\" >150</td>\n",
              "                        <td id=\"T_a0f9bb70_387d_11eb_82ed_0242ac1c0002row1_col7\" class=\"data row1 col7\" >195</td>\n",
              "                        <td id=\"T_a0f9bb70_387d_11eb_82ed_0242ac1c0002row1_col8\" class=\"data row1 col8\" >254</td>\n",
              "                        <td id=\"T_a0f9bb70_387d_11eb_82ed_0242ac1c0002row1_col9\" class=\"data row1 col9\" >255</td>\n",
              "                        <td id=\"T_a0f9bb70_387d_11eb_82ed_0242ac1c0002row1_col10\" class=\"data row1 col10\" >254</td>\n",
              "                        <td id=\"T_a0f9bb70_387d_11eb_82ed_0242ac1c0002row1_col11\" class=\"data row1 col11\" >176</td>\n",
              "                        <td id=\"T_a0f9bb70_387d_11eb_82ed_0242ac1c0002row1_col12\" class=\"data row1 col12\" >193</td>\n",
              "                        <td id=\"T_a0f9bb70_387d_11eb_82ed_0242ac1c0002row1_col13\" class=\"data row1 col13\" >150</td>\n",
              "                        <td id=\"T_a0f9bb70_387d_11eb_82ed_0242ac1c0002row1_col14\" class=\"data row1 col14\" >96</td>\n",
              "                        <td id=\"T_a0f9bb70_387d_11eb_82ed_0242ac1c0002row1_col15\" class=\"data row1 col15\" >0</td>\n",
              "                        <td id=\"T_a0f9bb70_387d_11eb_82ed_0242ac1c0002row1_col16\" class=\"data row1 col16\" >0</td>\n",
              "                        <td id=\"T_a0f9bb70_387d_11eb_82ed_0242ac1c0002row1_col17\" class=\"data row1 col17\" >0</td>\n",
              "                        <td id=\"T_a0f9bb70_387d_11eb_82ed_0242ac1c0002row1_col18\" class=\"data row1 col18\" >0</td>\n",
              "                        <td id=\"T_a0f9bb70_387d_11eb_82ed_0242ac1c0002row1_col19\" class=\"data row1 col19\" >0</td>\n",
              "                        <td id=\"T_a0f9bb70_387d_11eb_82ed_0242ac1c0002row1_col20\" class=\"data row1 col20\" >0</td>\n",
              "                        <td id=\"T_a0f9bb70_387d_11eb_82ed_0242ac1c0002row1_col21\" class=\"data row1 col21\" >0</td>\n",
              "                        <td id=\"T_a0f9bb70_387d_11eb_82ed_0242ac1c0002row1_col22\" class=\"data row1 col22\" >0</td>\n",
              "            </tr>\n",
              "            <tr>\n",
              "                        <th id=\"T_a0f9bb70_387d_11eb_82ed_0242ac1c0002level0_row2\" class=\"row_heading level0 row2\" >2</th>\n",
              "                        <td id=\"T_a0f9bb70_387d_11eb_82ed_0242ac1c0002row2_col0\" class=\"data row2 col0\" >0</td>\n",
              "                        <td id=\"T_a0f9bb70_387d_11eb_82ed_0242ac1c0002row2_col1\" class=\"data row2 col1\" >0</td>\n",
              "                        <td id=\"T_a0f9bb70_387d_11eb_82ed_0242ac1c0002row2_col2\" class=\"data row2 col2\" >0</td>\n",
              "                        <td id=\"T_a0f9bb70_387d_11eb_82ed_0242ac1c0002row2_col3\" class=\"data row2 col3\" >48</td>\n",
              "                        <td id=\"T_a0f9bb70_387d_11eb_82ed_0242ac1c0002row2_col4\" class=\"data row2 col4\" >166</td>\n",
              "                        <td id=\"T_a0f9bb70_387d_11eb_82ed_0242ac1c0002row2_col5\" class=\"data row2 col5\" >224</td>\n",
              "                        <td id=\"T_a0f9bb70_387d_11eb_82ed_0242ac1c0002row2_col6\" class=\"data row2 col6\" >253</td>\n",
              "                        <td id=\"T_a0f9bb70_387d_11eb_82ed_0242ac1c0002row2_col7\" class=\"data row2 col7\" >253</td>\n",
              "                        <td id=\"T_a0f9bb70_387d_11eb_82ed_0242ac1c0002row2_col8\" class=\"data row2 col8\" >234</td>\n",
              "                        <td id=\"T_a0f9bb70_387d_11eb_82ed_0242ac1c0002row2_col9\" class=\"data row2 col9\" >196</td>\n",
              "                        <td id=\"T_a0f9bb70_387d_11eb_82ed_0242ac1c0002row2_col10\" class=\"data row2 col10\" >253</td>\n",
              "                        <td id=\"T_a0f9bb70_387d_11eb_82ed_0242ac1c0002row2_col11\" class=\"data row2 col11\" >253</td>\n",
              "                        <td id=\"T_a0f9bb70_387d_11eb_82ed_0242ac1c0002row2_col12\" class=\"data row2 col12\" >253</td>\n",
              "                        <td id=\"T_a0f9bb70_387d_11eb_82ed_0242ac1c0002row2_col13\" class=\"data row2 col13\" >253</td>\n",
              "                        <td id=\"T_a0f9bb70_387d_11eb_82ed_0242ac1c0002row2_col14\" class=\"data row2 col14\" >233</td>\n",
              "                        <td id=\"T_a0f9bb70_387d_11eb_82ed_0242ac1c0002row2_col15\" class=\"data row2 col15\" >0</td>\n",
              "                        <td id=\"T_a0f9bb70_387d_11eb_82ed_0242ac1c0002row2_col16\" class=\"data row2 col16\" >0</td>\n",
              "                        <td id=\"T_a0f9bb70_387d_11eb_82ed_0242ac1c0002row2_col17\" class=\"data row2 col17\" >0</td>\n",
              "                        <td id=\"T_a0f9bb70_387d_11eb_82ed_0242ac1c0002row2_col18\" class=\"data row2 col18\" >0</td>\n",
              "                        <td id=\"T_a0f9bb70_387d_11eb_82ed_0242ac1c0002row2_col19\" class=\"data row2 col19\" >0</td>\n",
              "                        <td id=\"T_a0f9bb70_387d_11eb_82ed_0242ac1c0002row2_col20\" class=\"data row2 col20\" >0</td>\n",
              "                        <td id=\"T_a0f9bb70_387d_11eb_82ed_0242ac1c0002row2_col21\" class=\"data row2 col21\" >0</td>\n",
              "                        <td id=\"T_a0f9bb70_387d_11eb_82ed_0242ac1c0002row2_col22\" class=\"data row2 col22\" >0</td>\n",
              "            </tr>\n",
              "            <tr>\n",
              "                        <th id=\"T_a0f9bb70_387d_11eb_82ed_0242ac1c0002level0_row3\" class=\"row_heading level0 row3\" >3</th>\n",
              "                        <td id=\"T_a0f9bb70_387d_11eb_82ed_0242ac1c0002row3_col0\" class=\"data row3 col0\" >0</td>\n",
              "                        <td id=\"T_a0f9bb70_387d_11eb_82ed_0242ac1c0002row3_col1\" class=\"data row3 col1\" >93</td>\n",
              "                        <td id=\"T_a0f9bb70_387d_11eb_82ed_0242ac1c0002row3_col2\" class=\"data row3 col2\" >244</td>\n",
              "                        <td id=\"T_a0f9bb70_387d_11eb_82ed_0242ac1c0002row3_col3\" class=\"data row3 col3\" >249</td>\n",
              "                        <td id=\"T_a0f9bb70_387d_11eb_82ed_0242ac1c0002row3_col4\" class=\"data row3 col4\" >253</td>\n",
              "                        <td id=\"T_a0f9bb70_387d_11eb_82ed_0242ac1c0002row3_col5\" class=\"data row3 col5\" >187</td>\n",
              "                        <td id=\"T_a0f9bb70_387d_11eb_82ed_0242ac1c0002row3_col6\" class=\"data row3 col6\" >46</td>\n",
              "                        <td id=\"T_a0f9bb70_387d_11eb_82ed_0242ac1c0002row3_col7\" class=\"data row3 col7\" >10</td>\n",
              "                        <td id=\"T_a0f9bb70_387d_11eb_82ed_0242ac1c0002row3_col8\" class=\"data row3 col8\" >8</td>\n",
              "                        <td id=\"T_a0f9bb70_387d_11eb_82ed_0242ac1c0002row3_col9\" class=\"data row3 col9\" >4</td>\n",
              "                        <td id=\"T_a0f9bb70_387d_11eb_82ed_0242ac1c0002row3_col10\" class=\"data row3 col10\" >10</td>\n",
              "                        <td id=\"T_a0f9bb70_387d_11eb_82ed_0242ac1c0002row3_col11\" class=\"data row3 col11\" >194</td>\n",
              "                        <td id=\"T_a0f9bb70_387d_11eb_82ed_0242ac1c0002row3_col12\" class=\"data row3 col12\" >253</td>\n",
              "                        <td id=\"T_a0f9bb70_387d_11eb_82ed_0242ac1c0002row3_col13\" class=\"data row3 col13\" >253</td>\n",
              "                        <td id=\"T_a0f9bb70_387d_11eb_82ed_0242ac1c0002row3_col14\" class=\"data row3 col14\" >233</td>\n",
              "                        <td id=\"T_a0f9bb70_387d_11eb_82ed_0242ac1c0002row3_col15\" class=\"data row3 col15\" >0</td>\n",
              "                        <td id=\"T_a0f9bb70_387d_11eb_82ed_0242ac1c0002row3_col16\" class=\"data row3 col16\" >0</td>\n",
              "                        <td id=\"T_a0f9bb70_387d_11eb_82ed_0242ac1c0002row3_col17\" class=\"data row3 col17\" >0</td>\n",
              "                        <td id=\"T_a0f9bb70_387d_11eb_82ed_0242ac1c0002row3_col18\" class=\"data row3 col18\" >0</td>\n",
              "                        <td id=\"T_a0f9bb70_387d_11eb_82ed_0242ac1c0002row3_col19\" class=\"data row3 col19\" >0</td>\n",
              "                        <td id=\"T_a0f9bb70_387d_11eb_82ed_0242ac1c0002row3_col20\" class=\"data row3 col20\" >0</td>\n",
              "                        <td id=\"T_a0f9bb70_387d_11eb_82ed_0242ac1c0002row3_col21\" class=\"data row3 col21\" >0</td>\n",
              "                        <td id=\"T_a0f9bb70_387d_11eb_82ed_0242ac1c0002row3_col22\" class=\"data row3 col22\" >0</td>\n",
              "            </tr>\n",
              "            <tr>\n",
              "                        <th id=\"T_a0f9bb70_387d_11eb_82ed_0242ac1c0002level0_row4\" class=\"row_heading level0 row4\" >4</th>\n",
              "                        <td id=\"T_a0f9bb70_387d_11eb_82ed_0242ac1c0002row4_col0\" class=\"data row4 col0\" >0</td>\n",
              "                        <td id=\"T_a0f9bb70_387d_11eb_82ed_0242ac1c0002row4_col1\" class=\"data row4 col1\" >107</td>\n",
              "                        <td id=\"T_a0f9bb70_387d_11eb_82ed_0242ac1c0002row4_col2\" class=\"data row4 col2\" >253</td>\n",
              "                        <td id=\"T_a0f9bb70_387d_11eb_82ed_0242ac1c0002row4_col3\" class=\"data row4 col3\" >253</td>\n",
              "                        <td id=\"T_a0f9bb70_387d_11eb_82ed_0242ac1c0002row4_col4\" class=\"data row4 col4\" >230</td>\n",
              "                        <td id=\"T_a0f9bb70_387d_11eb_82ed_0242ac1c0002row4_col5\" class=\"data row4 col5\" >48</td>\n",
              "                        <td id=\"T_a0f9bb70_387d_11eb_82ed_0242ac1c0002row4_col6\" class=\"data row4 col6\" >0</td>\n",
              "                        <td id=\"T_a0f9bb70_387d_11eb_82ed_0242ac1c0002row4_col7\" class=\"data row4 col7\" >0</td>\n",
              "                        <td id=\"T_a0f9bb70_387d_11eb_82ed_0242ac1c0002row4_col8\" class=\"data row4 col8\" >0</td>\n",
              "                        <td id=\"T_a0f9bb70_387d_11eb_82ed_0242ac1c0002row4_col9\" class=\"data row4 col9\" >0</td>\n",
              "                        <td id=\"T_a0f9bb70_387d_11eb_82ed_0242ac1c0002row4_col10\" class=\"data row4 col10\" >0</td>\n",
              "                        <td id=\"T_a0f9bb70_387d_11eb_82ed_0242ac1c0002row4_col11\" class=\"data row4 col11\" >192</td>\n",
              "                        <td id=\"T_a0f9bb70_387d_11eb_82ed_0242ac1c0002row4_col12\" class=\"data row4 col12\" >253</td>\n",
              "                        <td id=\"T_a0f9bb70_387d_11eb_82ed_0242ac1c0002row4_col13\" class=\"data row4 col13\" >253</td>\n",
              "                        <td id=\"T_a0f9bb70_387d_11eb_82ed_0242ac1c0002row4_col14\" class=\"data row4 col14\" >156</td>\n",
              "                        <td id=\"T_a0f9bb70_387d_11eb_82ed_0242ac1c0002row4_col15\" class=\"data row4 col15\" >0</td>\n",
              "                        <td id=\"T_a0f9bb70_387d_11eb_82ed_0242ac1c0002row4_col16\" class=\"data row4 col16\" >0</td>\n",
              "                        <td id=\"T_a0f9bb70_387d_11eb_82ed_0242ac1c0002row4_col17\" class=\"data row4 col17\" >0</td>\n",
              "                        <td id=\"T_a0f9bb70_387d_11eb_82ed_0242ac1c0002row4_col18\" class=\"data row4 col18\" >0</td>\n",
              "                        <td id=\"T_a0f9bb70_387d_11eb_82ed_0242ac1c0002row4_col19\" class=\"data row4 col19\" >0</td>\n",
              "                        <td id=\"T_a0f9bb70_387d_11eb_82ed_0242ac1c0002row4_col20\" class=\"data row4 col20\" >0</td>\n",
              "                        <td id=\"T_a0f9bb70_387d_11eb_82ed_0242ac1c0002row4_col21\" class=\"data row4 col21\" >0</td>\n",
              "                        <td id=\"T_a0f9bb70_387d_11eb_82ed_0242ac1c0002row4_col22\" class=\"data row4 col22\" >0</td>\n",
              "            </tr>\n",
              "            <tr>\n",
              "                        <th id=\"T_a0f9bb70_387d_11eb_82ed_0242ac1c0002level0_row5\" class=\"row_heading level0 row5\" >5</th>\n",
              "                        <td id=\"T_a0f9bb70_387d_11eb_82ed_0242ac1c0002row5_col0\" class=\"data row5 col0\" >0</td>\n",
              "                        <td id=\"T_a0f9bb70_387d_11eb_82ed_0242ac1c0002row5_col1\" class=\"data row5 col1\" >3</td>\n",
              "                        <td id=\"T_a0f9bb70_387d_11eb_82ed_0242ac1c0002row5_col2\" class=\"data row5 col2\" >20</td>\n",
              "                        <td id=\"T_a0f9bb70_387d_11eb_82ed_0242ac1c0002row5_col3\" class=\"data row5 col3\" >20</td>\n",
              "                        <td id=\"T_a0f9bb70_387d_11eb_82ed_0242ac1c0002row5_col4\" class=\"data row5 col4\" >15</td>\n",
              "                        <td id=\"T_a0f9bb70_387d_11eb_82ed_0242ac1c0002row5_col5\" class=\"data row5 col5\" >0</td>\n",
              "                        <td id=\"T_a0f9bb70_387d_11eb_82ed_0242ac1c0002row5_col6\" class=\"data row5 col6\" >0</td>\n",
              "                        <td id=\"T_a0f9bb70_387d_11eb_82ed_0242ac1c0002row5_col7\" class=\"data row5 col7\" >0</td>\n",
              "                        <td id=\"T_a0f9bb70_387d_11eb_82ed_0242ac1c0002row5_col8\" class=\"data row5 col8\" >0</td>\n",
              "                        <td id=\"T_a0f9bb70_387d_11eb_82ed_0242ac1c0002row5_col9\" class=\"data row5 col9\" >0</td>\n",
              "                        <td id=\"T_a0f9bb70_387d_11eb_82ed_0242ac1c0002row5_col10\" class=\"data row5 col10\" >43</td>\n",
              "                        <td id=\"T_a0f9bb70_387d_11eb_82ed_0242ac1c0002row5_col11\" class=\"data row5 col11\" >224</td>\n",
              "                        <td id=\"T_a0f9bb70_387d_11eb_82ed_0242ac1c0002row5_col12\" class=\"data row5 col12\" >253</td>\n",
              "                        <td id=\"T_a0f9bb70_387d_11eb_82ed_0242ac1c0002row5_col13\" class=\"data row5 col13\" >245</td>\n",
              "                        <td id=\"T_a0f9bb70_387d_11eb_82ed_0242ac1c0002row5_col14\" class=\"data row5 col14\" >74</td>\n",
              "                        <td id=\"T_a0f9bb70_387d_11eb_82ed_0242ac1c0002row5_col15\" class=\"data row5 col15\" >0</td>\n",
              "                        <td id=\"T_a0f9bb70_387d_11eb_82ed_0242ac1c0002row5_col16\" class=\"data row5 col16\" >0</td>\n",
              "                        <td id=\"T_a0f9bb70_387d_11eb_82ed_0242ac1c0002row5_col17\" class=\"data row5 col17\" >0</td>\n",
              "                        <td id=\"T_a0f9bb70_387d_11eb_82ed_0242ac1c0002row5_col18\" class=\"data row5 col18\" >0</td>\n",
              "                        <td id=\"T_a0f9bb70_387d_11eb_82ed_0242ac1c0002row5_col19\" class=\"data row5 col19\" >0</td>\n",
              "                        <td id=\"T_a0f9bb70_387d_11eb_82ed_0242ac1c0002row5_col20\" class=\"data row5 col20\" >0</td>\n",
              "                        <td id=\"T_a0f9bb70_387d_11eb_82ed_0242ac1c0002row5_col21\" class=\"data row5 col21\" >0</td>\n",
              "                        <td id=\"T_a0f9bb70_387d_11eb_82ed_0242ac1c0002row5_col22\" class=\"data row5 col22\" >0</td>\n",
              "            </tr>\n",
              "            <tr>\n",
              "                        <th id=\"T_a0f9bb70_387d_11eb_82ed_0242ac1c0002level0_row6\" class=\"row_heading level0 row6\" >6</th>\n",
              "                        <td id=\"T_a0f9bb70_387d_11eb_82ed_0242ac1c0002row6_col0\" class=\"data row6 col0\" >0</td>\n",
              "                        <td id=\"T_a0f9bb70_387d_11eb_82ed_0242ac1c0002row6_col1\" class=\"data row6 col1\" >0</td>\n",
              "                        <td id=\"T_a0f9bb70_387d_11eb_82ed_0242ac1c0002row6_col2\" class=\"data row6 col2\" >0</td>\n",
              "                        <td id=\"T_a0f9bb70_387d_11eb_82ed_0242ac1c0002row6_col3\" class=\"data row6 col3\" >0</td>\n",
              "                        <td id=\"T_a0f9bb70_387d_11eb_82ed_0242ac1c0002row6_col4\" class=\"data row6 col4\" >0</td>\n",
              "                        <td id=\"T_a0f9bb70_387d_11eb_82ed_0242ac1c0002row6_col5\" class=\"data row6 col5\" >0</td>\n",
              "                        <td id=\"T_a0f9bb70_387d_11eb_82ed_0242ac1c0002row6_col6\" class=\"data row6 col6\" >0</td>\n",
              "                        <td id=\"T_a0f9bb70_387d_11eb_82ed_0242ac1c0002row6_col7\" class=\"data row6 col7\" >0</td>\n",
              "                        <td id=\"T_a0f9bb70_387d_11eb_82ed_0242ac1c0002row6_col8\" class=\"data row6 col8\" >0</td>\n",
              "                        <td id=\"T_a0f9bb70_387d_11eb_82ed_0242ac1c0002row6_col9\" class=\"data row6 col9\" >0</td>\n",
              "                        <td id=\"T_a0f9bb70_387d_11eb_82ed_0242ac1c0002row6_col10\" class=\"data row6 col10\" >249</td>\n",
              "                        <td id=\"T_a0f9bb70_387d_11eb_82ed_0242ac1c0002row6_col11\" class=\"data row6 col11\" >253</td>\n",
              "                        <td id=\"T_a0f9bb70_387d_11eb_82ed_0242ac1c0002row6_col12\" class=\"data row6 col12\" >245</td>\n",
              "                        <td id=\"T_a0f9bb70_387d_11eb_82ed_0242ac1c0002row6_col13\" class=\"data row6 col13\" >126</td>\n",
              "                        <td id=\"T_a0f9bb70_387d_11eb_82ed_0242ac1c0002row6_col14\" class=\"data row6 col14\" >0</td>\n",
              "                        <td id=\"T_a0f9bb70_387d_11eb_82ed_0242ac1c0002row6_col15\" class=\"data row6 col15\" >0</td>\n",
              "                        <td id=\"T_a0f9bb70_387d_11eb_82ed_0242ac1c0002row6_col16\" class=\"data row6 col16\" >0</td>\n",
              "                        <td id=\"T_a0f9bb70_387d_11eb_82ed_0242ac1c0002row6_col17\" class=\"data row6 col17\" >0</td>\n",
              "                        <td id=\"T_a0f9bb70_387d_11eb_82ed_0242ac1c0002row6_col18\" class=\"data row6 col18\" >0</td>\n",
              "                        <td id=\"T_a0f9bb70_387d_11eb_82ed_0242ac1c0002row6_col19\" class=\"data row6 col19\" >0</td>\n",
              "                        <td id=\"T_a0f9bb70_387d_11eb_82ed_0242ac1c0002row6_col20\" class=\"data row6 col20\" >0</td>\n",
              "                        <td id=\"T_a0f9bb70_387d_11eb_82ed_0242ac1c0002row6_col21\" class=\"data row6 col21\" >0</td>\n",
              "                        <td id=\"T_a0f9bb70_387d_11eb_82ed_0242ac1c0002row6_col22\" class=\"data row6 col22\" >0</td>\n",
              "            </tr>\n",
              "            <tr>\n",
              "                        <th id=\"T_a0f9bb70_387d_11eb_82ed_0242ac1c0002level0_row7\" class=\"row_heading level0 row7\" >7</th>\n",
              "                        <td id=\"T_a0f9bb70_387d_11eb_82ed_0242ac1c0002row7_col0\" class=\"data row7 col0\" >0</td>\n",
              "                        <td id=\"T_a0f9bb70_387d_11eb_82ed_0242ac1c0002row7_col1\" class=\"data row7 col1\" >0</td>\n",
              "                        <td id=\"T_a0f9bb70_387d_11eb_82ed_0242ac1c0002row7_col2\" class=\"data row7 col2\" >0</td>\n",
              "                        <td id=\"T_a0f9bb70_387d_11eb_82ed_0242ac1c0002row7_col3\" class=\"data row7 col3\" >0</td>\n",
              "                        <td id=\"T_a0f9bb70_387d_11eb_82ed_0242ac1c0002row7_col4\" class=\"data row7 col4\" >0</td>\n",
              "                        <td id=\"T_a0f9bb70_387d_11eb_82ed_0242ac1c0002row7_col5\" class=\"data row7 col5\" >0</td>\n",
              "                        <td id=\"T_a0f9bb70_387d_11eb_82ed_0242ac1c0002row7_col6\" class=\"data row7 col6\" >0</td>\n",
              "                        <td id=\"T_a0f9bb70_387d_11eb_82ed_0242ac1c0002row7_col7\" class=\"data row7 col7\" >14</td>\n",
              "                        <td id=\"T_a0f9bb70_387d_11eb_82ed_0242ac1c0002row7_col8\" class=\"data row7 col8\" >101</td>\n",
              "                        <td id=\"T_a0f9bb70_387d_11eb_82ed_0242ac1c0002row7_col9\" class=\"data row7 col9\" >223</td>\n",
              "                        <td id=\"T_a0f9bb70_387d_11eb_82ed_0242ac1c0002row7_col10\" class=\"data row7 col10\" >253</td>\n",
              "                        <td id=\"T_a0f9bb70_387d_11eb_82ed_0242ac1c0002row7_col11\" class=\"data row7 col11\" >248</td>\n",
              "                        <td id=\"T_a0f9bb70_387d_11eb_82ed_0242ac1c0002row7_col12\" class=\"data row7 col12\" >124</td>\n",
              "                        <td id=\"T_a0f9bb70_387d_11eb_82ed_0242ac1c0002row7_col13\" class=\"data row7 col13\" >0</td>\n",
              "                        <td id=\"T_a0f9bb70_387d_11eb_82ed_0242ac1c0002row7_col14\" class=\"data row7 col14\" >0</td>\n",
              "                        <td id=\"T_a0f9bb70_387d_11eb_82ed_0242ac1c0002row7_col15\" class=\"data row7 col15\" >0</td>\n",
              "                        <td id=\"T_a0f9bb70_387d_11eb_82ed_0242ac1c0002row7_col16\" class=\"data row7 col16\" >0</td>\n",
              "                        <td id=\"T_a0f9bb70_387d_11eb_82ed_0242ac1c0002row7_col17\" class=\"data row7 col17\" >0</td>\n",
              "                        <td id=\"T_a0f9bb70_387d_11eb_82ed_0242ac1c0002row7_col18\" class=\"data row7 col18\" >0</td>\n",
              "                        <td id=\"T_a0f9bb70_387d_11eb_82ed_0242ac1c0002row7_col19\" class=\"data row7 col19\" >0</td>\n",
              "                        <td id=\"T_a0f9bb70_387d_11eb_82ed_0242ac1c0002row7_col20\" class=\"data row7 col20\" >0</td>\n",
              "                        <td id=\"T_a0f9bb70_387d_11eb_82ed_0242ac1c0002row7_col21\" class=\"data row7 col21\" >0</td>\n",
              "                        <td id=\"T_a0f9bb70_387d_11eb_82ed_0242ac1c0002row7_col22\" class=\"data row7 col22\" >0</td>\n",
              "            </tr>\n",
              "            <tr>\n",
              "                        <th id=\"T_a0f9bb70_387d_11eb_82ed_0242ac1c0002level0_row8\" class=\"row_heading level0 row8\" >8</th>\n",
              "                        <td id=\"T_a0f9bb70_387d_11eb_82ed_0242ac1c0002row8_col0\" class=\"data row8 col0\" >0</td>\n",
              "                        <td id=\"T_a0f9bb70_387d_11eb_82ed_0242ac1c0002row8_col1\" class=\"data row8 col1\" >0</td>\n",
              "                        <td id=\"T_a0f9bb70_387d_11eb_82ed_0242ac1c0002row8_col2\" class=\"data row8 col2\" >0</td>\n",
              "                        <td id=\"T_a0f9bb70_387d_11eb_82ed_0242ac1c0002row8_col3\" class=\"data row8 col3\" >0</td>\n",
              "                        <td id=\"T_a0f9bb70_387d_11eb_82ed_0242ac1c0002row8_col4\" class=\"data row8 col4\" >0</td>\n",
              "                        <td id=\"T_a0f9bb70_387d_11eb_82ed_0242ac1c0002row8_col5\" class=\"data row8 col5\" >11</td>\n",
              "                        <td id=\"T_a0f9bb70_387d_11eb_82ed_0242ac1c0002row8_col6\" class=\"data row8 col6\" >166</td>\n",
              "                        <td id=\"T_a0f9bb70_387d_11eb_82ed_0242ac1c0002row8_col7\" class=\"data row8 col7\" >239</td>\n",
              "                        <td id=\"T_a0f9bb70_387d_11eb_82ed_0242ac1c0002row8_col8\" class=\"data row8 col8\" >253</td>\n",
              "                        <td id=\"T_a0f9bb70_387d_11eb_82ed_0242ac1c0002row8_col9\" class=\"data row8 col9\" >253</td>\n",
              "                        <td id=\"T_a0f9bb70_387d_11eb_82ed_0242ac1c0002row8_col10\" class=\"data row8 col10\" >253</td>\n",
              "                        <td id=\"T_a0f9bb70_387d_11eb_82ed_0242ac1c0002row8_col11\" class=\"data row8 col11\" >187</td>\n",
              "                        <td id=\"T_a0f9bb70_387d_11eb_82ed_0242ac1c0002row8_col12\" class=\"data row8 col12\" >30</td>\n",
              "                        <td id=\"T_a0f9bb70_387d_11eb_82ed_0242ac1c0002row8_col13\" class=\"data row8 col13\" >0</td>\n",
              "                        <td id=\"T_a0f9bb70_387d_11eb_82ed_0242ac1c0002row8_col14\" class=\"data row8 col14\" >0</td>\n",
              "                        <td id=\"T_a0f9bb70_387d_11eb_82ed_0242ac1c0002row8_col15\" class=\"data row8 col15\" >0</td>\n",
              "                        <td id=\"T_a0f9bb70_387d_11eb_82ed_0242ac1c0002row8_col16\" class=\"data row8 col16\" >0</td>\n",
              "                        <td id=\"T_a0f9bb70_387d_11eb_82ed_0242ac1c0002row8_col17\" class=\"data row8 col17\" >0</td>\n",
              "                        <td id=\"T_a0f9bb70_387d_11eb_82ed_0242ac1c0002row8_col18\" class=\"data row8 col18\" >0</td>\n",
              "                        <td id=\"T_a0f9bb70_387d_11eb_82ed_0242ac1c0002row8_col19\" class=\"data row8 col19\" >0</td>\n",
              "                        <td id=\"T_a0f9bb70_387d_11eb_82ed_0242ac1c0002row8_col20\" class=\"data row8 col20\" >0</td>\n",
              "                        <td id=\"T_a0f9bb70_387d_11eb_82ed_0242ac1c0002row8_col21\" class=\"data row8 col21\" >0</td>\n",
              "                        <td id=\"T_a0f9bb70_387d_11eb_82ed_0242ac1c0002row8_col22\" class=\"data row8 col22\" >0</td>\n",
              "            </tr>\n",
              "            <tr>\n",
              "                        <th id=\"T_a0f9bb70_387d_11eb_82ed_0242ac1c0002level0_row9\" class=\"row_heading level0 row9\" >9</th>\n",
              "                        <td id=\"T_a0f9bb70_387d_11eb_82ed_0242ac1c0002row9_col0\" class=\"data row9 col0\" >0</td>\n",
              "                        <td id=\"T_a0f9bb70_387d_11eb_82ed_0242ac1c0002row9_col1\" class=\"data row9 col1\" >0</td>\n",
              "                        <td id=\"T_a0f9bb70_387d_11eb_82ed_0242ac1c0002row9_col2\" class=\"data row9 col2\" >0</td>\n",
              "                        <td id=\"T_a0f9bb70_387d_11eb_82ed_0242ac1c0002row9_col3\" class=\"data row9 col3\" >0</td>\n",
              "                        <td id=\"T_a0f9bb70_387d_11eb_82ed_0242ac1c0002row9_col4\" class=\"data row9 col4\" >0</td>\n",
              "                        <td id=\"T_a0f9bb70_387d_11eb_82ed_0242ac1c0002row9_col5\" class=\"data row9 col5\" >16</td>\n",
              "                        <td id=\"T_a0f9bb70_387d_11eb_82ed_0242ac1c0002row9_col6\" class=\"data row9 col6\" >248</td>\n",
              "                        <td id=\"T_a0f9bb70_387d_11eb_82ed_0242ac1c0002row9_col7\" class=\"data row9 col7\" >250</td>\n",
              "                        <td id=\"T_a0f9bb70_387d_11eb_82ed_0242ac1c0002row9_col8\" class=\"data row9 col8\" >253</td>\n",
              "                        <td id=\"T_a0f9bb70_387d_11eb_82ed_0242ac1c0002row9_col9\" class=\"data row9 col9\" >253</td>\n",
              "                        <td id=\"T_a0f9bb70_387d_11eb_82ed_0242ac1c0002row9_col10\" class=\"data row9 col10\" >253</td>\n",
              "                        <td id=\"T_a0f9bb70_387d_11eb_82ed_0242ac1c0002row9_col11\" class=\"data row9 col11\" >253</td>\n",
              "                        <td id=\"T_a0f9bb70_387d_11eb_82ed_0242ac1c0002row9_col12\" class=\"data row9 col12\" >232</td>\n",
              "                        <td id=\"T_a0f9bb70_387d_11eb_82ed_0242ac1c0002row9_col13\" class=\"data row9 col13\" >213</td>\n",
              "                        <td id=\"T_a0f9bb70_387d_11eb_82ed_0242ac1c0002row9_col14\" class=\"data row9 col14\" >111</td>\n",
              "                        <td id=\"T_a0f9bb70_387d_11eb_82ed_0242ac1c0002row9_col15\" class=\"data row9 col15\" >2</td>\n",
              "                        <td id=\"T_a0f9bb70_387d_11eb_82ed_0242ac1c0002row9_col16\" class=\"data row9 col16\" >0</td>\n",
              "                        <td id=\"T_a0f9bb70_387d_11eb_82ed_0242ac1c0002row9_col17\" class=\"data row9 col17\" >0</td>\n",
              "                        <td id=\"T_a0f9bb70_387d_11eb_82ed_0242ac1c0002row9_col18\" class=\"data row9 col18\" >0</td>\n",
              "                        <td id=\"T_a0f9bb70_387d_11eb_82ed_0242ac1c0002row9_col19\" class=\"data row9 col19\" >0</td>\n",
              "                        <td id=\"T_a0f9bb70_387d_11eb_82ed_0242ac1c0002row9_col20\" class=\"data row9 col20\" >0</td>\n",
              "                        <td id=\"T_a0f9bb70_387d_11eb_82ed_0242ac1c0002row9_col21\" class=\"data row9 col21\" >0</td>\n",
              "                        <td id=\"T_a0f9bb70_387d_11eb_82ed_0242ac1c0002row9_col22\" class=\"data row9 col22\" >0</td>\n",
              "            </tr>\n",
              "            <tr>\n",
              "                        <th id=\"T_a0f9bb70_387d_11eb_82ed_0242ac1c0002level0_row10\" class=\"row_heading level0 row10\" >10</th>\n",
              "                        <td id=\"T_a0f9bb70_387d_11eb_82ed_0242ac1c0002row10_col0\" class=\"data row10 col0\" >0</td>\n",
              "                        <td id=\"T_a0f9bb70_387d_11eb_82ed_0242ac1c0002row10_col1\" class=\"data row10 col1\" >0</td>\n",
              "                        <td id=\"T_a0f9bb70_387d_11eb_82ed_0242ac1c0002row10_col2\" class=\"data row10 col2\" >0</td>\n",
              "                        <td id=\"T_a0f9bb70_387d_11eb_82ed_0242ac1c0002row10_col3\" class=\"data row10 col3\" >0</td>\n",
              "                        <td id=\"T_a0f9bb70_387d_11eb_82ed_0242ac1c0002row10_col4\" class=\"data row10 col4\" >0</td>\n",
              "                        <td id=\"T_a0f9bb70_387d_11eb_82ed_0242ac1c0002row10_col5\" class=\"data row10 col5\" >0</td>\n",
              "                        <td id=\"T_a0f9bb70_387d_11eb_82ed_0242ac1c0002row10_col6\" class=\"data row10 col6\" >0</td>\n",
              "                        <td id=\"T_a0f9bb70_387d_11eb_82ed_0242ac1c0002row10_col7\" class=\"data row10 col7\" >43</td>\n",
              "                        <td id=\"T_a0f9bb70_387d_11eb_82ed_0242ac1c0002row10_col8\" class=\"data row10 col8\" >98</td>\n",
              "                        <td id=\"T_a0f9bb70_387d_11eb_82ed_0242ac1c0002row10_col9\" class=\"data row10 col9\" >98</td>\n",
              "                        <td id=\"T_a0f9bb70_387d_11eb_82ed_0242ac1c0002row10_col10\" class=\"data row10 col10\" >208</td>\n",
              "                        <td id=\"T_a0f9bb70_387d_11eb_82ed_0242ac1c0002row10_col11\" class=\"data row10 col11\" >253</td>\n",
              "                        <td id=\"T_a0f9bb70_387d_11eb_82ed_0242ac1c0002row10_col12\" class=\"data row10 col12\" >253</td>\n",
              "                        <td id=\"T_a0f9bb70_387d_11eb_82ed_0242ac1c0002row10_col13\" class=\"data row10 col13\" >253</td>\n",
              "                        <td id=\"T_a0f9bb70_387d_11eb_82ed_0242ac1c0002row10_col14\" class=\"data row10 col14\" >253</td>\n",
              "                        <td id=\"T_a0f9bb70_387d_11eb_82ed_0242ac1c0002row10_col15\" class=\"data row10 col15\" >187</td>\n",
              "                        <td id=\"T_a0f9bb70_387d_11eb_82ed_0242ac1c0002row10_col16\" class=\"data row10 col16\" >22</td>\n",
              "                        <td id=\"T_a0f9bb70_387d_11eb_82ed_0242ac1c0002row10_col17\" class=\"data row10 col17\" >0</td>\n",
              "                        <td id=\"T_a0f9bb70_387d_11eb_82ed_0242ac1c0002row10_col18\" class=\"data row10 col18\" >0</td>\n",
              "                        <td id=\"T_a0f9bb70_387d_11eb_82ed_0242ac1c0002row10_col19\" class=\"data row10 col19\" >0</td>\n",
              "                        <td id=\"T_a0f9bb70_387d_11eb_82ed_0242ac1c0002row10_col20\" class=\"data row10 col20\" >0</td>\n",
              "                        <td id=\"T_a0f9bb70_387d_11eb_82ed_0242ac1c0002row10_col21\" class=\"data row10 col21\" >0</td>\n",
              "                        <td id=\"T_a0f9bb70_387d_11eb_82ed_0242ac1c0002row10_col22\" class=\"data row10 col22\" >0</td>\n",
              "            </tr>\n",
              "            <tr>\n",
              "                        <th id=\"T_a0f9bb70_387d_11eb_82ed_0242ac1c0002level0_row11\" class=\"row_heading level0 row11\" >11</th>\n",
              "                        <td id=\"T_a0f9bb70_387d_11eb_82ed_0242ac1c0002row11_col0\" class=\"data row11 col0\" >0</td>\n",
              "                        <td id=\"T_a0f9bb70_387d_11eb_82ed_0242ac1c0002row11_col1\" class=\"data row11 col1\" >0</td>\n",
              "                        <td id=\"T_a0f9bb70_387d_11eb_82ed_0242ac1c0002row11_col2\" class=\"data row11 col2\" >0</td>\n",
              "                        <td id=\"T_a0f9bb70_387d_11eb_82ed_0242ac1c0002row11_col3\" class=\"data row11 col3\" >0</td>\n",
              "                        <td id=\"T_a0f9bb70_387d_11eb_82ed_0242ac1c0002row11_col4\" class=\"data row11 col4\" >0</td>\n",
              "                        <td id=\"T_a0f9bb70_387d_11eb_82ed_0242ac1c0002row11_col5\" class=\"data row11 col5\" >0</td>\n",
              "                        <td id=\"T_a0f9bb70_387d_11eb_82ed_0242ac1c0002row11_col6\" class=\"data row11 col6\" >0</td>\n",
              "                        <td id=\"T_a0f9bb70_387d_11eb_82ed_0242ac1c0002row11_col7\" class=\"data row11 col7\" >0</td>\n",
              "                        <td id=\"T_a0f9bb70_387d_11eb_82ed_0242ac1c0002row11_col8\" class=\"data row11 col8\" >0</td>\n",
              "                        <td id=\"T_a0f9bb70_387d_11eb_82ed_0242ac1c0002row11_col9\" class=\"data row11 col9\" >0</td>\n",
              "                        <td id=\"T_a0f9bb70_387d_11eb_82ed_0242ac1c0002row11_col10\" class=\"data row11 col10\" >9</td>\n",
              "                        <td id=\"T_a0f9bb70_387d_11eb_82ed_0242ac1c0002row11_col11\" class=\"data row11 col11\" >51</td>\n",
              "                        <td id=\"T_a0f9bb70_387d_11eb_82ed_0242ac1c0002row11_col12\" class=\"data row11 col12\" >119</td>\n",
              "                        <td id=\"T_a0f9bb70_387d_11eb_82ed_0242ac1c0002row11_col13\" class=\"data row11 col13\" >253</td>\n",
              "                        <td id=\"T_a0f9bb70_387d_11eb_82ed_0242ac1c0002row11_col14\" class=\"data row11 col14\" >253</td>\n",
              "                        <td id=\"T_a0f9bb70_387d_11eb_82ed_0242ac1c0002row11_col15\" class=\"data row11 col15\" >253</td>\n",
              "                        <td id=\"T_a0f9bb70_387d_11eb_82ed_0242ac1c0002row11_col16\" class=\"data row11 col16\" >76</td>\n",
              "                        <td id=\"T_a0f9bb70_387d_11eb_82ed_0242ac1c0002row11_col17\" class=\"data row11 col17\" >0</td>\n",
              "                        <td id=\"T_a0f9bb70_387d_11eb_82ed_0242ac1c0002row11_col18\" class=\"data row11 col18\" >0</td>\n",
              "                        <td id=\"T_a0f9bb70_387d_11eb_82ed_0242ac1c0002row11_col19\" class=\"data row11 col19\" >0</td>\n",
              "                        <td id=\"T_a0f9bb70_387d_11eb_82ed_0242ac1c0002row11_col20\" class=\"data row11 col20\" >0</td>\n",
              "                        <td id=\"T_a0f9bb70_387d_11eb_82ed_0242ac1c0002row11_col21\" class=\"data row11 col21\" >0</td>\n",
              "                        <td id=\"T_a0f9bb70_387d_11eb_82ed_0242ac1c0002row11_col22\" class=\"data row11 col22\" >0</td>\n",
              "            </tr>\n",
              "            <tr>\n",
              "                        <th id=\"T_a0f9bb70_387d_11eb_82ed_0242ac1c0002level0_row12\" class=\"row_heading level0 row12\" >12</th>\n",
              "                        <td id=\"T_a0f9bb70_387d_11eb_82ed_0242ac1c0002row12_col0\" class=\"data row12 col0\" >0</td>\n",
              "                        <td id=\"T_a0f9bb70_387d_11eb_82ed_0242ac1c0002row12_col1\" class=\"data row12 col1\" >0</td>\n",
              "                        <td id=\"T_a0f9bb70_387d_11eb_82ed_0242ac1c0002row12_col2\" class=\"data row12 col2\" >0</td>\n",
              "                        <td id=\"T_a0f9bb70_387d_11eb_82ed_0242ac1c0002row12_col3\" class=\"data row12 col3\" >0</td>\n",
              "                        <td id=\"T_a0f9bb70_387d_11eb_82ed_0242ac1c0002row12_col4\" class=\"data row12 col4\" >0</td>\n",
              "                        <td id=\"T_a0f9bb70_387d_11eb_82ed_0242ac1c0002row12_col5\" class=\"data row12 col5\" >0</td>\n",
              "                        <td id=\"T_a0f9bb70_387d_11eb_82ed_0242ac1c0002row12_col6\" class=\"data row12 col6\" >0</td>\n",
              "                        <td id=\"T_a0f9bb70_387d_11eb_82ed_0242ac1c0002row12_col7\" class=\"data row12 col7\" >0</td>\n",
              "                        <td id=\"T_a0f9bb70_387d_11eb_82ed_0242ac1c0002row12_col8\" class=\"data row12 col8\" >0</td>\n",
              "                        <td id=\"T_a0f9bb70_387d_11eb_82ed_0242ac1c0002row12_col9\" class=\"data row12 col9\" >0</td>\n",
              "                        <td id=\"T_a0f9bb70_387d_11eb_82ed_0242ac1c0002row12_col10\" class=\"data row12 col10\" >0</td>\n",
              "                        <td id=\"T_a0f9bb70_387d_11eb_82ed_0242ac1c0002row12_col11\" class=\"data row12 col11\" >0</td>\n",
              "                        <td id=\"T_a0f9bb70_387d_11eb_82ed_0242ac1c0002row12_col12\" class=\"data row12 col12\" >1</td>\n",
              "                        <td id=\"T_a0f9bb70_387d_11eb_82ed_0242ac1c0002row12_col13\" class=\"data row12 col13\" >183</td>\n",
              "                        <td id=\"T_a0f9bb70_387d_11eb_82ed_0242ac1c0002row12_col14\" class=\"data row12 col14\" >253</td>\n",
              "                        <td id=\"T_a0f9bb70_387d_11eb_82ed_0242ac1c0002row12_col15\" class=\"data row12 col15\" >253</td>\n",
              "                        <td id=\"T_a0f9bb70_387d_11eb_82ed_0242ac1c0002row12_col16\" class=\"data row12 col16\" >139</td>\n",
              "                        <td id=\"T_a0f9bb70_387d_11eb_82ed_0242ac1c0002row12_col17\" class=\"data row12 col17\" >0</td>\n",
              "                        <td id=\"T_a0f9bb70_387d_11eb_82ed_0242ac1c0002row12_col18\" class=\"data row12 col18\" >0</td>\n",
              "                        <td id=\"T_a0f9bb70_387d_11eb_82ed_0242ac1c0002row12_col19\" class=\"data row12 col19\" >0</td>\n",
              "                        <td id=\"T_a0f9bb70_387d_11eb_82ed_0242ac1c0002row12_col20\" class=\"data row12 col20\" >0</td>\n",
              "                        <td id=\"T_a0f9bb70_387d_11eb_82ed_0242ac1c0002row12_col21\" class=\"data row12 col21\" >0</td>\n",
              "                        <td id=\"T_a0f9bb70_387d_11eb_82ed_0242ac1c0002row12_col22\" class=\"data row12 col22\" >0</td>\n",
              "            </tr>\n",
              "            <tr>\n",
              "                        <th id=\"T_a0f9bb70_387d_11eb_82ed_0242ac1c0002level0_row13\" class=\"row_heading level0 row13\" >13</th>\n",
              "                        <td id=\"T_a0f9bb70_387d_11eb_82ed_0242ac1c0002row13_col0\" class=\"data row13 col0\" >0</td>\n",
              "                        <td id=\"T_a0f9bb70_387d_11eb_82ed_0242ac1c0002row13_col1\" class=\"data row13 col1\" >0</td>\n",
              "                        <td id=\"T_a0f9bb70_387d_11eb_82ed_0242ac1c0002row13_col2\" class=\"data row13 col2\" >0</td>\n",
              "                        <td id=\"T_a0f9bb70_387d_11eb_82ed_0242ac1c0002row13_col3\" class=\"data row13 col3\" >0</td>\n",
              "                        <td id=\"T_a0f9bb70_387d_11eb_82ed_0242ac1c0002row13_col4\" class=\"data row13 col4\" >0</td>\n",
              "                        <td id=\"T_a0f9bb70_387d_11eb_82ed_0242ac1c0002row13_col5\" class=\"data row13 col5\" >0</td>\n",
              "                        <td id=\"T_a0f9bb70_387d_11eb_82ed_0242ac1c0002row13_col6\" class=\"data row13 col6\" >0</td>\n",
              "                        <td id=\"T_a0f9bb70_387d_11eb_82ed_0242ac1c0002row13_col7\" class=\"data row13 col7\" >0</td>\n",
              "                        <td id=\"T_a0f9bb70_387d_11eb_82ed_0242ac1c0002row13_col8\" class=\"data row13 col8\" >0</td>\n",
              "                        <td id=\"T_a0f9bb70_387d_11eb_82ed_0242ac1c0002row13_col9\" class=\"data row13 col9\" >0</td>\n",
              "                        <td id=\"T_a0f9bb70_387d_11eb_82ed_0242ac1c0002row13_col10\" class=\"data row13 col10\" >0</td>\n",
              "                        <td id=\"T_a0f9bb70_387d_11eb_82ed_0242ac1c0002row13_col11\" class=\"data row13 col11\" >0</td>\n",
              "                        <td id=\"T_a0f9bb70_387d_11eb_82ed_0242ac1c0002row13_col12\" class=\"data row13 col12\" >0</td>\n",
              "                        <td id=\"T_a0f9bb70_387d_11eb_82ed_0242ac1c0002row13_col13\" class=\"data row13 col13\" >182</td>\n",
              "                        <td id=\"T_a0f9bb70_387d_11eb_82ed_0242ac1c0002row13_col14\" class=\"data row13 col14\" >253</td>\n",
              "                        <td id=\"T_a0f9bb70_387d_11eb_82ed_0242ac1c0002row13_col15\" class=\"data row13 col15\" >253</td>\n",
              "                        <td id=\"T_a0f9bb70_387d_11eb_82ed_0242ac1c0002row13_col16\" class=\"data row13 col16\" >104</td>\n",
              "                        <td id=\"T_a0f9bb70_387d_11eb_82ed_0242ac1c0002row13_col17\" class=\"data row13 col17\" >0</td>\n",
              "                        <td id=\"T_a0f9bb70_387d_11eb_82ed_0242ac1c0002row13_col18\" class=\"data row13 col18\" >0</td>\n",
              "                        <td id=\"T_a0f9bb70_387d_11eb_82ed_0242ac1c0002row13_col19\" class=\"data row13 col19\" >0</td>\n",
              "                        <td id=\"T_a0f9bb70_387d_11eb_82ed_0242ac1c0002row13_col20\" class=\"data row13 col20\" >0</td>\n",
              "                        <td id=\"T_a0f9bb70_387d_11eb_82ed_0242ac1c0002row13_col21\" class=\"data row13 col21\" >0</td>\n",
              "                        <td id=\"T_a0f9bb70_387d_11eb_82ed_0242ac1c0002row13_col22\" class=\"data row13 col22\" >0</td>\n",
              "            </tr>\n",
              "            <tr>\n",
              "                        <th id=\"T_a0f9bb70_387d_11eb_82ed_0242ac1c0002level0_row14\" class=\"row_heading level0 row14\" >14</th>\n",
              "                        <td id=\"T_a0f9bb70_387d_11eb_82ed_0242ac1c0002row14_col0\" class=\"data row14 col0\" >0</td>\n",
              "                        <td id=\"T_a0f9bb70_387d_11eb_82ed_0242ac1c0002row14_col1\" class=\"data row14 col1\" >0</td>\n",
              "                        <td id=\"T_a0f9bb70_387d_11eb_82ed_0242ac1c0002row14_col2\" class=\"data row14 col2\" >0</td>\n",
              "                        <td id=\"T_a0f9bb70_387d_11eb_82ed_0242ac1c0002row14_col3\" class=\"data row14 col3\" >0</td>\n",
              "                        <td id=\"T_a0f9bb70_387d_11eb_82ed_0242ac1c0002row14_col4\" class=\"data row14 col4\" >0</td>\n",
              "                        <td id=\"T_a0f9bb70_387d_11eb_82ed_0242ac1c0002row14_col5\" class=\"data row14 col5\" >0</td>\n",
              "                        <td id=\"T_a0f9bb70_387d_11eb_82ed_0242ac1c0002row14_col6\" class=\"data row14 col6\" >0</td>\n",
              "                        <td id=\"T_a0f9bb70_387d_11eb_82ed_0242ac1c0002row14_col7\" class=\"data row14 col7\" >0</td>\n",
              "                        <td id=\"T_a0f9bb70_387d_11eb_82ed_0242ac1c0002row14_col8\" class=\"data row14 col8\" >0</td>\n",
              "                        <td id=\"T_a0f9bb70_387d_11eb_82ed_0242ac1c0002row14_col9\" class=\"data row14 col9\" >0</td>\n",
              "                        <td id=\"T_a0f9bb70_387d_11eb_82ed_0242ac1c0002row14_col10\" class=\"data row14 col10\" >0</td>\n",
              "                        <td id=\"T_a0f9bb70_387d_11eb_82ed_0242ac1c0002row14_col11\" class=\"data row14 col11\" >0</td>\n",
              "                        <td id=\"T_a0f9bb70_387d_11eb_82ed_0242ac1c0002row14_col12\" class=\"data row14 col12\" >85</td>\n",
              "                        <td id=\"T_a0f9bb70_387d_11eb_82ed_0242ac1c0002row14_col13\" class=\"data row14 col13\" >249</td>\n",
              "                        <td id=\"T_a0f9bb70_387d_11eb_82ed_0242ac1c0002row14_col14\" class=\"data row14 col14\" >253</td>\n",
              "                        <td id=\"T_a0f9bb70_387d_11eb_82ed_0242ac1c0002row14_col15\" class=\"data row14 col15\" >253</td>\n",
              "                        <td id=\"T_a0f9bb70_387d_11eb_82ed_0242ac1c0002row14_col16\" class=\"data row14 col16\" >36</td>\n",
              "                        <td id=\"T_a0f9bb70_387d_11eb_82ed_0242ac1c0002row14_col17\" class=\"data row14 col17\" >0</td>\n",
              "                        <td id=\"T_a0f9bb70_387d_11eb_82ed_0242ac1c0002row14_col18\" class=\"data row14 col18\" >0</td>\n",
              "                        <td id=\"T_a0f9bb70_387d_11eb_82ed_0242ac1c0002row14_col19\" class=\"data row14 col19\" >0</td>\n",
              "                        <td id=\"T_a0f9bb70_387d_11eb_82ed_0242ac1c0002row14_col20\" class=\"data row14 col20\" >0</td>\n",
              "                        <td id=\"T_a0f9bb70_387d_11eb_82ed_0242ac1c0002row14_col21\" class=\"data row14 col21\" >0</td>\n",
              "                        <td id=\"T_a0f9bb70_387d_11eb_82ed_0242ac1c0002row14_col22\" class=\"data row14 col22\" >0</td>\n",
              "            </tr>\n",
              "            <tr>\n",
              "                        <th id=\"T_a0f9bb70_387d_11eb_82ed_0242ac1c0002level0_row15\" class=\"row_heading level0 row15\" >15</th>\n",
              "                        <td id=\"T_a0f9bb70_387d_11eb_82ed_0242ac1c0002row15_col0\" class=\"data row15 col0\" >0</td>\n",
              "                        <td id=\"T_a0f9bb70_387d_11eb_82ed_0242ac1c0002row15_col1\" class=\"data row15 col1\" >0</td>\n",
              "                        <td id=\"T_a0f9bb70_387d_11eb_82ed_0242ac1c0002row15_col2\" class=\"data row15 col2\" >0</td>\n",
              "                        <td id=\"T_a0f9bb70_387d_11eb_82ed_0242ac1c0002row15_col3\" class=\"data row15 col3\" >0</td>\n",
              "                        <td id=\"T_a0f9bb70_387d_11eb_82ed_0242ac1c0002row15_col4\" class=\"data row15 col4\" >0</td>\n",
              "                        <td id=\"T_a0f9bb70_387d_11eb_82ed_0242ac1c0002row15_col5\" class=\"data row15 col5\" >0</td>\n",
              "                        <td id=\"T_a0f9bb70_387d_11eb_82ed_0242ac1c0002row15_col6\" class=\"data row15 col6\" >0</td>\n",
              "                        <td id=\"T_a0f9bb70_387d_11eb_82ed_0242ac1c0002row15_col7\" class=\"data row15 col7\" >0</td>\n",
              "                        <td id=\"T_a0f9bb70_387d_11eb_82ed_0242ac1c0002row15_col8\" class=\"data row15 col8\" >0</td>\n",
              "                        <td id=\"T_a0f9bb70_387d_11eb_82ed_0242ac1c0002row15_col9\" class=\"data row15 col9\" >0</td>\n",
              "                        <td id=\"T_a0f9bb70_387d_11eb_82ed_0242ac1c0002row15_col10\" class=\"data row15 col10\" >0</td>\n",
              "                        <td id=\"T_a0f9bb70_387d_11eb_82ed_0242ac1c0002row15_col11\" class=\"data row15 col11\" >60</td>\n",
              "                        <td id=\"T_a0f9bb70_387d_11eb_82ed_0242ac1c0002row15_col12\" class=\"data row15 col12\" >214</td>\n",
              "                        <td id=\"T_a0f9bb70_387d_11eb_82ed_0242ac1c0002row15_col13\" class=\"data row15 col13\" >253</td>\n",
              "                        <td id=\"T_a0f9bb70_387d_11eb_82ed_0242ac1c0002row15_col14\" class=\"data row15 col14\" >253</td>\n",
              "                        <td id=\"T_a0f9bb70_387d_11eb_82ed_0242ac1c0002row15_col15\" class=\"data row15 col15\" >173</td>\n",
              "                        <td id=\"T_a0f9bb70_387d_11eb_82ed_0242ac1c0002row15_col16\" class=\"data row15 col16\" >11</td>\n",
              "                        <td id=\"T_a0f9bb70_387d_11eb_82ed_0242ac1c0002row15_col17\" class=\"data row15 col17\" >0</td>\n",
              "                        <td id=\"T_a0f9bb70_387d_11eb_82ed_0242ac1c0002row15_col18\" class=\"data row15 col18\" >0</td>\n",
              "                        <td id=\"T_a0f9bb70_387d_11eb_82ed_0242ac1c0002row15_col19\" class=\"data row15 col19\" >0</td>\n",
              "                        <td id=\"T_a0f9bb70_387d_11eb_82ed_0242ac1c0002row15_col20\" class=\"data row15 col20\" >0</td>\n",
              "                        <td id=\"T_a0f9bb70_387d_11eb_82ed_0242ac1c0002row15_col21\" class=\"data row15 col21\" >0</td>\n",
              "                        <td id=\"T_a0f9bb70_387d_11eb_82ed_0242ac1c0002row15_col22\" class=\"data row15 col22\" >0</td>\n",
              "            </tr>\n",
              "            <tr>\n",
              "                        <th id=\"T_a0f9bb70_387d_11eb_82ed_0242ac1c0002level0_row16\" class=\"row_heading level0 row16\" >16</th>\n",
              "                        <td id=\"T_a0f9bb70_387d_11eb_82ed_0242ac1c0002row16_col0\" class=\"data row16 col0\" >0</td>\n",
              "                        <td id=\"T_a0f9bb70_387d_11eb_82ed_0242ac1c0002row16_col1\" class=\"data row16 col1\" >0</td>\n",
              "                        <td id=\"T_a0f9bb70_387d_11eb_82ed_0242ac1c0002row16_col2\" class=\"data row16 col2\" >0</td>\n",
              "                        <td id=\"T_a0f9bb70_387d_11eb_82ed_0242ac1c0002row16_col3\" class=\"data row16 col3\" >0</td>\n",
              "                        <td id=\"T_a0f9bb70_387d_11eb_82ed_0242ac1c0002row16_col4\" class=\"data row16 col4\" >0</td>\n",
              "                        <td id=\"T_a0f9bb70_387d_11eb_82ed_0242ac1c0002row16_col5\" class=\"data row16 col5\" >0</td>\n",
              "                        <td id=\"T_a0f9bb70_387d_11eb_82ed_0242ac1c0002row16_col6\" class=\"data row16 col6\" >0</td>\n",
              "                        <td id=\"T_a0f9bb70_387d_11eb_82ed_0242ac1c0002row16_col7\" class=\"data row16 col7\" >0</td>\n",
              "                        <td id=\"T_a0f9bb70_387d_11eb_82ed_0242ac1c0002row16_col8\" class=\"data row16 col8\" >0</td>\n",
              "                        <td id=\"T_a0f9bb70_387d_11eb_82ed_0242ac1c0002row16_col9\" class=\"data row16 col9\" >0</td>\n",
              "                        <td id=\"T_a0f9bb70_387d_11eb_82ed_0242ac1c0002row16_col10\" class=\"data row16 col10\" >98</td>\n",
              "                        <td id=\"T_a0f9bb70_387d_11eb_82ed_0242ac1c0002row16_col11\" class=\"data row16 col11\" >247</td>\n",
              "                        <td id=\"T_a0f9bb70_387d_11eb_82ed_0242ac1c0002row16_col12\" class=\"data row16 col12\" >253</td>\n",
              "                        <td id=\"T_a0f9bb70_387d_11eb_82ed_0242ac1c0002row16_col13\" class=\"data row16 col13\" >253</td>\n",
              "                        <td id=\"T_a0f9bb70_387d_11eb_82ed_0242ac1c0002row16_col14\" class=\"data row16 col14\" >226</td>\n",
              "                        <td id=\"T_a0f9bb70_387d_11eb_82ed_0242ac1c0002row16_col15\" class=\"data row16 col15\" >9</td>\n",
              "                        <td id=\"T_a0f9bb70_387d_11eb_82ed_0242ac1c0002row16_col16\" class=\"data row16 col16\" >0</td>\n",
              "                        <td id=\"T_a0f9bb70_387d_11eb_82ed_0242ac1c0002row16_col17\" class=\"data row16 col17\" >0</td>\n",
              "                        <td id=\"T_a0f9bb70_387d_11eb_82ed_0242ac1c0002row16_col18\" class=\"data row16 col18\" >0</td>\n",
              "                        <td id=\"T_a0f9bb70_387d_11eb_82ed_0242ac1c0002row16_col19\" class=\"data row16 col19\" >0</td>\n",
              "                        <td id=\"T_a0f9bb70_387d_11eb_82ed_0242ac1c0002row16_col20\" class=\"data row16 col20\" >0</td>\n",
              "                        <td id=\"T_a0f9bb70_387d_11eb_82ed_0242ac1c0002row16_col21\" class=\"data row16 col21\" >0</td>\n",
              "                        <td id=\"T_a0f9bb70_387d_11eb_82ed_0242ac1c0002row16_col22\" class=\"data row16 col22\" >0</td>\n",
              "            </tr>\n",
              "            <tr>\n",
              "                        <th id=\"T_a0f9bb70_387d_11eb_82ed_0242ac1c0002level0_row17\" class=\"row_heading level0 row17\" >17</th>\n",
              "                        <td id=\"T_a0f9bb70_387d_11eb_82ed_0242ac1c0002row17_col0\" class=\"data row17 col0\" >0</td>\n",
              "                        <td id=\"T_a0f9bb70_387d_11eb_82ed_0242ac1c0002row17_col1\" class=\"data row17 col1\" >0</td>\n",
              "                        <td id=\"T_a0f9bb70_387d_11eb_82ed_0242ac1c0002row17_col2\" class=\"data row17 col2\" >0</td>\n",
              "                        <td id=\"T_a0f9bb70_387d_11eb_82ed_0242ac1c0002row17_col3\" class=\"data row17 col3\" >0</td>\n",
              "                        <td id=\"T_a0f9bb70_387d_11eb_82ed_0242ac1c0002row17_col4\" class=\"data row17 col4\" >0</td>\n",
              "                        <td id=\"T_a0f9bb70_387d_11eb_82ed_0242ac1c0002row17_col5\" class=\"data row17 col5\" >0</td>\n",
              "                        <td id=\"T_a0f9bb70_387d_11eb_82ed_0242ac1c0002row17_col6\" class=\"data row17 col6\" >0</td>\n",
              "                        <td id=\"T_a0f9bb70_387d_11eb_82ed_0242ac1c0002row17_col7\" class=\"data row17 col7\" >0</td>\n",
              "                        <td id=\"T_a0f9bb70_387d_11eb_82ed_0242ac1c0002row17_col8\" class=\"data row17 col8\" >42</td>\n",
              "                        <td id=\"T_a0f9bb70_387d_11eb_82ed_0242ac1c0002row17_col9\" class=\"data row17 col9\" >150</td>\n",
              "                        <td id=\"T_a0f9bb70_387d_11eb_82ed_0242ac1c0002row17_col10\" class=\"data row17 col10\" >252</td>\n",
              "                        <td id=\"T_a0f9bb70_387d_11eb_82ed_0242ac1c0002row17_col11\" class=\"data row17 col11\" >253</td>\n",
              "                        <td id=\"T_a0f9bb70_387d_11eb_82ed_0242ac1c0002row17_col12\" class=\"data row17 col12\" >253</td>\n",
              "                        <td id=\"T_a0f9bb70_387d_11eb_82ed_0242ac1c0002row17_col13\" class=\"data row17 col13\" >233</td>\n",
              "                        <td id=\"T_a0f9bb70_387d_11eb_82ed_0242ac1c0002row17_col14\" class=\"data row17 col14\" >53</td>\n",
              "                        <td id=\"T_a0f9bb70_387d_11eb_82ed_0242ac1c0002row17_col15\" class=\"data row17 col15\" >0</td>\n",
              "                        <td id=\"T_a0f9bb70_387d_11eb_82ed_0242ac1c0002row17_col16\" class=\"data row17 col16\" >0</td>\n",
              "                        <td id=\"T_a0f9bb70_387d_11eb_82ed_0242ac1c0002row17_col17\" class=\"data row17 col17\" >0</td>\n",
              "                        <td id=\"T_a0f9bb70_387d_11eb_82ed_0242ac1c0002row17_col18\" class=\"data row17 col18\" >0</td>\n",
              "                        <td id=\"T_a0f9bb70_387d_11eb_82ed_0242ac1c0002row17_col19\" class=\"data row17 col19\" >0</td>\n",
              "                        <td id=\"T_a0f9bb70_387d_11eb_82ed_0242ac1c0002row17_col20\" class=\"data row17 col20\" >0</td>\n",
              "                        <td id=\"T_a0f9bb70_387d_11eb_82ed_0242ac1c0002row17_col21\" class=\"data row17 col21\" >0</td>\n",
              "                        <td id=\"T_a0f9bb70_387d_11eb_82ed_0242ac1c0002row17_col22\" class=\"data row17 col22\" >0</td>\n",
              "            </tr>\n",
              "            <tr>\n",
              "                        <th id=\"T_a0f9bb70_387d_11eb_82ed_0242ac1c0002level0_row18\" class=\"row_heading level0 row18\" >18</th>\n",
              "                        <td id=\"T_a0f9bb70_387d_11eb_82ed_0242ac1c0002row18_col0\" class=\"data row18 col0\" >0</td>\n",
              "                        <td id=\"T_a0f9bb70_387d_11eb_82ed_0242ac1c0002row18_col1\" class=\"data row18 col1\" >0</td>\n",
              "                        <td id=\"T_a0f9bb70_387d_11eb_82ed_0242ac1c0002row18_col2\" class=\"data row18 col2\" >42</td>\n",
              "                        <td id=\"T_a0f9bb70_387d_11eb_82ed_0242ac1c0002row18_col3\" class=\"data row18 col3\" >115</td>\n",
              "                        <td id=\"T_a0f9bb70_387d_11eb_82ed_0242ac1c0002row18_col4\" class=\"data row18 col4\" >42</td>\n",
              "                        <td id=\"T_a0f9bb70_387d_11eb_82ed_0242ac1c0002row18_col5\" class=\"data row18 col5\" >60</td>\n",
              "                        <td id=\"T_a0f9bb70_387d_11eb_82ed_0242ac1c0002row18_col6\" class=\"data row18 col6\" >115</td>\n",
              "                        <td id=\"T_a0f9bb70_387d_11eb_82ed_0242ac1c0002row18_col7\" class=\"data row18 col7\" >159</td>\n",
              "                        <td id=\"T_a0f9bb70_387d_11eb_82ed_0242ac1c0002row18_col8\" class=\"data row18 col8\" >240</td>\n",
              "                        <td id=\"T_a0f9bb70_387d_11eb_82ed_0242ac1c0002row18_col9\" class=\"data row18 col9\" >253</td>\n",
              "                        <td id=\"T_a0f9bb70_387d_11eb_82ed_0242ac1c0002row18_col10\" class=\"data row18 col10\" >253</td>\n",
              "                        <td id=\"T_a0f9bb70_387d_11eb_82ed_0242ac1c0002row18_col11\" class=\"data row18 col11\" >250</td>\n",
              "                        <td id=\"T_a0f9bb70_387d_11eb_82ed_0242ac1c0002row18_col12\" class=\"data row18 col12\" >175</td>\n",
              "                        <td id=\"T_a0f9bb70_387d_11eb_82ed_0242ac1c0002row18_col13\" class=\"data row18 col13\" >25</td>\n",
              "                        <td id=\"T_a0f9bb70_387d_11eb_82ed_0242ac1c0002row18_col14\" class=\"data row18 col14\" >0</td>\n",
              "                        <td id=\"T_a0f9bb70_387d_11eb_82ed_0242ac1c0002row18_col15\" class=\"data row18 col15\" >0</td>\n",
              "                        <td id=\"T_a0f9bb70_387d_11eb_82ed_0242ac1c0002row18_col16\" class=\"data row18 col16\" >0</td>\n",
              "                        <td id=\"T_a0f9bb70_387d_11eb_82ed_0242ac1c0002row18_col17\" class=\"data row18 col17\" >0</td>\n",
              "                        <td id=\"T_a0f9bb70_387d_11eb_82ed_0242ac1c0002row18_col18\" class=\"data row18 col18\" >0</td>\n",
              "                        <td id=\"T_a0f9bb70_387d_11eb_82ed_0242ac1c0002row18_col19\" class=\"data row18 col19\" >0</td>\n",
              "                        <td id=\"T_a0f9bb70_387d_11eb_82ed_0242ac1c0002row18_col20\" class=\"data row18 col20\" >0</td>\n",
              "                        <td id=\"T_a0f9bb70_387d_11eb_82ed_0242ac1c0002row18_col21\" class=\"data row18 col21\" >0</td>\n",
              "                        <td id=\"T_a0f9bb70_387d_11eb_82ed_0242ac1c0002row18_col22\" class=\"data row18 col22\" >0</td>\n",
              "            </tr>\n",
              "            <tr>\n",
              "                        <th id=\"T_a0f9bb70_387d_11eb_82ed_0242ac1c0002level0_row19\" class=\"row_heading level0 row19\" >19</th>\n",
              "                        <td id=\"T_a0f9bb70_387d_11eb_82ed_0242ac1c0002row19_col0\" class=\"data row19 col0\" >0</td>\n",
              "                        <td id=\"T_a0f9bb70_387d_11eb_82ed_0242ac1c0002row19_col1\" class=\"data row19 col1\" >0</td>\n",
              "                        <td id=\"T_a0f9bb70_387d_11eb_82ed_0242ac1c0002row19_col2\" class=\"data row19 col2\" >187</td>\n",
              "                        <td id=\"T_a0f9bb70_387d_11eb_82ed_0242ac1c0002row19_col3\" class=\"data row19 col3\" >253</td>\n",
              "                        <td id=\"T_a0f9bb70_387d_11eb_82ed_0242ac1c0002row19_col4\" class=\"data row19 col4\" >253</td>\n",
              "                        <td id=\"T_a0f9bb70_387d_11eb_82ed_0242ac1c0002row19_col5\" class=\"data row19 col5\" >253</td>\n",
              "                        <td id=\"T_a0f9bb70_387d_11eb_82ed_0242ac1c0002row19_col6\" class=\"data row19 col6\" >253</td>\n",
              "                        <td id=\"T_a0f9bb70_387d_11eb_82ed_0242ac1c0002row19_col7\" class=\"data row19 col7\" >253</td>\n",
              "                        <td id=\"T_a0f9bb70_387d_11eb_82ed_0242ac1c0002row19_col8\" class=\"data row19 col8\" >253</td>\n",
              "                        <td id=\"T_a0f9bb70_387d_11eb_82ed_0242ac1c0002row19_col9\" class=\"data row19 col9\" >253</td>\n",
              "                        <td id=\"T_a0f9bb70_387d_11eb_82ed_0242ac1c0002row19_col10\" class=\"data row19 col10\" >197</td>\n",
              "                        <td id=\"T_a0f9bb70_387d_11eb_82ed_0242ac1c0002row19_col11\" class=\"data row19 col11\" >86</td>\n",
              "                        <td id=\"T_a0f9bb70_387d_11eb_82ed_0242ac1c0002row19_col12\" class=\"data row19 col12\" >0</td>\n",
              "                        <td id=\"T_a0f9bb70_387d_11eb_82ed_0242ac1c0002row19_col13\" class=\"data row19 col13\" >0</td>\n",
              "                        <td id=\"T_a0f9bb70_387d_11eb_82ed_0242ac1c0002row19_col14\" class=\"data row19 col14\" >0</td>\n",
              "                        <td id=\"T_a0f9bb70_387d_11eb_82ed_0242ac1c0002row19_col15\" class=\"data row19 col15\" >0</td>\n",
              "                        <td id=\"T_a0f9bb70_387d_11eb_82ed_0242ac1c0002row19_col16\" class=\"data row19 col16\" >0</td>\n",
              "                        <td id=\"T_a0f9bb70_387d_11eb_82ed_0242ac1c0002row19_col17\" class=\"data row19 col17\" >0</td>\n",
              "                        <td id=\"T_a0f9bb70_387d_11eb_82ed_0242ac1c0002row19_col18\" class=\"data row19 col18\" >0</td>\n",
              "                        <td id=\"T_a0f9bb70_387d_11eb_82ed_0242ac1c0002row19_col19\" class=\"data row19 col19\" >0</td>\n",
              "                        <td id=\"T_a0f9bb70_387d_11eb_82ed_0242ac1c0002row19_col20\" class=\"data row19 col20\" >0</td>\n",
              "                        <td id=\"T_a0f9bb70_387d_11eb_82ed_0242ac1c0002row19_col21\" class=\"data row19 col21\" >0</td>\n",
              "                        <td id=\"T_a0f9bb70_387d_11eb_82ed_0242ac1c0002row19_col22\" class=\"data row19 col22\" >0</td>\n",
              "            </tr>\n",
              "            <tr>\n",
              "                        <th id=\"T_a0f9bb70_387d_11eb_82ed_0242ac1c0002level0_row20\" class=\"row_heading level0 row20\" >20</th>\n",
              "                        <td id=\"T_a0f9bb70_387d_11eb_82ed_0242ac1c0002row20_col0\" class=\"data row20 col0\" >0</td>\n",
              "                        <td id=\"T_a0f9bb70_387d_11eb_82ed_0242ac1c0002row20_col1\" class=\"data row20 col1\" >0</td>\n",
              "                        <td id=\"T_a0f9bb70_387d_11eb_82ed_0242ac1c0002row20_col2\" class=\"data row20 col2\" >103</td>\n",
              "                        <td id=\"T_a0f9bb70_387d_11eb_82ed_0242ac1c0002row20_col3\" class=\"data row20 col3\" >253</td>\n",
              "                        <td id=\"T_a0f9bb70_387d_11eb_82ed_0242ac1c0002row20_col4\" class=\"data row20 col4\" >253</td>\n",
              "                        <td id=\"T_a0f9bb70_387d_11eb_82ed_0242ac1c0002row20_col5\" class=\"data row20 col5\" >253</td>\n",
              "                        <td id=\"T_a0f9bb70_387d_11eb_82ed_0242ac1c0002row20_col6\" class=\"data row20 col6\" >253</td>\n",
              "                        <td id=\"T_a0f9bb70_387d_11eb_82ed_0242ac1c0002row20_col7\" class=\"data row20 col7\" >253</td>\n",
              "                        <td id=\"T_a0f9bb70_387d_11eb_82ed_0242ac1c0002row20_col8\" class=\"data row20 col8\" >232</td>\n",
              "                        <td id=\"T_a0f9bb70_387d_11eb_82ed_0242ac1c0002row20_col9\" class=\"data row20 col9\" >67</td>\n",
              "                        <td id=\"T_a0f9bb70_387d_11eb_82ed_0242ac1c0002row20_col10\" class=\"data row20 col10\" >1</td>\n",
              "                        <td id=\"T_a0f9bb70_387d_11eb_82ed_0242ac1c0002row20_col11\" class=\"data row20 col11\" >0</td>\n",
              "                        <td id=\"T_a0f9bb70_387d_11eb_82ed_0242ac1c0002row20_col12\" class=\"data row20 col12\" >0</td>\n",
              "                        <td id=\"T_a0f9bb70_387d_11eb_82ed_0242ac1c0002row20_col13\" class=\"data row20 col13\" >0</td>\n",
              "                        <td id=\"T_a0f9bb70_387d_11eb_82ed_0242ac1c0002row20_col14\" class=\"data row20 col14\" >0</td>\n",
              "                        <td id=\"T_a0f9bb70_387d_11eb_82ed_0242ac1c0002row20_col15\" class=\"data row20 col15\" >0</td>\n",
              "                        <td id=\"T_a0f9bb70_387d_11eb_82ed_0242ac1c0002row20_col16\" class=\"data row20 col16\" >0</td>\n",
              "                        <td id=\"T_a0f9bb70_387d_11eb_82ed_0242ac1c0002row20_col17\" class=\"data row20 col17\" >0</td>\n",
              "                        <td id=\"T_a0f9bb70_387d_11eb_82ed_0242ac1c0002row20_col18\" class=\"data row20 col18\" >0</td>\n",
              "                        <td id=\"T_a0f9bb70_387d_11eb_82ed_0242ac1c0002row20_col19\" class=\"data row20 col19\" >0</td>\n",
              "                        <td id=\"T_a0f9bb70_387d_11eb_82ed_0242ac1c0002row20_col20\" class=\"data row20 col20\" >0</td>\n",
              "                        <td id=\"T_a0f9bb70_387d_11eb_82ed_0242ac1c0002row20_col21\" class=\"data row20 col21\" >0</td>\n",
              "                        <td id=\"T_a0f9bb70_387d_11eb_82ed_0242ac1c0002row20_col22\" class=\"data row20 col22\" >0</td>\n",
              "            </tr>\n",
              "            <tr>\n",
              "                        <th id=\"T_a0f9bb70_387d_11eb_82ed_0242ac1c0002level0_row21\" class=\"row_heading level0 row21\" >21</th>\n",
              "                        <td id=\"T_a0f9bb70_387d_11eb_82ed_0242ac1c0002row21_col0\" class=\"data row21 col0\" >0</td>\n",
              "                        <td id=\"T_a0f9bb70_387d_11eb_82ed_0242ac1c0002row21_col1\" class=\"data row21 col1\" >0</td>\n",
              "                        <td id=\"T_a0f9bb70_387d_11eb_82ed_0242ac1c0002row21_col2\" class=\"data row21 col2\" >0</td>\n",
              "                        <td id=\"T_a0f9bb70_387d_11eb_82ed_0242ac1c0002row21_col3\" class=\"data row21 col3\" >0</td>\n",
              "                        <td id=\"T_a0f9bb70_387d_11eb_82ed_0242ac1c0002row21_col4\" class=\"data row21 col4\" >0</td>\n",
              "                        <td id=\"T_a0f9bb70_387d_11eb_82ed_0242ac1c0002row21_col5\" class=\"data row21 col5\" >0</td>\n",
              "                        <td id=\"T_a0f9bb70_387d_11eb_82ed_0242ac1c0002row21_col6\" class=\"data row21 col6\" >0</td>\n",
              "                        <td id=\"T_a0f9bb70_387d_11eb_82ed_0242ac1c0002row21_col7\" class=\"data row21 col7\" >0</td>\n",
              "                        <td id=\"T_a0f9bb70_387d_11eb_82ed_0242ac1c0002row21_col8\" class=\"data row21 col8\" >0</td>\n",
              "                        <td id=\"T_a0f9bb70_387d_11eb_82ed_0242ac1c0002row21_col9\" class=\"data row21 col9\" >0</td>\n",
              "                        <td id=\"T_a0f9bb70_387d_11eb_82ed_0242ac1c0002row21_col10\" class=\"data row21 col10\" >0</td>\n",
              "                        <td id=\"T_a0f9bb70_387d_11eb_82ed_0242ac1c0002row21_col11\" class=\"data row21 col11\" >0</td>\n",
              "                        <td id=\"T_a0f9bb70_387d_11eb_82ed_0242ac1c0002row21_col12\" class=\"data row21 col12\" >0</td>\n",
              "                        <td id=\"T_a0f9bb70_387d_11eb_82ed_0242ac1c0002row21_col13\" class=\"data row21 col13\" >0</td>\n",
              "                        <td id=\"T_a0f9bb70_387d_11eb_82ed_0242ac1c0002row21_col14\" class=\"data row21 col14\" >0</td>\n",
              "                        <td id=\"T_a0f9bb70_387d_11eb_82ed_0242ac1c0002row21_col15\" class=\"data row21 col15\" >0</td>\n",
              "                        <td id=\"T_a0f9bb70_387d_11eb_82ed_0242ac1c0002row21_col16\" class=\"data row21 col16\" >0</td>\n",
              "                        <td id=\"T_a0f9bb70_387d_11eb_82ed_0242ac1c0002row21_col17\" class=\"data row21 col17\" >0</td>\n",
              "                        <td id=\"T_a0f9bb70_387d_11eb_82ed_0242ac1c0002row21_col18\" class=\"data row21 col18\" >0</td>\n",
              "                        <td id=\"T_a0f9bb70_387d_11eb_82ed_0242ac1c0002row21_col19\" class=\"data row21 col19\" >0</td>\n",
              "                        <td id=\"T_a0f9bb70_387d_11eb_82ed_0242ac1c0002row21_col20\" class=\"data row21 col20\" >0</td>\n",
              "                        <td id=\"T_a0f9bb70_387d_11eb_82ed_0242ac1c0002row21_col21\" class=\"data row21 col21\" >0</td>\n",
              "                        <td id=\"T_a0f9bb70_387d_11eb_82ed_0242ac1c0002row21_col22\" class=\"data row21 col22\" >0</td>\n",
              "            </tr>\n",
              "            <tr>\n",
              "                        <th id=\"T_a0f9bb70_387d_11eb_82ed_0242ac1c0002level0_row22\" class=\"row_heading level0 row22\" >22</th>\n",
              "                        <td id=\"T_a0f9bb70_387d_11eb_82ed_0242ac1c0002row22_col0\" class=\"data row22 col0\" >0</td>\n",
              "                        <td id=\"T_a0f9bb70_387d_11eb_82ed_0242ac1c0002row22_col1\" class=\"data row22 col1\" >0</td>\n",
              "                        <td id=\"T_a0f9bb70_387d_11eb_82ed_0242ac1c0002row22_col2\" class=\"data row22 col2\" >0</td>\n",
              "                        <td id=\"T_a0f9bb70_387d_11eb_82ed_0242ac1c0002row22_col3\" class=\"data row22 col3\" >0</td>\n",
              "                        <td id=\"T_a0f9bb70_387d_11eb_82ed_0242ac1c0002row22_col4\" class=\"data row22 col4\" >0</td>\n",
              "                        <td id=\"T_a0f9bb70_387d_11eb_82ed_0242ac1c0002row22_col5\" class=\"data row22 col5\" >0</td>\n",
              "                        <td id=\"T_a0f9bb70_387d_11eb_82ed_0242ac1c0002row22_col6\" class=\"data row22 col6\" >0</td>\n",
              "                        <td id=\"T_a0f9bb70_387d_11eb_82ed_0242ac1c0002row22_col7\" class=\"data row22 col7\" >0</td>\n",
              "                        <td id=\"T_a0f9bb70_387d_11eb_82ed_0242ac1c0002row22_col8\" class=\"data row22 col8\" >0</td>\n",
              "                        <td id=\"T_a0f9bb70_387d_11eb_82ed_0242ac1c0002row22_col9\" class=\"data row22 col9\" >0</td>\n",
              "                        <td id=\"T_a0f9bb70_387d_11eb_82ed_0242ac1c0002row22_col10\" class=\"data row22 col10\" >0</td>\n",
              "                        <td id=\"T_a0f9bb70_387d_11eb_82ed_0242ac1c0002row22_col11\" class=\"data row22 col11\" >0</td>\n",
              "                        <td id=\"T_a0f9bb70_387d_11eb_82ed_0242ac1c0002row22_col12\" class=\"data row22 col12\" >0</td>\n",
              "                        <td id=\"T_a0f9bb70_387d_11eb_82ed_0242ac1c0002row22_col13\" class=\"data row22 col13\" >0</td>\n",
              "                        <td id=\"T_a0f9bb70_387d_11eb_82ed_0242ac1c0002row22_col14\" class=\"data row22 col14\" >0</td>\n",
              "                        <td id=\"T_a0f9bb70_387d_11eb_82ed_0242ac1c0002row22_col15\" class=\"data row22 col15\" >0</td>\n",
              "                        <td id=\"T_a0f9bb70_387d_11eb_82ed_0242ac1c0002row22_col16\" class=\"data row22 col16\" >0</td>\n",
              "                        <td id=\"T_a0f9bb70_387d_11eb_82ed_0242ac1c0002row22_col17\" class=\"data row22 col17\" >0</td>\n",
              "                        <td id=\"T_a0f9bb70_387d_11eb_82ed_0242ac1c0002row22_col18\" class=\"data row22 col18\" >0</td>\n",
              "                        <td id=\"T_a0f9bb70_387d_11eb_82ed_0242ac1c0002row22_col19\" class=\"data row22 col19\" >0</td>\n",
              "                        <td id=\"T_a0f9bb70_387d_11eb_82ed_0242ac1c0002row22_col20\" class=\"data row22 col20\" >0</td>\n",
              "                        <td id=\"T_a0f9bb70_387d_11eb_82ed_0242ac1c0002row22_col21\" class=\"data row22 col21\" >0</td>\n",
              "                        <td id=\"T_a0f9bb70_387d_11eb_82ed_0242ac1c0002row22_col22\" class=\"data row22 col22\" >0</td>\n",
              "            </tr>\n",
              "    </tbody></table>"
            ],
            "text/plain": [
              "<pandas.io.formats.style.Styler at 0x7ff812e68940>"
            ]
          },
          "metadata": {
            "tags": []
          },
          "execution_count": 27
        }
      ]
    },
    {
      "cell_type": "markdown",
      "metadata": {
        "id": "poZpmL9z3jsi"
      },
      "source": [
        "## First Try: Pixel Similarity"
      ]
    },
    {
      "cell_type": "code",
      "metadata": {
        "id": "KI_IpvpY3jsi",
        "outputId": "8c1c2cdf-67b7-4a72-c2fe-9664f96e4ca3",
        "colab": {
          "base_uri": "https://localhost:8080/"
        }
      },
      "source": [
        "seven_tensors = [tensor(Image.open(o)) for o in sevens]\n",
        "three_tensors = [tensor(Image.open(o)) for o in threes]\n",
        "len(three_tensors),len(seven_tensors)"
      ],
      "execution_count": 28,
      "outputs": [
        {
          "output_type": "execute_result",
          "data": {
            "text/plain": [
              "(6131, 6265)"
            ]
          },
          "metadata": {
            "tags": []
          },
          "execution_count": 28
        }
      ]
    },
    {
      "cell_type": "code",
      "metadata": {
        "id": "UDjADxiZ3jsi",
        "outputId": "6a924574-1d29-4ab6-db83-ebf4edfd4497",
        "colab": {
          "base_uri": "https://localhost:8080/",
          "height": 85
        }
      },
      "source": [
        "show_image(three_tensors[1]);"
      ],
      "execution_count": 29,
      "outputs": [
        {
          "output_type": "display_data",
          "data": {
            "image/png": "[encoded data removed]",
            "text/plain": [
              "<Figure size 72x72 with 1 Axes>"
            ]
          },
          "metadata": {
            "tags": [],
            "needs_background": "light"
          }
        }
      ]
    },
    {
      "cell_type": "code",
      "metadata": {
        "id": "5RMiJl-Z-DGq",
        "outputId": "c1b8c5b1-ebd3-4d29-842c-bee939d6b66a",
        "colab": {
          "base_uri": "https://localhost:8080/",
          "height": 282
        }
      },
      "source": [
        "from  matplotlib import pyplot as plt\n",
        "plt.imshow(three_tensors[2])"
      ],
      "execution_count": 31,
      "outputs": [
        {
          "output_type": "execute_result",
          "data": {
            "text/plain": [
              "<matplotlib.image.AxesImage at 0x7ff813061b00>"
            ]
          },
          "metadata": {
            "tags": []
          },
          "execution_count": 31
        },
        {
          "output_type": "display_data",
          "data": {
            "image/png": "[encoded data removed]",
            "text/plain": [
              "<Figure size 432x288 with 1 Axes>"
            ]
          },
          "metadata": {
            "tags": [],
            "needs_background": "light"
          }
        }
      ]
    },
    {
      "cell_type": "code",
      "metadata": {
        "id": "BVwDuav23jsi",
        "outputId": "00c64814-31c9-4a81-c90f-14b9f8b23d9c",
        "colab": {
          "base_uri": "https://localhost:8080/"
        }
      },
      "source": [
        "stacked_sevens = torch.stack(seven_tensors).float()/255\n",
        "stacked_threes = torch.stack(three_tensors).float()/255\n",
        "stacked_threes.shape"
      ],
      "execution_count": 38,
      "outputs": [
        {
          "output_type": "execute_result",
          "data": {
            "text/plain": [
              "torch.Size([6131, 28, 28])"
            ]
          },
          "metadata": {
            "tags": []
          },
          "execution_count": 38
        }
      ]
    },
    {
      "cell_type": "code",
      "metadata": {
        "id": "UGjtkrIx3jsi",
        "outputId": "d2f3c102-ea50-4e18-b780-957c7cb9b064",
        "colab": {
          "base_uri": "https://localhost:8080/"
        }
      },
      "source": [
        "len(stacked_threes.shape)"
      ],
      "execution_count": 39,
      "outputs": [
        {
          "output_type": "execute_result",
          "data": {
            "text/plain": [
              "3"
            ]
          },
          "metadata": {
            "tags": []
          },
          "execution_count": 39
        }
      ]
    },
    {
      "cell_type": "code",
      "metadata": {
        "id": "Mo1Ayywj3jsi",
        "outputId": "01b2a25a-73f5-47d6-9a35-1a3655d58b2a",
        "colab": {
          "base_uri": "https://localhost:8080/"
        }
      },
      "source": [
        "stacked_threes.ndim"
      ],
      "execution_count": 40,
      "outputs": [
        {
          "output_type": "execute_result",
          "data": {
            "text/plain": [
              "3"
            ]
          },
          "metadata": {
            "tags": []
          },
          "execution_count": 40
        }
      ]
    },
    {
      "cell_type": "code",
      "metadata": {
        "id": "bLTTF6IO3jsi",
        "outputId": "2efc46e4-a3a4-4451-8c74-c6a614483b46",
        "colab": {
          "base_uri": "https://localhost:8080/",
          "height": 85
        }
      },
      "source": [
        "mean3 = stacked_threes.mean(0)\n",
        "show_image(mean3);"
      ],
      "execution_count": 41,
      "outputs": [
        {
          "output_type": "display_data",
          "data": {
            "image/png": "[encoded data removed]",
            "text/plain": [
              "<Figure size 72x72 with 1 Axes>"
            ]
          },
          "metadata": {
            "tags": [],
            "needs_background": "light"
          }
        }
      ]
    },
    {
      "cell_type": "code",
      "metadata": {
        "id": "Rd98gXci3jsi",
        "outputId": "cc6a6f80-fbc9-4e9e-a34c-0a9ebe9dd9d1",
        "colab": {
          "base_uri": "https://localhost:8080/",
          "height": 85
        }
      },
      "source": [
        "mean7 = stacked_sevens.mean(0)\n",
        "show_image(mean7);"
      ],
      "execution_count": 42,
      "outputs": [
        {
          "output_type": "display_data",
          "data": {
            "image/png": "[encoded data removed]",
            "text/plain": [
              "<Figure size 72x72 with 1 Axes>"
            ]
          },
          "metadata": {
            "tags": [],
            "needs_background": "light"
          }
        }
      ]
    },
    {
      "cell_type": "code",
      "metadata": {
        "id": "BHdicZ433jsi",
        "outputId": "5329f445-e12d-4549-9eb9-fd4c55f103a9",
        "colab": {
          "base_uri": "https://localhost:8080/",
          "height": 85
        }
      },
      "source": [
        "a_3 = stacked_threes[1]\n",
        "show_image(a_3);"
      ],
      "execution_count": 43,
      "outputs": [
        {
          "output_type": "display_data",
          "data": {
            "image/png": "[encoded data removed]",
            "text/plain": [
              "<Figure size 72x72 with 1 Axes>"
            ]
          },
          "metadata": {
            "tags": [],
            "needs_background": "light"
          }
        }
      ]
    },
    {
      "cell_type": "code",
      "metadata": {
        "id": "zWJQLly13jsi",
        "outputId": "9ac54a6a-a942-4dcc-f4d3-c22669346812",
        "colab": {
          "base_uri": "https://localhost:8080/"
        }
      },
      "source": [
        "dist_3_abs = (a_3 - mean3).abs().mean()\n",
        "dist_3_sqr = ((a_3 - mean3)**2).mean().sqrt()\n",
        "dist_3_abs,dist_3_sqr"
      ],
      "execution_count": 44,
      "outputs": [
        {
          "output_type": "execute_result",
          "data": {
            "text/plain": [
              "(tensor(0.1114), tensor(0.2021))"
            ]
          },
          "metadata": {
            "tags": []
          },
          "execution_count": 44
        }
      ]
    },
    {
      "cell_type": "code",
      "metadata": {
        "id": "e7wXyMla3jsi",
        "outputId": "7d1f5522-6219-4bb7-fc7f-18541fdb7caf",
        "colab": {
          "base_uri": "https://localhost:8080/"
        }
      },
      "source": [
        "dist_7_abs = (a_3 - mean7).abs().mean()\n",
        "dist_7_sqr = ((a_3 - mean7)**2).mean().sqrt()\n",
        "dist_7_abs,dist_7_sqr"
      ],
      "execution_count": 45,
      "outputs": [
        {
          "output_type": "execute_result",
          "data": {
            "text/plain": [
              "(tensor(0.1586), tensor(0.3021))"
            ]
          },
          "metadata": {
            "tags": []
          },
          "execution_count": 45
        }
      ]
    },
    {
      "cell_type": "code",
      "metadata": {
        "id": "-Np0qJGn3jsi",
        "outputId": "1d30776e-0710-4c5d-82a6-61eedd0c2d27",
        "colab": {
          "base_uri": "https://localhost:8080/"
        }
      },
      "source": [
        "F.l1_loss(a_3.float(),mean7), F.mse_loss(a_3,mean7).sqrt()"
      ],
      "execution_count": 46,
      "outputs": [
        {
          "output_type": "execute_result",
          "data": {
            "text/plain": [
              "(tensor(0.1586), tensor(0.3021))"
            ]
          },
          "metadata": {
            "tags": []
          },
          "execution_count": 46
        }
      ]
    },
    {
      "cell_type": "markdown",
      "metadata": {
        "id": "knwlAjCu3jsi"
      },
      "source": [
        "### NumPy Arrays and PyTorch Tensors"
      ]
    },
    {
      "cell_type": "code",
      "metadata": {
        "id": "urQuJ3Sh3jsi"
      },
      "source": [
        "data = [[1,2,3],[4,5,6]]\n",
        "arr = array (data)\n",
        "tns = tensor(data)"
      ],
      "execution_count": 47,
      "outputs": []
    },
    {
      "cell_type": "code",
      "metadata": {
        "id": "OxTp7fuP3jsi",
        "outputId": "fd8c5e7a-6aff-476e-e9ea-3363cdb7757c",
        "colab": {
          "base_uri": "https://localhost:8080/"
        }
      },
      "source": [
        "arr  # numpy"
      ],
      "execution_count": 48,
      "outputs": [
        {
          "output_type": "execute_result",
          "data": {
            "text/plain": [
              "array([[1, 2, 3],\n",
              "       [4, 5, 6]])"
            ]
          },
          "metadata": {
            "tags": []
          },
          "execution_count": 48
        }
      ]
    },
    {
      "cell_type": "code",
      "metadata": {
        "id": "XIoXslg-3jsi",
        "outputId": "4f1640d6-f3a3-4123-bd26-12d7bbb0392a",
        "colab": {
          "base_uri": "https://localhost:8080/"
        }
      },
      "source": [
        "tns  # pytorch"
      ],
      "execution_count": 49,
      "outputs": [
        {
          "output_type": "execute_result",
          "data": {
            "text/plain": [
              "tensor([[1, 2, 3],\n",
              "        [4, 5, 6]])"
            ]
          },
          "metadata": {
            "tags": []
          },
          "execution_count": 49
        }
      ]
    },
    {
      "cell_type": "code",
      "metadata": {
        "id": "f_akOrB33jsi",
        "outputId": "ba43c5b1-9e61-4461-a1c9-7afc83a573da",
        "colab": {
          "base_uri": "https://localhost:8080/"
        }
      },
      "source": [
        "tns[1]"
      ],
      "execution_count": 50,
      "outputs": [
        {
          "output_type": "execute_result",
          "data": {
            "text/plain": [
              "tensor([4, 5, 6])"
            ]
          },
          "metadata": {
            "tags": []
          },
          "execution_count": 50
        }
      ]
    },
    {
      "cell_type": "code",
      "metadata": {
        "id": "plfJdjC23jsi",
        "outputId": "e53c609b-61f7-4561-dc77-09033f15bf65",
        "colab": {
          "base_uri": "https://localhost:8080/"
        }
      },
      "source": [
        "tns[:,1]"
      ],
      "execution_count": 51,
      "outputs": [
        {
          "output_type": "execute_result",
          "data": {
            "text/plain": [
              "tensor([2, 5])"
            ]
          },
          "metadata": {
            "tags": []
          },
          "execution_count": 51
        }
      ]
    },
    {
      "cell_type": "code",
      "metadata": {
        "id": "x5_OEK4u3jsi",
        "outputId": "c77573d5-0ebb-4998-9564-62cb28311e72",
        "colab": {
          "base_uri": "https://localhost:8080/"
        }
      },
      "source": [
        "tns[1,1:3]"
      ],
      "execution_count": 52,
      "outputs": [
        {
          "output_type": "execute_result",
          "data": {
            "text/plain": [
              "tensor([5, 6])"
            ]
          },
          "metadata": {
            "tags": []
          },
          "execution_count": 52
        }
      ]
    },
    {
      "cell_type": "code",
      "metadata": {
        "id": "EW81caBr3jsi",
        "outputId": "ec577097-f04e-41e3-9e09-b05f320f94b4",
        "colab": {
          "base_uri": "https://localhost:8080/"
        }
      },
      "source": [
        "tns+1"
      ],
      "execution_count": 53,
      "outputs": [
        {
          "output_type": "execute_result",
          "data": {
            "text/plain": [
              "tensor([[2, 3, 4],\n",
              "        [5, 6, 7]])"
            ]
          },
          "metadata": {
            "tags": []
          },
          "execution_count": 53
        }
      ]
    },
    {
      "cell_type": "code",
      "metadata": {
        "id": "sUepYsR2_bhs",
        "outputId": "120c4d43-a0d7-4c06-f6a6-2019848d305e",
        "colab": {
          "base_uri": "https://localhost:8080/"
        }
      },
      "source": [
        "type(tns)"
      ],
      "execution_count": 54,
      "outputs": [
        {
          "output_type": "execute_result",
          "data": {
            "text/plain": [
              "torch.Tensor"
            ]
          },
          "metadata": {
            "tags": []
          },
          "execution_count": 54
        }
      ]
    },
    {
      "cell_type": "code",
      "metadata": {
        "id": "pgsMKZwf3jsi",
        "outputId": "19e51ba0-36c6-4c06-b4bc-4e627748fd12",
        "colab": {
          "base_uri": "https://localhost:8080/",
          "height": 35
        }
      },
      "source": [
        "tns.type()"
      ],
      "execution_count": 55,
      "outputs": [
        {
          "output_type": "execute_result",
          "data": {
            "application/vnd.google.colaboratory.intrinsic+json": {
              "type": "string"
            },
            "text/plain": [
              "'torch.LongTensor'"
            ]
          },
          "metadata": {
            "tags": []
          },
          "execution_count": 55
        }
      ]
    },
    {
      "cell_type": "code",
      "metadata": {
        "id": "aWmHCydT3jsi",
        "outputId": "2ced8766-60f9-4132-9712-a8b75973d1f9",
        "colab": {
          "base_uri": "https://localhost:8080/"
        }
      },
      "source": [
        "tns*1.5"
      ],
      "execution_count": 56,
      "outputs": [
        {
          "output_type": "execute_result",
          "data": {
            "text/plain": [
              "tensor([[1.5000, 3.0000, 4.5000],\n",
              "        [6.0000, 7.5000, 9.0000]])"
            ]
          },
          "metadata": {
            "tags": []
          },
          "execution_count": 56
        }
      ]
    },
    {
      "cell_type": "markdown",
      "metadata": {
        "id": "NMwZwa6A3jsi"
      },
      "source": [
        "## Computing Metrics Using Broadcasting"
      ]
    },
    {
      "cell_type": "code",
      "metadata": {
        "id": "cKlhU_gf3jsi",
        "outputId": "978909cc-ca01-483a-df7b-ff4135fa1275",
        "colab": {
          "base_uri": "https://localhost:8080/"
        }
      },
      "source": [
        "valid_3_tens = torch.stack([tensor(Image.open(o)) \n",
        "                            for o in (path/'valid'/'3').ls()])\n",
        "valid_3_tens = valid_3_tens.float()/255\n",
        "valid_7_tens = torch.stack([tensor(Image.open(o)) \n",
        "                            for o in (path/'valid'/'7').ls()])\n",
        "valid_7_tens = valid_7_tens.float()/255\n",
        "valid_3_tens.shape,valid_7_tens.shape"
      ],
      "execution_count": 57,
      "outputs": [
        {
          "output_type": "execute_result",
          "data": {
            "text/plain": [
              "(torch.Size([1010, 28, 28]), torch.Size([1028, 28, 28]))"
            ]
          },
          "metadata": {
            "tags": []
          },
          "execution_count": 57
        }
      ]
    },
    {
      "cell_type": "code",
      "metadata": {
        "id": "EnYXgfiR3jsi",
        "outputId": "0b4e0b21-032a-4939-ae9b-192e4172031e",
        "colab": {
          "base_uri": "https://localhost:8080/"
        }
      },
      "source": [
        "def mnist_distance(a,b): return (a-b).abs().mean((-1,-2))\n",
        "mnist_distance(a_3, mean3)"
      ],
      "execution_count": 58,
      "outputs": [
        {
          "output_type": "execute_result",
          "data": {
            "text/plain": [
              "tensor(0.1114)"
            ]
          },
          "metadata": {
            "tags": []
          },
          "execution_count": 58
        }
      ]
    },
    {
      "cell_type": "code",
      "metadata": {
        "id": "epCiil5a3jsi",
        "outputId": "f35bbc03-2892-48ff-aa3d-0ba8fd360782",
        "colab": {
          "base_uri": "https://localhost:8080/"
        }
      },
      "source": [
        "valid_3_dist = mnist_distance(valid_3_tens, mean3)\n",
        "valid_3_dist, valid_3_dist.shape"
      ],
      "execution_count": 59,
      "outputs": [
        {
          "output_type": "execute_result",
          "data": {
            "text/plain": [
              "(tensor([0.1356, 0.1365, 0.1464,  ..., 0.1573, 0.1052, 0.1296]),\n",
              " torch.Size([1010]))"
            ]
          },
          "metadata": {
            "tags": []
          },
          "execution_count": 59
        }
      ]
    },
    {
      "cell_type": "code",
      "metadata": {
        "id": "cFa8S-093jsi",
        "outputId": "ab128bf4-5420-4a9a-b53b-3c2156390f30",
        "colab": {
          "base_uri": "https://localhost:8080/"
        }
      },
      "source": [
        "tensor([1,2,3]) + tensor([1,1,1])"
      ],
      "execution_count": 60,
      "outputs": [
        {
          "output_type": "execute_result",
          "data": {
            "text/plain": [
              "tensor([2, 3, 4])"
            ]
          },
          "metadata": {
            "tags": []
          },
          "execution_count": 60
        }
      ]
    },
    {
      "cell_type": "code",
      "metadata": {
        "id": "sfWOQTIW3jsi",
        "outputId": "57ea7429-351f-4d1d-cde4-609a96e82e84",
        "colab": {
          "base_uri": "https://localhost:8080/"
        }
      },
      "source": [
        "(valid_3_tens-mean3).shape"
      ],
      "execution_count": 61,
      "outputs": [
        {
          "output_type": "execute_result",
          "data": {
            "text/plain": [
              "torch.Size([1010, 28, 28])"
            ]
          },
          "metadata": {
            "tags": []
          },
          "execution_count": 61
        }
      ]
    },
    {
      "cell_type": "code",
      "metadata": {
        "id": "edUEADtZ3jsi"
      },
      "source": [
        "def is_3(x): return mnist_distance(x,mean3) < mnist_distance(x,mean7)"
      ],
      "execution_count": 62,
      "outputs": []
    },
    {
      "cell_type": "code",
      "metadata": {
        "id": "9jm9xwB73jsi",
        "outputId": "9b35c20a-51f3-407f-ecb0-32a0db3a9171",
        "colab": {
          "base_uri": "https://localhost:8080/"
        }
      },
      "source": [
        "is_3(a_3), is_3(a_3).float()"
      ],
      "execution_count": 63,
      "outputs": [
        {
          "output_type": "execute_result",
          "data": {
            "text/plain": [
              "(tensor(True), tensor(1.))"
            ]
          },
          "metadata": {
            "tags": []
          },
          "execution_count": 63
        }
      ]
    },
    {
      "cell_type": "code",
      "metadata": {
        "id": "NwUwe2Y-3jsi",
        "outputId": "15e9aeca-445b-4ef9-cb2d-5025487a78e1",
        "colab": {
          "base_uri": "https://localhost:8080/"
        }
      },
      "source": [
        "is_3(valid_3_tens)"
      ],
      "execution_count": 64,
      "outputs": [
        {
          "output_type": "execute_result",
          "data": {
            "text/plain": [
              "tensor([True, True, True,  ..., True, True, True])"
            ]
          },
          "metadata": {
            "tags": []
          },
          "execution_count": 64
        }
      ]
    },
    {
      "cell_type": "code",
      "metadata": {
        "id": "_0CN1dV43jsi",
        "outputId": "258c6abf-081b-4663-d75b-00f4dcf58562",
        "colab": {
          "base_uri": "https://localhost:8080/"
        }
      },
      "source": [
        "accuracy_3s =      is_3(valid_3_tens).float() .mean()\n",
        "accuracy_7s = (1 - is_3(valid_7_tens).float()).mean()\n",
        "\n",
        "accuracy_3s,accuracy_7s,(accuracy_3s+accuracy_7s)/2"
      ],
      "execution_count": 65,
      "outputs": [
        {
          "output_type": "execute_result",
          "data": {
            "text/plain": [
              "(tensor(0.9168), tensor(0.9854), tensor(0.9511))"
            ]
          },
          "metadata": {
            "tags": []
          },
          "execution_count": 65
        }
      ]
    },
    {
      "cell_type": "markdown",
      "metadata": {
        "id": "Mz827Fqu3jsi"
      },
      "source": [
        "## Stochastic Gradient Descent (SGD)"
      ]
    },
    {
      "cell_type": "code",
      "metadata": {
        "id": "0Nndhp5k3jsi",
        "outputId": "0a8ca85d-67d0-429f-e5ec-cac890b1a9a9",
        "colab": {
          "base_uri": "https://localhost:8080/",
          "height": 125
        }
      },
      "source": [
        "gv('''\n",
        "init->predict->loss->gradient->step->stop\n",
        "step->predict[label=repeat]\n",
        "''')"
      ],
      "execution_count": 66,
      "outputs": [
        {
          "output_type": "execute_result",
          "data": {
            "text/plain": [
              "<graphviz.files.Source at 0x7ff807944e10>"
            ],
            "image/svg+xml": "<?xml version=\"1.0\" encoding=\"UTF-8\" standalone=\"no\"?>\n<!DOCTYPE svg PUBLIC \"-//W3C//DTD SVG 1.1//EN\"\n \"http://www.w3.org/Graphics/SVG/1.1/DTD/svg11.dtd\">\n<!-- Generated by graphviz version 2.40.1 (20161225.0304)\n -->\n<!-- Title: G Pages: 1 -->\n<svg width=\"597pt\" height=\"78pt\"\n viewBox=\"0.00 0.00 596.69 78.00\" xmlns=\"http://www.w3.org/2000/svg\" xmlns:xlink=\"http://www.w3.org/1999/xlink\">\n<g id=\"graph0\" class=\"graph\" transform=\"scale(1 1) rotate(0) translate(4 74)\">\n<title>G</title>\n<polygon fill=\"#ffffff\" stroke=\"transparent\" points=\"-4,4 -4,-74 592.6863,-74 592.6863,4 -4,4\"/>\n<!-- init -->\n<g id=\"node1\" class=\"node\">\n<title>init</title>\n<ellipse fill=\"none\" stroke=\"#000000\" cx=\"27\" cy=\"-18\" rx=\"27\" ry=\"18\"/>\n<text text-anchor=\"middle\" x=\"27\" y=\"-14.3\" font-family=\"Times,serif\" font-size=\"14.00\" fill=\"#000000\">init</text>\n</g>\n<!-- predict -->\n<g id=\"node2\" class=\"node\">\n<title>predict</title>\n<ellipse fill=\"none\" stroke=\"#000000\" cx=\"127.3968\" cy=\"-18\" rx=\"36.2938\" ry=\"18\"/>\n<text text-anchor=\"middle\" x=\"127.3968\" y=\"-14.3\" font-family=\"Times,serif\" font-size=\"14.00\" fill=\"#000000\">predict</text>\n</g>\n<!-- init&#45;&gt;predict -->\n<g id=\"edge1\" class=\"edge\">\n<title>init&#45;&gt;predict</title>\n<path fill=\"none\" stroke=\"#000000\" d=\"M54.1688,-18C62.3543,-18 71.5827,-18 80.6596,-18\"/>\n<polygon fill=\"#000000\" stroke=\"#000000\" points=\"80.7795,-21.5001 90.7795,-18 80.7795,-14.5001 80.7795,-21.5001\"/>\n</g>\n<!-- loss -->\n<g id=\"node3\" class=\"node\">\n<title>loss</title>\n<ellipse fill=\"none\" stroke=\"#000000\" cx=\"227.7935\" cy=\"-52\" rx=\"27\" ry=\"18\"/>\n<text text-anchor=\"middle\" x=\"227.7935\" y=\"-48.3\" font-family=\"Times,serif\" font-size=\"14.00\" fill=\"#000000\">loss</text>\n</g>\n<!-- predict&#45;&gt;loss -->\n<g id=\"edge2\" class=\"edge\">\n<title>predict&#45;&gt;loss</title>\n<path fill=\"none\" stroke=\"#000000\" d=\"M157.5191,-28.2011C168.9806,-32.0826 182.1139,-36.5303 193.9014,-40.5222\"/>\n<polygon fill=\"#000000\" stroke=\"#000000\" points=\"192.8259,-43.8532 203.4202,-43.7458 195.0713,-37.2231 192.8259,-43.8532\"/>\n</g>\n<!-- gradient -->\n<g id=\"node4\" class=\"node\">\n<title>gradient</title>\n<ellipse fill=\"none\" stroke=\"#000000\" cx=\"365.7399\" cy=\"-52\" rx=\"40.8928\" ry=\"18\"/>\n<text text-anchor=\"middle\" x=\"365.7399\" y=\"-48.3\" font-family=\"Times,serif\" font-size=\"14.00\" fill=\"#000000\">gradient</text>\n</g>\n<!-- loss&#45;&gt;gradient -->\n<g id=\"edge3\" class=\"edge\">\n<title>loss&#45;&gt;gradient</title>\n<path fill=\"none\" stroke=\"#000000\" d=\"M255.0473,-52C272.0415,-52 294.4481,-52 314.6545,-52\"/>\n<polygon fill=\"#000000\" stroke=\"#000000\" points=\"314.671,-55.5001 324.671,-52 314.671,-48.5001 314.671,-55.5001\"/>\n</g>\n<!-- step -->\n<g id=\"node5\" class=\"node\">\n<title>step</title>\n<ellipse fill=\"none\" stroke=\"#000000\" cx=\"470.6863\" cy=\"-18\" rx=\"27\" ry=\"18\"/>\n<text text-anchor=\"middle\" x=\"470.6863\" y=\"-14.3\" font-family=\"Times,serif\" font-size=\"14.00\" fill=\"#000000\">step</text>\n</g>\n<!-- gradient&#45;&gt;step -->\n<g id=\"edge4\" class=\"edge\">\n<title>gradient&#45;&gt;step</title>\n<path fill=\"none\" stroke=\"#000000\" d=\"M398.9456,-41.2422C410.9558,-37.3512 424.5297,-32.9536 436.6132,-29.0388\"/>\n<polygon fill=\"#000000\" stroke=\"#000000\" points=\"437.9112,-32.2975 446.3457,-25.8857 435.7537,-25.6382 437.9112,-32.2975\"/>\n</g>\n<!-- step&#45;&gt;predict -->\n<g id=\"edge6\" class=\"edge\">\n<title>step&#45;&gt;predict</title>\n<path fill=\"none\" stroke=\"#000000\" d=\"M443.4266,-18C384.9297,-18 246.7861,-18 174.0495,-18\"/>\n<polygon fill=\"#000000\" stroke=\"#000000\" points=\"173.8098,-14.5001 163.8098,-18 173.8097,-21.5001 173.8098,-14.5001\"/>\n<text text-anchor=\"middle\" x=\"289.7935\" y=\"-21.8\" font-family=\"Times,serif\" font-size=\"14.00\" fill=\"#000000\">repeat</text>\n</g>\n<!-- stop -->\n<g id=\"node6\" class=\"node\">\n<title>stop</title>\n<ellipse fill=\"none\" stroke=\"#000000\" cx=\"561.6863\" cy=\"-18\" rx=\"27\" ry=\"18\"/>\n<text text-anchor=\"middle\" x=\"561.6863\" y=\"-14.3\" font-family=\"Times,serif\" font-size=\"14.00\" fill=\"#000000\">stop</text>\n</g>\n<!-- step&#45;&gt;stop -->\n<g id=\"edge5\" class=\"edge\">\n<title>step&#45;&gt;stop</title>\n<path fill=\"none\" stroke=\"#000000\" d=\"M497.9893,-18C506.2676,-18 515.508,-18 524.3268,-18\"/>\n<polygon fill=\"#000000\" stroke=\"#000000\" points=\"524.4026,-21.5001 534.4025,-18 524.4025,-14.5001 524.4026,-21.5001\"/>\n</g>\n</g>\n</svg>\n"
          },
          "metadata": {
            "tags": []
          },
          "execution_count": 66
        }
      ]
    },
    {
      "cell_type": "code",
      "metadata": {
        "id": "F54979W73jsi"
      },
      "source": [
        "def f(x): return x**2"
      ],
      "execution_count": 67,
      "outputs": []
    },
    {
      "cell_type": "code",
      "metadata": {
        "id": "nNf6knPR3jsi",
        "outputId": "fa0bdae9-69f7-4d16-bf27-1a399960f0c0",
        "colab": {
          "base_uri": "https://localhost:8080/",
          "height": 333
        }
      },
      "source": [
        "plot_function(f, 'x', 'x**2')"
      ],
      "execution_count": 68,
      "outputs": [
        {
          "output_type": "stream",
          "text": [
            "/usr/local/lib/python3.6/dist-packages/fastbook/__init__.py:73: UserWarning: Not providing a value for linspace's steps is deprecated and will throw a runtime error in a future release. This warning will appear only once per process. (Triggered internally at  /pytorch/aten/src/ATen/native/RangeFactories.cpp:23.)\n",
            "  x = torch.linspace(min,max)\n"
          ],
          "name": "stderr"
        },
        {
          "output_type": "display_data",
          "data": {
            "image/png": "[encoded data removed]",
            "text/plain": [
              "<Figure size 432x288 with 1 Axes>"
            ]
          },
          "metadata": {
            "tags": [],
            "needs_background": "light"
          }
        }
      ]
    },
    {
      "cell_type": "code",
      "metadata": {
        "id": "LzXB7ccW3jsi",
        "outputId": "6ab0db23-9a63-422a-fbad-0a727b323802",
        "colab": {
          "base_uri": "https://localhost:8080/",
          "height": 279
        }
      },
      "source": [
        "plot_function(f, 'x', 'x**2')\n",
        "plt.scatter(-1.5, f(-1.5), color='red');"
      ],
      "execution_count": 69,
      "outputs": [
        {
          "output_type": "display_data",
          "data": {
            "image/png": "[encoded data removed]",
            "text/plain": [
              "<Figure size 432x288 with 1 Axes>"
            ]
          },
          "metadata": {
            "tags": [],
            "needs_background": "light"
          }
        }
      ]
    },
    {
      "cell_type": "markdown",
      "metadata": {
        "id": "9w7BuBp63jsi"
      },
      "source": [
        "### Calculating Gradients"
      ]
    },
    {
      "cell_type": "code",
      "metadata": {
        "id": "rfzE9zIQ3jsi"
      },
      "source": [
        "xt = tensor(3.).requires_grad_()"
      ],
      "execution_count": 70,
      "outputs": []
    },
    {
      "cell_type": "code",
      "metadata": {
        "id": "nDNZKG8e3jsi",
        "outputId": "a659457c-5571-4901-8f48-aacf313a0604",
        "colab": {
          "base_uri": "https://localhost:8080/"
        }
      },
      "source": [
        "yt = f(xt)\n",
        "yt"
      ],
      "execution_count": 71,
      "outputs": [
        {
          "output_type": "execute_result",
          "data": {
            "text/plain": [
              "tensor(9., grad_fn=<PowBackward0>)"
            ]
          },
          "metadata": {
            "tags": []
          },
          "execution_count": 71
        }
      ]
    },
    {
      "cell_type": "code",
      "metadata": {
        "id": "9DHeaYv33jsi"
      },
      "source": [
        "yt.backward()"
      ],
      "execution_count": 72,
      "outputs": []
    },
    {
      "cell_type": "code",
      "metadata": {
        "id": "fapEk9Ij3jsj",
        "outputId": "19431181-b921-4b33-a78d-44df76615b90",
        "colab": {
          "base_uri": "https://localhost:8080/"
        }
      },
      "source": [
        "xt.grad"
      ],
      "execution_count": 73,
      "outputs": [
        {
          "output_type": "execute_result",
          "data": {
            "text/plain": [
              "tensor(6.)"
            ]
          },
          "metadata": {
            "tags": []
          },
          "execution_count": 73
        }
      ]
    },
    {
      "cell_type": "code",
      "metadata": {
        "id": "VL0bMWRX3jsj",
        "outputId": "cd841613-a4b3-4cb9-d361-d4ea39757150",
        "colab": {
          "base_uri": "https://localhost:8080/"
        }
      },
      "source": [
        "xt = tensor([3.,4.,10.]).requires_grad_()\n",
        "xt"
      ],
      "execution_count": 74,
      "outputs": [
        {
          "output_type": "execute_result",
          "data": {
            "text/plain": [
              "tensor([ 3.,  4., 10.], requires_grad=True)"
            ]
          },
          "metadata": {
            "tags": []
          },
          "execution_count": 74
        }
      ]
    },
    {
      "cell_type": "code",
      "metadata": {
        "id": "Hlq42tTn3jsj",
        "outputId": "f66b873a-5801-4600-81ce-45ad0a159f52",
        "colab": {
          "base_uri": "https://localhost:8080/"
        }
      },
      "source": [
        "def f(x): return (x**2).sum()\n",
        "\n",
        "yt = f(xt)\n",
        "yt"
      ],
      "execution_count": 75,
      "outputs": [
        {
          "output_type": "execute_result",
          "data": {
            "text/plain": [
              "tensor(125., grad_fn=<SumBackward0>)"
            ]
          },
          "metadata": {
            "tags": []
          },
          "execution_count": 75
        }
      ]
    },
    {
      "cell_type": "code",
      "metadata": {
        "id": "1Au5hwcW3jsj",
        "outputId": "7208d441-8bd9-4e1a-eca3-1eed6022170b",
        "colab": {
          "base_uri": "https://localhost:8080/"
        }
      },
      "source": [
        "yt.backward()\n",
        "xt.grad"
      ],
      "execution_count": 76,
      "outputs": [
        {
          "output_type": "execute_result",
          "data": {
            "text/plain": [
              "tensor([ 6.,  8., 20.])"
            ]
          },
          "metadata": {
            "tags": []
          },
          "execution_count": 76
        }
      ]
    },
    {
      "cell_type": "markdown",
      "metadata": {
        "id": "_JgPG2AB3jsj"
      },
      "source": [
        "### Stepping With a Learning Rate"
      ]
    },
    {
      "cell_type": "markdown",
      "metadata": {
        "id": "rOQkJnXV3jsj"
      },
      "source": [
        "### An End-to-End SGD Example"
      ]
    },
    {
      "cell_type": "code",
      "metadata": {
        "id": "7C7s05vQ3jsj",
        "outputId": "55f6a4d2-3a27-4a13-dcf1-4119f9be00c0",
        "colab": {
          "base_uri": "https://localhost:8080/"
        }
      },
      "source": [
        "time = torch.arange(0,20).float(); time"
      ],
      "execution_count": 79,
      "outputs": [
        {
          "output_type": "execute_result",
          "data": {
            "text/plain": [
              "tensor([ 0.,  1.,  2.,  3.,  4.,  5.,  6.,  7.,  8.,  9., 10., 11., 12., 13., 14., 15., 16., 17., 18., 19.])"
            ]
          },
          "metadata": {
            "tags": []
          },
          "execution_count": 79
        }
      ]
    },
    {
      "cell_type": "code",
      "metadata": {
        "id": "hZGp-bFW3jsj",
        "outputId": "b305b575-194d-4efb-d28e-f8b6893d84f2",
        "colab": {
          "base_uri": "https://localhost:8080/",
          "height": 265
        }
      },
      "source": [
        "speed = torch.randn(20)*3 + 0.75*(time-9.5)**2 + 1\n",
        "plt.scatter(time,speed);"
      ],
      "execution_count": 80,
      "outputs": [
        {
          "output_type": "display_data",
          "data": {
            "image/png": "[encoded data removed]",
            "text/plain": [
              "<Figure size 432x288 with 1 Axes>"
            ]
          },
          "metadata": {
            "tags": [],
            "needs_background": "light"
          }
        }
      ]
    },
    {
      "cell_type": "code",
      "metadata": {
        "id": "ZAIRC_Tx3jsj"
      },
      "source": [
        "def f(t, params):\n",
        "    a,b,c = params\n",
        "    return a*(t**2) + (b*t) + c"
      ],
      "execution_count": 81,
      "outputs": []
    },
    {
      "cell_type": "code",
      "metadata": {
        "id": "NZL3rD9U3jsj"
      },
      "source": [
        "def mse(preds, targets): return ((preds-targets)**2).mean()"
      ],
      "execution_count": 82,
      "outputs": []
    },
    {
      "cell_type": "markdown",
      "metadata": {
        "id": "c331XNtm3jsj"
      },
      "source": [
        "#### Step 1: Initialize the parameters"
      ]
    },
    {
      "cell_type": "code",
      "metadata": {
        "id": "Ay_LiSL23jsj"
      },
      "source": [
        "params = torch.randn(3).requires_grad_()"
      ],
      "execution_count": 83,
      "outputs": []
    },
    {
      "cell_type": "code",
      "metadata": {
        "id": "Kc6h14lU3jsj"
      },
      "source": [
        "#hide\n",
        "orig_params = params.clone()"
      ],
      "execution_count": 84,
      "outputs": []
    },
    {
      "cell_type": "markdown",
      "metadata": {
        "id": "LpFU4DDI3jsj"
      },
      "source": [
        "#### Step 2: Calculate the predictions"
      ]
    },
    {
      "cell_type": "code",
      "metadata": {
        "id": "m4C3biiT3jsj"
      },
      "source": [
        "preds = f(time, params)"
      ],
      "execution_count": 85,
      "outputs": []
    },
    {
      "cell_type": "code",
      "metadata": {
        "id": "J6Ikpj-J3jsj"
      },
      "source": [
        "def show_preds(preds, ax=None):\n",
        "    if ax is None: ax=plt.subplots()[1]\n",
        "    ax.scatter(time, speed)\n",
        "    ax.scatter(time, to_np(preds), color='red')\n",
        "    ax.set_ylim(-300,100)"
      ],
      "execution_count": 86,
      "outputs": []
    },
    {
      "cell_type": "code",
      "metadata": {
        "id": "sbgqgRND3jsj",
        "outputId": "92d4cec2-e57a-4c43-eb26-9fb8d9febfac",
        "colab": {
          "base_uri": "https://localhost:8080/",
          "height": 269
        }
      },
      "source": [
        "show_preds(preds)"
      ],
      "execution_count": 87,
      "outputs": [
        {
          "output_type": "display_data",
          "data": {
            "image/png": "[encoded data removed]",
            "text/plain": [
              "<Figure size 432x288 with 1 Axes>"
            ]
          },
          "metadata": {
            "tags": [],
            "needs_background": "light"
          }
        }
      ]
    },
    {
      "cell_type": "markdown",
      "metadata": {
        "id": "ARRYqGNo3jsj"
      },
      "source": [
        "#### Step 3: Calculate the loss"
      ]
    },
    {
      "cell_type": "code",
      "metadata": {
        "id": "iBHg-_VJ3jsj",
        "outputId": "f884897a-9a14-4858-cca8-966f932e0c7f",
        "colab": {
          "base_uri": "https://localhost:8080/"
        }
      },
      "source": [
        "loss = mse(preds, speed)\n",
        "loss"
      ],
      "execution_count": 88,
      "outputs": [
        {
          "output_type": "execute_result",
          "data": {
            "text/plain": [
              "tensor(817.4172, grad_fn=<MeanBackward0>)"
            ]
          },
          "metadata": {
            "tags": []
          },
          "execution_count": 88
        }
      ]
    },
    {
      "cell_type": "markdown",
      "metadata": {
        "id": "4tuECSlE3jsj"
      },
      "source": [
        "#### Step 4: Calculate the gradients"
      ]
    },
    {
      "cell_type": "code",
      "metadata": {
        "id": "SPL762b33jsj",
        "outputId": "a70cc601-9eac-469f-c564-6ebbcfd7e8cb",
        "colab": {
          "base_uri": "https://localhost:8080/"
        }
      },
      "source": [
        "loss.backward()\n",
        "params.grad"
      ],
      "execution_count": 89,
      "outputs": [
        {
          "output_type": "execute_result",
          "data": {
            "text/plain": [
              "tensor([4.5169e+03, 2.9541e+02, 2.5931e+00])"
            ]
          },
          "metadata": {
            "tags": []
          },
          "execution_count": 89
        }
      ]
    },
    {
      "cell_type": "code",
      "metadata": {
        "id": "y1LWiRn63jsj",
        "outputId": "e1c64939-8b51-4c6b-8009-2151df9b5601",
        "colab": {
          "base_uri": "https://localhost:8080/"
        }
      },
      "source": [
        "params.grad * 1e-5"
      ],
      "execution_count": 90,
      "outputs": [
        {
          "output_type": "execute_result",
          "data": {
            "text/plain": [
              "tensor([4.5169e-02, 2.9541e-03, 2.5931e-05])"
            ]
          },
          "metadata": {
            "tags": []
          },
          "execution_count": 90
        }
      ]
    },
    {
      "cell_type": "code",
      "metadata": {
        "id": "UkZU3HpT3jsj",
        "outputId": "018c8cca-a967-4b27-f6c7-61a6f9bbdfa5",
        "colab": {
          "base_uri": "https://localhost:8080/"
        }
      },
      "source": [
        "params"
      ],
      "execution_count": 91,
      "outputs": [
        {
          "output_type": "execute_result",
          "data": {
            "text/plain": [
              "tensor([ 0.2303, -0.3278,  0.7950], requires_grad=True)"
            ]
          },
          "metadata": {
            "tags": []
          },
          "execution_count": 91
        }
      ]
    },
    {
      "cell_type": "markdown",
      "metadata": {
        "id": "fLXJaG153jsj"
      },
      "source": [
        "#### Step 5: Step the weights. "
      ]
    },
    {
      "cell_type": "code",
      "metadata": {
        "id": "NNlg8J703jsj"
      },
      "source": [
        "lr = 1e-5\n",
        "params.data -= lr * params.grad.data\n",
        "params.grad = None"
      ],
      "execution_count": 92,
      "outputs": []
    },
    {
      "cell_type": "code",
      "metadata": {
        "id": "zp1kPRln3jsj",
        "outputId": "7486a02c-abe7-4773-c427-daf493f738cc",
        "colab": {
          "base_uri": "https://localhost:8080/"
        }
      },
      "source": [
        "preds = f(time,params)\n",
        "mse(preds, speed)"
      ],
      "execution_count": 93,
      "outputs": [
        {
          "output_type": "execute_result",
          "data": {
            "text/plain": [
              "tensor(670.3992, grad_fn=<MeanBackward0>)"
            ]
          },
          "metadata": {
            "tags": []
          },
          "execution_count": 93
        }
      ]
    },
    {
      "cell_type": "code",
      "metadata": {
        "id": "wS_Jc-eX3jsj",
        "outputId": "60ccc401-9a27-43f6-98ce-5d0e7ffd3ee3",
        "colab": {
          "base_uri": "https://localhost:8080/",
          "height": 269
        }
      },
      "source": [
        "show_preds(preds)"
      ],
      "execution_count": 94,
      "outputs": [
        {
          "output_type": "display_data",
          "data": {
            "image/png": "[encoded data removed]",
            "text/plain": [
              "<Figure size 432x288 with 1 Axes>"
            ]
          },
          "metadata": {
            "tags": [],
            "needs_background": "light"
          }
        }
      ]
    },
    {
      "cell_type": "code",
      "metadata": {
        "id": "7ayaZ8bi3jsj"
      },
      "source": [
        "def apply_step(params, prn=True):\n",
        "    preds = f(time, params)\n",
        "    loss = mse(preds, speed)\n",
        "    loss.backward()\n",
        "    params.data -= lr * params.grad.data\n",
        "    params.grad = None\n",
        "    if prn: print(loss.item())\n",
        "    return preds"
      ],
      "execution_count": 95,
      "outputs": []
    },
    {
      "cell_type": "markdown",
      "metadata": {
        "id": "HvJqpnar3jsj"
      },
      "source": [
        "#### Step 6: Repeat the process "
      ]
    },
    {
      "cell_type": "code",
      "metadata": {
        "id": "U0Mf8oey3jsj",
        "outputId": "41e84ad1-9c5c-4f55-d0b9-9d71327e6f1d",
        "colab": {
          "base_uri": "https://localhost:8080/"
        }
      },
      "source": [
        "for i in range(10): apply_step(params)"
      ],
      "execution_count": 96,
      "outputs": [
        {
          "output_type": "stream",
          "text": [
            "670.3992309570312\n",
            "642.5762939453125\n",
            "637.3087158203125\n",
            "636.3092041015625\n",
            "636.117431640625\n",
            "636.0784912109375\n",
            "636.0684814453125\n",
            "636.0640258789062\n",
            "636.0604248046875\n",
            "636.05712890625\n"
          ],
          "name": "stdout"
        }
      ]
    },
    {
      "cell_type": "code",
      "metadata": {
        "id": "5diUTV603jsj"
      },
      "source": [
        "#hide\n",
        "params = orig_params.detach().requires_grad_()"
      ],
      "execution_count": 97,
      "outputs": []
    },
    {
      "cell_type": "code",
      "metadata": {
        "id": "0LJn_hXZ3jsj",
        "outputId": "f6dddf47-dde6-433f-f749-8939b3742ea0",
        "colab": {
          "base_uri": "https://localhost:8080/",
          "height": 225
        }
      },
      "source": [
        "_,axs = plt.subplots(1,4,figsize=(12,3))\n",
        "for ax in axs: show_preds(apply_step(params, False), ax)\n",
        "plt.tight_layout()"
      ],
      "execution_count": 98,
      "outputs": [
        {
          "output_type": "display_data",
          "data": {
            "image/png": "[encoded data removed]",
            "text/plain": [
              "<Figure size 864x216 with 4 Axes>"
            ]
          },
          "metadata": {
            "tags": [],
            "needs_background": "light"
          }
        }
      ]
    },
    {
      "cell_type": "markdown",
      "metadata": {
        "id": "NZUL55kR3jsj"
      },
      "source": [
        "#### Step 7: stop"
      ]
    },
    {
      "cell_type": "markdown",
      "metadata": {
        "id": "YRlqqDl63jsj"
      },
      "source": [
        "### Summarizing Gradient Descent"
      ]
    },
    {
      "cell_type": "code",
      "metadata": {
        "id": "OF9Udga23jsj",
        "outputId": "378bc12d-0171-46e3-aedf-6ebfc8f92f94",
        "colab": {
          "base_uri": "https://localhost:8080/",
          "height": 125
        }
      },
      "source": [
        "gv('''\n",
        "init->predict->loss->gradient->step->stop\n",
        "step->predict[label=repeat]\n",
        "''')"
      ],
      "execution_count": 99,
      "outputs": [
        {
          "output_type": "execute_result",
          "data": {
            "text/plain": [
              "<graphviz.files.Source at 0x7ff806effba8>"
            ],
            "image/svg+xml": "<?xml version=\"1.0\" encoding=\"UTF-8\" standalone=\"no\"?>\n<!DOCTYPE svg PUBLIC \"-//W3C//DTD SVG 1.1//EN\"\n \"http://www.w3.org/Graphics/SVG/1.1/DTD/svg11.dtd\">\n<!-- Generated by graphviz version 2.40.1 (20161225.0304)\n -->\n<!-- Title: G Pages: 1 -->\n<svg width=\"597pt\" height=\"78pt\"\n viewBox=\"0.00 0.00 596.69 78.00\" xmlns=\"http://www.w3.org/2000/svg\" xmlns:xlink=\"http://www.w3.org/1999/xlink\">\n<g id=\"graph0\" class=\"graph\" transform=\"scale(1 1) rotate(0) translate(4 74)\">\n<title>G</title>\n<polygon fill=\"#ffffff\" stroke=\"transparent\" points=\"-4,4 -4,-74 592.6863,-74 592.6863,4 -4,4\"/>\n<!-- init -->\n<g id=\"node1\" class=\"node\">\n<title>init</title>\n<ellipse fill=\"none\" stroke=\"#000000\" cx=\"27\" cy=\"-18\" rx=\"27\" ry=\"18\"/>\n<text text-anchor=\"middle\" x=\"27\" y=\"-14.3\" font-family=\"Times,serif\" font-size=\"14.00\" fill=\"#000000\">init</text>\n</g>\n<!-- predict -->\n<g id=\"node2\" class=\"node\">\n<title>predict</title>\n<ellipse fill=\"none\" stroke=\"#000000\" cx=\"127.3968\" cy=\"-18\" rx=\"36.2938\" ry=\"18\"/>\n<text text-anchor=\"middle\" x=\"127.3968\" y=\"-14.3\" font-family=\"Times,serif\" font-size=\"14.00\" fill=\"#000000\">predict</text>\n</g>\n<!-- init&#45;&gt;predict -->\n<g id=\"edge1\" class=\"edge\">\n<title>init&#45;&gt;predict</title>\n<path fill=\"none\" stroke=\"#000000\" d=\"M54.1688,-18C62.3543,-18 71.5827,-18 80.6596,-18\"/>\n<polygon fill=\"#000000\" stroke=\"#000000\" points=\"80.7795,-21.5001 90.7795,-18 80.7795,-14.5001 80.7795,-21.5001\"/>\n</g>\n<!-- loss -->\n<g id=\"node3\" class=\"node\">\n<title>loss</title>\n<ellipse fill=\"none\" stroke=\"#000000\" cx=\"227.7935\" cy=\"-52\" rx=\"27\" ry=\"18\"/>\n<text text-anchor=\"middle\" x=\"227.7935\" y=\"-48.3\" font-family=\"Times,serif\" font-size=\"14.00\" fill=\"#000000\">loss</text>\n</g>\n<!-- predict&#45;&gt;loss -->\n<g id=\"edge2\" class=\"edge\">\n<title>predict&#45;&gt;loss</title>\n<path fill=\"none\" stroke=\"#000000\" d=\"M157.5191,-28.2011C168.9806,-32.0826 182.1139,-36.5303 193.9014,-40.5222\"/>\n<polygon fill=\"#000000\" stroke=\"#000000\" points=\"192.8259,-43.8532 203.4202,-43.7458 195.0713,-37.2231 192.8259,-43.8532\"/>\n</g>\n<!-- gradient -->\n<g id=\"node4\" class=\"node\">\n<title>gradient</title>\n<ellipse fill=\"none\" stroke=\"#000000\" cx=\"365.7399\" cy=\"-52\" rx=\"40.8928\" ry=\"18\"/>\n<text text-anchor=\"middle\" x=\"365.7399\" y=\"-48.3\" font-family=\"Times,serif\" font-size=\"14.00\" fill=\"#000000\">gradient</text>\n</g>\n<!-- loss&#45;&gt;gradient -->\n<g id=\"edge3\" class=\"edge\">\n<title>loss&#45;&gt;gradient</title>\n<path fill=\"none\" stroke=\"#000000\" d=\"M255.0473,-52C272.0415,-52 294.4481,-52 314.6545,-52\"/>\n<polygon fill=\"#000000\" stroke=\"#000000\" points=\"314.671,-55.5001 324.671,-52 314.671,-48.5001 314.671,-55.5001\"/>\n</g>\n<!-- step -->\n<g id=\"node5\" class=\"node\">\n<title>step</title>\n<ellipse fill=\"none\" stroke=\"#000000\" cx=\"470.6863\" cy=\"-18\" rx=\"27\" ry=\"18\"/>\n<text text-anchor=\"middle\" x=\"470.6863\" y=\"-14.3\" font-family=\"Times,serif\" font-size=\"14.00\" fill=\"#000000\">step</text>\n</g>\n<!-- gradient&#45;&gt;step -->\n<g id=\"edge4\" class=\"edge\">\n<title>gradient&#45;&gt;step</title>\n<path fill=\"none\" stroke=\"#000000\" d=\"M398.9456,-41.2422C410.9558,-37.3512 424.5297,-32.9536 436.6132,-29.0388\"/>\n<polygon fill=\"#000000\" stroke=\"#000000\" points=\"437.9112,-32.2975 446.3457,-25.8857 435.7537,-25.6382 437.9112,-32.2975\"/>\n</g>\n<!-- step&#45;&gt;predict -->\n<g id=\"edge6\" class=\"edge\">\n<title>step&#45;&gt;predict</title>\n<path fill=\"none\" stroke=\"#000000\" d=\"M443.4266,-18C384.9297,-18 246.7861,-18 174.0495,-18\"/>\n<polygon fill=\"#000000\" stroke=\"#000000\" points=\"173.8098,-14.5001 163.8098,-18 173.8097,-21.5001 173.8098,-14.5001\"/>\n<text text-anchor=\"middle\" x=\"289.7935\" y=\"-21.8\" font-family=\"Times,serif\" font-size=\"14.00\" fill=\"#000000\">repeat</text>\n</g>\n<!-- stop -->\n<g id=\"node6\" class=\"node\">\n<title>stop</title>\n<ellipse fill=\"none\" stroke=\"#000000\" cx=\"561.6863\" cy=\"-18\" rx=\"27\" ry=\"18\"/>\n<text text-anchor=\"middle\" x=\"561.6863\" y=\"-14.3\" font-family=\"Times,serif\" font-size=\"14.00\" fill=\"#000000\">stop</text>\n</g>\n<!-- step&#45;&gt;stop -->\n<g id=\"edge5\" class=\"edge\">\n<title>step&#45;&gt;stop</title>\n<path fill=\"none\" stroke=\"#000000\" d=\"M497.9893,-18C506.2676,-18 515.508,-18 524.3268,-18\"/>\n<polygon fill=\"#000000\" stroke=\"#000000\" points=\"524.4026,-21.5001 534.4025,-18 524.4025,-14.5001 524.4026,-21.5001\"/>\n</g>\n</g>\n</svg>\n"
          },
          "metadata": {
            "tags": []
          },
          "execution_count": 99
        }
      ]
    },
    {
      "cell_type": "markdown",
      "metadata": {
        "id": "SK6RBxyG3jsj"
      },
      "source": [
        "## The MNIST Loss Function"
      ]
    },
    {
      "cell_type": "code",
      "metadata": {
        "id": "dKI69QJO3jsj"
      },
      "source": [
        "train_x = torch.cat([stacked_threes, stacked_sevens]).view(-1, 28*28)"
      ],
      "execution_count": null,
      "outputs": []
    },
    {
      "cell_type": "code",
      "metadata": {
        "id": "6IFkdGyk3jsj"
      },
      "source": [
        "train_y = tensor([1]*len(threes) + [0]*len(sevens)).unsqueeze(1)\n",
        "train_x.shape,train_y.shape"
      ],
      "execution_count": null,
      "outputs": []
    },
    {
      "cell_type": "code",
      "metadata": {
        "id": "79kTbgdl3jsj"
      },
      "source": [
        "dset = list(zip(train_x,train_y))\n",
        "x,y = dset[0]\n",
        "x.shape,y"
      ],
      "execution_count": null,
      "outputs": []
    },
    {
      "cell_type": "code",
      "metadata": {
        "id": "gs9QOain3jsj"
      },
      "source": [
        "valid_x = torch.cat([valid_3_tens, valid_7_tens]).view(-1, 28*28)\n",
        "valid_y = tensor([1]*len(valid_3_tens) + [0]*len(valid_7_tens)).unsqueeze(1)\n",
        "valid_dset = list(zip(valid_x,valid_y))"
      ],
      "execution_count": null,
      "outputs": []
    },
    {
      "cell_type": "code",
      "metadata": {
        "id": "AfkRvxgH3jsj"
      },
      "source": [
        "def init_params(size, std=1.0): return (torch.randn(size)*std).requires_grad_()"
      ],
      "execution_count": null,
      "outputs": []
    },
    {
      "cell_type": "code",
      "metadata": {
        "id": "CplLfDzm3jsj"
      },
      "source": [
        "weights = init_params((28*28,1))"
      ],
      "execution_count": null,
      "outputs": []
    },
    {
      "cell_type": "code",
      "metadata": {
        "id": "04QhDVAn3jsk"
      },
      "source": [
        "bias = init_params(1)"
      ],
      "execution_count": null,
      "outputs": []
    },
    {
      "cell_type": "code",
      "metadata": {
        "id": "Y3ly-X2O3jsk"
      },
      "source": [
        "(train_x[0]*weights.T).sum() + bias"
      ],
      "execution_count": null,
      "outputs": []
    },
    {
      "cell_type": "code",
      "metadata": {
        "id": "nyFoQ-PN3jsk"
      },
      "source": [
        "def linear1(xb): return xb@weights + bias\n",
        "preds = linear1(train_x)\n",
        "preds"
      ],
      "execution_count": null,
      "outputs": []
    },
    {
      "cell_type": "code",
      "metadata": {
        "id": "q_aDyhro3jsk"
      },
      "source": [
        "corrects = (preds>0.0).float() == train_y\n",
        "corrects"
      ],
      "execution_count": null,
      "outputs": []
    },
    {
      "cell_type": "code",
      "metadata": {
        "id": "nJG95iZ_3jsk"
      },
      "source": [
        "corrects.float().mean().item()"
      ],
      "execution_count": null,
      "outputs": []
    },
    {
      "cell_type": "code",
      "metadata": {
        "id": "GWZ_9UFZ3jsk"
      },
      "source": [
        "weights[0] *= 1.0001"
      ],
      "execution_count": null,
      "outputs": []
    },
    {
      "cell_type": "code",
      "metadata": {
        "id": "_kb-6i9d3jsk"
      },
      "source": [
        "preds = linear1(train_x)\n",
        "((preds>0.0).float() == train_y).float().mean().item()"
      ],
      "execution_count": null,
      "outputs": []
    },
    {
      "cell_type": "code",
      "metadata": {
        "id": "vIP4Wu5q3jsk"
      },
      "source": [
        "trgts  = tensor([1,0,1])\n",
        "prds   = tensor([0.9, 0.4, 0.2])"
      ],
      "execution_count": null,
      "outputs": []
    },
    {
      "cell_type": "code",
      "metadata": {
        "id": "1cobfivB3jsk"
      },
      "source": [
        "def mnist_loss(predictions, targets):\n",
        "    return torch.where(targets==1, 1-predictions, predictions).mean()"
      ],
      "execution_count": null,
      "outputs": []
    },
    {
      "cell_type": "code",
      "metadata": {
        "id": "QD4gLt4J3jsk"
      },
      "source": [
        "torch.where(trgts==1, 1-prds, prds)"
      ],
      "execution_count": null,
      "outputs": []
    },
    {
      "cell_type": "code",
      "metadata": {
        "id": "819SuEJ33jsk"
      },
      "source": [
        "mnist_loss(prds,trgts)"
      ],
      "execution_count": null,
      "outputs": []
    },
    {
      "cell_type": "code",
      "metadata": {
        "id": "RhdecejL3jsk"
      },
      "source": [
        "mnist_loss(tensor([0.9, 0.4, 0.8]),trgts)"
      ],
      "execution_count": null,
      "outputs": []
    },
    {
      "cell_type": "markdown",
      "metadata": {
        "id": "yrvN3wQL3jsk"
      },
      "source": [
        "### Sigmoid"
      ]
    },
    {
      "cell_type": "code",
      "metadata": {
        "id": "6ppbmRWo3jsk"
      },
      "source": [
        "def sigmoid(x): return 1/(1+torch.exp(-x))"
      ],
      "execution_count": null,
      "outputs": []
    },
    {
      "cell_type": "code",
      "metadata": {
        "id": "9Snnt-gp3jsk"
      },
      "source": [
        "plot_function(torch.sigmoid, title='Sigmoid', min=-4, max=4)"
      ],
      "execution_count": null,
      "outputs": []
    },
    {
      "cell_type": "code",
      "metadata": {
        "id": "3Vy2e2ox3jsk"
      },
      "source": [
        "def mnist_loss(predictions, targets):\n",
        "    predictions = predictions.sigmoid()\n",
        "    return torch.where(targets==1, 1-predictions, predictions).mean()"
      ],
      "execution_count": null,
      "outputs": []
    },
    {
      "cell_type": "markdown",
      "metadata": {
        "id": "suVwtWOe3jsk"
      },
      "source": [
        "### SGD and Mini-Batches"
      ]
    },
    {
      "cell_type": "code",
      "metadata": {
        "id": "qClcSkVk3jsk"
      },
      "source": [
        "coll = range(15)\n",
        "dl = DataLoader(coll, batch_size=5, shuffle=True)\n",
        "list(dl)"
      ],
      "execution_count": null,
      "outputs": []
    },
    {
      "cell_type": "code",
      "metadata": {
        "id": "2U1b90nq3jsk"
      },
      "source": [
        "ds = L(enumerate(string.ascii_lowercase))\n",
        "ds"
      ],
      "execution_count": null,
      "outputs": []
    },
    {
      "cell_type": "code",
      "metadata": {
        "id": "M7joPWXd3jsk"
      },
      "source": [
        "dl = DataLoader(ds, batch_size=6, shuffle=True)\n",
        "list(dl)"
      ],
      "execution_count": null,
      "outputs": []
    },
    {
      "cell_type": "markdown",
      "metadata": {
        "id": "xzjneh2I3jsk"
      },
      "source": [
        "## Putting It All Together"
      ]
    },
    {
      "cell_type": "code",
      "metadata": {
        "id": "wMSaVzdQ3jsk"
      },
      "source": [
        "weights = init_params((28*28,1))\n",
        "bias = init_params(1)"
      ],
      "execution_count": null,
      "outputs": []
    },
    {
      "cell_type": "code",
      "metadata": {
        "id": "U4a--qoR3jsk"
      },
      "source": [
        "dl = DataLoader(dset, batch_size=256)\n",
        "xb,yb = first(dl)\n",
        "xb.shape,yb.shape"
      ],
      "execution_count": null,
      "outputs": []
    },
    {
      "cell_type": "code",
      "metadata": {
        "id": "S73GOoAk3jsk"
      },
      "source": [
        "valid_dl = DataLoader(valid_dset, batch_size=256)"
      ],
      "execution_count": null,
      "outputs": []
    },
    {
      "cell_type": "code",
      "metadata": {
        "id": "RV9gOgY33jsk"
      },
      "source": [
        "batch = train_x[:4]\n",
        "batch.shape"
      ],
      "execution_count": null,
      "outputs": []
    },
    {
      "cell_type": "code",
      "metadata": {
        "id": "2MG4ja6d3jsk"
      },
      "source": [
        "preds = linear1(batch)\n",
        "preds"
      ],
      "execution_count": null,
      "outputs": []
    },
    {
      "cell_type": "code",
      "metadata": {
        "id": "xIAquxYf3jsk"
      },
      "source": [
        "loss = mnist_loss(preds, train_y[:4])\n",
        "loss"
      ],
      "execution_count": null,
      "outputs": []
    },
    {
      "cell_type": "code",
      "metadata": {
        "id": "rBkAXFSn3jsk"
      },
      "source": [
        "loss.backward()\n",
        "weights.grad.shape,weights.grad.mean(),bias.grad"
      ],
      "execution_count": null,
      "outputs": []
    },
    {
      "cell_type": "code",
      "metadata": {
        "id": "uoVtbSBf3jsk"
      },
      "source": [
        "def calc_grad(xb, yb, model):\n",
        "    preds = model(xb)\n",
        "    loss = mnist_loss(preds, yb)\n",
        "    loss.backward()"
      ],
      "execution_count": null,
      "outputs": []
    },
    {
      "cell_type": "code",
      "metadata": {
        "id": "m8oynhYN3jsk"
      },
      "source": [
        "calc_grad(batch, train_y[:4], linear1)\n",
        "weights.grad.mean(),bias.grad"
      ],
      "execution_count": null,
      "outputs": []
    },
    {
      "cell_type": "code",
      "metadata": {
        "id": "L5Rhm5rH3jsk"
      },
      "source": [
        "calc_grad(batch, train_y[:4], linear1)\n",
        "weights.grad.mean(),bias.grad"
      ],
      "execution_count": null,
      "outputs": []
    },
    {
      "cell_type": "code",
      "metadata": {
        "id": "-UJzRWcG3jsk"
      },
      "source": [
        "weights.grad.zero_()\n",
        "bias.grad.zero_();"
      ],
      "execution_count": null,
      "outputs": []
    },
    {
      "cell_type": "code",
      "metadata": {
        "id": "t_QgX_7A3jsk"
      },
      "source": [
        "def train_epoch(model, lr, params):\n",
        "    for xb,yb in dl:\n",
        "        calc_grad(xb, yb, model)\n",
        "        for p in params:\n",
        "            p.data -= p.grad*lr\n",
        "            p.grad.zero_()"
      ],
      "execution_count": null,
      "outputs": []
    },
    {
      "cell_type": "code",
      "metadata": {
        "id": "zeEk2mOS3jsk"
      },
      "source": [
        "(preds>0.0).float() == train_y[:4]"
      ],
      "execution_count": null,
      "outputs": []
    },
    {
      "cell_type": "code",
      "metadata": {
        "id": "21C8PBeW3jsk"
      },
      "source": [
        "def batch_accuracy(xb, yb):\n",
        "    preds = xb.sigmoid()\n",
        "    correct = (preds>0.5) == yb\n",
        "    return correct.float().mean()"
      ],
      "execution_count": null,
      "outputs": []
    },
    {
      "cell_type": "code",
      "metadata": {
        "id": "eoLmGB-13jsk"
      },
      "source": [
        "batch_accuracy(linear1(batch), train_y[:4])"
      ],
      "execution_count": null,
      "outputs": []
    },
    {
      "cell_type": "code",
      "metadata": {
        "id": "qx57wHE23jsk"
      },
      "source": [
        "def validate_epoch(model):\n",
        "    accs = [batch_accuracy(model(xb), yb) for xb,yb in valid_dl]\n",
        "    return round(torch.stack(accs).mean().item(), 4)"
      ],
      "execution_count": null,
      "outputs": []
    },
    {
      "cell_type": "code",
      "metadata": {
        "id": "yda0KbUf3jsl"
      },
      "source": [
        "validate_epoch(linear1)"
      ],
      "execution_count": null,
      "outputs": []
    },
    {
      "cell_type": "code",
      "metadata": {
        "id": "GTBITXmq3jsl"
      },
      "source": [
        "lr = 1.\n",
        "params = weights,bias\n",
        "train_epoch(linear1, lr, params)\n",
        "validate_epoch(linear1)"
      ],
      "execution_count": null,
      "outputs": []
    },
    {
      "cell_type": "code",
      "metadata": {
        "id": "aGRr12-X3jsl"
      },
      "source": [
        "for i in range(20):\n",
        "    train_epoch(linear1, lr, params)\n",
        "    print(validate_epoch(linear1), end=' ')"
      ],
      "execution_count": null,
      "outputs": []
    },
    {
      "cell_type": "markdown",
      "metadata": {
        "id": "fTE3MbJi3jsl"
      },
      "source": [
        "### Creating an Optimizer"
      ]
    },
    {
      "cell_type": "code",
      "metadata": {
        "id": "PUf4_5YZ3jsl"
      },
      "source": [
        "linear_model = nn.Linear(28*28,1)"
      ],
      "execution_count": null,
      "outputs": []
    },
    {
      "cell_type": "code",
      "metadata": {
        "id": "ZJwpf6oI3jsl"
      },
      "source": [
        "w,b = linear_model.parameters()\n",
        "w.shape,b.shape"
      ],
      "execution_count": null,
      "outputs": []
    },
    {
      "cell_type": "code",
      "metadata": {
        "id": "kf2EavFx3jsl"
      },
      "source": [
        "class BasicOptim:\n",
        "    def __init__(self,params,lr): self.params,self.lr = list(params),lr\n",
        "\n",
        "    def step(self, *args, **kwargs):\n",
        "        for p in self.params: p.data -= p.grad.data * self.lr\n",
        "\n",
        "    def zero_grad(self, *args, **kwargs):\n",
        "        for p in self.params: p.grad = None"
      ],
      "execution_count": null,
      "outputs": []
    },
    {
      "cell_type": "code",
      "metadata": {
        "id": "lDXpXnUl3jsl"
      },
      "source": [
        "opt = BasicOptim(linear_model.parameters(), lr)"
      ],
      "execution_count": null,
      "outputs": []
    },
    {
      "cell_type": "code",
      "metadata": {
        "id": "TVikfna_3jsl"
      },
      "source": [
        "def train_epoch(model):\n",
        "    for xb,yb in dl:\n",
        "        calc_grad(xb, yb, model)\n",
        "        opt.step()\n",
        "        opt.zero_grad()"
      ],
      "execution_count": null,
      "outputs": []
    },
    {
      "cell_type": "code",
      "metadata": {
        "id": "68vdEgim3jsl"
      },
      "source": [
        "validate_epoch(linear_model)"
      ],
      "execution_count": null,
      "outputs": []
    },
    {
      "cell_type": "code",
      "metadata": {
        "id": "6ckvICHE3jsl"
      },
      "source": [
        "def train_model(model, epochs):\n",
        "    for i in range(epochs):\n",
        "        train_epoch(model)\n",
        "        print(validate_epoch(model), end=' ')"
      ],
      "execution_count": null,
      "outputs": []
    },
    {
      "cell_type": "code",
      "metadata": {
        "id": "LGS1RUsF3jsl"
      },
      "source": [
        "train_model(linear_model, 20)"
      ],
      "execution_count": null,
      "outputs": []
    },
    {
      "cell_type": "code",
      "metadata": {
        "id": "bPVDeKLw3jsl"
      },
      "source": [
        "linear_model = nn.Linear(28*28,1)\n",
        "opt = SGD(linear_model.parameters(), lr)\n",
        "train_model(linear_model, 20)"
      ],
      "execution_count": null,
      "outputs": []
    },
    {
      "cell_type": "code",
      "metadata": {
        "id": "z10kt_o53jsl"
      },
      "source": [
        "dls = DataLoaders(dl, valid_dl)"
      ],
      "execution_count": null,
      "outputs": []
    },
    {
      "cell_type": "code",
      "metadata": {
        "id": "i6Cb_-YT3jsl"
      },
      "source": [
        "learn = Learner(dls, nn.Linear(28*28,1), opt_func=SGD,\n",
        "                loss_func=mnist_loss, metrics=batch_accuracy)"
      ],
      "execution_count": null,
      "outputs": []
    },
    {
      "cell_type": "code",
      "metadata": {
        "id": "zH4fjJYk3jsl"
      },
      "source": [
        "learn.fit(10, lr=lr)"
      ],
      "execution_count": null,
      "outputs": []
    },
    {
      "cell_type": "markdown",
      "metadata": {
        "id": "yzHWUM5c3jsl"
      },
      "source": [
        "## Adding a Nonlinearity"
      ]
    },
    {
      "cell_type": "code",
      "metadata": {
        "id": "EWc372Be3jsl"
      },
      "source": [
        "def simple_net(xb): \n",
        "    res = xb@w1 + b1\n",
        "    res = res.max(tensor(0.0))\n",
        "    res = res@w2 + b2\n",
        "    return res"
      ],
      "execution_count": null,
      "outputs": []
    },
    {
      "cell_type": "code",
      "metadata": {
        "id": "jaVMOrkg3jsl"
      },
      "source": [
        "w1 = init_params((28*28,30))\n",
        "b1 = init_params(30)\n",
        "w2 = init_params((30,1))\n",
        "b2 = init_params(1)"
      ],
      "execution_count": null,
      "outputs": []
    },
    {
      "cell_type": "code",
      "metadata": {
        "id": "Oudc83ty3jsl"
      },
      "source": [
        "plot_function(F.relu)"
      ],
      "execution_count": null,
      "outputs": []
    },
    {
      "cell_type": "code",
      "metadata": {
        "id": "x_jSZD8L3jsl"
      },
      "source": [
        "simple_net = nn.Sequential(\n",
        "    nn.Linear(28*28,30),\n",
        "    nn.ReLU(),\n",
        "    nn.Linear(30,1)\n",
        ")"
      ],
      "execution_count": null,
      "outputs": []
    },
    {
      "cell_type": "code",
      "metadata": {
        "id": "1_SaIP6Y3jsl"
      },
      "source": [
        "learn = Learner(dls, simple_net, opt_func=SGD,\n",
        "                loss_func=mnist_loss, metrics=batch_accuracy)"
      ],
      "execution_count": null,
      "outputs": []
    },
    {
      "cell_type": "code",
      "metadata": {
        "id": "Q_ABTOnc3jsl"
      },
      "source": [
        "learn.fit(40, 0.1)"
      ],
      "execution_count": null,
      "outputs": []
    },
    {
      "cell_type": "code",
      "metadata": {
        "id": "6llUKiXh3jsl"
      },
      "source": [
        "plt.plot(L(learn.recorder.values).itemgot(2));"
      ],
      "execution_count": null,
      "outputs": []
    },
    {
      "cell_type": "code",
      "metadata": {
        "id": "rtAFvZX93jsl"
      },
      "source": [
        "learn.recorder.values[-1][2]"
      ],
      "execution_count": null,
      "outputs": []
    },
    {
      "cell_type": "markdown",
      "metadata": {
        "id": "b4VAWVnF3jsl"
      },
      "source": [
        "### Going Deeper"
      ]
    },
    {
      "cell_type": "code",
      "metadata": {
        "id": "aOVnUFxV3jsl"
      },
      "source": [
        "dls = ImageDataLoaders.from_folder(path)\n",
        "learn = cnn_learner(dls, resnet18, pretrained=False,\n",
        "                    loss_func=F.cross_entropy, metrics=accuracy)\n",
        "learn.fit_one_cycle(1, 0.1)"
      ],
      "execution_count": null,
      "outputs": []
    },
    {
      "cell_type": "markdown",
      "metadata": {
        "id": "Xuz7zZ_o3jsl"
      },
      "source": [
        "## Jargon Recap"
      ]
    },
    {
      "cell_type": "markdown",
      "metadata": {
        "id": "CsoLGk3w3jsl"
      },
      "source": [
        "## Questionnaire"
      ]
    },
    {
      "cell_type": "markdown",
      "metadata": {
        "id": "nNR6QOav3jsl"
      },
      "source": [
        "1. How is a grayscale image represented on a computer? How about a color image?\n",
        "1. How are the files and folders in the `MNIST_SAMPLE` dataset structured? Why?\n",
        "1. Explain how the \"pixel similarity\" approach to classifying digits works.\n",
        "1. What is a list comprehension? Create one now that selects odd numbers from a list and doubles them.\n",
        "1. What is a \"rank-3 tensor\"?\n",
        "1. What is the difference between tensor rank and shape? How do you get the rank from the shape?\n",
        "1. What are RMSE and L1 norm?\n",
        "1. How can you apply a calculation on thousands of numbers at once, many thousands of times faster than a Python loop?\n",
        "1. Create a 3×3 tensor or array containing the numbers from 1 to 9. Double it. Select the bottom-right four numbers.\n",
        "1. What is broadcasting?\n",
        "1. Are metrics generally calculated using the training set, or the validation set? Why?\n",
        "1. What is SGD?\n",
        "1. Why does SGD use mini-batches?\n",
        "1. What are the seven steps in SGD for machine learning?\n",
        "1. How do we initialize the weights in a model?\n",
        "1. What is \"loss\"?\n",
        "1. Why can't we always use a high learning rate?\n",
        "1. What is a \"gradient\"?\n",
        "1. Do you need to know how to calculate gradients yourself?\n",
        "1. Why can't we use accuracy as a loss function?\n",
        "1. Draw the sigmoid function. What is special about its shape?\n",
        "1. What is the difference between a loss function and a metric?\n",
        "1. What is the function to calculate new weights using a learning rate?\n",
        "1. What does the `DataLoader` class do?\n",
        "1. Write pseudocode showing the basic steps taken in each epoch for SGD.\n",
        "1. Create a function that, if passed two arguments `[1,2,3,4]` and `'abcd'`, returns `[(1, 'a'), (2, 'b'), (3, 'c'), (4, 'd')]`. What is special about that output data structure?\n",
        "1. What does `view` do in PyTorch?\n",
        "1. What are the \"bias\" parameters in a neural network? Why do we need them?\n",
        "1. What does the `@` operator do in Python?\n",
        "1. What does the `backward` method do?\n",
        "1. Why do we have to zero the gradients?\n",
        "1. What information do we have to pass to `Learner`?\n",
        "1. Show Python or pseudocode for the basic steps of a training loop.\n",
        "1. What is \"ReLU\"? Draw a plot of it for values from `-2` to `+2`.\n",
        "1. What is an \"activation function\"?\n",
        "1. What's the difference between `F.relu` and `nn.ReLU`?\n",
        "1. The universal approximation theorem shows that any function can be approximated as closely as needed using just one nonlinearity. So why do we normally use more?"
      ]
    },
    {
      "cell_type": "markdown",
      "metadata": {
        "id": "sKl7R4al3jsl"
      },
      "source": [
        "### Further Research"
      ]
    },
    {
      "cell_type": "markdown",
      "metadata": {
        "id": "znoxu3UD3jsl"
      },
      "source": [
        "1. Create your own implementation of `Learner` from scratch, based on the training loop shown in this chapter.\n",
        "1. Complete all the steps in this chapter using the full MNIST datasets (that is, for all digits, not just 3s and 7s). This is a significant project and will take you quite a bit of time to complete! You'll need to do some of your own research to figure out how to overcome some obstacles you'll meet on the way."
      ]
    },
    {
      "cell_type": "code",
      "metadata": {
        "id": "CKrbPkDP3jsl"
      },
      "source": [
        ""
      ],
      "execution_count": null,
      "outputs": []
    },
    {
      "cell_type": "code",
      "metadata": {
        "id": "3KBW-EeC4k6d"
      },
      "source": [
        ""
      ],
      "execution_count": null,
      "outputs": []
    },
    {
      "cell_type": "code",
      "metadata": {
        "id": "SacGUeTG4w3A"
      },
      "source": [
        ""
      ],
      "execution_count": null,
      "outputs": []
    },
    {
      "cell_type": "code",
      "metadata": {
        "id": "8ffwdSBQ_aJe"
      },
      "source": [
        ""
      ],
      "execution_count": null,
      "outputs": []
    }
  ]
}