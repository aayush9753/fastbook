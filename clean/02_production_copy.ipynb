{
  "nbformat": 4,
  "nbformat_minor": 0,
  "metadata": {
    "jupytext": {
      "split_at_heading": true
    },
    "kernelspec": {
      "display_name": "Python 3",
      "language": "python",
      "name": "python3"
    },
    "colab": {
      "name": "02_production.ipynb",
      "provenance": []
    }
  },
  "cells": [
    {
      "cell_type": "code",
      "metadata": {
        "id": "XSWJlbSGHZhX"
      },
      "source": [
        "#hide\n",
        "!pip install -Uqq fastbook\n",
        "import fastbook\n",
        "#fastbook.setup_book()"
      ],
      "execution_count": 20,
      "outputs": []
    },
    {
      "cell_type": "code",
      "metadata": {
        "id": "PcQ2XBvKHZhX"
      },
      "source": [
        "#hide\n",
        "from fastbook import *\n",
        "from fastai.vision.widgets import *"
      ],
      "execution_count": 21,
      "outputs": []
    },
    {
      "cell_type": "markdown",
      "metadata": {
        "id": "X-fNN41wHZhY"
      },
      "source": [
        "# From Model to Production"
      ]
    },
    {
      "cell_type": "markdown",
      "metadata": {
        "id": "tpy-bC1PHZhY"
      },
      "source": [
        "## The Practice of Deep Learning"
      ]
    },
    {
      "cell_type": "markdown",
      "metadata": {
        "id": "8zkfbetdHZhY"
      },
      "source": [
        "### Starting Your Project"
      ]
    },
    {
      "cell_type": "markdown",
      "metadata": {
        "id": "YIIewxajHZhY"
      },
      "source": [
        "### The State of Deep Learning"
      ]
    },
    {
      "cell_type": "markdown",
      "metadata": {
        "id": "nU9o2CV0HZhY"
      },
      "source": [
        "#### Computer vision"
      ]
    },
    {
      "cell_type": "markdown",
      "metadata": {
        "id": "NfPOZq6iHZhY"
      },
      "source": [
        "#### Text (natural language processing)"
      ]
    },
    {
      "cell_type": "markdown",
      "metadata": {
        "id": "PMQkA6d0HZhY"
      },
      "source": [
        "#### Combining text and images"
      ]
    },
    {
      "cell_type": "markdown",
      "metadata": {
        "id": "rLA3OyEgHZhY"
      },
      "source": [
        "#### Tabular data"
      ]
    },
    {
      "cell_type": "markdown",
      "metadata": {
        "id": "T3j3F2csHZhY"
      },
      "source": [
        "#### Recommendation systems"
      ]
    },
    {
      "cell_type": "markdown",
      "metadata": {
        "id": "3Qqn75FcHZhY"
      },
      "source": [
        "#### Other data types"
      ]
    },
    {
      "cell_type": "markdown",
      "metadata": {
        "id": "btCxN5LKHZhY"
      },
      "source": [
        "### The Drivetrain Approach"
      ]
    },
    {
      "cell_type": "markdown",
      "metadata": {
        "id": "pe-xZhilHZhY"
      },
      "source": [
        "## Gathering Data"
      ]
    },
    {
      "cell_type": "markdown",
      "metadata": {
        "id": "sMSr_M2BHZhY"
      },
      "source": [
        "# clean\n",
        "To download images with Bing Image Search, sign up at Microsoft for a free account. You will be given a key, which you can copy and enter in a cell as follows (replacing 'XXX' with your key and executing it):"
      ]
    },
    {
      "cell_type": "code",
      "metadata": {
        "id": "1WqsbWjzHZhY"
      },
      "source": [
        "key = os.environ.get('AZURE_SEARCH_KEY', 'ef8ae2c451ee4826964607b9852fca9a')"
      ],
      "execution_count": 23,
      "outputs": []
    },
    {
      "cell_type": "code",
      "metadata": {
        "id": "RWf3yaxQHZhY",
        "outputId": "a5eafc4f-7607-41d4-f600-576ae1a0138f",
        "colab": {
          "base_uri": "https://localhost:8080/"
        }
      },
      "source": [
        "search_images_bing"
      ],
      "execution_count": 24,
      "outputs": [
        {
          "output_type": "execute_result",
          "data": {
            "text/plain": [
              "<function fastbook.search_images_bing>"
            ]
          },
          "metadata": {
            "tags": []
          },
          "execution_count": 24
        }
      ]
    },
    {
      "cell_type": "code",
      "metadata": {
        "id": "rLOVFhzKHZhY",
        "outputId": "26da01c6-277e-45c3-872c-aa5a7290619c",
        "colab": {
          "base_uri": "https://localhost:8080/",
          "height": 337
        }
      },
      "source": [
        "results = search_images_bing(key, 'grizzly bear')\n",
        "ims = results.attrgot('content_url')\n",
        "len(ims)"
      ],
      "execution_count": 25,
      "outputs": [
        {
          "output_type": "error",
          "ename": "HTTPError",
          "evalue": "ignored",
          "traceback": [
            "\u001b[0;31m---------------------------------------------------------------------------\u001b[0m",
            "\u001b[0;31mHTTPError\u001b[0m                                 Traceback (most recent call last)",
            "\u001b[0;32m<ipython-input-25-cddb73f3292e>\u001b[0m in \u001b[0;36m<module>\u001b[0;34m()\u001b[0m\n\u001b[0;32m----> 1\u001b[0;31m \u001b[0mresults\u001b[0m \u001b[0;34m=\u001b[0m \u001b[0msearch_images_bing\u001b[0m\u001b[0;34m(\u001b[0m\u001b[0mkey\u001b[0m\u001b[0;34m,\u001b[0m \u001b[0;34m'grizzly bear'\u001b[0m\u001b[0;34m)\u001b[0m\u001b[0;34m\u001b[0m\u001b[0;34m\u001b[0m\u001b[0m\n\u001b[0m\u001b[1;32m      2\u001b[0m \u001b[0mims\u001b[0m \u001b[0;34m=\u001b[0m \u001b[0mresults\u001b[0m\u001b[0;34m.\u001b[0m\u001b[0mattrgot\u001b[0m\u001b[0;34m(\u001b[0m\u001b[0;34m'content_url'\u001b[0m\u001b[0;34m)\u001b[0m\u001b[0;34m\u001b[0m\u001b[0;34m\u001b[0m\u001b[0m\n\u001b[1;32m      3\u001b[0m \u001b[0mlen\u001b[0m\u001b[0;34m(\u001b[0m\u001b[0mims\u001b[0m\u001b[0;34m)\u001b[0m\u001b[0;34m\u001b[0m\u001b[0;34m\u001b[0m\u001b[0m\n",
            "\u001b[0;32m/usr/local/lib/python3.6/dist-packages/fastbook/__init__.py\u001b[0m in \u001b[0;36msearch_images_bing\u001b[0;34m(key, term, min_sz, max_images)\u001b[0m\n\u001b[1;32m     48\u001b[0m     \u001b[0msearch_url\u001b[0m \u001b[0;34m=\u001b[0m \u001b[0;34m\"https://api.bing.microsoft.com/v7.0/images/search\"\u001b[0m\u001b[0;34m\u001b[0m\u001b[0;34m\u001b[0m\u001b[0m\n\u001b[1;32m     49\u001b[0m     \u001b[0mresponse\u001b[0m \u001b[0;34m=\u001b[0m \u001b[0mrequests\u001b[0m\u001b[0;34m.\u001b[0m\u001b[0mget\u001b[0m\u001b[0;34m(\u001b[0m\u001b[0msearch_url\u001b[0m\u001b[0;34m,\u001b[0m \u001b[0mheaders\u001b[0m\u001b[0;34m=\u001b[0m\u001b[0;34m{\u001b[0m\u001b[0;34m\"Ocp-Apim-Subscription-Key\"\u001b[0m\u001b[0;34m:\u001b[0m\u001b[0mkey\u001b[0m\u001b[0;34m}\u001b[0m\u001b[0;34m,\u001b[0m \u001b[0mparams\u001b[0m\u001b[0;34m=\u001b[0m\u001b[0mparams\u001b[0m\u001b[0;34m)\u001b[0m\u001b[0;34m\u001b[0m\u001b[0;34m\u001b[0m\u001b[0m\n\u001b[0;32m---> 50\u001b[0;31m     \u001b[0mresponse\u001b[0m\u001b[0;34m.\u001b[0m\u001b[0mraise_for_status\u001b[0m\u001b[0;34m(\u001b[0m\u001b[0;34m)\u001b[0m\u001b[0;34m\u001b[0m\u001b[0;34m\u001b[0m\u001b[0m\n\u001b[0m\u001b[1;32m     51\u001b[0m     \u001b[0;32mreturn\u001b[0m \u001b[0mL\u001b[0m\u001b[0;34m(\u001b[0m\u001b[0mresponse\u001b[0m\u001b[0;34m.\u001b[0m\u001b[0mjson\u001b[0m\u001b[0;34m(\u001b[0m\u001b[0;34m)\u001b[0m\u001b[0;34m[\u001b[0m\u001b[0;34m'value'\u001b[0m\u001b[0;34m]\u001b[0m\u001b[0;34m)\u001b[0m\u001b[0;34m\u001b[0m\u001b[0;34m\u001b[0m\u001b[0m\n\u001b[1;32m     52\u001b[0m \u001b[0;34m\u001b[0m\u001b[0m\n",
            "\u001b[0;32m/usr/local/lib/python3.6/dist-packages/requests/models.py\u001b[0m in \u001b[0;36mraise_for_status\u001b[0;34m(self)\u001b[0m\n\u001b[1;32m    939\u001b[0m \u001b[0;34m\u001b[0m\u001b[0m\n\u001b[1;32m    940\u001b[0m         \u001b[0;32mif\u001b[0m \u001b[0mhttp_error_msg\u001b[0m\u001b[0;34m:\u001b[0m\u001b[0;34m\u001b[0m\u001b[0;34m\u001b[0m\u001b[0m\n\u001b[0;32m--> 941\u001b[0;31m             \u001b[0;32mraise\u001b[0m \u001b[0mHTTPError\u001b[0m\u001b[0;34m(\u001b[0m\u001b[0mhttp_error_msg\u001b[0m\u001b[0;34m,\u001b[0m \u001b[0mresponse\u001b[0m\u001b[0;34m=\u001b[0m\u001b[0mself\u001b[0m\u001b[0;34m)\u001b[0m\u001b[0;34m\u001b[0m\u001b[0;34m\u001b[0m\u001b[0m\n\u001b[0m\u001b[1;32m    942\u001b[0m \u001b[0;34m\u001b[0m\u001b[0m\n\u001b[1;32m    943\u001b[0m     \u001b[0;32mdef\u001b[0m \u001b[0mclose\u001b[0m\u001b[0;34m(\u001b[0m\u001b[0mself\u001b[0m\u001b[0;34m)\u001b[0m\u001b[0;34m:\u001b[0m\u001b[0;34m\u001b[0m\u001b[0;34m\u001b[0m\u001b[0m\n",
            "\u001b[0;31mHTTPError\u001b[0m: 401 Client Error: PermissionDenied for url: https://api.bing.microsoft.com/v7.0/images/search?q=grizzly+bear&count=150&min_height=128&min_width=128"
          ]
        }
      ]
    },
    {
      "cell_type": "code",
      "metadata": {
        "id": "3yWb8-FAHZhY"
      },
      "source": [
        "#hide\n",
        "ims = ['http://3.bp.blogspot.com/-S1scRCkI3vY/UHzV2kucsPI/AAAAAAAAA-k/YQ5UzHEm9Ss/s1600/Grizzly%2BBear%2BWildlife.jpg']"
      ],
      "execution_count": null,
      "outputs": []
    },
    {
      "cell_type": "code",
      "metadata": {
        "id": "djp4v097HZhY"
      },
      "source": [
        "dest = 'images/grizzly.jpg'\n",
        "download_url(ims[0], dest)"
      ],
      "execution_count": null,
      "outputs": []
    },
    {
      "cell_type": "code",
      "metadata": {
        "id": "bP4RBNoyHZhY"
      },
      "source": [
        "im = Image.open(dest)\n",
        "im.to_thumb(128,128)"
      ],
      "execution_count": null,
      "outputs": []
    },
    {
      "cell_type": "code",
      "metadata": {
        "id": "Kq3IJ5jFHZhY"
      },
      "source": [
        "bear_types = 'grizzly','black','teddy'\n",
        "path = Path('bears')"
      ],
      "execution_count": null,
      "outputs": []
    },
    {
      "cell_type": "code",
      "metadata": {
        "id": "HvDPT6U8HZhY"
      },
      "source": [
        "if not path.exists():\n",
        "    path.mkdir()\n",
        "    for o in bear_types:\n",
        "        dest = (path/o)\n",
        "        dest.mkdir(exist_ok=True)\n",
        "        results = search_images_bing(key, f'{o} bear')\n",
        "        download_images(dest, urls=results.attrgot('content_url'))"
      ],
      "execution_count": null,
      "outputs": []
    },
    {
      "cell_type": "code",
      "metadata": {
        "id": "YsLtSTUUHZhY"
      },
      "source": [
        "fns = get_image_files(path)\n",
        "fns"
      ],
      "execution_count": null,
      "outputs": []
    },
    {
      "cell_type": "code",
      "metadata": {
        "id": "2e0-yCvbHZhY"
      },
      "source": [
        "failed = verify_images(fns)\n",
        "failed"
      ],
      "execution_count": null,
      "outputs": []
    },
    {
      "cell_type": "code",
      "metadata": {
        "id": "jEjs586dHZhY"
      },
      "source": [
        "failed.map(Path.unlink);"
      ],
      "execution_count": null,
      "outputs": []
    },
    {
      "cell_type": "markdown",
      "metadata": {
        "id": "O0zMe1LoHZhY"
      },
      "source": [
        "### Sidebar: Getting Help in Jupyter Notebooks"
      ]
    },
    {
      "cell_type": "markdown",
      "metadata": {
        "id": "CU728GH3HZhY"
      },
      "source": [
        "### End sidebar"
      ]
    },
    {
      "cell_type": "markdown",
      "metadata": {
        "id": "ffGev0Y3HZhY"
      },
      "source": [
        "## From Data to DataLoaders"
      ]
    },
    {
      "cell_type": "code",
      "metadata": {
        "id": "-IXfote1HZhY"
      },
      "source": [
        "bears = DataBlock(\n",
        "    blocks=(ImageBlock, CategoryBlock), \n",
        "    get_items=get_image_files, \n",
        "    splitter=RandomSplitter(valid_pct=0.2, seed=42),\n",
        "    get_y=parent_label,\n",
        "    item_tfms=Resize(128))"
      ],
      "execution_count": null,
      "outputs": []
    },
    {
      "cell_type": "code",
      "metadata": {
        "id": "2W48crQWHZhY"
      },
      "source": [
        "dls = bears.dataloaders(path)"
      ],
      "execution_count": null,
      "outputs": []
    },
    {
      "cell_type": "code",
      "metadata": {
        "id": "D_yBPVQBHZhY"
      },
      "source": [
        "dls.valid.show_batch(max_n=4, nrows=1)"
      ],
      "execution_count": null,
      "outputs": []
    },
    {
      "cell_type": "code",
      "metadata": {
        "id": "3l7djcoCHZhY"
      },
      "source": [
        "bears = bears.new(item_tfms=Resize(128, ResizeMethod.Squish))\n",
        "dls = bears.dataloaders(path)\n",
        "dls.valid.show_batch(max_n=4, nrows=1)"
      ],
      "execution_count": null,
      "outputs": []
    },
    {
      "cell_type": "code",
      "metadata": {
        "id": "2aAFFnzSHZhY"
      },
      "source": [
        "bears = bears.new(item_tfms=Resize(128, ResizeMethod.Pad, pad_mode='zeros'))\n",
        "dls = bears.dataloaders(path)\n",
        "dls.valid.show_batch(max_n=4, nrows=1)"
      ],
      "execution_count": null,
      "outputs": []
    },
    {
      "cell_type": "code",
      "metadata": {
        "id": "XBE93Vx4HZhY"
      },
      "source": [
        "bears = bears.new(item_tfms=RandomResizedCrop(128, min_scale=0.3))\n",
        "dls = bears.dataloaders(path)\n",
        "dls.train.show_batch(max_n=4, nrows=1, unique=True)"
      ],
      "execution_count": null,
      "outputs": []
    },
    {
      "cell_type": "markdown",
      "metadata": {
        "id": "wPJ7ULMEHZhZ"
      },
      "source": [
        "### Data Augmentation"
      ]
    },
    {
      "cell_type": "code",
      "metadata": {
        "id": "KfGvIUS3HZhZ"
      },
      "source": [
        "bears = bears.new(item_tfms=Resize(128), batch_tfms=aug_transforms(mult=2))\n",
        "dls = bears.dataloaders(path)\n",
        "dls.train.show_batch(max_n=8, nrows=2, unique=True)"
      ],
      "execution_count": null,
      "outputs": []
    },
    {
      "cell_type": "markdown",
      "metadata": {
        "id": "KGIptnOMHZhZ"
      },
      "source": [
        "## Training Your Model, and Using It to Clean Your Data"
      ]
    },
    {
      "cell_type": "code",
      "metadata": {
        "id": "1r-V-VBeHZhZ"
      },
      "source": [
        "bears = bears.new(\n",
        "    item_tfms=RandomResizedCrop(224, min_scale=0.5),\n",
        "    batch_tfms=aug_transforms())\n",
        "dls = bears.dataloaders(path)"
      ],
      "execution_count": null,
      "outputs": []
    },
    {
      "cell_type": "code",
      "metadata": {
        "id": "hUmV1PTgHZhZ"
      },
      "source": [
        "learn = cnn_learner(dls, resnet18, metrics=error_rate)\n",
        "learn.fine_tune(4)"
      ],
      "execution_count": null,
      "outputs": []
    },
    {
      "cell_type": "code",
      "metadata": {
        "id": "szeKArFXHZhZ"
      },
      "source": [
        "interp = ClassificationInterpretation.from_learner(learn)\n",
        "interp.plot_confusion_matrix()"
      ],
      "execution_count": null,
      "outputs": []
    },
    {
      "cell_type": "code",
      "metadata": {
        "id": "PmrPMQlCHZhZ"
      },
      "source": [
        "interp.plot_top_losses(5, nrows=1)"
      ],
      "execution_count": null,
      "outputs": []
    },
    {
      "cell_type": "code",
      "metadata": {
        "id": "5lqJ8S3kHZhZ"
      },
      "source": [
        "cleaner = ImageClassifierCleaner(learn)\n",
        "cleaner"
      ],
      "execution_count": null,
      "outputs": []
    },
    {
      "cell_type": "code",
      "metadata": {
        "id": "JBWSfXxOHZhZ"
      },
      "source": [
        "#hide\n",
        "# for idx in cleaner.delete(): cleaner.fns[idx].unlink()\n",
        "# for idx,cat in cleaner.change(): shutil.move(str(cleaner.fns[idx]), path/cat)"
      ],
      "execution_count": null,
      "outputs": []
    },
    {
      "cell_type": "markdown",
      "metadata": {
        "id": "sqwrNfD3HZhZ"
      },
      "source": [
        "## Turning Your Model into an Online Application"
      ]
    },
    {
      "cell_type": "markdown",
      "metadata": {
        "id": "NFH3xlf2HZhZ"
      },
      "source": [
        "### Using the Model for Inference"
      ]
    },
    {
      "cell_type": "code",
      "metadata": {
        "id": "ijaZ6gjMHZhZ"
      },
      "source": [
        "learn.export()"
      ],
      "execution_count": null,
      "outputs": []
    },
    {
      "cell_type": "code",
      "metadata": {
        "id": "T-1iN8CpHZhZ"
      },
      "source": [
        "path = Path()\n",
        "path.ls(file_exts='.pkl')"
      ],
      "execution_count": null,
      "outputs": []
    },
    {
      "cell_type": "code",
      "metadata": {
        "id": "JT2NQZEOHZhZ"
      },
      "source": [
        "learn_inf = load_learner(path/'export.pkl')"
      ],
      "execution_count": null,
      "outputs": []
    },
    {
      "cell_type": "code",
      "metadata": {
        "id": "oUiMQu17HZhZ"
      },
      "source": [
        "learn_inf.predict('images/grizzly.jpg')"
      ],
      "execution_count": null,
      "outputs": []
    },
    {
      "cell_type": "code",
      "metadata": {
        "id": "Pz-2OEe1HZhZ"
      },
      "source": [
        "learn_inf.dls.vocab"
      ],
      "execution_count": null,
      "outputs": []
    },
    {
      "cell_type": "markdown",
      "metadata": {
        "id": "lileHntkHZhZ"
      },
      "source": [
        "### Creating a Notebook App from the Model"
      ]
    },
    {
      "cell_type": "code",
      "metadata": {
        "id": "g5hXfcTeHZhZ"
      },
      "source": [
        "btn_upload = widgets.FileUpload()\n",
        "btn_upload"
      ],
      "execution_count": null,
      "outputs": []
    },
    {
      "cell_type": "code",
      "metadata": {
        "id": "l4eJY8D7HZhZ"
      },
      "source": [
        "#hide\n",
        "# For the book, we can't actually click an upload button, so we fake it\n",
        "btn_upload = SimpleNamespace(data = ['images/grizzly.jpg'])"
      ],
      "execution_count": null,
      "outputs": []
    },
    {
      "cell_type": "code",
      "metadata": {
        "id": "NidG29jHHZhZ"
      },
      "source": [
        "img = PILImage.create(btn_upload.data[-1])"
      ],
      "execution_count": null,
      "outputs": []
    },
    {
      "cell_type": "code",
      "metadata": {
        "id": "_auAo-yfHZhZ"
      },
      "source": [
        "out_pl = widgets.Output()\n",
        "out_pl.clear_output()\n",
        "with out_pl: display(img.to_thumb(128,128))\n",
        "out_pl"
      ],
      "execution_count": null,
      "outputs": []
    },
    {
      "cell_type": "code",
      "metadata": {
        "id": "SwEzVo3NHZhZ"
      },
      "source": [
        "pred,pred_idx,probs = learn_inf.predict(img)"
      ],
      "execution_count": null,
      "outputs": []
    },
    {
      "cell_type": "code",
      "metadata": {
        "id": "LIcgIgL_HZhZ"
      },
      "source": [
        "lbl_pred = widgets.Label()\n",
        "lbl_pred.value = f'Prediction: {pred}; Probability: {probs[pred_idx]:.04f}'\n",
        "lbl_pred"
      ],
      "execution_count": null,
      "outputs": []
    },
    {
      "cell_type": "code",
      "metadata": {
        "id": "VSb_LvKVHZhZ"
      },
      "source": [
        "btn_run = widgets.Button(description='Classify')\n",
        "btn_run"
      ],
      "execution_count": null,
      "outputs": []
    },
    {
      "cell_type": "code",
      "metadata": {
        "id": "7w0Zjg8UHZhZ"
      },
      "source": [
        "def on_click_classify(change):\n",
        "    img = PILImage.create(btn_upload.data[-1])\n",
        "    out_pl.clear_output()\n",
        "    with out_pl: display(img.to_thumb(128,128))\n",
        "    pred,pred_idx,probs = learn_inf.predict(img)\n",
        "    lbl_pred.value = f'Prediction: {pred}; Probability: {probs[pred_idx]:.04f}'\n",
        "\n",
        "btn_run.on_click(on_click_classify)"
      ],
      "execution_count": null,
      "outputs": []
    },
    {
      "cell_type": "code",
      "metadata": {
        "id": "Q-5n6E3FHZhZ"
      },
      "source": [
        "#hide\n",
        "#Putting back btn_upload to a widget for next cell\n",
        "btn_upload = widgets.FileUpload()"
      ],
      "execution_count": null,
      "outputs": []
    },
    {
      "cell_type": "code",
      "metadata": {
        "id": "UsgqEPqoHZhZ"
      },
      "source": [
        "VBox([widgets.Label('Select your bear!'), \n",
        "      btn_upload, btn_run, out_pl, lbl_pred])"
      ],
      "execution_count": null,
      "outputs": []
    },
    {
      "cell_type": "markdown",
      "metadata": {
        "id": "CeYpeKBWHZhZ"
      },
      "source": [
        "### Turning Your Notebook into a Real App"
      ]
    },
    {
      "cell_type": "code",
      "metadata": {
        "id": "nlEM-aPKHZhZ"
      },
      "source": [
        "#hide\n",
        "# !pip install voila\n",
        "# !jupyter serverextension enable voila —sys-prefix"
      ],
      "execution_count": null,
      "outputs": []
    },
    {
      "cell_type": "markdown",
      "metadata": {
        "id": "PZnvhou9HZhZ"
      },
      "source": [
        "### Deploying your app"
      ]
    },
    {
      "cell_type": "markdown",
      "metadata": {
        "id": "pdIVr01gHZhZ"
      },
      "source": [
        "## How to Avoid Disaster"
      ]
    },
    {
      "cell_type": "markdown",
      "metadata": {
        "id": "2oa-MuRfHZhZ"
      },
      "source": [
        "### Unforeseen Consequences and Feedback Loops"
      ]
    },
    {
      "cell_type": "markdown",
      "metadata": {
        "id": "qE7nkrMKHZhZ"
      },
      "source": [
        "## Get Writing!"
      ]
    },
    {
      "cell_type": "markdown",
      "metadata": {
        "id": "MpPVUAM8HZhZ"
      },
      "source": [
        "## Questionnaire"
      ]
    },
    {
      "cell_type": "markdown",
      "metadata": {
        "id": "2Rpf_TlQHZhZ"
      },
      "source": [
        "1. Provide an example of where the bear classification model might work poorly in production, due to structural or style differences in the training data.\n",
        "1. Where do text models currently have a major deficiency?\n",
        "1. What are possible negative societal implications of text generation models?\n",
        "1. In situations where a model might make mistakes, and those mistakes could be harmful, what is a good alternative to automating a process?\n",
        "1. What kind of tabular data is deep learning particularly good at?\n",
        "1. What's a key downside of directly using a deep learning model for recommendation systems?\n",
        "1. What are the steps of the Drivetrain Approach?\n",
        "1. How do the steps of the Drivetrain Approach map to a recommendation system?\n",
        "1. Create an image recognition model using data you curate, and deploy it on the web.\n",
        "1. What is `DataLoaders`?\n",
        "1. What four things do we need to tell fastai to create `DataLoaders`?\n",
        "1. What does the `splitter` parameter to `DataBlock` do?\n",
        "1. How do we ensure a random split always gives the same validation set?\n",
        "1. What letters are often used to signify the independent and dependent variables?\n",
        "1. What's the difference between the crop, pad, and squish resize approaches? When might you choose one over the others?\n",
        "1. What is data augmentation? Why is it needed?\n",
        "1. What is the difference between `item_tfms` and `batch_tfms`?\n",
        "1. What is a confusion matrix?\n",
        "1. What does `export` save?\n",
        "1. What is it called when we use a model for getting predictions, instead of training?\n",
        "1. What are IPython widgets?\n",
        "1. When might you want to use CPU for deployment? When might GPU be better?\n",
        "1. What are the downsides of deploying your app to a server, instead of to a client (or edge) device such as a phone or PC?\n",
        "1. What are three examples of problems that could occur when rolling out a bear warning system in practice?\n",
        "1. What is \"out-of-domain data\"?\n",
        "1. What is \"domain shift\"?\n",
        "1. What are the three steps in the deployment process?"
      ]
    },
    {
      "cell_type": "markdown",
      "metadata": {
        "id": "9AHMD65mHZhZ"
      },
      "source": [
        "### Further Research"
      ]
    },
    {
      "cell_type": "markdown",
      "metadata": {
        "id": "NkT6o41YHZhZ"
      },
      "source": [
        "1. Consider how the Drivetrain Approach maps to a project or problem you're interested in.\n",
        "1. When might it be best to avoid certain types of data augmentation?\n",
        "1. For a project you're interested in applying deep learning to, consider the thought experiment \"What would happen if it went really, really well?\"\n",
        "1. Start a blog, and write your first blog post. For instance, write about what you think deep learning might be useful for in a domain you're interested in."
      ]
    },
    {
      "cell_type": "code",
      "metadata": {
        "id": "d0MwYlq-HZhZ"
      },
      "source": [
        ""
      ],
      "execution_count": null,
      "outputs": []
    }
  ]
}